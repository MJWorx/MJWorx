{
 "cells": [
  {
   "cell_type": "markdown",
   "id": "999d0aa0-6846-4edc-a1d7-fe12b3687306",
   "metadata": {},
   "source": [
    "# Import Libraries"
   ]
  },
  {
   "cell_type": "code",
   "execution_count": 2,
   "id": "a7625dc5-8a1f-43fa-af0b-22833468063f",
   "metadata": {},
   "outputs": [],
   "source": [
    "import pandas as pd\n",
    "import numpy as np\n",
    "import matplotlib.pyplot as plt\n",
    "import seaborn as sns\n",
    "import warnings\n",
    "from sklearn.model_selection import train_test_split\n",
    "from sklearn.ensemble import RandomForestRegressor\n",
    "from sklearn.metrics import mean_squared_error, r2_score\n",
    "\n",
    "warnings.filterwarnings('ignore')\n",
    "%matplotlib inline"
   ]
  },
  {
   "cell_type": "markdown",
   "id": "c5ae2123-b5db-4758-a53a-2db37fb5f04e",
   "metadata": {},
   "source": [
    "## Load DataFrame"
   ]
  },
  {
   "cell_type": "code",
   "execution_count": 4,
   "id": "2ce9800f-b3ff-4462-bc62-110cfb272c9b",
   "metadata": {},
   "outputs": [
    {
     "data": {
      "text/html": [
       "<div>\n",
       "<style scoped>\n",
       "    .dataframe tbody tr th:only-of-type {\n",
       "        vertical-align: middle;\n",
       "    }\n",
       "\n",
       "    .dataframe tbody tr th {\n",
       "        vertical-align: top;\n",
       "    }\n",
       "\n",
       "    .dataframe thead th {\n",
       "        text-align: right;\n",
       "    }\n",
       "</style>\n",
       "<table border=\"1\" class=\"dataframe\">\n",
       "  <thead>\n",
       "    <tr style=\"text-align: right;\">\n",
       "      <th></th>\n",
       "      <th>Ages</th>\n",
       "      <th>Gender</th>\n",
       "      <th>Height</th>\n",
       "      <th>Weight</th>\n",
       "      <th>Activity Level</th>\n",
       "      <th>Dietary Preference</th>\n",
       "      <th>Daily Calorie Target</th>\n",
       "      <th>Protein</th>\n",
       "      <th>Sugar</th>\n",
       "      <th>Sodium</th>\n",
       "      <th>Calories</th>\n",
       "      <th>Carbohydrates</th>\n",
       "      <th>Fiber</th>\n",
       "      <th>Fat</th>\n",
       "      <th>Breakfast Suggestion</th>\n",
       "      <th>Lunch Suggestion</th>\n",
       "      <th>Dinner Suggestion</th>\n",
       "      <th>Snack Suggestion</th>\n",
       "      <th>Disease</th>\n",
       "    </tr>\n",
       "  </thead>\n",
       "  <tbody>\n",
       "    <tr>\n",
       "      <th>0</th>\n",
       "      <td>25</td>\n",
       "      <td>Male</td>\n",
       "      <td>180</td>\n",
       "      <td>80</td>\n",
       "      <td>Moderately Active</td>\n",
       "      <td>Omnivore</td>\n",
       "      <td>2000</td>\n",
       "      <td>120</td>\n",
       "      <td>125.0</td>\n",
       "      <td>24.0</td>\n",
       "      <td>2020</td>\n",
       "      <td>250</td>\n",
       "      <td>30.00</td>\n",
       "      <td>60</td>\n",
       "      <td>Oatmeal with berries and nuts</td>\n",
       "      <td>Grilled chicken salad with mixed greens</td>\n",
       "      <td>Salmon with roasted vegetables</td>\n",
       "      <td>Greek yogurt with fruit</td>\n",
       "      <td>Weight Gain</td>\n",
       "    </tr>\n",
       "    <tr>\n",
       "      <th>1</th>\n",
       "      <td>32</td>\n",
       "      <td>Female</td>\n",
       "      <td>165</td>\n",
       "      <td>65</td>\n",
       "      <td>Lightly Active</td>\n",
       "      <td>Vegetarian</td>\n",
       "      <td>1600</td>\n",
       "      <td>80</td>\n",
       "      <td>100.0</td>\n",
       "      <td>16.0</td>\n",
       "      <td>1480</td>\n",
       "      <td>200</td>\n",
       "      <td>24.00</td>\n",
       "      <td>40</td>\n",
       "      <td>Tofu scramble with veggies</td>\n",
       "      <td>Lentil soup with whole wheat bread</td>\n",
       "      <td>Vegetable stir-fry with brown rice</td>\n",
       "      <td>Apple with almond butter</td>\n",
       "      <td>Weight Gain, Hypertension, Heart Disease</td>\n",
       "    </tr>\n",
       "    <tr>\n",
       "      <th>2</th>\n",
       "      <td>48</td>\n",
       "      <td>Male</td>\n",
       "      <td>175</td>\n",
       "      <td>95</td>\n",
       "      <td>Sedentary</td>\n",
       "      <td>Vegan</td>\n",
       "      <td>2200</td>\n",
       "      <td>100</td>\n",
       "      <td>150.0</td>\n",
       "      <td>20.0</td>\n",
       "      <td>2185</td>\n",
       "      <td>300</td>\n",
       "      <td>36.00</td>\n",
       "      <td>65</td>\n",
       "      <td>Tofu and veggie breakfast burrito</td>\n",
       "      <td>Black bean burger on a whole wheat bun</td>\n",
       "      <td>Lentil and vegetable curry</td>\n",
       "      <td>Trail mix</td>\n",
       "      <td>Weight Gain</td>\n",
       "    </tr>\n",
       "    <tr>\n",
       "      <th>3</th>\n",
       "      <td>55</td>\n",
       "      <td>Female</td>\n",
       "      <td>160</td>\n",
       "      <td>70</td>\n",
       "      <td>Very Active</td>\n",
       "      <td>Omnivore</td>\n",
       "      <td>2500</td>\n",
       "      <td>140</td>\n",
       "      <td>175.0</td>\n",
       "      <td>28.0</td>\n",
       "      <td>2680</td>\n",
       "      <td>350</td>\n",
       "      <td>42.00</td>\n",
       "      <td>80</td>\n",
       "      <td>Greek yogurt with granola and fruit</td>\n",
       "      <td>Chicken and vegetable stir-fry</td>\n",
       "      <td>Turkey chili with brown rice</td>\n",
       "      <td>Banana with peanut butter</td>\n",
       "      <td>Weight Gain</td>\n",
       "    </tr>\n",
       "    <tr>\n",
       "      <th>4</th>\n",
       "      <td>62</td>\n",
       "      <td>Male</td>\n",
       "      <td>170</td>\n",
       "      <td>85</td>\n",
       "      <td>Sedentary</td>\n",
       "      <td>Vegetarian</td>\n",
       "      <td>2000</td>\n",
       "      <td>80</td>\n",
       "      <td>125.0</td>\n",
       "      <td>16.0</td>\n",
       "      <td>1815</td>\n",
       "      <td>250</td>\n",
       "      <td>30.00</td>\n",
       "      <td>55</td>\n",
       "      <td>Scrambled eggs with whole wheat toast and avocado</td>\n",
       "      <td>Quinoa salad with chickpeas and vegetables</td>\n",
       "      <td>Vegetarian chili with cornbread</td>\n",
       "      <td>Fruit and nut mix</td>\n",
       "      <td>Weight Gain</td>\n",
       "    </tr>\n",
       "    <tr>\n",
       "      <th>...</th>\n",
       "      <td>...</td>\n",
       "      <td>...</td>\n",
       "      <td>...</td>\n",
       "      <td>...</td>\n",
       "      <td>...</td>\n",
       "      <td>...</td>\n",
       "      <td>...</td>\n",
       "      <td>...</td>\n",
       "      <td>...</td>\n",
       "      <td>...</td>\n",
       "      <td>...</td>\n",
       "      <td>...</td>\n",
       "      <td>...</td>\n",
       "      <td>...</td>\n",
       "      <td>...</td>\n",
       "      <td>...</td>\n",
       "      <td>...</td>\n",
       "      <td>...</td>\n",
       "      <td>...</td>\n",
       "    </tr>\n",
       "    <tr>\n",
       "      <th>1693</th>\n",
       "      <td>53</td>\n",
       "      <td>Female</td>\n",
       "      <td>182</td>\n",
       "      <td>76</td>\n",
       "      <td>Sedentary</td>\n",
       "      <td>Vegan</td>\n",
       "      <td>1265</td>\n",
       "      <td>94</td>\n",
       "      <td>63.0</td>\n",
       "      <td>18.8</td>\n",
       "      <td>1258</td>\n",
       "      <td>126</td>\n",
       "      <td>15.12</td>\n",
       "      <td>42</td>\n",
       "      <td>Oatmeal with berries and nuts</td>\n",
       "      <td>Quinoa salad with chickpeas and vegetables</td>\n",
       "      <td>Vegetable stir-fry with brown rice</td>\n",
       "      <td>Apple with almond butter</td>\n",
       "      <td>Diabetes, Acne, Weight Gain, Hypertension, Hea...</td>\n",
       "    </tr>\n",
       "    <tr>\n",
       "      <th>1694</th>\n",
       "      <td>38</td>\n",
       "      <td>Male</td>\n",
       "      <td>150</td>\n",
       "      <td>76</td>\n",
       "      <td>Very Active</td>\n",
       "      <td>Vegan</td>\n",
       "      <td>2109</td>\n",
       "      <td>158</td>\n",
       "      <td>105.0</td>\n",
       "      <td>31.6</td>\n",
       "      <td>2102</td>\n",
       "      <td>210</td>\n",
       "      <td>25.20</td>\n",
       "      <td>70</td>\n",
       "      <td>Oatmeal with berries and nuts</td>\n",
       "      <td>Grilled chicken salad with mixed greens</td>\n",
       "      <td>Lentil and vegetable curry</td>\n",
       "      <td>Apple with almond butter</td>\n",
       "      <td>Weight Gain</td>\n",
       "    </tr>\n",
       "    <tr>\n",
       "      <th>1695</th>\n",
       "      <td>57</td>\n",
       "      <td>Male</td>\n",
       "      <td>165</td>\n",
       "      <td>73</td>\n",
       "      <td>Very Active</td>\n",
       "      <td>Vegan</td>\n",
       "      <td>2555</td>\n",
       "      <td>191</td>\n",
       "      <td>127.5</td>\n",
       "      <td>38.2</td>\n",
       "      <td>2549</td>\n",
       "      <td>255</td>\n",
       "      <td>30.60</td>\n",
       "      <td>85</td>\n",
       "      <td>Smoothie with protein powder</td>\n",
       "      <td>Chicken and vegetable stir-fry</td>\n",
       "      <td>Vegetable stir-fry with brown rice</td>\n",
       "      <td>Fruit and nut mix</td>\n",
       "      <td>Weight Gain</td>\n",
       "    </tr>\n",
       "    <tr>\n",
       "      <th>1696</th>\n",
       "      <td>40</td>\n",
       "      <td>Male</td>\n",
       "      <td>166</td>\n",
       "      <td>91</td>\n",
       "      <td>Extremely Active</td>\n",
       "      <td>Vegan</td>\n",
       "      <td>3329</td>\n",
       "      <td>249</td>\n",
       "      <td>166.0</td>\n",
       "      <td>49.8</td>\n",
       "      <td>3314</td>\n",
       "      <td>332</td>\n",
       "      <td>39.84</td>\n",
       "      <td>110</td>\n",
       "      <td>Scrambled eggs with whole wheat toast</td>\n",
       "      <td>Lentil soup with whole wheat bread</td>\n",
       "      <td>Vegetable stir-fry with brown rice</td>\n",
       "      <td>Banana with peanut butter</td>\n",
       "      <td>Weight Gain</td>\n",
       "    </tr>\n",
       "    <tr>\n",
       "      <th>1697</th>\n",
       "      <td>54</td>\n",
       "      <td>Female</td>\n",
       "      <td>198</td>\n",
       "      <td>75</td>\n",
       "      <td>Sedentary</td>\n",
       "      <td>Vegetarian</td>\n",
       "      <td>1867</td>\n",
       "      <td>140</td>\n",
       "      <td>93.0</td>\n",
       "      <td>28.0</td>\n",
       "      <td>1862</td>\n",
       "      <td>186</td>\n",
       "      <td>22.32</td>\n",
       "      <td>62</td>\n",
       "      <td>Scrambled eggs with whole wheat toast</td>\n",
       "      <td>Chicken and vegetable stir-fry</td>\n",
       "      <td>Pasta with marinara sauce and veggies</td>\n",
       "      <td>Banana with peanut butter</td>\n",
       "      <td>Weight Gain</td>\n",
       "    </tr>\n",
       "  </tbody>\n",
       "</table>\n",
       "<p>1698 rows × 19 columns</p>\n",
       "</div>"
      ],
      "text/plain": [
       "      Ages  Gender  Height  Weight     Activity Level Dietary Preference  \\\n",
       "0       25    Male     180      80  Moderately Active           Omnivore   \n",
       "1       32  Female     165      65     Lightly Active         Vegetarian   \n",
       "2       48    Male     175      95          Sedentary              Vegan   \n",
       "3       55  Female     160      70        Very Active           Omnivore   \n",
       "4       62    Male     170      85          Sedentary         Vegetarian   \n",
       "...    ...     ...     ...     ...                ...                ...   \n",
       "1693    53  Female     182      76          Sedentary              Vegan   \n",
       "1694    38    Male     150      76        Very Active              Vegan   \n",
       "1695    57    Male     165      73        Very Active              Vegan   \n",
       "1696    40    Male     166      91   Extremely Active              Vegan   \n",
       "1697    54  Female     198      75          Sedentary         Vegetarian   \n",
       "\n",
       "      Daily Calorie Target  Protein  Sugar  Sodium  Calories  Carbohydrates  \\\n",
       "0                     2000      120  125.0    24.0      2020            250   \n",
       "1                     1600       80  100.0    16.0      1480            200   \n",
       "2                     2200      100  150.0    20.0      2185            300   \n",
       "3                     2500      140  175.0    28.0      2680            350   \n",
       "4                     2000       80  125.0    16.0      1815            250   \n",
       "...                    ...      ...    ...     ...       ...            ...   \n",
       "1693                  1265       94   63.0    18.8      1258            126   \n",
       "1694                  2109      158  105.0    31.6      2102            210   \n",
       "1695                  2555      191  127.5    38.2      2549            255   \n",
       "1696                  3329      249  166.0    49.8      3314            332   \n",
       "1697                  1867      140   93.0    28.0      1862            186   \n",
       "\n",
       "      Fiber  Fat                               Breakfast Suggestion  \\\n",
       "0     30.00   60                      Oatmeal with berries and nuts   \n",
       "1     24.00   40                         Tofu scramble with veggies   \n",
       "2     36.00   65                  Tofu and veggie breakfast burrito   \n",
       "3     42.00   80                Greek yogurt with granola and fruit   \n",
       "4     30.00   55  Scrambled eggs with whole wheat toast and avocado   \n",
       "...     ...  ...                                                ...   \n",
       "1693  15.12   42                      Oatmeal with berries and nuts   \n",
       "1694  25.20   70                      Oatmeal with berries and nuts   \n",
       "1695  30.60   85                       Smoothie with protein powder   \n",
       "1696  39.84  110              Scrambled eggs with whole wheat toast   \n",
       "1697  22.32   62              Scrambled eggs with whole wheat toast   \n",
       "\n",
       "                                Lunch Suggestion  \\\n",
       "0        Grilled chicken salad with mixed greens   \n",
       "1             Lentil soup with whole wheat bread   \n",
       "2         Black bean burger on a whole wheat bun   \n",
       "3                 Chicken and vegetable stir-fry   \n",
       "4     Quinoa salad with chickpeas and vegetables   \n",
       "...                                          ...   \n",
       "1693  Quinoa salad with chickpeas and vegetables   \n",
       "1694     Grilled chicken salad with mixed greens   \n",
       "1695              Chicken and vegetable stir-fry   \n",
       "1696          Lentil soup with whole wheat bread   \n",
       "1697              Chicken and vegetable stir-fry   \n",
       "\n",
       "                          Dinner Suggestion           Snack Suggestion  \\\n",
       "0            Salmon with roasted vegetables    Greek yogurt with fruit   \n",
       "1        Vegetable stir-fry with brown rice   Apple with almond butter   \n",
       "2                Lentil and vegetable curry                  Trail mix   \n",
       "3              Turkey chili with brown rice  Banana with peanut butter   \n",
       "4           Vegetarian chili with cornbread          Fruit and nut mix   \n",
       "...                                     ...                        ...   \n",
       "1693     Vegetable stir-fry with brown rice   Apple with almond butter   \n",
       "1694             Lentil and vegetable curry   Apple with almond butter   \n",
       "1695     Vegetable stir-fry with brown rice          Fruit and nut mix   \n",
       "1696     Vegetable stir-fry with brown rice  Banana with peanut butter   \n",
       "1697  Pasta with marinara sauce and veggies  Banana with peanut butter   \n",
       "\n",
       "                                                Disease  \n",
       "0                                           Weight Gain  \n",
       "1              Weight Gain, Hypertension, Heart Disease  \n",
       "2                                           Weight Gain  \n",
       "3                                           Weight Gain  \n",
       "4                                           Weight Gain  \n",
       "...                                                 ...  \n",
       "1693  Diabetes, Acne, Weight Gain, Hypertension, Hea...  \n",
       "1694                                        Weight Gain  \n",
       "1695                                        Weight Gain  \n",
       "1696                                        Weight Gain  \n",
       "1697                                        Weight Gain  \n",
       "\n",
       "[1698 rows x 19 columns]"
      ]
     },
     "execution_count": 4,
     "metadata": {},
     "output_type": "execute_result"
    }
   ],
   "source": [
    "df = pd.read_csv('Food_and_Nutrition.csv')\n",
    "df"
   ]
  },
  {
   "cell_type": "markdown",
   "id": "617c7b89-7723-4d73-b71a-3a7254947234",
   "metadata": {},
   "source": [
    "## Check DataFrame"
   ]
  },
  {
   "cell_type": "code",
   "execution_count": 19,
   "id": "51bc696b-6db9-4bf8-a0d0-b99e545ffccd",
   "metadata": {},
   "outputs": [
    {
     "data": {
      "text/html": [
       "<div>\n",
       "<style scoped>\n",
       "    .dataframe tbody tr th:only-of-type {\n",
       "        vertical-align: middle;\n",
       "    }\n",
       "\n",
       "    .dataframe tbody tr th {\n",
       "        vertical-align: top;\n",
       "    }\n",
       "\n",
       "    .dataframe thead th {\n",
       "        text-align: right;\n",
       "    }\n",
       "</style>\n",
       "<table border=\"1\" class=\"dataframe\">\n",
       "  <thead>\n",
       "    <tr style=\"text-align: right;\">\n",
       "      <th></th>\n",
       "      <th>Ages</th>\n",
       "      <th>Gender</th>\n",
       "      <th>Height</th>\n",
       "      <th>Weight</th>\n",
       "      <th>Activity Level</th>\n",
       "      <th>Dietary Preference</th>\n",
       "      <th>Daily Calorie Target</th>\n",
       "      <th>Protein</th>\n",
       "      <th>Sugar</th>\n",
       "      <th>Sodium</th>\n",
       "      <th>Calories</th>\n",
       "      <th>Carbohydrates</th>\n",
       "      <th>Fiber</th>\n",
       "      <th>Fat</th>\n",
       "      <th>Breakfast Suggestion</th>\n",
       "      <th>Lunch Suggestion</th>\n",
       "      <th>Dinner Suggestion</th>\n",
       "      <th>Snack Suggestion</th>\n",
       "      <th>Disease</th>\n",
       "    </tr>\n",
       "  </thead>\n",
       "  <tbody>\n",
       "    <tr>\n",
       "      <th>0</th>\n",
       "      <td>25</td>\n",
       "      <td>Male</td>\n",
       "      <td>180</td>\n",
       "      <td>80</td>\n",
       "      <td>Moderately Active</td>\n",
       "      <td>Omnivore</td>\n",
       "      <td>2000</td>\n",
       "      <td>120</td>\n",
       "      <td>125.0</td>\n",
       "      <td>24.0</td>\n",
       "      <td>2020</td>\n",
       "      <td>250</td>\n",
       "      <td>30.0</td>\n",
       "      <td>60</td>\n",
       "      <td>Oatmeal with berries and nuts</td>\n",
       "      <td>Grilled chicken salad with mixed greens</td>\n",
       "      <td>Salmon with roasted vegetables</td>\n",
       "      <td>Greek yogurt with fruit</td>\n",
       "      <td>Weight Gain</td>\n",
       "    </tr>\n",
       "    <tr>\n",
       "      <th>1</th>\n",
       "      <td>32</td>\n",
       "      <td>Female</td>\n",
       "      <td>165</td>\n",
       "      <td>65</td>\n",
       "      <td>Lightly Active</td>\n",
       "      <td>Vegetarian</td>\n",
       "      <td>1600</td>\n",
       "      <td>80</td>\n",
       "      <td>100.0</td>\n",
       "      <td>16.0</td>\n",
       "      <td>1480</td>\n",
       "      <td>200</td>\n",
       "      <td>24.0</td>\n",
       "      <td>40</td>\n",
       "      <td>Tofu scramble with veggies</td>\n",
       "      <td>Lentil soup with whole wheat bread</td>\n",
       "      <td>Vegetable stir-fry with brown rice</td>\n",
       "      <td>Apple with almond butter</td>\n",
       "      <td>Weight Gain, Hypertension, Heart Disease</td>\n",
       "    </tr>\n",
       "    <tr>\n",
       "      <th>2</th>\n",
       "      <td>48</td>\n",
       "      <td>Male</td>\n",
       "      <td>175</td>\n",
       "      <td>95</td>\n",
       "      <td>Sedentary</td>\n",
       "      <td>Vegan</td>\n",
       "      <td>2200</td>\n",
       "      <td>100</td>\n",
       "      <td>150.0</td>\n",
       "      <td>20.0</td>\n",
       "      <td>2185</td>\n",
       "      <td>300</td>\n",
       "      <td>36.0</td>\n",
       "      <td>65</td>\n",
       "      <td>Tofu and veggie breakfast burrito</td>\n",
       "      <td>Black bean burger on a whole wheat bun</td>\n",
       "      <td>Lentil and vegetable curry</td>\n",
       "      <td>Trail mix</td>\n",
       "      <td>Weight Gain</td>\n",
       "    </tr>\n",
       "    <tr>\n",
       "      <th>3</th>\n",
       "      <td>55</td>\n",
       "      <td>Female</td>\n",
       "      <td>160</td>\n",
       "      <td>70</td>\n",
       "      <td>Very Active</td>\n",
       "      <td>Omnivore</td>\n",
       "      <td>2500</td>\n",
       "      <td>140</td>\n",
       "      <td>175.0</td>\n",
       "      <td>28.0</td>\n",
       "      <td>2680</td>\n",
       "      <td>350</td>\n",
       "      <td>42.0</td>\n",
       "      <td>80</td>\n",
       "      <td>Greek yogurt with granola and fruit</td>\n",
       "      <td>Chicken and vegetable stir-fry</td>\n",
       "      <td>Turkey chili with brown rice</td>\n",
       "      <td>Banana with peanut butter</td>\n",
       "      <td>Weight Gain</td>\n",
       "    </tr>\n",
       "    <tr>\n",
       "      <th>4</th>\n",
       "      <td>62</td>\n",
       "      <td>Male</td>\n",
       "      <td>170</td>\n",
       "      <td>85</td>\n",
       "      <td>Sedentary</td>\n",
       "      <td>Vegetarian</td>\n",
       "      <td>2000</td>\n",
       "      <td>80</td>\n",
       "      <td>125.0</td>\n",
       "      <td>16.0</td>\n",
       "      <td>1815</td>\n",
       "      <td>250</td>\n",
       "      <td>30.0</td>\n",
       "      <td>55</td>\n",
       "      <td>Scrambled eggs with whole wheat toast and avocado</td>\n",
       "      <td>Quinoa salad with chickpeas and vegetables</td>\n",
       "      <td>Vegetarian chili with cornbread</td>\n",
       "      <td>Fruit and nut mix</td>\n",
       "      <td>Weight Gain</td>\n",
       "    </tr>\n",
       "  </tbody>\n",
       "</table>\n",
       "</div>"
      ],
      "text/plain": [
       "   Ages  Gender  Height  Weight     Activity Level Dietary Preference  \\\n",
       "0    25    Male     180      80  Moderately Active           Omnivore   \n",
       "1    32  Female     165      65     Lightly Active         Vegetarian   \n",
       "2    48    Male     175      95          Sedentary              Vegan   \n",
       "3    55  Female     160      70        Very Active           Omnivore   \n",
       "4    62    Male     170      85          Sedentary         Vegetarian   \n",
       "\n",
       "   Daily Calorie Target  Protein  Sugar  Sodium  Calories  Carbohydrates  \\\n",
       "0                  2000      120  125.0    24.0      2020            250   \n",
       "1                  1600       80  100.0    16.0      1480            200   \n",
       "2                  2200      100  150.0    20.0      2185            300   \n",
       "3                  2500      140  175.0    28.0      2680            350   \n",
       "4                  2000       80  125.0    16.0      1815            250   \n",
       "\n",
       "   Fiber  Fat                               Breakfast Suggestion  \\\n",
       "0   30.0   60                      Oatmeal with berries and nuts   \n",
       "1   24.0   40                         Tofu scramble with veggies   \n",
       "2   36.0   65                  Tofu and veggie breakfast burrito   \n",
       "3   42.0   80                Greek yogurt with granola and fruit   \n",
       "4   30.0   55  Scrambled eggs with whole wheat toast and avocado   \n",
       "\n",
       "                             Lunch Suggestion  \\\n",
       "0     Grilled chicken salad with mixed greens   \n",
       "1          Lentil soup with whole wheat bread   \n",
       "2      Black bean burger on a whole wheat bun   \n",
       "3              Chicken and vegetable stir-fry   \n",
       "4  Quinoa salad with chickpeas and vegetables   \n",
       "\n",
       "                    Dinner Suggestion           Snack Suggestion  \\\n",
       "0      Salmon with roasted vegetables    Greek yogurt with fruit   \n",
       "1  Vegetable stir-fry with brown rice   Apple with almond butter   \n",
       "2          Lentil and vegetable curry                  Trail mix   \n",
       "3        Turkey chili with brown rice  Banana with peanut butter   \n",
       "4     Vegetarian chili with cornbread          Fruit and nut mix   \n",
       "\n",
       "                                    Disease  \n",
       "0                               Weight Gain  \n",
       "1  Weight Gain, Hypertension, Heart Disease  \n",
       "2                               Weight Gain  \n",
       "3                               Weight Gain  \n",
       "4                               Weight Gain  "
      ]
     },
     "execution_count": 19,
     "metadata": {},
     "output_type": "execute_result"
    }
   ],
   "source": [
    "df.head()"
   ]
  },
  {
   "cell_type": "code",
   "execution_count": 21,
   "id": "2e1d613f-93be-42a3-8a95-e0228af8c5e0",
   "metadata": {},
   "outputs": [
    {
     "name": "stdout",
     "output_type": "stream",
     "text": [
      "<class 'pandas.core.frame.DataFrame'>\n",
      "RangeIndex: 1698 entries, 0 to 1697\n",
      "Data columns (total 19 columns):\n",
      " #   Column                Non-Null Count  Dtype  \n",
      "---  ------                --------------  -----  \n",
      " 0   Ages                  1698 non-null   int64  \n",
      " 1   Gender                1698 non-null   object \n",
      " 2   Height                1698 non-null   int64  \n",
      " 3   Weight                1698 non-null   int64  \n",
      " 4   Activity Level        1698 non-null   object \n",
      " 5   Dietary Preference    1698 non-null   object \n",
      " 6   Daily Calorie Target  1698 non-null   int64  \n",
      " 7   Protein               1698 non-null   int64  \n",
      " 8   Sugar                 1698 non-null   float64\n",
      " 9   Sodium                1698 non-null   float64\n",
      " 10  Calories              1698 non-null   int64  \n",
      " 11  Carbohydrates         1698 non-null   int64  \n",
      " 12  Fiber                 1698 non-null   float64\n",
      " 13  Fat                   1698 non-null   int64  \n",
      " 14  Breakfast Suggestion  1698 non-null   object \n",
      " 15  Lunch Suggestion      1698 non-null   object \n",
      " 16  Dinner Suggestion     1698 non-null   object \n",
      " 17  Snack Suggestion      1698 non-null   object \n",
      " 18  Disease               1698 non-null   object \n",
      "dtypes: float64(3), int64(8), object(8)\n",
      "memory usage: 252.2+ KB\n"
     ]
    }
   ],
   "source": [
    "df.info()"
   ]
  },
  {
   "cell_type": "code",
   "execution_count": 27,
   "id": "e1d35eb2-58d4-43f1-94eb-e7c2c06b7227",
   "metadata": {},
   "outputs": [
    {
     "data": {
      "text/html": [
       "<div>\n",
       "<style scoped>\n",
       "    .dataframe tbody tr th:only-of-type {\n",
       "        vertical-align: middle;\n",
       "    }\n",
       "\n",
       "    .dataframe tbody tr th {\n",
       "        vertical-align: top;\n",
       "    }\n",
       "\n",
       "    .dataframe thead th {\n",
       "        text-align: right;\n",
       "    }\n",
       "</style>\n",
       "<table border=\"1\" class=\"dataframe\">\n",
       "  <thead>\n",
       "    <tr style=\"text-align: right;\">\n",
       "      <th></th>\n",
       "      <th>count</th>\n",
       "      <th>mean</th>\n",
       "      <th>std</th>\n",
       "      <th>min</th>\n",
       "      <th>25%</th>\n",
       "      <th>50%</th>\n",
       "      <th>75%</th>\n",
       "      <th>max</th>\n",
       "    </tr>\n",
       "  </thead>\n",
       "  <tbody>\n",
       "    <tr>\n",
       "      <th>Ages</th>\n",
       "      <td>1698.0</td>\n",
       "      <td>43.961720</td>\n",
       "      <td>15.915002</td>\n",
       "      <td>18.0</td>\n",
       "      <td>30.00</td>\n",
       "      <td>42.00</td>\n",
       "      <td>57.00</td>\n",
       "      <td>79.00</td>\n",
       "    </tr>\n",
       "    <tr>\n",
       "      <th>Height</th>\n",
       "      <td>1698.0</td>\n",
       "      <td>174.130153</td>\n",
       "      <td>13.420936</td>\n",
       "      <td>150.0</td>\n",
       "      <td>163.25</td>\n",
       "      <td>174.00</td>\n",
       "      <td>185.00</td>\n",
       "      <td>200.00</td>\n",
       "    </tr>\n",
       "    <tr>\n",
       "      <th>Weight</th>\n",
       "      <td>1698.0</td>\n",
       "      <td>78.064193</td>\n",
       "      <td>16.949264</td>\n",
       "      <td>48.0</td>\n",
       "      <td>64.00</td>\n",
       "      <td>78.00</td>\n",
       "      <td>91.00</td>\n",
       "      <td>119.00</td>\n",
       "    </tr>\n",
       "    <tr>\n",
       "      <th>Daily Calorie Target</th>\n",
       "      <td>1698.0</td>\n",
       "      <td>2275.171967</td>\n",
       "      <td>558.812405</td>\n",
       "      <td>1200.0</td>\n",
       "      <td>1800.00</td>\n",
       "      <td>2200.00</td>\n",
       "      <td>2689.00</td>\n",
       "      <td>4364.00</td>\n",
       "    </tr>\n",
       "    <tr>\n",
       "      <th>Protein</th>\n",
       "      <td>1698.0</td>\n",
       "      <td>139.898115</td>\n",
       "      <td>53.326588</td>\n",
       "      <td>50.0</td>\n",
       "      <td>100.00</td>\n",
       "      <td>136.00</td>\n",
       "      <td>174.00</td>\n",
       "      <td>327.00</td>\n",
       "    </tr>\n",
       "    <tr>\n",
       "      <th>Sugar</th>\n",
       "      <td>1698.0</td>\n",
       "      <td>126.192580</td>\n",
       "      <td>34.938902</td>\n",
       "      <td>60.0</td>\n",
       "      <td>100.00</td>\n",
       "      <td>124.00</td>\n",
       "      <td>150.00</td>\n",
       "      <td>218.00</td>\n",
       "    </tr>\n",
       "    <tr>\n",
       "      <th>Sodium</th>\n",
       "      <td>1698.0</td>\n",
       "      <td>27.979623</td>\n",
       "      <td>10.665318</td>\n",
       "      <td>10.0</td>\n",
       "      <td>20.00</td>\n",
       "      <td>27.20</td>\n",
       "      <td>34.80</td>\n",
       "      <td>65.40</td>\n",
       "    </tr>\n",
       "    <tr>\n",
       "      <th>Calories</th>\n",
       "      <td>1698.0</td>\n",
       "      <td>2196.440518</td>\n",
       "      <td>571.089569</td>\n",
       "      <td>990.0</td>\n",
       "      <td>1770.25</td>\n",
       "      <td>2146.00</td>\n",
       "      <td>2549.75</td>\n",
       "      <td>4357.00</td>\n",
       "    </tr>\n",
       "    <tr>\n",
       "      <th>Carbohydrates</th>\n",
       "      <td>1698.0</td>\n",
       "      <td>252.385159</td>\n",
       "      <td>69.877804</td>\n",
       "      <td>120.0</td>\n",
       "      <td>200.00</td>\n",
       "      <td>248.00</td>\n",
       "      <td>300.00</td>\n",
       "      <td>436.00</td>\n",
       "    </tr>\n",
       "    <tr>\n",
       "      <th>Fiber</th>\n",
       "      <td>1698.0</td>\n",
       "      <td>30.286219</td>\n",
       "      <td>8.385337</td>\n",
       "      <td>14.4</td>\n",
       "      <td>24.00</td>\n",
       "      <td>29.76</td>\n",
       "      <td>36.00</td>\n",
       "      <td>52.32</td>\n",
       "    </tr>\n",
       "    <tr>\n",
       "      <th>Fat</th>\n",
       "      <td>1698.0</td>\n",
       "      <td>69.700824</td>\n",
       "      <td>21.430707</td>\n",
       "      <td>30.0</td>\n",
       "      <td>52.00</td>\n",
       "      <td>69.00</td>\n",
       "      <td>85.00</td>\n",
       "      <td>145.00</td>\n",
       "    </tr>\n",
       "  </tbody>\n",
       "</table>\n",
       "</div>"
      ],
      "text/plain": [
       "                       count         mean         std     min      25%  \\\n",
       "Ages                  1698.0    43.961720   15.915002    18.0    30.00   \n",
       "Height                1698.0   174.130153   13.420936   150.0   163.25   \n",
       "Weight                1698.0    78.064193   16.949264    48.0    64.00   \n",
       "Daily Calorie Target  1698.0  2275.171967  558.812405  1200.0  1800.00   \n",
       "Protein               1698.0   139.898115   53.326588    50.0   100.00   \n",
       "Sugar                 1698.0   126.192580   34.938902    60.0   100.00   \n",
       "Sodium                1698.0    27.979623   10.665318    10.0    20.00   \n",
       "Calories              1698.0  2196.440518  571.089569   990.0  1770.25   \n",
       "Carbohydrates         1698.0   252.385159   69.877804   120.0   200.00   \n",
       "Fiber                 1698.0    30.286219    8.385337    14.4    24.00   \n",
       "Fat                   1698.0    69.700824   21.430707    30.0    52.00   \n",
       "\n",
       "                          50%      75%      max  \n",
       "Ages                    42.00    57.00    79.00  \n",
       "Height                 174.00   185.00   200.00  \n",
       "Weight                  78.00    91.00   119.00  \n",
       "Daily Calorie Target  2200.00  2689.00  4364.00  \n",
       "Protein                136.00   174.00   327.00  \n",
       "Sugar                  124.00   150.00   218.00  \n",
       "Sodium                  27.20    34.80    65.40  \n",
       "Calories              2146.00  2549.75  4357.00  \n",
       "Carbohydrates          248.00   300.00   436.00  \n",
       "Fiber                   29.76    36.00    52.32  \n",
       "Fat                     69.00    85.00   145.00  "
      ]
     },
     "execution_count": 27,
     "metadata": {},
     "output_type": "execute_result"
    }
   ],
   "source": [
    "df.describe().T"
   ]
  },
  {
   "cell_type": "code",
   "execution_count": 25,
   "id": "ea91ac33-a1f2-4c9d-8cb3-c454e7aa2b89",
   "metadata": {},
   "outputs": [
    {
     "data": {
      "text/html": [
       "<div>\n",
       "<style scoped>\n",
       "    .dataframe tbody tr th:only-of-type {\n",
       "        vertical-align: middle;\n",
       "    }\n",
       "\n",
       "    .dataframe tbody tr th {\n",
       "        vertical-align: top;\n",
       "    }\n",
       "\n",
       "    .dataframe thead th {\n",
       "        text-align: right;\n",
       "    }\n",
       "</style>\n",
       "<table border=\"1\" class=\"dataframe\">\n",
       "  <thead>\n",
       "    <tr style=\"text-align: right;\">\n",
       "      <th></th>\n",
       "      <th>count</th>\n",
       "      <th>unique</th>\n",
       "      <th>top</th>\n",
       "      <th>freq</th>\n",
       "    </tr>\n",
       "  </thead>\n",
       "  <tbody>\n",
       "    <tr>\n",
       "      <th>Gender</th>\n",
       "      <td>1698</td>\n",
       "      <td>2</td>\n",
       "      <td>Female</td>\n",
       "      <td>862</td>\n",
       "    </tr>\n",
       "    <tr>\n",
       "      <th>Activity Level</th>\n",
       "      <td>1698</td>\n",
       "      <td>5</td>\n",
       "      <td>Moderately Active</td>\n",
       "      <td>420</td>\n",
       "    </tr>\n",
       "    <tr>\n",
       "      <th>Dietary Preference</th>\n",
       "      <td>1698</td>\n",
       "      <td>4</td>\n",
       "      <td>Omnivore</td>\n",
       "      <td>564</td>\n",
       "    </tr>\n",
       "    <tr>\n",
       "      <th>Breakfast Suggestion</th>\n",
       "      <td>1698</td>\n",
       "      <td>121</td>\n",
       "      <td>Smoothie with protein powder</td>\n",
       "      <td>210</td>\n",
       "    </tr>\n",
       "    <tr>\n",
       "      <th>Lunch Suggestion</th>\n",
       "      <td>1698</td>\n",
       "      <td>190</td>\n",
       "      <td>Lentil soup with whole wheat bread</td>\n",
       "      <td>161</td>\n",
       "    </tr>\n",
       "    <tr>\n",
       "      <th>Dinner Suggestion</th>\n",
       "      <td>1698</td>\n",
       "      <td>177</td>\n",
       "      <td>Salmon with roasted vegetables</td>\n",
       "      <td>175</td>\n",
       "    </tr>\n",
       "    <tr>\n",
       "      <th>Snack Suggestion</th>\n",
       "      <td>1698</td>\n",
       "      <td>112</td>\n",
       "      <td>Trail mix</td>\n",
       "      <td>296</td>\n",
       "    </tr>\n",
       "    <tr>\n",
       "      <th>Disease</th>\n",
       "      <td>1698</td>\n",
       "      <td>13</td>\n",
       "      <td>Weight Gain</td>\n",
       "      <td>1312</td>\n",
       "    </tr>\n",
       "  </tbody>\n",
       "</table>\n",
       "</div>"
      ],
      "text/plain": [
       "                     count unique                                 top  freq\n",
       "Gender                1698      2                              Female   862\n",
       "Activity Level        1698      5                   Moderately Active   420\n",
       "Dietary Preference    1698      4                            Omnivore   564\n",
       "Breakfast Suggestion  1698    121        Smoothie with protein powder   210\n",
       "Lunch Suggestion      1698    190  Lentil soup with whole wheat bread   161\n",
       "Dinner Suggestion     1698    177      Salmon with roasted vegetables   175\n",
       "Snack Suggestion      1698    112                           Trail mix   296\n",
       "Disease               1698     13                         Weight Gain  1312"
      ]
     },
     "execution_count": 25,
     "metadata": {},
     "output_type": "execute_result"
    }
   ],
   "source": [
    "df.describe(include='object').T"
   ]
  },
  {
   "cell_type": "code",
   "execution_count": 49,
   "id": "81ca66d7-23f6-4bc1-8e65-5768b857c613",
   "metadata": {},
   "outputs": [
    {
     "data": {
      "text/plain": [
       "Ages                    0\n",
       "Gender                  0\n",
       "Height                  0\n",
       "Weight                  0\n",
       "Activity Level          0\n",
       "Dietary Preference      0\n",
       "Daily Calorie Target    0\n",
       "Protein                 0\n",
       "Sugar                   0\n",
       "Sodium                  0\n",
       "Calories                0\n",
       "Carbohydrates           0\n",
       "Fiber                   0\n",
       "Fat                     0\n",
       "Breakfast Suggestion    0\n",
       "Lunch Suggestion        0\n",
       "Dinner Suggestion       0\n",
       "Snack Suggestion        0\n",
       "Disease                 0\n",
       "dtype: int64"
      ]
     },
     "execution_count": 49,
     "metadata": {},
     "output_type": "execute_result"
    }
   ],
   "source": [
    "df.isnull().sum()"
   ]
  },
  {
   "cell_type": "code",
   "execution_count": 51,
   "id": "5ec4ed2a-79dd-4c37-bf65-7c79dc534813",
   "metadata": {},
   "outputs": [
    {
     "data": {
      "text/plain": [
       "0"
      ]
     },
     "execution_count": 51,
     "metadata": {},
     "output_type": "execute_result"
    }
   ],
   "source": [
    "df.duplicated().sum()"
   ]
  },
  {
   "cell_type": "code",
   "execution_count": 53,
   "id": "5cbed39c-8f3e-4d79-925d-af9640f6a3cf",
   "metadata": {},
   "outputs": [
    {
     "data": {
      "text/plain": [
       "Index(['Ages', 'Gender', 'Height', 'Weight', 'Activity Level',\n",
       "       'Dietary Preference', 'Daily Calorie Target', 'Protein', 'Sugar',\n",
       "       'Sodium', 'Calories', 'Carbohydrates', 'Fiber', 'Fat',\n",
       "       'Breakfast Suggestion', 'Lunch Suggestion', 'Dinner Suggestion',\n",
       "       'Snack Suggestion', 'Disease'],\n",
       "      dtype='object')"
      ]
     },
     "execution_count": 53,
     "metadata": {},
     "output_type": "execute_result"
    }
   ],
   "source": [
    "df.columns"
   ]
  },
  {
   "cell_type": "markdown",
   "id": "d33f48ea-193f-4b48-a3a5-6905221c1aca",
   "metadata": {},
   "source": [
    "## Check Each Columns"
   ]
  },
  {
   "cell_type": "markdown",
   "id": "6b07eb54-5e07-4e68-96ab-786ca6495ce3",
   "metadata": {},
   "source": [
    "### Ages"
   ]
  },
  {
   "cell_type": "code",
   "execution_count": 55,
   "id": "1d69c238-5918-4d89-a064-2e6a34cae5a4",
   "metadata": {},
   "outputs": [
    {
     "data": {
      "text/plain": [
       "0    25\n",
       "1    32\n",
       "2    48\n",
       "3    55\n",
       "4    62\n",
       "Name: Ages, dtype: int64"
      ]
     },
     "execution_count": 55,
     "metadata": {},
     "output_type": "execute_result"
    }
   ],
   "source": [
    "df['Ages'].head()"
   ]
  },
  {
   "cell_type": "code",
   "execution_count": 57,
   "id": "ce3fda99-56ed-44d2-898b-bbe9d961412d",
   "metadata": {},
   "outputs": [
    {
     "data": {
      "text/plain": [
       "62"
      ]
     },
     "execution_count": 57,
     "metadata": {},
     "output_type": "execute_result"
    }
   ],
   "source": [
    "df['Ages'].nunique()"
   ]
  },
  {
   "cell_type": "code",
   "execution_count": 59,
   "id": "c1f3190d-c25b-4ac3-bbe1-aef277676326",
   "metadata": {},
   "outputs": [
    {
     "data": {
      "text/plain": [
       "array([25, 32, 48, 55, 62, 68, 28, 35, 42, 58, 40, 22, 24, 38, 45, 31, 21,\n",
       "       30, 20, 72, 60, 65, 19, 52, 47, 70, 33, 27, 50, 23, 29, 77, 51, 53,\n",
       "       79, 39, 74, 18, 59, 46, 34, 44, 56, 57, 61, 36, 63, 37, 41, 69, 26,\n",
       "       78, 67, 75, 66, 73, 43, 49, 64, 71, 54, 76], dtype=int64)"
      ]
     },
     "execution_count": 59,
     "metadata": {},
     "output_type": "execute_result"
    }
   ],
   "source": [
    "df['Ages'].unique()"
   ]
  },
  {
   "cell_type": "code",
   "execution_count": 61,
   "id": "9e433229-7eb5-4aea-b27a-c4fa0b0c9814",
   "metadata": {},
   "outputs": [
    {
     "data": {
      "text/plain": [
       "18"
      ]
     },
     "execution_count": 61,
     "metadata": {},
     "output_type": "execute_result"
    }
   ],
   "source": [
    "df['Ages'].min()"
   ]
  },
  {
   "cell_type": "code",
   "execution_count": 63,
   "id": "f5b1f6da-1782-4061-bd8e-334e9c5d0f72",
   "metadata": {},
   "outputs": [
    {
     "data": {
      "text/plain": [
       "79"
      ]
     },
     "execution_count": 63,
     "metadata": {},
     "output_type": "execute_result"
    }
   ],
   "source": [
    "df['Ages'].max()"
   ]
  },
  {
   "cell_type": "markdown",
   "id": "56cca1c0-8e3b-40ad-bef8-bc87a60b8fee",
   "metadata": {},
   "source": [
    "### Height"
   ]
  },
  {
   "cell_type": "code",
   "execution_count": 65,
   "id": "8fa59afe-8035-4fa4-98f9-7d14467bf943",
   "metadata": {},
   "outputs": [
    {
     "data": {
      "text/plain": [
       "0    180\n",
       "1    165\n",
       "2    175\n",
       "3    160\n",
       "4    170\n",
       "Name: Height, dtype: int64"
      ]
     },
     "execution_count": 65,
     "metadata": {},
     "output_type": "execute_result"
    }
   ],
   "source": [
    "df['Height'].head()"
   ]
  },
  {
   "cell_type": "code",
   "execution_count": 67,
   "id": "4aa55a17-e7e4-4565-99c3-c58f558feca3",
   "metadata": {},
   "outputs": [
    {
     "data": {
      "text/plain": [
       "51"
      ]
     },
     "execution_count": 67,
     "metadata": {},
     "output_type": "execute_result"
    }
   ],
   "source": [
    "df['Height'].nunique()"
   ]
  },
  {
   "cell_type": "code",
   "execution_count": 69,
   "id": "bb441380-6f28-4c4b-8774-ee35c830b30a",
   "metadata": {},
   "outputs": [
    {
     "data": {
      "text/plain": [
       "array([180, 165, 175, 160, 170, 155, 190, 185, 168, 172, 182, 178, 183,\n",
       "       158, 162, 163, 161, 188, 196, 156, 169, 153, 194, 198, 184, 192,\n",
       "       199, 164, 150, 177, 166, 179, 197, 152, 173, 171, 187, 167, 154,\n",
       "       191, 189, 176, 157, 159, 193, 186, 181, 174, 151, 195, 200],\n",
       "      dtype=int64)"
      ]
     },
     "execution_count": 69,
     "metadata": {},
     "output_type": "execute_result"
    }
   ],
   "source": [
    "df['Height'].unique()"
   ]
  },
  {
   "cell_type": "code",
   "execution_count": 71,
   "id": "8db17cfc-2f05-4471-8a5b-47e33cfaeb03",
   "metadata": {},
   "outputs": [
    {
     "data": {
      "text/plain": [
       "150"
      ]
     },
     "execution_count": 71,
     "metadata": {},
     "output_type": "execute_result"
    }
   ],
   "source": [
    "df['Height'].min()"
   ]
  },
  {
   "cell_type": "code",
   "execution_count": 73,
   "id": "83348b12-8805-49fd-a494-86e63edb3543",
   "metadata": {},
   "outputs": [
    {
     "data": {
      "text/plain": [
       "200"
      ]
     },
     "execution_count": 73,
     "metadata": {},
     "output_type": "execute_result"
    }
   ],
   "source": [
    "df['Height'].max()"
   ]
  },
  {
   "cell_type": "markdown",
   "id": "0cd3acc9-e107-4029-a0fd-b15e27144a57",
   "metadata": {},
   "source": [
    "### Weight"
   ]
  },
  {
   "cell_type": "code",
   "execution_count": 75,
   "id": "dcf88526-6b4d-4e79-8fb6-9989bc69c53a",
   "metadata": {},
   "outputs": [
    {
     "data": {
      "text/plain": [
       "0    80\n",
       "1    65\n",
       "2    95\n",
       "3    70\n",
       "4    85\n",
       "Name: Weight, dtype: int64"
      ]
     },
     "execution_count": 75,
     "metadata": {},
     "output_type": "execute_result"
    }
   ],
   "source": [
    "df['Weight'].head()"
   ]
  },
  {
   "cell_type": "code",
   "execution_count": 77,
   "id": "a6d56ba8-5036-447d-8255-5be54b7218cd",
   "metadata": {},
   "outputs": [
    {
     "data": {
      "text/plain": [
       "71"
      ]
     },
     "execution_count": 77,
     "metadata": {},
     "output_type": "execute_result"
    }
   ],
   "source": [
    "df['Weight'].nunique()"
   ]
  },
  {
   "cell_type": "code",
   "execution_count": 79,
   "id": "bf53c699-8f76-44d1-8492-9b1cef4ff10f",
   "metadata": {},
   "outputs": [
    {
     "data": {
      "text/plain": [
       "array([ 80,  65,  95,  70,  85,  60, 100,  75, 110,  78,  90,  68,  55,\n",
       "        50,  58,  98,  72,  88,  62,  82, 105,  48, 115, 106,  61, 101,\n",
       "        96,  59,  53,  93, 112,  79,  97,  76,  54,  57, 111, 107,  92,\n",
       "        86,  71, 104,  81,  64,  74, 113,  56, 117,  73, 119,  87,  52,\n",
       "       116,  89,  77, 103, 108,  91, 102,  63,  83, 114,  84, 118,  94,\n",
       "        67, 109,  66,  69,  51,  99], dtype=int64)"
      ]
     },
     "execution_count": 79,
     "metadata": {},
     "output_type": "execute_result"
    }
   ],
   "source": [
    "df['Weight'].unique()"
   ]
  },
  {
   "cell_type": "code",
   "execution_count": 81,
   "id": "b7d61e4a-b49f-4e2c-9722-6aa486f40d65",
   "metadata": {},
   "outputs": [
    {
     "data": {
      "text/plain": [
       "48"
      ]
     },
     "execution_count": 81,
     "metadata": {},
     "output_type": "execute_result"
    }
   ],
   "source": [
    "df['Weight'].min()"
   ]
  },
  {
   "cell_type": "code",
   "execution_count": 83,
   "id": "2424044a-bdf8-4b52-b7d7-c17d53b2af78",
   "metadata": {},
   "outputs": [
    {
     "data": {
      "text/plain": [
       "119"
      ]
     },
     "execution_count": 83,
     "metadata": {},
     "output_type": "execute_result"
    }
   ],
   "source": [
    "df['Weight'].max()"
   ]
  },
  {
   "cell_type": "code",
   "execution_count": 89,
   "id": "7fd51fb7-5a63-4c92-b84c-b5c89363204d",
   "metadata": {},
   "outputs": [
    {
     "data": {
      "text/html": [
       "<div>\n",
       "<style scoped>\n",
       "    .dataframe tbody tr th:only-of-type {\n",
       "        vertical-align: middle;\n",
       "    }\n",
       "\n",
       "    .dataframe tbody tr th {\n",
       "        vertical-align: top;\n",
       "    }\n",
       "\n",
       "    .dataframe thead th {\n",
       "        text-align: right;\n",
       "    }\n",
       "</style>\n",
       "<table border=\"1\" class=\"dataframe\">\n",
       "  <thead>\n",
       "    <tr style=\"text-align: right;\">\n",
       "      <th></th>\n",
       "      <th>Ages</th>\n",
       "      <th>Gender</th>\n",
       "      <th>Height</th>\n",
       "      <th>Weight</th>\n",
       "      <th>Activity Level</th>\n",
       "      <th>Dietary Preference</th>\n",
       "      <th>Daily Calorie Target</th>\n",
       "      <th>Protein</th>\n",
       "      <th>Sugar</th>\n",
       "      <th>Sodium</th>\n",
       "      <th>Calories</th>\n",
       "      <th>Carbohydrates</th>\n",
       "      <th>Fiber</th>\n",
       "      <th>Fat</th>\n",
       "      <th>Breakfast Suggestion</th>\n",
       "      <th>Lunch Suggestion</th>\n",
       "      <th>Dinner Suggestion</th>\n",
       "      <th>Snack Suggestion</th>\n",
       "      <th>Disease</th>\n",
       "    </tr>\n",
       "  </thead>\n",
       "  <tbody>\n",
       "    <tr>\n",
       "      <th>0</th>\n",
       "      <td>25</td>\n",
       "      <td>Male</td>\n",
       "      <td>180</td>\n",
       "      <td>80</td>\n",
       "      <td>Moderately Active</td>\n",
       "      <td>Omnivore</td>\n",
       "      <td>2000</td>\n",
       "      <td>120</td>\n",
       "      <td>125.0</td>\n",
       "      <td>24.0</td>\n",
       "      <td>2020</td>\n",
       "      <td>250</td>\n",
       "      <td>30.00</td>\n",
       "      <td>60</td>\n",
       "      <td>Oatmeal with berries and nuts</td>\n",
       "      <td>Grilled chicken salad with mixed greens</td>\n",
       "      <td>Salmon with roasted vegetables</td>\n",
       "      <td>Greek yogurt with fruit</td>\n",
       "      <td>Weight Gain</td>\n",
       "    </tr>\n",
       "    <tr>\n",
       "      <th>1</th>\n",
       "      <td>32</td>\n",
       "      <td>Female</td>\n",
       "      <td>165</td>\n",
       "      <td>65</td>\n",
       "      <td>Lightly Active</td>\n",
       "      <td>Vegetarian</td>\n",
       "      <td>1600</td>\n",
       "      <td>80</td>\n",
       "      <td>100.0</td>\n",
       "      <td>16.0</td>\n",
       "      <td>1480</td>\n",
       "      <td>200</td>\n",
       "      <td>24.00</td>\n",
       "      <td>40</td>\n",
       "      <td>Tofu scramble with veggies</td>\n",
       "      <td>Lentil soup with whole wheat bread</td>\n",
       "      <td>Vegetable stir-fry with brown rice</td>\n",
       "      <td>Apple with almond butter</td>\n",
       "      <td>Weight Gain, Hypertension, Heart Disease</td>\n",
       "    </tr>\n",
       "    <tr>\n",
       "      <th>2</th>\n",
       "      <td>48</td>\n",
       "      <td>Male</td>\n",
       "      <td>175</td>\n",
       "      <td>95</td>\n",
       "      <td>Sedentary</td>\n",
       "      <td>Vegan</td>\n",
       "      <td>2200</td>\n",
       "      <td>100</td>\n",
       "      <td>150.0</td>\n",
       "      <td>20.0</td>\n",
       "      <td>2185</td>\n",
       "      <td>300</td>\n",
       "      <td>36.00</td>\n",
       "      <td>65</td>\n",
       "      <td>Tofu and veggie breakfast burrito</td>\n",
       "      <td>Black bean burger on a whole wheat bun</td>\n",
       "      <td>Lentil and vegetable curry</td>\n",
       "      <td>Trail mix</td>\n",
       "      <td>Weight Gain</td>\n",
       "    </tr>\n",
       "    <tr>\n",
       "      <th>3</th>\n",
       "      <td>55</td>\n",
       "      <td>Female</td>\n",
       "      <td>160</td>\n",
       "      <td>70</td>\n",
       "      <td>Very Active</td>\n",
       "      <td>Omnivore</td>\n",
       "      <td>2500</td>\n",
       "      <td>140</td>\n",
       "      <td>175.0</td>\n",
       "      <td>28.0</td>\n",
       "      <td>2680</td>\n",
       "      <td>350</td>\n",
       "      <td>42.00</td>\n",
       "      <td>80</td>\n",
       "      <td>Greek yogurt with granola and fruit</td>\n",
       "      <td>Chicken and vegetable stir-fry</td>\n",
       "      <td>Turkey chili with brown rice</td>\n",
       "      <td>Banana with peanut butter</td>\n",
       "      <td>Weight Gain</td>\n",
       "    </tr>\n",
       "    <tr>\n",
       "      <th>4</th>\n",
       "      <td>62</td>\n",
       "      <td>Male</td>\n",
       "      <td>170</td>\n",
       "      <td>85</td>\n",
       "      <td>Sedentary</td>\n",
       "      <td>Vegetarian</td>\n",
       "      <td>2000</td>\n",
       "      <td>80</td>\n",
       "      <td>125.0</td>\n",
       "      <td>16.0</td>\n",
       "      <td>1815</td>\n",
       "      <td>250</td>\n",
       "      <td>30.00</td>\n",
       "      <td>55</td>\n",
       "      <td>Scrambled eggs with whole wheat toast and avocado</td>\n",
       "      <td>Quinoa salad with chickpeas and vegetables</td>\n",
       "      <td>Vegetarian chili with cornbread</td>\n",
       "      <td>Fruit and nut mix</td>\n",
       "      <td>Weight Gain</td>\n",
       "    </tr>\n",
       "    <tr>\n",
       "      <th>...</th>\n",
       "      <td>...</td>\n",
       "      <td>...</td>\n",
       "      <td>...</td>\n",
       "      <td>...</td>\n",
       "      <td>...</td>\n",
       "      <td>...</td>\n",
       "      <td>...</td>\n",
       "      <td>...</td>\n",
       "      <td>...</td>\n",
       "      <td>...</td>\n",
       "      <td>...</td>\n",
       "      <td>...</td>\n",
       "      <td>...</td>\n",
       "      <td>...</td>\n",
       "      <td>...</td>\n",
       "      <td>...</td>\n",
       "      <td>...</td>\n",
       "      <td>...</td>\n",
       "      <td>...</td>\n",
       "    </tr>\n",
       "    <tr>\n",
       "      <th>1693</th>\n",
       "      <td>53</td>\n",
       "      <td>Female</td>\n",
       "      <td>182</td>\n",
       "      <td>76</td>\n",
       "      <td>Sedentary</td>\n",
       "      <td>Vegan</td>\n",
       "      <td>1265</td>\n",
       "      <td>94</td>\n",
       "      <td>63.0</td>\n",
       "      <td>18.8</td>\n",
       "      <td>1258</td>\n",
       "      <td>126</td>\n",
       "      <td>15.12</td>\n",
       "      <td>42</td>\n",
       "      <td>Oatmeal with berries and nuts</td>\n",
       "      <td>Quinoa salad with chickpeas and vegetables</td>\n",
       "      <td>Vegetable stir-fry with brown rice</td>\n",
       "      <td>Apple with almond butter</td>\n",
       "      <td>Diabetes, Acne, Weight Gain, Hypertension, Hea...</td>\n",
       "    </tr>\n",
       "    <tr>\n",
       "      <th>1694</th>\n",
       "      <td>38</td>\n",
       "      <td>Male</td>\n",
       "      <td>150</td>\n",
       "      <td>76</td>\n",
       "      <td>Very Active</td>\n",
       "      <td>Vegan</td>\n",
       "      <td>2109</td>\n",
       "      <td>158</td>\n",
       "      <td>105.0</td>\n",
       "      <td>31.6</td>\n",
       "      <td>2102</td>\n",
       "      <td>210</td>\n",
       "      <td>25.20</td>\n",
       "      <td>70</td>\n",
       "      <td>Oatmeal with berries and nuts</td>\n",
       "      <td>Grilled chicken salad with mixed greens</td>\n",
       "      <td>Lentil and vegetable curry</td>\n",
       "      <td>Apple with almond butter</td>\n",
       "      <td>Weight Gain</td>\n",
       "    </tr>\n",
       "    <tr>\n",
       "      <th>1695</th>\n",
       "      <td>57</td>\n",
       "      <td>Male</td>\n",
       "      <td>165</td>\n",
       "      <td>73</td>\n",
       "      <td>Very Active</td>\n",
       "      <td>Vegan</td>\n",
       "      <td>2555</td>\n",
       "      <td>191</td>\n",
       "      <td>127.5</td>\n",
       "      <td>38.2</td>\n",
       "      <td>2549</td>\n",
       "      <td>255</td>\n",
       "      <td>30.60</td>\n",
       "      <td>85</td>\n",
       "      <td>Smoothie with protein powder</td>\n",
       "      <td>Chicken and vegetable stir-fry</td>\n",
       "      <td>Vegetable stir-fry with brown rice</td>\n",
       "      <td>Fruit and nut mix</td>\n",
       "      <td>Weight Gain</td>\n",
       "    </tr>\n",
       "    <tr>\n",
       "      <th>1696</th>\n",
       "      <td>40</td>\n",
       "      <td>Male</td>\n",
       "      <td>166</td>\n",
       "      <td>91</td>\n",
       "      <td>Extremely Active</td>\n",
       "      <td>Vegan</td>\n",
       "      <td>3329</td>\n",
       "      <td>249</td>\n",
       "      <td>166.0</td>\n",
       "      <td>49.8</td>\n",
       "      <td>3314</td>\n",
       "      <td>332</td>\n",
       "      <td>39.84</td>\n",
       "      <td>110</td>\n",
       "      <td>Scrambled eggs with whole wheat toast</td>\n",
       "      <td>Lentil soup with whole wheat bread</td>\n",
       "      <td>Vegetable stir-fry with brown rice</td>\n",
       "      <td>Banana with peanut butter</td>\n",
       "      <td>Weight Gain</td>\n",
       "    </tr>\n",
       "    <tr>\n",
       "      <th>1697</th>\n",
       "      <td>54</td>\n",
       "      <td>Female</td>\n",
       "      <td>198</td>\n",
       "      <td>75</td>\n",
       "      <td>Sedentary</td>\n",
       "      <td>Vegetarian</td>\n",
       "      <td>1867</td>\n",
       "      <td>140</td>\n",
       "      <td>93.0</td>\n",
       "      <td>28.0</td>\n",
       "      <td>1862</td>\n",
       "      <td>186</td>\n",
       "      <td>22.32</td>\n",
       "      <td>62</td>\n",
       "      <td>Scrambled eggs with whole wheat toast</td>\n",
       "      <td>Chicken and vegetable stir-fry</td>\n",
       "      <td>Pasta with marinara sauce and veggies</td>\n",
       "      <td>Banana with peanut butter</td>\n",
       "      <td>Weight Gain</td>\n",
       "    </tr>\n",
       "  </tbody>\n",
       "</table>\n",
       "<p>1698 rows × 19 columns</p>\n",
       "</div>"
      ],
      "text/plain": [
       "      Ages  Gender  Height  Weight     Activity Level Dietary Preference  \\\n",
       "0       25    Male     180      80  Moderately Active           Omnivore   \n",
       "1       32  Female     165      65     Lightly Active         Vegetarian   \n",
       "2       48    Male     175      95          Sedentary              Vegan   \n",
       "3       55  Female     160      70        Very Active           Omnivore   \n",
       "4       62    Male     170      85          Sedentary         Vegetarian   \n",
       "...    ...     ...     ...     ...                ...                ...   \n",
       "1693    53  Female     182      76          Sedentary              Vegan   \n",
       "1694    38    Male     150      76        Very Active              Vegan   \n",
       "1695    57    Male     165      73        Very Active              Vegan   \n",
       "1696    40    Male     166      91   Extremely Active              Vegan   \n",
       "1697    54  Female     198      75          Sedentary         Vegetarian   \n",
       "\n",
       "      Daily Calorie Target  Protein  Sugar  Sodium  Calories  Carbohydrates  \\\n",
       "0                     2000      120  125.0    24.0      2020            250   \n",
       "1                     1600       80  100.0    16.0      1480            200   \n",
       "2                     2200      100  150.0    20.0      2185            300   \n",
       "3                     2500      140  175.0    28.0      2680            350   \n",
       "4                     2000       80  125.0    16.0      1815            250   \n",
       "...                    ...      ...    ...     ...       ...            ...   \n",
       "1693                  1265       94   63.0    18.8      1258            126   \n",
       "1694                  2109      158  105.0    31.6      2102            210   \n",
       "1695                  2555      191  127.5    38.2      2549            255   \n",
       "1696                  3329      249  166.0    49.8      3314            332   \n",
       "1697                  1867      140   93.0    28.0      1862            186   \n",
       "\n",
       "      Fiber  Fat                               Breakfast Suggestion  \\\n",
       "0     30.00   60                      Oatmeal with berries and nuts   \n",
       "1     24.00   40                         Tofu scramble with veggies   \n",
       "2     36.00   65                  Tofu and veggie breakfast burrito   \n",
       "3     42.00   80                Greek yogurt with granola and fruit   \n",
       "4     30.00   55  Scrambled eggs with whole wheat toast and avocado   \n",
       "...     ...  ...                                                ...   \n",
       "1693  15.12   42                      Oatmeal with berries and nuts   \n",
       "1694  25.20   70                      Oatmeal with berries and nuts   \n",
       "1695  30.60   85                       Smoothie with protein powder   \n",
       "1696  39.84  110              Scrambled eggs with whole wheat toast   \n",
       "1697  22.32   62              Scrambled eggs with whole wheat toast   \n",
       "\n",
       "                                Lunch Suggestion  \\\n",
       "0        Grilled chicken salad with mixed greens   \n",
       "1             Lentil soup with whole wheat bread   \n",
       "2         Black bean burger on a whole wheat bun   \n",
       "3                 Chicken and vegetable stir-fry   \n",
       "4     Quinoa salad with chickpeas and vegetables   \n",
       "...                                          ...   \n",
       "1693  Quinoa salad with chickpeas and vegetables   \n",
       "1694     Grilled chicken salad with mixed greens   \n",
       "1695              Chicken and vegetable stir-fry   \n",
       "1696          Lentil soup with whole wheat bread   \n",
       "1697              Chicken and vegetable stir-fry   \n",
       "\n",
       "                          Dinner Suggestion           Snack Suggestion  \\\n",
       "0            Salmon with roasted vegetables    Greek yogurt with fruit   \n",
       "1        Vegetable stir-fry with brown rice   Apple with almond butter   \n",
       "2                Lentil and vegetable curry                  Trail mix   \n",
       "3              Turkey chili with brown rice  Banana with peanut butter   \n",
       "4           Vegetarian chili with cornbread          Fruit and nut mix   \n",
       "...                                     ...                        ...   \n",
       "1693     Vegetable stir-fry with brown rice   Apple with almond butter   \n",
       "1694             Lentil and vegetable curry   Apple with almond butter   \n",
       "1695     Vegetable stir-fry with brown rice          Fruit and nut mix   \n",
       "1696     Vegetable stir-fry with brown rice  Banana with peanut butter   \n",
       "1697  Pasta with marinara sauce and veggies  Banana with peanut butter   \n",
       "\n",
       "                                                Disease  \n",
       "0                                           Weight Gain  \n",
       "1              Weight Gain, Hypertension, Heart Disease  \n",
       "2                                           Weight Gain  \n",
       "3                                           Weight Gain  \n",
       "4                                           Weight Gain  \n",
       "...                                                 ...  \n",
       "1693  Diabetes, Acne, Weight Gain, Hypertension, Hea...  \n",
       "1694                                        Weight Gain  \n",
       "1695                                        Weight Gain  \n",
       "1696                                        Weight Gain  \n",
       "1697                                        Weight Gain  \n",
       "\n",
       "[1698 rows x 19 columns]"
      ]
     },
     "execution_count": 89,
     "metadata": {},
     "output_type": "execute_result"
    }
   ],
   "source": [
    "df"
   ]
  },
  {
   "cell_type": "markdown",
   "id": "bd695259-8459-4643-b6c7-6ad8dd2a5f4f",
   "metadata": {},
   "source": [
    "### Activity Level"
   ]
  },
  {
   "cell_type": "code",
   "execution_count": 85,
   "id": "3ab6695c-c330-455d-90d9-e195a76a8c4e",
   "metadata": {},
   "outputs": [
    {
     "data": {
      "text/plain": [
       "5"
      ]
     },
     "execution_count": 85,
     "metadata": {},
     "output_type": "execute_result"
    }
   ],
   "source": [
    "df['Activity Level'].nunique()"
   ]
  },
  {
   "cell_type": "code",
   "execution_count": 87,
   "id": "4b3255c4-99bc-44e1-a685-7ce1bf4de96d",
   "metadata": {},
   "outputs": [
    {
     "data": {
      "text/plain": [
       "array(['Moderately Active', 'Lightly Active', 'Sedentary', 'Very Active',\n",
       "       'Extremely Active'], dtype=object)"
      ]
     },
     "execution_count": 87,
     "metadata": {},
     "output_type": "execute_result"
    }
   ],
   "source": [
    "df['Activity Level'].unique()"
   ]
  },
  {
   "cell_type": "markdown",
   "id": "d1394bfa-f04c-4a33-8e52-eecaa3969f72",
   "metadata": {},
   "source": [
    "### Dietary Preference"
   ]
  },
  {
   "cell_type": "code",
   "execution_count": 91,
   "id": "76899849-1763-4ba4-8319-0ad1aea63bc9",
   "metadata": {},
   "outputs": [
    {
     "data": {
      "text/plain": [
       "4"
      ]
     },
     "execution_count": 91,
     "metadata": {},
     "output_type": "execute_result"
    }
   ],
   "source": [
    "df['Dietary Preference'].nunique()"
   ]
  },
  {
   "cell_type": "code",
   "execution_count": 93,
   "id": "29a3706e-b8f2-4cbd-a17d-cb5d392c26a5",
   "metadata": {},
   "outputs": [
    {
     "data": {
      "text/plain": [
       "array(['Omnivore', 'Vegetarian', 'Vegan', 'Pescatarian'], dtype=object)"
      ]
     },
     "execution_count": 93,
     "metadata": {},
     "output_type": "execute_result"
    }
   ],
   "source": [
    "df['Dietary Preference'].unique()"
   ]
  },
  {
   "cell_type": "markdown",
   "id": "41ba53f6-f634-4eb9-b0f6-01d7ea9a6410",
   "metadata": {},
   "source": [
    "### Daily Calories Target"
   ]
  },
  {
   "cell_type": "code",
   "execution_count": 6,
   "id": "d0a4b6bb-241a-4d94-9a3f-3be76fed9e78",
   "metadata": {},
   "outputs": [
    {
     "data": {
      "text/plain": [
       "0    2000\n",
       "1    1600\n",
       "2    2200\n",
       "3    2500\n",
       "4    2000\n",
       "Name: Daily Calorie Target, dtype: int64"
      ]
     },
     "execution_count": 6,
     "metadata": {},
     "output_type": "execute_result"
    }
   ],
   "source": [
    "df['Daily Calorie Target'].head()"
   ]
  },
  {
   "cell_type": "code",
   "execution_count": 8,
   "id": "0ecab3a1-a848-4418-a6a4-4dcfc9f6cc9e",
   "metadata": {},
   "outputs": [
    {
     "data": {
      "text/plain": [
       "895"
      ]
     },
     "execution_count": 8,
     "metadata": {},
     "output_type": "execute_result"
    }
   ],
   "source": [
    "df['Daily Calorie Target'].nunique()"
   ]
  },
  {
   "cell_type": "code",
   "execution_count": 10,
   "id": "41f95d81-3159-4972-b13a-5581a762704b",
   "metadata": {},
   "outputs": [
    {
     "data": {
      "text/plain": [
       "array([2000, 1600, 2200, 2500, 1800, 3000, 2400, 3200, 1900, 2800, 1400,\n",
       "       1500, 1700, 2600, 2100, 2300, 3500, 1200, 2368, 2707, 1602, 1886,\n",
       "       2846, 1802, 2275, 1954, 1636, 2619, 2912, 1508, 1766, 2286, 1616,\n",
       "       2229, 1944, 1859, 2289, 2953, 1650, 2784, 2466, 2189, 2406, 1594,\n",
       "       2336, 1922, 2754, 2243, 1569, 2702, 1696, 1846, 2262, 2482, 2786,\n",
       "       2292, 2111, 2327, 2682, 1703, 2562, 1537, 2241, 2489, 2928, 2352,\n",
       "       2383, 2611, 1599, 2123, 2104, 1604, 1656, 2016, 2174, 2061, 2415,\n",
       "       2817, 2902, 1673, 1657, 2287, 2576, 2372, 2606, 1856, 2686, 2798,\n",
       "       2925, 2826, 2180, 1839, 1817, 1598, 2764, 1806, 1567, 2704, 2158,\n",
       "       1962, 2624, 2003, 2114, 1587, 2981, 1566, 2210, 2342, 2857, 2428,\n",
       "       2150, 1975, 1847, 1974, 2749, 1549, 2640, 2237, 1644, 2014, 2248,\n",
       "       1512, 2131, 2442, 1595, 2904, 2751, 1858, 2965, 2729, 2571, 2669,\n",
       "       1699, 2985, 1738, 2235, 2805, 1560, 1842, 2294, 2876, 2874, 2135,\n",
       "       1707, 2862, 1850, 2708, 1630, 2130, 2391, 2493, 2700, 1511, 2845,\n",
       "       2719, 1671, 1541, 2347, 1637, 1888, 2895, 1574, 1884, 2365, 2214,\n",
       "       1612, 2887, 2815, 2988, 2284, 2171, 2910, 1661, 1916, 2558, 2361,\n",
       "       1873, 2093, 2920, 2650, 1530, 1503, 2645, 2216, 2175, 2273, 1890,\n",
       "       1719, 2443, 2358, 1701, 2550, 1526, 2446, 2192, 2638, 1761, 2039,\n",
       "       2077, 1986, 1686, 2943, 2931, 2716, 2888, 1881, 2585, 2831, 2593,\n",
       "       1578, 1964, 2355, 2868, 1540, 2457, 2253, 2521, 2978, 1570, 1914,\n",
       "       1966, 2159, 2777, 1967, 2641, 2801, 1597, 2509, 2945, 2957, 2680,\n",
       "       2508, 1718, 1752, 1777, 1780, 1879, 2259, 2037, 2377, 2544, 1666,\n",
       "       2478, 1568, 2636, 2012, 2785, 2712, 2166, 2142, 1517, 2986, 1861,\n",
       "       2084, 2047, 1590, 2922, 2332, 2065, 2246, 2353, 2767, 2649, 2781,\n",
       "       1848, 1721, 2195, 2023, 2905, 1810, 1723, 1867, 2517, 2654, 2099,\n",
       "       1510, 2005, 1550, 1778, 2390, 1516, 1522, 2110, 1655, 2412, 1958,\n",
       "       2362, 2948, 2899, 2281, 2282, 2713, 2178, 2634, 2323, 2807, 1762,\n",
       "       2739, 2834, 1920, 2898, 1532, 2692, 2421, 1942, 2533, 2433, 2430,\n",
       "       2165, 2587, 1943, 2128, 2737, 2816, 1573, 1740, 1824, 2684, 1705,\n",
       "       1704, 2089, 2961, 2759, 1641, 2977, 2530, 2230, 1692, 2408, 2477,\n",
       "       2264, 2672, 2288, 2256, 2344, 2060, 1634, 2405, 2879, 2219, 1874,\n",
       "       2974, 2633, 1658, 2132, 2381, 1901, 1697, 2822, 2771, 2607, 2081,\n",
       "       1690, 2160, 1969, 1505, 2573, 2411, 1548, 1539, 2775, 1982, 2921,\n",
       "       1622, 2556, 2535, 2885, 2321, 2306, 1582, 1869, 2511, 2455, 1748,\n",
       "       2933, 2882, 1741, 2315, 2625, 2255, 2843, 2901, 2006, 2538, 2720,\n",
       "       2227, 2747, 1739, 1605, 1953, 2534, 2432, 1854, 1814, 2842, 2449,\n",
       "       2467, 1792, 2295, 2814, 2042, 2605, 2418, 1531, 1619, 2498, 2979,\n",
       "       2527, 2913, 2139, 2690, 1746, 2982, 2240, 2437, 2188, 2147, 1523,\n",
       "       1949, 2841, 1872, 2738, 2813, 2880, 2117, 1736, 2760, 2776, 2721,\n",
       "       2107, 2502, 3525, 1245, 2236, 2015, 3046, 2220, 3164, 1999, 2217,\n",
       "       1828, 2021, 2247, 2395, 3654, 3043, 1344, 3133, 2357, 2741, 2646,\n",
       "       1246, 3159, 1408, 3605, 2456, 2086, 2766, 1296, 2270, 3063, 2722,\n",
       "       3484, 3580, 2317, 2152, 1908, 2566, 3416, 4029, 2652, 2120, 3165,\n",
       "       3350, 3059, 2176, 1695, 1831, 3115, 2526, 1433, 2631, 3511, 4364,\n",
       "       2064, 1615, 2663, 3064, 2501, 1875, 2116, 1359, 3592, 3599, 2926,\n",
       "       3081, 1554, 2359, 2545, 1528, 2145, 2059, 3437, 3986, 2959, 2850,\n",
       "       2465, 1965, 1256, 1427, 3719, 2852, 3005, 1992, 2930, 3406, 2993,\n",
       "       2424, 2717, 1343, 1877, 2031, 2445, 1565, 2894, 2088, 1316, 1525,\n",
       "       3161, 2363, 1917, 2441, 2564, 3195, 1642, 1912, 3324, 2312, 1773,\n",
       "       2858, 2318, 2909, 1478, 1513, 2068, 1691, 2348, 2043, 3507, 2436,\n",
       "       2438, 1918, 1208, 2182, 2337, 3167, 1434, 2017, 1534, 1349, 4057,\n",
       "       3014, 3361, 1348, 3174, 3137, 3381, 3456, 1956, 2024, 1388, 1618,\n",
       "       1921, 1993, 2835, 2662, 1694, 2929, 3240, 3235, 1672, 3498, 3038,\n",
       "       2305, 3243, 3131, 2976, 2085, 3245, 2371, 1864, 3330, 4307, 2125,\n",
       "       2027, 2414, 2495, 2156, 1763, 2553, 2703, 2667, 2602, 2555, 3691,\n",
       "       2518, 1275, 2399, 1720, 3389, 2367, 2124, 2316, 3378, 2201, 2473,\n",
       "       3048, 2231, 2030, 3343, 3489, 3357, 2710, 1710, 2604, 2090, 1998,\n",
       "       2447, 2596, 1357, 2578, 1477, 2469, 3278, 2303, 3345, 2238, 2543,\n",
       "       3108, 1308, 2613, 1712, 2440, 2325, 1442, 3078, 1897, 2121, 2995,\n",
       "       2008, 2796, 2936, 2091, 2118, 3317, 3152, 3364, 2335, 2143, 3130,\n",
       "       2338, 2512, 2819, 3182, 2320, 3450, 1688, 2565, 2396, 1891, 1724,\n",
       "       1811, 2753, 1840, 2076, 1588, 2661, 2583, 1819, 1432, 3348, 1714,\n",
       "       3388, 3390, 1410, 2277, 2840, 1633, 1303, 2480, 1603, 1640, 2280,\n",
       "       2394, 2054, 3355, 2620, 2668, 2872, 1973, 1471, 2157, 3460, 2897,\n",
       "       1390, 2917, 2471, 2890, 3765, 1803, 2588, 1782, 2379, 3638, 1805,\n",
       "       3113, 1717, 2960, 2113, 3332, 2392, 1639, 3103, 3008, 1885, 2907,\n",
       "       2851, 2824, 2608, 1435, 3414, 2919, 2787, 1911, 2067, 1515, 1667,\n",
       "       1813, 2127, 1972, 2651, 1250, 1449, 1837, 2838, 3102, 2051, 3502,\n",
       "       1770, 3012, 2122, 3068, 2413, 3114, 2664, 2058, 1940, 2506, 2855,\n",
       "       2537, 1645, 3370, 1499, 1971, 1930, 2656, 3090, 3218, 2569, 2083,\n",
       "       1219, 1812, 3421, 1416, 2179, 3607, 1947, 1683, 2492, 3034, 1536,\n",
       "       1725, 1876, 2782, 3267, 2647, 2551, 1951, 2376, 2109, 1273, 3452,\n",
       "       3857, 1464, 3264, 2484, 3156, 2932, 3076, 3203, 2458, 2218, 2732,\n",
       "       2278, 2388, 3743, 3545, 2055, 1852, 3263, 2148, 2598, 2745, 3504,\n",
       "       1341, 2472, 3482, 2319, 3369, 2896, 1394, 3740, 1571, 1609, 2096,\n",
       "       1783, 3641, 2679, 1651, 2844, 2261, 1801, 1865, 2293, 3307, 3029,\n",
       "       2900, 1564, 2063, 1454, 2648, 1827, 2557, 3241, 1366, 1961, 2119,\n",
       "       3106, 2435, 2626, 3180, 1878, 4053, 1774, 1677, 1519, 1997, 2052,\n",
       "       3262, 2755, 1624, 3006, 1987, 3684, 2339, 1931, 2542, 3305, 2772,\n",
       "       3792, 2973, 2757, 2297, 2427, 1960, 2758, 3028, 1851, 2129, 1238,\n",
       "       2658, 1731, 2639, 2032, 2001, 2603, 3383, 3197, 2726, 1258, 2849,\n",
       "       1687, 3513, 1265, 3329], dtype=int64)"
      ]
     },
     "execution_count": 10,
     "metadata": {},
     "output_type": "execute_result"
    }
   ],
   "source": [
    "df['Daily Calorie Target'].unique()"
   ]
  },
  {
   "cell_type": "code",
   "execution_count": 12,
   "id": "72773bdc-b358-4c89-85b7-182b67866592",
   "metadata": {},
   "outputs": [
    {
     "data": {
      "text/plain": [
       "1200"
      ]
     },
     "execution_count": 12,
     "metadata": {},
     "output_type": "execute_result"
    }
   ],
   "source": [
    "df['Daily Calorie Target'].min()"
   ]
  },
  {
   "cell_type": "code",
   "execution_count": 14,
   "id": "d1cdedcf-8da8-4142-a47a-67e25598cae0",
   "metadata": {},
   "outputs": [
    {
     "data": {
      "text/plain": [
       "4364"
      ]
     },
     "execution_count": 14,
     "metadata": {},
     "output_type": "execute_result"
    }
   ],
   "source": [
    "df['Daily Calorie Target'].max()"
   ]
  },
  {
   "cell_type": "markdown",
   "id": "8422a0a4-a532-40cf-8854-aa514ff4b019",
   "metadata": {},
   "source": [
    "### Protein"
   ]
  },
  {
   "cell_type": "code",
   "execution_count": 24,
   "id": "b37ae591-3917-4df9-aabb-d85590f2d954",
   "metadata": {},
   "outputs": [
    {
     "data": {
      "text/plain": [
       "0    120\n",
       "1     80\n",
       "2    100\n",
       "3    140\n",
       "4     80\n",
       "Name: Protein, dtype: int64"
      ]
     },
     "execution_count": 24,
     "metadata": {},
     "output_type": "execute_result"
    }
   ],
   "source": [
    "df['Protein'].head()"
   ]
  },
  {
   "cell_type": "code",
   "execution_count": 26,
   "id": "3b1f45d7-4d3b-49c6-b9f2-50b5900b487e",
   "metadata": {},
   "outputs": [
    {
     "data": {
      "text/plain": [
       "array([120,  80, 100, 140,  70, 180, 160,  75, 150, 110,  65, 200,  55,\n",
       "       130,  90, 170,  85,  60, 220,  95,  50, 125, 115, 175, 102, 144,\n",
       "       174,  79, 161, 105, 166, 103,  76,  82,  68, 163, 173,  88, 141,\n",
       "       132, 145, 178,  66, 146, 101,  96, 106,  83, 107,  51, 151, 133,\n",
       "        84,  99, 128, 136, 171, 167,  89, 168,  59, 149, 108, 172, 131,\n",
       "        63,  72, 127, 169, 116,  87,  74, 113, 152, 135,  61, 177,  53,\n",
       "        77, 176,  73, 109,  52, 153, 117, 139,  62,  58,  78, 123, 147,\n",
       "       114,  97,  94, 124,  54,  56, 158, 143, 126,  98, 112,  91, 156,\n",
       "       118,  86, 129,  92, 154, 119,  67,  57,  64, 104, 148, 142, 138,\n",
       "        93,  69, 121, 111, 164, 122, 155, 157, 134, 159,  71, 179, 165,\n",
       "       137, 162, 187, 264, 228, 237, 274, 234, 205, 198, 236, 192, 270,\n",
       "       184, 207, 206, 229, 204, 261, 186, 268, 217, 256, 302, 251, 233,\n",
       "       189, 197, 263, 194, 327, 199, 269, 219, 231, 190, 257, 298, 221,\n",
       "       213, 278, 225, 255, 224, 181, 203, 183, 239, 202, 249, 214, 218,\n",
       "       182, 304, 226, 252, 238, 235, 253, 259, 212, 243, 242, 262, 227,\n",
       "       223, 188, 323, 191, 195, 276, 254, 185, 250, 208, 193, 245, 230,\n",
       "       209, 248, 211, 258, 216, 201, 210, 196, 215, 282, 272, 222, 232,\n",
       "       241, 289, 244, 240, 280, 265, 273, 303, 247, 284], dtype=int64)"
      ]
     },
     "execution_count": 26,
     "metadata": {},
     "output_type": "execute_result"
    }
   ],
   "source": [
    "df['Protein'].unique()"
   ]
  },
  {
   "cell_type": "code",
   "execution_count": 28,
   "id": "cd8d7685-c9cd-470c-8eab-8558f2b880a2",
   "metadata": {},
   "outputs": [
    {
     "data": {
      "text/plain": [
       "231"
      ]
     },
     "execution_count": 28,
     "metadata": {},
     "output_type": "execute_result"
    }
   ],
   "source": [
    "df['Protein'].nunique()"
   ]
  },
  {
   "cell_type": "code",
   "execution_count": 30,
   "id": "ad0b7bb0-2e79-4384-a70f-6368608796c6",
   "metadata": {},
   "outputs": [
    {
     "data": {
      "text/plain": [
       "50"
      ]
     },
     "execution_count": 30,
     "metadata": {},
     "output_type": "execute_result"
    }
   ],
   "source": [
    "df['Protein'].min()"
   ]
  },
  {
   "cell_type": "code",
   "execution_count": 32,
   "id": "e8a9719e-210d-4055-bb9b-5c2fff0dd2ca",
   "metadata": {},
   "outputs": [
    {
     "data": {
      "text/plain": [
       "327"
      ]
     },
     "execution_count": 32,
     "metadata": {},
     "output_type": "execute_result"
    }
   ],
   "source": [
    "df['Protein'].max()"
   ]
  },
  {
   "cell_type": "markdown",
   "id": "1dc8fb8c-e088-4441-a004-61c1f15dad59",
   "metadata": {},
   "source": [
    "### Sugar"
   ]
  },
  {
   "cell_type": "code",
   "execution_count": 38,
   "id": "e08f341f-9dea-4938-9dcd-b96efc4d0b3f",
   "metadata": {},
   "outputs": [
    {
     "data": {
      "text/plain": [
       "0    125.0\n",
       "1    100.0\n",
       "2    150.0\n",
       "3    175.0\n",
       "4    125.0\n",
       "Name: Sugar, dtype: float64"
      ]
     },
     "execution_count": 38,
     "metadata": {},
     "output_type": "execute_result"
    }
   ],
   "source": [
    "df['Sugar'].head()"
   ]
  },
  {
   "cell_type": "code",
   "execution_count": 40,
   "id": "2a258f2b-4cb4-4e19-83d5-c09c76725660",
   "metadata": {},
   "outputs": [
    {
     "data": {
      "text/plain": [
       "array([125. , 100. , 150. , 175. , 110. , 200. , 115. ,  90. , 140. ,\n",
       "       160. , 120. ,  75. ,  95. , 135. ,  80. ,  85. , 130. , 190. ,\n",
       "        65. , 105. ,  70. , 112.5, 137.5,  92.5,  60. ,  87.5, 187.5,\n",
       "        97. , 165. ,  80.5, 158. , 176.5,  85.5,  99.5, 103.5, 173.5,\n",
       "       189.5, 199.5, 157.5, 102.5, 186.5, 164. , 142.5, 153. ,  81. ,\n",
       "       117. , 184. , 112. , 128.5, 105.5, 113.5, 181. , 114.5, 197.5,\n",
       "       127.5,  88. , 162. , 181.5, 131.5, 155. , 194.5, 133.5, 157. ,\n",
       "       154. ,  83. ,  99. , 185. , 163. , 132. , 135.5, 155.5,  93.5,\n",
       "       119.5, 120.5, 170. ,  93. ,  76. ,  89. , 159. ,  79.5, 161.5,\n",
       "       107. , 150.5, 113. , 126. , 122. , 103. , 110.5, 162.5, 183.5,\n",
       "       152.5, 142. , 167. ,  94. , 144. , 146.5,  82.5, 160.5, 124. ,\n",
       "        98.5, 195. , 166. ,  95.5, 185.5, 156.5,  91.5, 145. , 149.5,\n",
       "       127. , 129.5,  96. , 139.5, 180. , 141.5,  97.5,  81.5, 198.5,\n",
       "       173. , 182.5, 188.5, 174.5, 136.5, 133. , 137. , 172. , 171. ,\n",
       "       184.5, 138.5,  98. ,  78.5, 187. , 118. , 118.5, 102. ,  83.5,\n",
       "       144.5, 193.5, 138. , 129. , 116.5, 189. , 164.5, 122.5, 148. ,\n",
       "       140.5, 199. , 190.5, 180.5, 196.5, 168. , 177. , 197. , 188. ,\n",
       "       130.5,  86. , 192. , 198. ,  75.5, 136. , 139. , 183. ,  87. ,\n",
       "       156. , 186. , 179.5, 195.5,  79. , 192.5,  86.5, 152. , 170.5,\n",
       "       106.5,  88.5, 101.5, 178.5,  78. , 109.5, 108.5, 143.5, 153.5,\n",
       "       123. , 193. , 134.5,  92. ,  89.5, 176. , 175.5, 123.5, 177.5,\n",
       "       194. , 128. , 104.5, 172.5, 124.5, 151. , 141. , 169.5, 196. ,\n",
       "       147. , 101. , 169. , 106. , 143. , 163.5, 108. , 109. , 125.5,\n",
       "       114. , 131. , 147.5, 111.5,  91. , 121. , 167.5,  96.5, 191. ,\n",
       "       158.5, 191.5, 100.5, 107.5,  77. ,  62. , 111. ,  67. , 117.5,\n",
       "       104. ,  64.5, 174. , 179. , 115.5, 201. , 132.5,  84.5,  71.5,\n",
       "       218. ,  67.5, 146. ,  77.5, 171.5,  62.5,  71. ,  94.5,  65.5,\n",
       "       116. , 159.5,  82. ,  73.5, 121.5,  76.5, 202.5,  69. , 151.5,\n",
       "       148.5, 166.5, 215. ,  84. ,  63.5, 168.5,  72. , 165.5,  90.5,\n",
       "       134. ,  70.5,  69.5, 145.5, 126.5,  74.5, 154.5,  60.5,  73. ,\n",
       "       119. , 182. ,  72.5,  68. ,  61.5,  63. ])"
      ]
     },
     "execution_count": 40,
     "metadata": {},
     "output_type": "execute_result"
    }
   ],
   "source": [
    "df['Sugar'].unique()"
   ]
  },
  {
   "cell_type": "code",
   "execution_count": 42,
   "id": "a4c478ee-b605-40ae-ba50-fb0c6b175a72",
   "metadata": {},
   "outputs": [
    {
     "data": {
      "text/plain": [
       "276"
      ]
     },
     "execution_count": 42,
     "metadata": {},
     "output_type": "execute_result"
    }
   ],
   "source": [
    "df['Sugar'].nunique()"
   ]
  },
  {
   "cell_type": "code",
   "execution_count": 44,
   "id": "ec30df54-9d74-4d62-babe-66ff36a9aea4",
   "metadata": {},
   "outputs": [
    {
     "data": {
      "text/plain": [
       "60.0"
      ]
     },
     "execution_count": 44,
     "metadata": {},
     "output_type": "execute_result"
    }
   ],
   "source": [
    "df['Sugar'].min()"
   ]
  },
  {
   "cell_type": "code",
   "execution_count": 46,
   "id": "80871dab-9f18-493a-8d8a-ab2679c3ffb2",
   "metadata": {},
   "outputs": [
    {
     "data": {
      "text/plain": [
       "218.0"
      ]
     },
     "execution_count": 46,
     "metadata": {},
     "output_type": "execute_result"
    }
   ],
   "source": [
    "df['Sugar'].max()"
   ]
  },
  {
   "cell_type": "markdown",
   "id": "70b1b775-d643-4aca-98f7-1b0e70aae6d1",
   "metadata": {},
   "source": [
    "### Sodium"
   ]
  },
  {
   "cell_type": "code",
   "execution_count": 50,
   "id": "a552caad-db70-41fd-b023-d33f027feef7",
   "metadata": {},
   "outputs": [
    {
     "data": {
      "text/plain": [
       "0    24.0\n",
       "1    16.0\n",
       "2    20.0\n",
       "3    28.0\n",
       "4    16.0\n",
       "Name: Sodium, dtype: float64"
      ]
     },
     "execution_count": 50,
     "metadata": {},
     "output_type": "execute_result"
    }
   ],
   "source": [
    "df['Sodium'].head()"
   ]
  },
  {
   "cell_type": "code",
   "execution_count": 52,
   "id": "09e5af43-a85b-4a10-96ad-ea6960a4b5c1",
   "metadata": {},
   "outputs": [
    {
     "data": {
      "text/plain": [
       "array([24. , 16. , 20. , 28. , 14. , 36. , 32. , 15. , 30. , 22. , 13. ,\n",
       "       40. , 11. , 26. , 18. , 34. , 17. , 12. , 44. , 19. , 10. , 25. ,\n",
       "       23. , 35. , 20.4, 28.8, 34.8, 15.8, 32.2, 21. , 33.2, 20.6, 15.2,\n",
       "       16.4, 13.6, 32.6, 34.6, 17.6, 28.2, 26.4, 29. , 35.6, 13.2, 29.2,\n",
       "       20.2, 19.2, 21.2, 16.6, 21.4, 10.2, 30.2, 26.6, 16.8, 19.8, 25.6,\n",
       "       27.2, 34.2, 33.4, 17.8, 33.6, 11.8, 29.8, 21.6, 34.4, 26.2, 12.6,\n",
       "       14.4, 25.4, 33.8, 23.2, 17.4, 14.8, 22.6, 30.4, 27. , 12.2, 35.4,\n",
       "       10.6, 15.4, 35.2, 14.6, 21.8, 10.4, 30.6, 23.4, 27.8, 12.4, 11.6,\n",
       "       15.6, 24.6, 29.4, 22.8, 19.4, 18.8, 24.8, 10.8, 11.2, 31.6, 28.6,\n",
       "       25.2, 19.6, 22.4, 18.2, 31.2, 23.6, 17.2, 25.8, 18.4, 30.8, 23.8,\n",
       "       13.4, 11.4, 12.8, 20.8, 29.6, 28.4, 27.6, 18.6, 13.8, 24.2, 22.2,\n",
       "       32.8, 24.4, 31. , 31.4, 26.8, 31.8, 14.2, 35.8, 33. , 27.4, 32.4,\n",
       "       37.4, 52.8, 45.6, 47.4, 54.8, 46.8, 41. , 39.6, 47.2, 38.4, 54. ,\n",
       "       36.8, 41.4, 41.2, 45.8, 40.8, 52.2, 37.2, 53.6, 43.4, 51.2, 60.4,\n",
       "       50.2, 46.6, 37.8, 39.4, 52.6, 38.8, 65.4, 39.8, 53.8, 43.8, 46.2,\n",
       "       38. , 51.4, 59.6, 44.2, 42.6, 55.6, 45. , 51. , 44.8, 36.2, 40.6,\n",
       "       36.6, 47.8, 40.4, 49.8, 42.8, 43.6, 36.4, 60.8, 45.2, 50.4, 47.6,\n",
       "       47. , 50.6, 51.8, 42.4, 48.6, 48.4, 52.4, 45.4, 44.6, 37.6, 64.6,\n",
       "       38.2, 39. , 55.2, 50.8, 37. , 50. , 41.6, 38.6, 49. , 46. , 41.8,\n",
       "       49.6, 42.2, 51.6, 43.2, 40.2, 42. , 39.2, 43. , 56.4, 54.4, 44.4,\n",
       "       46.4, 48.2, 57.8, 48.8, 48. , 56. , 53. , 54.6, 60.6, 49.4, 56.8])"
      ]
     },
     "execution_count": 52,
     "metadata": {},
     "output_type": "execute_result"
    }
   ],
   "source": [
    "df['Sodium'].unique()"
   ]
  },
  {
   "cell_type": "code",
   "execution_count": 54,
   "id": "a55bd44b-ce16-4a6c-aff4-1e34c5ae7bff",
   "metadata": {},
   "outputs": [
    {
     "data": {
      "text/plain": [
       "231"
      ]
     },
     "execution_count": 54,
     "metadata": {},
     "output_type": "execute_result"
    }
   ],
   "source": [
    "df['Sodium'].nunique()"
   ]
  },
  {
   "cell_type": "code",
   "execution_count": 56,
   "id": "56e094e6-382b-42e0-9fc0-80e42d46597e",
   "metadata": {},
   "outputs": [
    {
     "data": {
      "text/plain": [
       "10.0"
      ]
     },
     "execution_count": 56,
     "metadata": {},
     "output_type": "execute_result"
    }
   ],
   "source": [
    "df['Sodium'].min()"
   ]
  },
  {
   "cell_type": "code",
   "execution_count": 58,
   "id": "affd348c-78e0-4935-8486-cdbd7bf36ccc",
   "metadata": {},
   "outputs": [
    {
     "data": {
      "text/plain": [
       "65.4"
      ]
     },
     "execution_count": 58,
     "metadata": {},
     "output_type": "execute_result"
    }
   ],
   "source": [
    "df['Sodium'].max()"
   ]
  },
  {
   "cell_type": "markdown",
   "id": "6c60cf6b-ae29-436b-ab36-9e1c42e2f918",
   "metadata": {},
   "source": [
    "### Calories"
   ]
  },
  {
   "cell_type": "code",
   "execution_count": 60,
   "id": "ba672d17-7f85-43f7-aaa3-88f5bd8ba284",
   "metadata": {},
   "outputs": [
    {
     "data": {
      "text/plain": [
       "0    2020\n",
       "1    1480\n",
       "2    2185\n",
       "3    2680\n",
       "4    1815\n",
       "Name: Calories, dtype: int64"
      ]
     },
     "execution_count": 60,
     "metadata": {},
     "output_type": "execute_result"
    }
   ],
   "source": [
    "df['Calories'].head()"
   ]
  },
  {
   "cell_type": "code",
   "execution_count": 62,
   "id": "e8da51b7-6276-4415-a325-231767b12176",
   "metadata": {},
   "outputs": [
    {
     "data": {
      "text/plain": [
       "array([2020, 1480, 2185, 2680, 1815, 1565, 2840, 2220, 3005, 1670, 2230,\n",
       "       2520, 1650, 3100, 1940, 2850, 1400, 1850, 2760, 2140, 2470, 1890,\n",
       "       1315, 3130, 1810, 1660, 2320, 1430, 2900, 1180, 2030, 1490, 1990,\n",
       "       1780, 1740, 1770, 1570, 2065, 2810, 2640, 2395, 2355, 1945, 1730,\n",
       "       2390, 1320, 1530, 1830, 3010, 1410, 2270, 2060, 2110, 2400, 2940,\n",
       "       3050, 2310, 1280, 2720, 2920, 1550, 2190, 2340, 1610, 2045, 2100,\n",
       "       2150, 1640, 2350, 1190, 2300, 1860, 1240, 1545, 2475, 1380, 2930,\n",
       "       1405, 2430, 1115, 1655, 2560, 1900, 1260, 2690, 1820, 1360, 2070,\n",
       "       1690, 1805, 1825, 3390, 1930, 2770, 1450, 1200, 2650, 1345, 1950,\n",
       "       1150, 1775, 3140, 1870, 2120, 1120, 2040, 1710, 1855, 2910, 2250,\n",
       "       2550, 1980, 3220, 2730, 2890, 1385, 1675, 1325, 1575, 1620, 3210,\n",
       "       3300, 1070, 1305, 2440, 2480, 3020, 1370, 2860, 3320, 2820, 1440,\n",
       "       3040, 1630,  990, 1340, 1300, 1445, 2805, 2610, 1485, 3290, 1832,\n",
       "       1925, 2156, 2902, 1455, 2162, 1717, 2460, 2256, 2428, 2372, 2803,\n",
       "       1496, 2490, 2222, 2352, 1557, 1674, 1999, 2447, 2290, 2197, 2022,\n",
       "       1951, 1625, 2362, 1772, 2533, 1781, 1934, 2313, 2548, 2166, 2181,\n",
       "       2461, 1311, 1917, 2703, 2218, 2219, 2782, 2199, 1499, 2809, 2133,\n",
       "       1718, 2404, 2194, 1785, 2671, 2463, 1812, 2491, 2209, 1927, 2239,\n",
       "       1401, 2130, 2665, 1608, 1932, 2160, 1436, 2293, 2213, 2419, 1731,\n",
       "       2083, 2075, 2018, 1963, 1891, 1732, 2258, 2118, 2601, 1707, 2275,\n",
       "       1887, 1487, 2280, 2175, 1419, 2448, 2205, 2378, 1795, 2398, 1270,\n",
       "       1658, 1696, 2148, 2029, 2315, 2374, 1394, 2180, 1874, 2696, 1915,\n",
       "       2200, 1949, 1769, 1705, 2347, 2076, 1984, 1644, 1773, 2007, 1896,\n",
       "       1319, 1743, 1685, 2476, 2221, 2264, 1569, 2306, 2592, 2178, 2179,\n",
       "       2261, 2506, 2279, 2399, 2212, 1297, 2137, 2586, 1883, 2673, 2145,\n",
       "       1826, 2096, 1739, 1991, 2865, 2294, 1666, 2227, 1784, 2824, 2510,\n",
       "       1924, 1811, 1982, 2565, 2360, 2208, 2462, 2997, 2453, 2237, 2751,\n",
       "       2699, 2079, 2539, 2579, 2393, 2121, 2073, 2669, 2144, 2507, 2436,\n",
       "       1328, 2176, 2732, 2588, 1942, 2016, 1844, 2157, 2847, 1451, 2429,\n",
       "       2933, 1653, 2452, 2253, 2631, 1421, 1765, 1515, 2021, 1936, 1520,\n",
       "       1426, 2203, 2957, 2551, 2768, 2304, 1926, 2229, 2477, 2319, 2474,\n",
       "       1923, 1768, 1689, 2778, 2535, 2418, 1764, 1959, 1594, 2287, 1976,\n",
       "       2003, 1397, 2248, 2247, 2719, 2341, 1939, 2240, 1518, 1829, 2097,\n",
       "       1751, 1535, 1766, 2815, 2802, 1578, 2354, 2011, 1901, 2644, 1908,\n",
       "       2648, 2024, 1639, 1745, 2503, 2282, 1646, 2346, 1356, 2330, 1634,\n",
       "       2380, 2252, 2177, 2036, 2249, 2124, 1988, 2126, 1698, 2522, 1977,\n",
       "       2516, 1789, 2790, 1946, 2195, 2694, 2188, 2104, 1680, 2049, 2757,\n",
       "       2272, 2071, 2484, 1889, 1364, 2117, 2928, 2444, 2223, 2438, 2454,\n",
       "       1920, 2345, 1898, 2098, 2146, 1857, 2192, 2392, 1609, 1271, 1833,\n",
       "       2202, 1714, 2377, 2903, 1611, 2615, 2649, 2284, 1919, 2573, 2273,\n",
       "       1420, 2187, 1621, 1623, 2670, 1828, 1899, 1947, 1388, 1551, 2652,\n",
       "       2825, 2459, 2859, 2761, 2594, 2283, 2087, 2375, 2695, 2984, 2276,\n",
       "       2712, 2056, 1983, 2063, 2324, 2116, 1906, 2216, 1905, 1654, 2343,\n",
       "       2189, 2335, 2059, 2358, 2800, 2376, 2441, 2052, 2149, 2569, 2501,\n",
       "       1911, 2567, 2667, 1742, 2628, 1904, 1716, 2336, 2342, 2686, 2498,\n",
       "       2511, 1956, 1379, 1750, 2754, 2401, 1944, 1878, 1671, 1663, 1486,\n",
       "       2955, 1852, 2131, 1986, 1921, 2423, 2125, 2068, 2425, 1804, 2325,\n",
       "       2308, 1468, 2092, 2067, 2798, 1337, 1307, 1507, 2260, 2163, 2822,\n",
       "       1708, 2241, 2495, 2328, 1554, 1894, 1849, 3113, 2234, 3517, 1237,\n",
       "       2226, 3037, 3157, 1816, 2015, 2383, 3645, 1332, 3124, 2735, 2106,\n",
       "       3149, 1651, 2561, 3600, 2445, 2077, 1291, 2743, 2263, 3058, 2714,\n",
       "       3480, 1957, 3575, 2309, 2251, 2143, 2892, 2557, 3405, 4022, 2114,\n",
       "       3343, 3045, 2168, 1688, 3103, 1506, 1423, 2623, 3509, 2582, 4357,\n",
       "       1605, 1568, 1866, 1349, 3583, 2917, 3074, 1543, 2532, 1514, 2135,\n",
       "       2048, 3426, 3972, 2946, 2458, 1245, 2338, 3703, 3000, 2921, 3397,\n",
       "       2983, 2412, 2706, 2023, 2437, 1560, 1800, 2888, 1303, 2317, 1903,\n",
       "       3186, 2367, 2698, 3314, 1692, 1767, 2851, 2896, 1469, 1845, 1684,\n",
       "       3496, 2172, 1531, 1336, 4051, 3008, 3360, 3165, 3128, 3372, 3451,\n",
       "       1382, 2826, 1597, 3240, 3223, 3488, 3029, 2292, 2971, 2499, 1858,\n",
       "       3327, 4299, 2019, 2408, 1754, 2549, 2656, 2834, 3687, 1266, 3376,\n",
       "       3368, 2466, 3335, 1709, 2081, 3269, 1618, 3099, 1299, 2607, 3066,\n",
       "       1994, 2789, 2925, 3306, 1895, 3178, 3447, 1837, 2069, 1576, 2578,\n",
       "       1808, 2880, 2677, 2797, 3339, 3389, 1407, 1626, 1295, 2938, 2863,\n",
       "       1961, 3455, 1386, 2909, 2884, 3757, 2371, 3629, 2954, 3095, 2818,\n",
       "       2255, 2801, 2776, 1659, 1241, 2044, 3492, 3004, 3062, 2528, 3364,\n",
       "       3087, 3211, 2611, 1208, 3418, 1411, 2487, 2772, 3256, 2102, 1725,\n",
       "       3848, 1452, 3252, 3194, 2727, 2379, 3732, 3538, 1841, 2139, 2288,\n",
       "       1564, 2085, 3637, 1647, 3302, 3016, 1448, 1357, 2731, 1978, 4047,\n",
       "       1771, 3674, 3298, 2764, 3786, 2967, 2416, 1229, 1721, 1258, 1862],\n",
       "      dtype=int64)"
      ]
     },
     "execution_count": 62,
     "metadata": {},
     "output_type": "execute_result"
    }
   ],
   "source": [
    "df['Calories'].unique()"
   ]
  },
  {
   "cell_type": "code",
   "execution_count": 64,
   "id": "e317a77a-ac6a-4320-a9c2-33fbcf4a0344",
   "metadata": {},
   "outputs": [
    {
     "data": {
      "text/plain": [
       "759"
      ]
     },
     "execution_count": 64,
     "metadata": {},
     "output_type": "execute_result"
    }
   ],
   "source": [
    "df['Calories'].nunique()"
   ]
  },
  {
   "cell_type": "code",
   "execution_count": 66,
   "id": "b97feb76-dd6f-4ae2-a4b2-1701f9bade7b",
   "metadata": {},
   "outputs": [
    {
     "data": {
      "text/plain": [
       "990"
      ]
     },
     "execution_count": 66,
     "metadata": {},
     "output_type": "execute_result"
    }
   ],
   "source": [
    "df['Calories'].min()"
   ]
  },
  {
   "cell_type": "code",
   "execution_count": 68,
   "id": "c2f035b1-5bf7-4123-8531-0d765a246780",
   "metadata": {},
   "outputs": [
    {
     "data": {
      "text/plain": [
       "4357"
      ]
     },
     "execution_count": 68,
     "metadata": {},
     "output_type": "execute_result"
    }
   ],
   "source": [
    "df['Calories'].max()"
   ]
  },
  {
   "cell_type": "markdown",
   "id": "6f7140c3-985e-4bf0-9278-f70102dff2fb",
   "metadata": {},
   "source": [
    "### Carbohydrates"
   ]
  },
  {
   "cell_type": "code",
   "execution_count": 71,
   "id": "47da082d-9852-4846-9b22-61904cda4188",
   "metadata": {},
   "outputs": [
    {
     "data": {
      "text/plain": [
       "0    250\n",
       "1    200\n",
       "2    300\n",
       "3    350\n",
       "4    250\n",
       "Name: Carbohydrates, dtype: int64"
      ]
     },
     "execution_count": 71,
     "metadata": {},
     "output_type": "execute_result"
    }
   ],
   "source": [
    "df['Carbohydrates'].head()"
   ]
  },
  {
   "cell_type": "code",
   "execution_count": 73,
   "id": "a23d9a18-b825-4bbe-ab35-d62907d1473a",
   "metadata": {},
   "outputs": [
    {
     "data": {
      "text/plain": [
       "array([250, 200, 300, 350, 220, 400, 230, 180, 280, 320, 240, 150, 190,\n",
       "       270, 160, 170, 260, 380, 130, 210, 140, 225, 275, 185, 120, 175,\n",
       "       375, 194, 330, 161, 316, 353, 171, 199, 207, 347, 379, 399, 315,\n",
       "       205, 373, 328, 285, 306, 162, 234, 368, 224, 257, 211, 227, 362,\n",
       "       229, 395, 255, 176, 324, 363, 263, 310, 389, 267, 314, 308, 166,\n",
       "       198, 370, 326, 264, 271, 311, 187, 239, 241, 340, 186, 152, 178,\n",
       "       318, 159, 323, 214, 301, 226, 252, 244, 206, 221, 325, 367, 305,\n",
       "       284, 334, 188, 288, 293, 165, 321, 248, 197, 390, 332, 191, 371,\n",
       "       313, 183, 290, 299, 254, 259, 192, 279, 360, 283, 195, 163, 397,\n",
       "       346, 365, 377, 349, 273, 266, 274, 344, 342, 369, 277, 196, 157,\n",
       "       374, 236, 237, 204, 167, 289, 387, 276, 258, 233, 378, 329, 245,\n",
       "       296, 281, 398, 381, 361, 393, 336, 354, 394, 376, 261, 172, 384,\n",
       "       396, 151, 272, 278, 366, 174, 312, 372, 359, 391, 158, 385, 173,\n",
       "       304, 341, 213, 177, 203, 357, 156, 219, 217, 287, 307, 246, 386,\n",
       "       269, 184, 179, 352, 351, 247, 355, 388, 256, 209, 345, 249, 302,\n",
       "       282, 339, 392, 294, 202, 338, 212, 286, 327, 216, 218, 251, 228,\n",
       "       262, 295, 223, 182, 242, 335, 193, 382, 317, 383, 201, 215, 154,\n",
       "       124, 222, 134, 235, 208, 129, 348, 358, 231, 402, 265, 169, 143,\n",
       "       436, 135, 292, 155, 343, 125, 142, 189, 131, 232, 319, 164, 147,\n",
       "       243, 153, 405, 138, 303, 297, 333, 430, 168, 127, 337, 144, 331,\n",
       "       181, 268, 141, 139, 291, 253, 149, 309, 121, 146, 238, 364, 145,\n",
       "       136, 123, 126], dtype=int64)"
      ]
     },
     "execution_count": 73,
     "metadata": {},
     "output_type": "execute_result"
    }
   ],
   "source": [
    "df['Carbohydrates'].unique()"
   ]
  },
  {
   "cell_type": "code",
   "execution_count": 75,
   "id": "4d1b9024-9e17-42ff-9d2b-7b24366a36cb",
   "metadata": {},
   "outputs": [
    {
     "data": {
      "text/plain": [
       "276"
      ]
     },
     "execution_count": 75,
     "metadata": {},
     "output_type": "execute_result"
    }
   ],
   "source": [
    "df['Carbohydrates'].nunique()"
   ]
  },
  {
   "cell_type": "code",
   "execution_count": 77,
   "id": "cc2bccf2-3408-4bb3-8973-afdb4b74f9c9",
   "metadata": {},
   "outputs": [
    {
     "data": {
      "text/plain": [
       "120"
      ]
     },
     "execution_count": 77,
     "metadata": {},
     "output_type": "execute_result"
    }
   ],
   "source": [
    "df['Carbohydrates'].min()"
   ]
  },
  {
   "cell_type": "code",
   "execution_count": 79,
   "id": "f3fbab4a-7468-47f5-96bb-acb435adeaeb",
   "metadata": {},
   "outputs": [
    {
     "data": {
      "text/plain": [
       "436"
      ]
     },
     "execution_count": 79,
     "metadata": {},
     "output_type": "execute_result"
    }
   ],
   "source": [
    "df['Carbohydrates'].max()"
   ]
  },
  {
   "cell_type": "markdown",
   "id": "f669b373-47e4-41e1-9b7a-5c2378bb380e",
   "metadata": {},
   "source": [
    "### Fibre"
   ]
  },
  {
   "cell_type": "code",
   "execution_count": 82,
   "id": "9324a6b4-3fbc-4b86-9a11-d517d7bb1b93",
   "metadata": {},
   "outputs": [
    {
     "data": {
      "text/plain": [
       "0    30.0\n",
       "1    24.0\n",
       "2    36.0\n",
       "3    42.0\n",
       "4    30.0\n",
       "Name: Fiber, dtype: float64"
      ]
     },
     "execution_count": 82,
     "metadata": {},
     "output_type": "execute_result"
    }
   ],
   "source": [
    "df['Fiber'].head()"
   ]
  },
  {
   "cell_type": "code",
   "execution_count": 84,
   "id": "10a79600-4c9e-4a24-bf25-7daf0b028e8d",
   "metadata": {},
   "outputs": [
    {
     "data": {
      "text/plain": [
       "array([30.  , 24.  , 36.  , 42.  , 26.4 , 48.  , 27.6 , 21.6 , 33.6 ,\n",
       "       38.4 , 28.8 , 18.  , 22.8 , 32.4 , 19.2 , 20.4 , 31.2 , 45.6 ,\n",
       "       15.6 , 25.2 , 16.8 , 27.  , 33.  , 22.2 , 14.4 , 21.  , 45.  ,\n",
       "       23.28, 39.6 , 19.32, 37.92, 42.36, 20.52, 23.88, 24.84, 41.64,\n",
       "       45.48, 47.88, 37.8 , 24.6 , 44.76, 39.36, 34.2 , 36.72, 19.44,\n",
       "       28.08, 44.16, 26.88, 30.84, 25.32, 27.24, 43.44, 27.48, 47.4 ,\n",
       "       30.6 , 21.12, 38.88, 43.56, 31.56, 37.2 , 46.68, 32.04, 37.68,\n",
       "       36.96, 19.92, 23.76, 44.4 , 39.12, 31.68, 32.52, 37.32, 22.44,\n",
       "       28.68, 28.92, 40.8 , 22.32, 18.24, 21.36, 38.16, 19.08, 38.76,\n",
       "       25.68, 36.12, 27.12, 30.24, 29.28, 24.72, 26.52, 39.  , 44.04,\n",
       "       36.6 , 34.08, 40.08, 22.56, 34.56, 35.16, 19.8 , 38.52, 29.76,\n",
       "       23.64, 46.8 , 39.84, 22.92, 44.52, 37.56, 21.96, 34.8 , 35.88,\n",
       "       30.48, 31.08, 23.04, 33.48, 43.2 , 33.96, 23.4 , 19.56, 47.64,\n",
       "       41.52, 43.8 , 45.24, 41.88, 32.76, 31.92, 32.88, 41.28, 41.04,\n",
       "       44.28, 33.24, 23.52, 18.84, 44.88, 28.32, 28.44, 24.48, 20.04,\n",
       "       34.68, 46.44, 33.12, 30.96, 27.96, 45.36, 39.48, 29.4 , 35.52,\n",
       "       33.72, 47.76, 45.72, 43.32, 47.16, 40.32, 42.48, 47.28, 45.12,\n",
       "       31.32, 20.64, 46.08, 47.52, 18.12, 32.64, 33.36, 43.92, 20.88,\n",
       "       37.44, 44.64, 43.08, 46.92, 18.96, 46.2 , 20.76, 36.48, 40.92,\n",
       "       25.56, 21.24, 24.36, 42.84, 18.72, 26.28, 26.04, 34.44, 36.84,\n",
       "       29.52, 46.32, 32.28, 22.08, 21.48, 42.24, 42.12, 29.64, 42.6 ,\n",
       "       46.56, 30.72, 25.08, 41.4 , 29.88, 36.24, 33.84, 40.68, 47.04,\n",
       "       35.28, 24.24, 40.56, 25.44, 34.32, 39.24, 25.92, 26.16, 30.12,\n",
       "       27.36, 31.44, 35.4 , 26.76, 21.84, 29.04, 40.2 , 23.16, 45.84,\n",
       "       38.04, 45.96, 24.12, 25.8 , 18.48, 14.88, 26.64, 16.08, 28.2 ,\n",
       "       24.96, 15.48, 41.76, 42.96, 27.72, 48.24, 31.8 , 20.28, 17.16,\n",
       "       52.32, 16.2 , 35.04, 18.6 , 41.16, 15.  , 17.04, 22.68, 15.72,\n",
       "       27.84, 38.28, 19.68, 17.64, 29.16, 18.36, 48.6 , 16.56, 36.36,\n",
       "       35.64, 39.96, 51.6 , 20.16, 15.24, 40.44, 17.28, 39.72, 21.72,\n",
       "       32.16, 16.92, 16.68, 34.92, 30.36, 17.88, 37.08, 14.52, 17.52,\n",
       "       28.56, 43.68, 17.4 , 16.32, 14.76, 15.12])"
      ]
     },
     "execution_count": 84,
     "metadata": {},
     "output_type": "execute_result"
    }
   ],
   "source": [
    "df['Fiber'].unique()"
   ]
  },
  {
   "cell_type": "code",
   "execution_count": 86,
   "id": "a12fdc3b-53a2-4908-8529-b2f8b301d351",
   "metadata": {},
   "outputs": [
    {
     "data": {
      "text/plain": [
       "276"
      ]
     },
     "execution_count": 86,
     "metadata": {},
     "output_type": "execute_result"
    }
   ],
   "source": [
    "df['Fiber'].nunique()"
   ]
  },
  {
   "cell_type": "code",
   "execution_count": 88,
   "id": "4ef272c1-b91b-4411-9680-0c831adf7ac9",
   "metadata": {},
   "outputs": [
    {
     "data": {
      "text/plain": [
       "14.4"
      ]
     },
     "execution_count": 88,
     "metadata": {},
     "output_type": "execute_result"
    }
   ],
   "source": [
    "df['Fiber'].min()"
   ]
  },
  {
   "cell_type": "code",
   "execution_count": 90,
   "id": "4bfd6098-3ce6-466d-afe4-3884d1f2fe1e",
   "metadata": {},
   "outputs": [
    {
     "data": {
      "text/plain": [
       "52.32"
      ]
     },
     "execution_count": 90,
     "metadata": {},
     "output_type": "execute_result"
    }
   ],
   "source": [
    "df['Fiber'].max()"
   ]
  },
  {
   "cell_type": "markdown",
   "id": "0124551a-18fb-41c1-8b55-33bf55da94c9",
   "metadata": {},
   "source": [
    "### Fat"
   ]
  },
  {
   "cell_type": "code",
   "execution_count": 93,
   "id": "7cb09a62-4045-4b71-b4b0-c108b1477329",
   "metadata": {},
   "outputs": [
    {
     "data": {
      "text/plain": [
       "0    60\n",
       "1    40\n",
       "2    65\n",
       "3    80\n",
       "4    55\n",
       "Name: Fat, dtype: int64"
      ]
     },
     "execution_count": 93,
     "metadata": {},
     "output_type": "execute_result"
    }
   ],
   "source": [
    "df['Fat'].head()"
   ]
  },
  {
   "cell_type": "code",
   "execution_count": 95,
   "id": "9b172b86-214a-4a1f-8770-acdb803b4551",
   "metadata": {},
   "outputs": [
    {
     "data": {
      "text/plain": [
       "array([ 60,  40,  65,  80,  55,  45,  85,  50,  70, 100,  90,  35,  75,\n",
       "        30, 110, 120,  72,  96,  64,  94,  39,  78,  53,  84,  48,  56,\n",
       "        99,  44,  34,  62,  82,  37,  74,  79,  54,  59,  69,  57,  42,\n",
       "        81,  89,  67,  31,  98,  73,  93,  58,  38,  33,  52,  41,  36,\n",
       "        61,  91,  46,  95,  66,  97,  51,  76,  86,  47,  88,  71,  92,\n",
       "        32,  49,  87,  77,  63,  83,  68,  43, 117, 101, 105, 121, 104,\n",
       "       102, 116, 119, 113, 134, 111, 103, 145, 114, 132, 123, 106, 135,\n",
       "       112, 115, 108, 107, 143, 109, 125, 128, 124, 118, 122, 126],\n",
       "      dtype=int64)"
      ]
     },
     "execution_count": 95,
     "metadata": {},
     "output_type": "execute_result"
    }
   ],
   "source": [
    "df['Fat'].unique()"
   ]
  },
  {
   "cell_type": "code",
   "execution_count": 97,
   "id": "a6bad650-0ff5-4352-be01-4a6186c7a188",
   "metadata": {},
   "outputs": [
    {
     "data": {
      "text/plain": [
       "103"
      ]
     },
     "execution_count": 97,
     "metadata": {},
     "output_type": "execute_result"
    }
   ],
   "source": [
    "df['Fat'].nunique()"
   ]
  },
  {
   "cell_type": "code",
   "execution_count": 99,
   "id": "e3ad03d3-e1c3-4c1a-b6cb-1f8b26d60a6e",
   "metadata": {},
   "outputs": [
    {
     "data": {
      "text/plain": [
       "30"
      ]
     },
     "execution_count": 99,
     "metadata": {},
     "output_type": "execute_result"
    }
   ],
   "source": [
    "df['Fat'].min()"
   ]
  },
  {
   "cell_type": "code",
   "execution_count": 101,
   "id": "745ee1c3-f6cf-422f-afac-cdb916131f83",
   "metadata": {},
   "outputs": [
    {
     "data": {
      "text/plain": [
       "145"
      ]
     },
     "execution_count": 101,
     "metadata": {},
     "output_type": "execute_result"
    }
   ],
   "source": [
    "df['Fat'].max()"
   ]
  },
  {
   "cell_type": "code",
   "execution_count": 104,
   "id": "ff9d98fc-335e-4776-9622-0ba31c8ac859",
   "metadata": {},
   "outputs": [
    {
     "data": {
      "text/html": [
       "<div>\n",
       "<style scoped>\n",
       "    .dataframe tbody tr th:only-of-type {\n",
       "        vertical-align: middle;\n",
       "    }\n",
       "\n",
       "    .dataframe tbody tr th {\n",
       "        vertical-align: top;\n",
       "    }\n",
       "\n",
       "    .dataframe thead th {\n",
       "        text-align: right;\n",
       "    }\n",
       "</style>\n",
       "<table border=\"1\" class=\"dataframe\">\n",
       "  <thead>\n",
       "    <tr style=\"text-align: right;\">\n",
       "      <th></th>\n",
       "      <th>Ages</th>\n",
       "      <th>Gender</th>\n",
       "      <th>Height</th>\n",
       "      <th>Weight</th>\n",
       "      <th>Activity Level</th>\n",
       "      <th>Dietary Preference</th>\n",
       "      <th>Daily Calorie Target</th>\n",
       "      <th>Protein</th>\n",
       "      <th>Sugar</th>\n",
       "      <th>Sodium</th>\n",
       "      <th>Calories</th>\n",
       "      <th>Carbohydrates</th>\n",
       "      <th>Fiber</th>\n",
       "      <th>Fat</th>\n",
       "      <th>Breakfast Suggestion</th>\n",
       "      <th>Lunch Suggestion</th>\n",
       "      <th>Dinner Suggestion</th>\n",
       "      <th>Snack Suggestion</th>\n",
       "      <th>Disease</th>\n",
       "    </tr>\n",
       "  </thead>\n",
       "  <tbody>\n",
       "    <tr>\n",
       "      <th>0</th>\n",
       "      <td>25</td>\n",
       "      <td>Male</td>\n",
       "      <td>180</td>\n",
       "      <td>80</td>\n",
       "      <td>Moderately Active</td>\n",
       "      <td>Omnivore</td>\n",
       "      <td>2000</td>\n",
       "      <td>120</td>\n",
       "      <td>125.0</td>\n",
       "      <td>24.0</td>\n",
       "      <td>2020</td>\n",
       "      <td>250</td>\n",
       "      <td>30.00</td>\n",
       "      <td>60</td>\n",
       "      <td>Oatmeal with berries and nuts</td>\n",
       "      <td>Grilled chicken salad with mixed greens</td>\n",
       "      <td>Salmon with roasted vegetables</td>\n",
       "      <td>Greek yogurt with fruit</td>\n",
       "      <td>Weight Gain</td>\n",
       "    </tr>\n",
       "    <tr>\n",
       "      <th>1</th>\n",
       "      <td>32</td>\n",
       "      <td>Female</td>\n",
       "      <td>165</td>\n",
       "      <td>65</td>\n",
       "      <td>Lightly Active</td>\n",
       "      <td>Vegetarian</td>\n",
       "      <td>1600</td>\n",
       "      <td>80</td>\n",
       "      <td>100.0</td>\n",
       "      <td>16.0</td>\n",
       "      <td>1480</td>\n",
       "      <td>200</td>\n",
       "      <td>24.00</td>\n",
       "      <td>40</td>\n",
       "      <td>Tofu scramble with veggies</td>\n",
       "      <td>Lentil soup with whole wheat bread</td>\n",
       "      <td>Vegetable stir-fry with brown rice</td>\n",
       "      <td>Apple with almond butter</td>\n",
       "      <td>Weight Gain, Hypertension, Heart Disease</td>\n",
       "    </tr>\n",
       "    <tr>\n",
       "      <th>2</th>\n",
       "      <td>48</td>\n",
       "      <td>Male</td>\n",
       "      <td>175</td>\n",
       "      <td>95</td>\n",
       "      <td>Sedentary</td>\n",
       "      <td>Vegan</td>\n",
       "      <td>2200</td>\n",
       "      <td>100</td>\n",
       "      <td>150.0</td>\n",
       "      <td>20.0</td>\n",
       "      <td>2185</td>\n",
       "      <td>300</td>\n",
       "      <td>36.00</td>\n",
       "      <td>65</td>\n",
       "      <td>Tofu and veggie breakfast burrito</td>\n",
       "      <td>Black bean burger on a whole wheat bun</td>\n",
       "      <td>Lentil and vegetable curry</td>\n",
       "      <td>Trail mix</td>\n",
       "      <td>Weight Gain</td>\n",
       "    </tr>\n",
       "    <tr>\n",
       "      <th>3</th>\n",
       "      <td>55</td>\n",
       "      <td>Female</td>\n",
       "      <td>160</td>\n",
       "      <td>70</td>\n",
       "      <td>Very Active</td>\n",
       "      <td>Omnivore</td>\n",
       "      <td>2500</td>\n",
       "      <td>140</td>\n",
       "      <td>175.0</td>\n",
       "      <td>28.0</td>\n",
       "      <td>2680</td>\n",
       "      <td>350</td>\n",
       "      <td>42.00</td>\n",
       "      <td>80</td>\n",
       "      <td>Greek yogurt with granola and fruit</td>\n",
       "      <td>Chicken and vegetable stir-fry</td>\n",
       "      <td>Turkey chili with brown rice</td>\n",
       "      <td>Banana with peanut butter</td>\n",
       "      <td>Weight Gain</td>\n",
       "    </tr>\n",
       "    <tr>\n",
       "      <th>4</th>\n",
       "      <td>62</td>\n",
       "      <td>Male</td>\n",
       "      <td>170</td>\n",
       "      <td>85</td>\n",
       "      <td>Sedentary</td>\n",
       "      <td>Vegetarian</td>\n",
       "      <td>2000</td>\n",
       "      <td>80</td>\n",
       "      <td>125.0</td>\n",
       "      <td>16.0</td>\n",
       "      <td>1815</td>\n",
       "      <td>250</td>\n",
       "      <td>30.00</td>\n",
       "      <td>55</td>\n",
       "      <td>Scrambled eggs with whole wheat toast and avocado</td>\n",
       "      <td>Quinoa salad with chickpeas and vegetables</td>\n",
       "      <td>Vegetarian chili with cornbread</td>\n",
       "      <td>Fruit and nut mix</td>\n",
       "      <td>Weight Gain</td>\n",
       "    </tr>\n",
       "    <tr>\n",
       "      <th>...</th>\n",
       "      <td>...</td>\n",
       "      <td>...</td>\n",
       "      <td>...</td>\n",
       "      <td>...</td>\n",
       "      <td>...</td>\n",
       "      <td>...</td>\n",
       "      <td>...</td>\n",
       "      <td>...</td>\n",
       "      <td>...</td>\n",
       "      <td>...</td>\n",
       "      <td>...</td>\n",
       "      <td>...</td>\n",
       "      <td>...</td>\n",
       "      <td>...</td>\n",
       "      <td>...</td>\n",
       "      <td>...</td>\n",
       "      <td>...</td>\n",
       "      <td>...</td>\n",
       "      <td>...</td>\n",
       "    </tr>\n",
       "    <tr>\n",
       "      <th>1693</th>\n",
       "      <td>53</td>\n",
       "      <td>Female</td>\n",
       "      <td>182</td>\n",
       "      <td>76</td>\n",
       "      <td>Sedentary</td>\n",
       "      <td>Vegan</td>\n",
       "      <td>1265</td>\n",
       "      <td>94</td>\n",
       "      <td>63.0</td>\n",
       "      <td>18.8</td>\n",
       "      <td>1258</td>\n",
       "      <td>126</td>\n",
       "      <td>15.12</td>\n",
       "      <td>42</td>\n",
       "      <td>Oatmeal with berries and nuts</td>\n",
       "      <td>Quinoa salad with chickpeas and vegetables</td>\n",
       "      <td>Vegetable stir-fry with brown rice</td>\n",
       "      <td>Apple with almond butter</td>\n",
       "      <td>Diabetes, Acne, Weight Gain, Hypertension, Hea...</td>\n",
       "    </tr>\n",
       "    <tr>\n",
       "      <th>1694</th>\n",
       "      <td>38</td>\n",
       "      <td>Male</td>\n",
       "      <td>150</td>\n",
       "      <td>76</td>\n",
       "      <td>Very Active</td>\n",
       "      <td>Vegan</td>\n",
       "      <td>2109</td>\n",
       "      <td>158</td>\n",
       "      <td>105.0</td>\n",
       "      <td>31.6</td>\n",
       "      <td>2102</td>\n",
       "      <td>210</td>\n",
       "      <td>25.20</td>\n",
       "      <td>70</td>\n",
       "      <td>Oatmeal with berries and nuts</td>\n",
       "      <td>Grilled chicken salad with mixed greens</td>\n",
       "      <td>Lentil and vegetable curry</td>\n",
       "      <td>Apple with almond butter</td>\n",
       "      <td>Weight Gain</td>\n",
       "    </tr>\n",
       "    <tr>\n",
       "      <th>1695</th>\n",
       "      <td>57</td>\n",
       "      <td>Male</td>\n",
       "      <td>165</td>\n",
       "      <td>73</td>\n",
       "      <td>Very Active</td>\n",
       "      <td>Vegan</td>\n",
       "      <td>2555</td>\n",
       "      <td>191</td>\n",
       "      <td>127.5</td>\n",
       "      <td>38.2</td>\n",
       "      <td>2549</td>\n",
       "      <td>255</td>\n",
       "      <td>30.60</td>\n",
       "      <td>85</td>\n",
       "      <td>Smoothie with protein powder</td>\n",
       "      <td>Chicken and vegetable stir-fry</td>\n",
       "      <td>Vegetable stir-fry with brown rice</td>\n",
       "      <td>Fruit and nut mix</td>\n",
       "      <td>Weight Gain</td>\n",
       "    </tr>\n",
       "    <tr>\n",
       "      <th>1696</th>\n",
       "      <td>40</td>\n",
       "      <td>Male</td>\n",
       "      <td>166</td>\n",
       "      <td>91</td>\n",
       "      <td>Extremely Active</td>\n",
       "      <td>Vegan</td>\n",
       "      <td>3329</td>\n",
       "      <td>249</td>\n",
       "      <td>166.0</td>\n",
       "      <td>49.8</td>\n",
       "      <td>3314</td>\n",
       "      <td>332</td>\n",
       "      <td>39.84</td>\n",
       "      <td>110</td>\n",
       "      <td>Scrambled eggs with whole wheat toast</td>\n",
       "      <td>Lentil soup with whole wheat bread</td>\n",
       "      <td>Vegetable stir-fry with brown rice</td>\n",
       "      <td>Banana with peanut butter</td>\n",
       "      <td>Weight Gain</td>\n",
       "    </tr>\n",
       "    <tr>\n",
       "      <th>1697</th>\n",
       "      <td>54</td>\n",
       "      <td>Female</td>\n",
       "      <td>198</td>\n",
       "      <td>75</td>\n",
       "      <td>Sedentary</td>\n",
       "      <td>Vegetarian</td>\n",
       "      <td>1867</td>\n",
       "      <td>140</td>\n",
       "      <td>93.0</td>\n",
       "      <td>28.0</td>\n",
       "      <td>1862</td>\n",
       "      <td>186</td>\n",
       "      <td>22.32</td>\n",
       "      <td>62</td>\n",
       "      <td>Scrambled eggs with whole wheat toast</td>\n",
       "      <td>Chicken and vegetable stir-fry</td>\n",
       "      <td>Pasta with marinara sauce and veggies</td>\n",
       "      <td>Banana with peanut butter</td>\n",
       "      <td>Weight Gain</td>\n",
       "    </tr>\n",
       "  </tbody>\n",
       "</table>\n",
       "<p>1698 rows × 19 columns</p>\n",
       "</div>"
      ],
      "text/plain": [
       "      Ages  Gender  Height  Weight     Activity Level Dietary Preference  \\\n",
       "0       25    Male     180      80  Moderately Active           Omnivore   \n",
       "1       32  Female     165      65     Lightly Active         Vegetarian   \n",
       "2       48    Male     175      95          Sedentary              Vegan   \n",
       "3       55  Female     160      70        Very Active           Omnivore   \n",
       "4       62    Male     170      85          Sedentary         Vegetarian   \n",
       "...    ...     ...     ...     ...                ...                ...   \n",
       "1693    53  Female     182      76          Sedentary              Vegan   \n",
       "1694    38    Male     150      76        Very Active              Vegan   \n",
       "1695    57    Male     165      73        Very Active              Vegan   \n",
       "1696    40    Male     166      91   Extremely Active              Vegan   \n",
       "1697    54  Female     198      75          Sedentary         Vegetarian   \n",
       "\n",
       "      Daily Calorie Target  Protein  Sugar  Sodium  Calories  Carbohydrates  \\\n",
       "0                     2000      120  125.0    24.0      2020            250   \n",
       "1                     1600       80  100.0    16.0      1480            200   \n",
       "2                     2200      100  150.0    20.0      2185            300   \n",
       "3                     2500      140  175.0    28.0      2680            350   \n",
       "4                     2000       80  125.0    16.0      1815            250   \n",
       "...                    ...      ...    ...     ...       ...            ...   \n",
       "1693                  1265       94   63.0    18.8      1258            126   \n",
       "1694                  2109      158  105.0    31.6      2102            210   \n",
       "1695                  2555      191  127.5    38.2      2549            255   \n",
       "1696                  3329      249  166.0    49.8      3314            332   \n",
       "1697                  1867      140   93.0    28.0      1862            186   \n",
       "\n",
       "      Fiber  Fat                               Breakfast Suggestion  \\\n",
       "0     30.00   60                      Oatmeal with berries and nuts   \n",
       "1     24.00   40                         Tofu scramble with veggies   \n",
       "2     36.00   65                  Tofu and veggie breakfast burrito   \n",
       "3     42.00   80                Greek yogurt with granola and fruit   \n",
       "4     30.00   55  Scrambled eggs with whole wheat toast and avocado   \n",
       "...     ...  ...                                                ...   \n",
       "1693  15.12   42                      Oatmeal with berries and nuts   \n",
       "1694  25.20   70                      Oatmeal with berries and nuts   \n",
       "1695  30.60   85                       Smoothie with protein powder   \n",
       "1696  39.84  110              Scrambled eggs with whole wheat toast   \n",
       "1697  22.32   62              Scrambled eggs with whole wheat toast   \n",
       "\n",
       "                                Lunch Suggestion  \\\n",
       "0        Grilled chicken salad with mixed greens   \n",
       "1             Lentil soup with whole wheat bread   \n",
       "2         Black bean burger on a whole wheat bun   \n",
       "3                 Chicken and vegetable stir-fry   \n",
       "4     Quinoa salad with chickpeas and vegetables   \n",
       "...                                          ...   \n",
       "1693  Quinoa salad with chickpeas and vegetables   \n",
       "1694     Grilled chicken salad with mixed greens   \n",
       "1695              Chicken and vegetable stir-fry   \n",
       "1696          Lentil soup with whole wheat bread   \n",
       "1697              Chicken and vegetable stir-fry   \n",
       "\n",
       "                          Dinner Suggestion           Snack Suggestion  \\\n",
       "0            Salmon with roasted vegetables    Greek yogurt with fruit   \n",
       "1        Vegetable stir-fry with brown rice   Apple with almond butter   \n",
       "2                Lentil and vegetable curry                  Trail mix   \n",
       "3              Turkey chili with brown rice  Banana with peanut butter   \n",
       "4           Vegetarian chili with cornbread          Fruit and nut mix   \n",
       "...                                     ...                        ...   \n",
       "1693     Vegetable stir-fry with brown rice   Apple with almond butter   \n",
       "1694             Lentil and vegetable curry   Apple with almond butter   \n",
       "1695     Vegetable stir-fry with brown rice          Fruit and nut mix   \n",
       "1696     Vegetable stir-fry with brown rice  Banana with peanut butter   \n",
       "1697  Pasta with marinara sauce and veggies  Banana with peanut butter   \n",
       "\n",
       "                                                Disease  \n",
       "0                                           Weight Gain  \n",
       "1              Weight Gain, Hypertension, Heart Disease  \n",
       "2                                           Weight Gain  \n",
       "3                                           Weight Gain  \n",
       "4                                           Weight Gain  \n",
       "...                                                 ...  \n",
       "1693  Diabetes, Acne, Weight Gain, Hypertension, Hea...  \n",
       "1694                                        Weight Gain  \n",
       "1695                                        Weight Gain  \n",
       "1696                                        Weight Gain  \n",
       "1697                                        Weight Gain  \n",
       "\n",
       "[1698 rows x 19 columns]"
      ]
     },
     "execution_count": 104,
     "metadata": {},
     "output_type": "execute_result"
    }
   ],
   "source": [
    "df"
   ]
  },
  {
   "cell_type": "markdown",
   "id": "4073fc24-717e-451c-9663-be276e5df77c",
   "metadata": {},
   "source": [
    "### Breakfast Suggestion"
   ]
  },
  {
   "cell_type": "code",
   "execution_count": 110,
   "id": "22dd6278-faa1-4a08-8644-581e891ca82c",
   "metadata": {},
   "outputs": [
    {
     "data": {
      "text/plain": [
       "array(['Oatmeal with berries and nuts', 'Tofu scramble with veggies',\n",
       "       'Tofu and veggie breakfast burrito',\n",
       "       'Greek yogurt with granola and fruit',\n",
       "       'Scrambled eggs with whole wheat toast and avocado',\n",
       "       'Protein pancakes with fruit and nuts',\n",
       "       'Tofu and chickpea scramble',\n",
       "       'Overnight oats with fruit and chia seeds',\n",
       "       'Tofu scramble with vegetables', 'Wholegrain toast with avocado',\n",
       "       'Greek yogurt with granola', 'Tofu and vegetable stir-fry',\n",
       "       'Oatmeal with protein powder and fruit',\n",
       "       'Eggs with wholegrain toast',\n",
       "       'Greek yogurt with berries and granola',\n",
       "       'Eggs with whole wheat toast and avocado',\n",
       "       'Tofu scramble with vegetables and avocado',\n",
       "       'Greek yogurt with fruit and granola',\n",
       "       'Tofu scramble with spinach and avocado',\n",
       "       'Scrambled eggs with whole wheat toast and fruit',\n",
       "       'Oatmeal with berries and plant-based milk',\n",
       "       'Oatmeal with fruit and nuts',\n",
       "       'Tofu scramble with whole-wheat toast',\n",
       "       'Tofu and vegetable breakfast burrito',\n",
       "       'Scrambled eggs with avocado and whole-wheat toast',\n",
       "       'Overnight oats with chia seeds and fruit',\n",
       "       'Pancakes with fruit and syrup',\n",
       "       'Scrambled eggs with whole-wheat toast',\n",
       "       'Tofu scramble with spinach and avocado toast',\n",
       "       'Eggs with whole-wheat toast',\n",
       "       'Quinoa porridge with fruit and nuts',\n",
       "       'Tofu scramble with vegetables and whole-wheat toast',\n",
       "       'Scrambled eggs with bacon and whole-wheat toast',\n",
       "       'Oatmeal with protein powder and berries',\n",
       "       'Eggs with whole-wheat toast and avocado',\n",
       "       'Scrambled eggs with vegetables and whole-wheat toast',\n",
       "       'Scrambled eggs with whole-wheat toast and avocado',\n",
       "       'Tofu scramble with veggies and whole-wheat toast',\n",
       "       'Overnight oats with fruit and nuts',\n",
       "       'Greek yogurt with berries and nuts',\n",
       "       'Tofu scramble with whole wheat toast and avocado',\n",
       "       'Yogurt with fruit and granola',\n",
       "       'Greek yogurt with berries and almonds',\n",
       "       'Eggs with whole-wheat toast and bacon',\n",
       "       'Scrambled tofu with whole-wheat toast and avocado',\n",
       "       'Tofu and vegetable stir-fry with brown rice',\n",
       "       'Scrambled eggs with whole wheat toast',\n",
       "       'Tofu and vegetable scramble with whole wheat toast',\n",
       "       'Greek Yogurt with berries and granola',\n",
       "       'Tofu omelet with spinach',\n",
       "       'Greek yogurt with protein powder and fruit',\n",
       "       'Tofu breakfast burrito with whole-wheat tortilla',\n",
       "       'Protein pancakes with fruit and syrup',\n",
       "       'Scrambled tofu with spinach and tomato',\n",
       "       'Tofu scramble with vegetables and whole wheat toast',\n",
       "       'Vegan overnight oats with berries',\n",
       "       'Scrambled eggs with spinach and whole wheat toast',\n",
       "       'Vegan overnight oats with chia seeds and berries',\n",
       "       'Protein smoothie with fruit and spinach',\n",
       "       'Yogurt parfait with granola and fruit',\n",
       "       '1 cup oatmeal with berries and nuts',\n",
       "       'Tofu scramble with whole-wheat toast and vegetables',\n",
       "       '3 eggs with whole-wheat toast and avocado',\n",
       "       'Yogurt with berries and granola',\n",
       "       'Tofu scramble with avocado and whole-wheat toast',\n",
       "       'Oatmeal with plant-based milk and fruit',\n",
       "       'Yogurt with granola and fruit', 'Protein pancakes with fruit',\n",
       "       'Tofu scramble with whole-wheat toast and avocado',\n",
       "       'Quinoa porridge with berries and nuts',\n",
       "       'Overnight oats with berries and nuts',\n",
       "       'Tofu scramble with whole wheat toast',\n",
       "       'Vegan breakfast burrito with tofu and vegetables',\n",
       "       'Tofu scramble with avocado and whole wheat toast',\n",
       "       'Breakfast burrito with eggs and vegetables',\n",
       "       'Oatmeal with protein powder',\n",
       "       'Overnight oats with berries and chia seeds',\n",
       "       'Smoothie with fruit and protein powder',\n",
       "       'Tofu scramble with whole wheat toast and fruit',\n",
       "       'Tofu and vegetable scramble with whole-wheat toast',\n",
       "       'Tofu and vegetable scramble with wholegrain toast',\n",
       "       'Oatmeal with berries and flax seeds',\n",
       "       'Eggs with wholegrain toast and avocado',\n",
       "       'Breakfast burrito with beans and vegetables',\n",
       "       'Oatmeal with protein powder and banana',\n",
       "       'Tofu and vegetable scramble with avocado toast',\n",
       "       'Scrambled eggs with whole wheat toast and smoked salmon',\n",
       "       'Tofu scramble with vegetables and avocado toast',\n",
       "       'Fruit and yogurt parfait', 'Pancakes with fruit and nuts',\n",
       "       'Tofu and vegetable scramble', 'Eggs with whole wheat toast',\n",
       "       'Greek yogurt with granola and berries',\n",
       "       'Whole-wheat toast with egg and avocado',\n",
       "       'Tofu scramble with spinach and mushrooms',\n",
       "       'Quinoa breakfast bowl with berries and nuts',\n",
       "       'Tofu and vegetable stir-fry with quinoa',\n",
       "       'Eggs with whole-wheat toast and fruit',\n",
       "       'Quinoa porridge with berries',\n",
       "       'Tofu breakfast burrito with avocado',\n",
       "       'Tofu scramble with avocado toast',\n",
       "       'Scrambled eggs with whole grain toast',\n",
       "       'Greek Yogurt with Berries and Nuts',\n",
       "       'Tofu Scramble with Avocado Toast',\n",
       "       'Oatmeal with Protein Powder and Berries',\n",
       "       'Tofu Scramble with Whole Wheat Toast',\n",
       "       'Eggs with Whole Wheat Toast and Avocado',\n",
       "       'Tofu scramble with whole grain toast and avocado',\n",
       "       'Eggs with whole wheat toast and fruit',\n",
       "       'Tofu scramble with vegan toast and avocado',\n",
       "       'Fruit salad with yogurt',\n",
       "       'Scrambled eggs with whole wheat toast and spinach',\n",
       "       'Tofu breakfast burrito',\n",
       "       'Tofu scramble with veggies and avocado toast',\n",
       "       'Scrambled eggs with whole-wheat toast and fruit',\n",
       "       'Breakfast burrito with beans and veggies',\n",
       "       'Eggs with whole grain toast', 'Vegan pancakes with syrup',\n",
       "       'Oatmeal with berries', 'Egg and spinach wrap',\n",
       "       'Smoothie with protein powder'], dtype=object)"
      ]
     },
     "execution_count": 110,
     "metadata": {},
     "output_type": "execute_result"
    }
   ],
   "source": [
    "df['Breakfast Suggestion'].unique()"
   ]
  },
  {
   "cell_type": "code",
   "execution_count": 112,
   "id": "d9de672c-0928-4d2e-9fb7-8212f68f226c",
   "metadata": {},
   "outputs": [
    {
     "data": {
      "text/plain": [
       "121"
      ]
     },
     "execution_count": 112,
     "metadata": {},
     "output_type": "execute_result"
    }
   ],
   "source": [
    "df['Breakfast Suggestion'].nunique()"
   ]
  },
  {
   "cell_type": "markdown",
   "id": "e9e0f004-b0e9-4a31-a701-35ecaad57945",
   "metadata": {},
   "source": [
    "### Lunch Suggestion"
   ]
  },
  {
   "cell_type": "code",
   "execution_count": 114,
   "id": "6e51c0d5-ddfa-48ba-b690-2030cf2ec475",
   "metadata": {},
   "outputs": [
    {
     "data": {
      "text/plain": [
       "array(['Grilled chicken salad with mixed greens',\n",
       "       'Lentil soup with whole wheat bread',\n",
       "       'Black bean burger on a whole wheat bun',\n",
       "       'Chicken and vegetable stir-fry',\n",
       "       'Quinoa salad with chickpeas and vegetables',\n",
       "       'Lentil pasta with vegetables',\n",
       "       'Chicken breast with brown rice and vegetables',\n",
       "       'Lentil burger with sweet potato fries',\n",
       "       'Lentil soup with wholegrain bread', 'Black bean salad',\n",
       "       'Tuna salad sandwich on wholegrain bread',\n",
       "       'Lentil and vegetable stew',\n",
       "       'Black bean burger on a wholegrain bun',\n",
       "       'Grilled chicken breast with brown rice',\n",
       "       'Chicken breast with brown rice',\n",
       "       'Salmon salad with mixed greens and avocado',\n",
       "       'Chicken breast with sweet potato and broccoli',\n",
       "       'Turkey sandwich on whole wheat bread with vegetables',\n",
       "       'Vegan lentil stew with whole wheat bread',\n",
       "       'Tuna salad with whole wheat bread',\n",
       "       'Lentil and vegetable curry with brown rice',\n",
       "       'Tuna salad sandwich on whole wheat bread',\n",
       "       'Vegetarian chili with whole wheat bread',\n",
       "       'Chicken salad sandwich on whole wheat bread',\n",
       "       'Tofu scramble with spinach and avocado',\n",
       "       'Chicken breast salad with vegetables',\n",
       "       'Lentil soup with whole-wheat bread',\n",
       "       'Black bean burger on a whole-wheat bun',\n",
       "       'Chicken breast salad with mixed greens',\n",
       "       'Tofu and vegetable stir-fry with brown rice',\n",
       "       'Grilled chicken sandwich with whole-wheat bread',\n",
       "       'Tuna salad sandwich with whole-wheat bread',\n",
       "       'Lentil and quinoa salad',\n",
       "       'Chicken salad sandwich with mixed greens',\n",
       "       'Chickpea and vegetable curry',\n",
       "       'Black bean burgers with sweet potato fries',\n",
       "       'Chicken Caesar salad',\n",
       "       'Chickpea salad sandwich with whole-wheat bread',\n",
       "       'Vegetarian chili with a side salad',\n",
       "       'Black bean burger with sweet potato fries',\n",
       "       'Grilled salmon with roasted vegetables',\n",
       "       'Chicken stir-fry with brown rice',\n",
       "       'Tuna salad sandwich on whole-wheat bread with a side of mixed greens',\n",
       "       'Chicken breast with quinoa and steamed vegetables',\n",
       "       'Vegetable stir-fry with brown rice',\n",
       "       'Chicken breast with brown rice and steamed vegetables',\n",
       "       'Black bean burger with whole-wheat bun and salad',\n",
       "       'Chicken salad sandwich on whole-wheat bread with a side of mixed greens',\n",
       "       'Lentil soup with whole grain bread',\n",
       "       'Lentil salad with quinoa and mixed greens',\n",
       "       'Turkey sandwich on whole grain bread',\n",
       "       'Bean burrito with brown rice',\n",
       "       'Tuna salad with whole grain bread',\n",
       "       'Black bean soup with whole wheat bread',\n",
       "       'Lentil stew with brown rice and quinoa',\n",
       "       'Chicken breast with roasted vegetables',\n",
       "       'Lentil and vegetable soup with whole-wheat bread',\n",
       "       'Black bean burgers on whole-wheat buns with salad',\n",
       "       'Lentil and vegetable curry with brown rice and quinoa',\n",
       "       'Chickpea salad sandwich on whole wheat bread',\n",
       "       'Chicken breast with brown rice and roasted vegetables',\n",
       "       'Black bean burger with whole wheat bun',\n",
       "       'Quinoa salad with chicken and vegetables',\n",
       "       'Tuna salad sandwich on whole-wheat bread',\n",
       "       'Chickpea salad with mixed greens',\n",
       "       'Vegan lentil stew with brown rice',\n",
       "       'Vegetarian chili with whole-wheat bread',\n",
       "       'Chicken salad sandwich on whole-wheat bread',\n",
       "       'Grilled chicken salad with mixed greens and avocado',\n",
       "       'Chicken and vegetable stir-fry with brown rice',\n",
       "       'Vegan pasta salad with vegetables',\n",
       "       'Vegetarian chili with brown rice',\n",
       "       'Lentil and vegetable soup with whole wheat bread',\n",
       "       'Chicken breast and brown rice with vegetables',\n",
       "       'Tofu stir-fry with brown rice', 'Salmon with roasted vegetables',\n",
       "       'Lentil and vegetable curry with rice',\n",
       "       'Tuna salad sandwich on whole-wheat bread with a side salad',\n",
       "       'Lentil soup with a side of whole-wheat bread',\n",
       "       'Chicken breast with brown rice and broccoli',\n",
       "       'Lentil stew with a side of whole-wheat bread',\n",
       "       'Vegetarian chili with a side of whole-wheat bread',\n",
       "       'Grilled chicken breast salad with mixed greens and avocado',\n",
       "       'Turkey sandwich on whole-wheat bread with vegetables',\n",
       "       'Black bean burger with a side salad',\n",
       "       'Lentil and vegetable curry',\n",
       "       'Chicken breast with quinoa and roasted vegetables',\n",
       "       'Quinoa salad with grilled chicken and vegetables',\n",
       "       'Lentil soup with whole-grain bread',\n",
       "       'Lentil stew with whole-grain bread',\n",
       "       'Black bean soup with whole grain bread',\n",
       "       'Black bean burger on a whole grain bun',\n",
       "       'Chicken and vegetable fajitas', 'Lentil salad with mixed greens',\n",
       "       'Chicken breast salad with mixed greens and vegetables',\n",
       "       'Black bean salad with mixed greens',\n",
       "       'Chickpea salad with whole-wheat bread',\n",
       "       'Vegan lentil soup with whole wheat bread',\n",
       "       'Vegetarian burrito bowl with brown rice',\n",
       "       'Vegan chili with brown rice',\n",
       "       'Vegetarian pasta with marinara sauce',\n",
       "       'Chicken breast with quinoa and vegetables',\n",
       "       'Turkey sandwich on whole-wheat bread',\n",
       "       'Chicken stir fry with brown rice and vegetables',\n",
       "       'Lentil soup with whole-wheat bread and salad',\n",
       "       'Tuna salad sandwich on whole-wheat bread with salad',\n",
       "       'Black bean burger on whole-wheat bun with salad',\n",
       "       'Turkey sandwich on whole-wheat bread with salad',\n",
       "       'Bean burrito with brown rice and salsa',\n",
       "       'Vegetable stir fry with brown rice',\n",
       "       'Tuna salad sandwich on whole-grain bread',\n",
       "       'Turkey breast sandwich on whole-grain bread',\n",
       "       'Chickpea pasta with marinara sauce',\n",
       "       'Chicken salad sandwich on whole-grain bread',\n",
       "       'Chickpea pasta salad with vegetables',\n",
       "       'Black bean and sweet potato burrito',\n",
       "       'Chicken and vegetable skewers',\n",
       "       'Grilled chicken salad with quinoa', 'Lentil and vegetable soup',\n",
       "       'Chicken and vegetable soup', 'Lentil pasta with vegan cheese',\n",
       "       'Quinoa salad with grilled tofu',\n",
       "       'Lentil stew with whole wheat bread',\n",
       "       'Lentil and vegetable stew with brown rice',\n",
       "       'Grilled chicken salad with mixed greens and vegetables',\n",
       "       'Lentil stew with brown rice',\n",
       "       'Chickpea salad sandwich on wholegrain bread',\n",
       "       'Black bean burger on whole-wheat bun',\n",
       "       'Chicken breast with brown rice and quinoa',\n",
       "       'Vegetable stir-fry with rice noodles',\n",
       "       'Chicken and vegetable wrap',\n",
       "       'Chickpea pasta with vegetable sauce',\n",
       "       'Chicken breast with mixed greens salad',\n",
       "       'Chicken breast salad with mixed greens and avocado',\n",
       "       'Lentil and chickpea salad with whole grain pita',\n",
       "       'Lentil and vegetable soup with whole grain bread',\n",
       "       'Lentil and vegetable curry with brown rice and naan bread',\n",
       "       'Chickpea pasta salad with roasted vegetables',\n",
       "       'Turkey breast sandwich with mixed greens',\n",
       "       'Black bean burger on whole wheat bun with salad',\n",
       "       'Mixed greens salad with chickpeas and tahini dressing',\n",
       "       'Chicken and rice bowl with vegetables',\n",
       "       'Lentil salad with quinoa and avocado',\n",
       "       'Quinoa salad with chickpeas and avocado',\n",
       "       'Chicken salad with whole grain bread',\n",
       "       'Black bean burger on a whole-wheat bun with salad',\n",
       "       'Chicken breast with sweet potato and roasted vegetables',\n",
       "       'Quinoa salad with vegetables',\n",
       "       'Chickpea pasta with vegetables and vegan cheese',\n",
       "       'Chicken breast with roasted vegetables and quinoa',\n",
       "       'Vegetable soup with whole-wheat bread',\n",
       "       'Chickpea and vegetable stew', 'Lentil soup with a side salad',\n",
       "       'Lentil stew with whole-wheat bread',\n",
       "       'Black bean burgers on whole-wheat buns with a side salad',\n",
       "       'Chicken salad sandwich on whole-wheat bread with a side salad',\n",
       "       'Chickpea salad sandwich on whole-wheat bread with a side salad',\n",
       "       'Chicken salad with whole-wheat bread',\n",
       "       'Tuna salad with whole-wheat bread',\n",
       "       'Turkey sandwich with whole-wheat bread',\n",
       "       'Chicken salad sandwich on whole-wheat bread with a side of fruit',\n",
       "       'Black bean burger on a whole-wheat bun with a side salad',\n",
       "       'Tuna salad sandwich on whole-wheat bread with a side of fruit',\n",
       "       'Chickpea salad sandwich on whole-wheat bread with a side of fruit',\n",
       "       'Black bean burger on a whole wheat bun with salad',\n",
       "       'Black bean burger on a whole-grain bun',\n",
       "       'Grilled chicken salad with whole grain bread',\n",
       "       'Quinoa bowl with roasted vegetables and chickpeas',\n",
       "       'Chickpea and vegetable curry with brown rice',\n",
       "       'Quinoa salad with roasted vegetables and chickpeas',\n",
       "       'Tuna Salad Sandwich on Whole Wheat Bread',\n",
       "       'Quinoa Salad with Grilled Vegetables',\n",
       "       'Chicken Breast with Brown Rice and Steamed Vegetables',\n",
       "       'Lentil and Vegetable Curry with Brown Rice',\n",
       "       'Chicken and Vegetable Wrap on Whole Wheat Tortilla',\n",
       "       'Tuna salad sandwich on whole grain bread',\n",
       "       'Chicken salad sandwich on whole grain bread with a side of fruit',\n",
       "       'Tuna salad sandwich on whole grain bread with a side of salad',\n",
       "       'Chickpea salad sandwich on whole grain bread',\n",
       "       'Vegan lentil burger with sweet potato fries',\n",
       "       'Vegan chili with whole wheat bread',\n",
       "       'Chicken breast salad with whole-wheat bread',\n",
       "       'Lentil and veggie stir-fry with brown rice',\n",
       "       'Turkey and veggie wrap with whole-wheat tortilla',\n",
       "       'Vegetarian chili with whole grain bread', 'Veggie stir-fry',\n",
       "       'Lentil soup with bread', 'Grilled chicken salad',\n",
       "       'Turkey sandwich', 'Avocado and chickpea salad'], dtype=object)"
      ]
     },
     "execution_count": 114,
     "metadata": {},
     "output_type": "execute_result"
    }
   ],
   "source": [
    "df['Lunch Suggestion'].unique()"
   ]
  },
  {
   "cell_type": "code",
   "execution_count": 116,
   "id": "fc95a429-4096-4a3e-8c04-c2b0cba3ae93",
   "metadata": {},
   "outputs": [
    {
     "data": {
      "text/plain": [
       "190"
      ]
     },
     "execution_count": 116,
     "metadata": {},
     "output_type": "execute_result"
    }
   ],
   "source": [
    "df['Lunch Suggestion'].nunique()"
   ]
  },
  {
   "cell_type": "markdown",
   "id": "6df03b56-35aa-47e8-a09a-fff9678d43d6",
   "metadata": {},
   "source": [
    "### Dinner Suggestion"
   ]
  },
  {
   "cell_type": "code",
   "execution_count": 119,
   "id": "6263fe06-3a82-4074-bd49-c4f19e02f965",
   "metadata": {},
   "outputs": [
    {
     "data": {
      "text/plain": [
       "array(['Salmon with roasted vegetables',\n",
       "       'Vegetable stir-fry with brown rice', 'Lentil and vegetable curry',\n",
       "       'Turkey chili with brown rice', 'Vegetarian chili with cornbread',\n",
       "       'Vegan stir-fry with brown rice',\n",
       "       'Steak with sweet potato and broccoli',\n",
       "       'Quinoa and vegetable bowl', 'Vegan chili with cornbread',\n",
       "       'Vegan pasta with vegetables and sauce',\n",
       "       'Chickpea and vegetable curry', 'Vegetable stir-fry with tofu',\n",
       "       'Chicken breast with steamed vegetables', 'Vegan chili',\n",
       "       'Lentil pasta with vegetables', 'Steak with roasted vegetables',\n",
       "       'Chicken stir-fry with brown rice',\n",
       "       'Vegetarian chili with brown rice',\n",
       "       'Chicken and vegetable stir-fry with brown rice',\n",
       "       'Tofu stir-fry with brown rice and vegetables',\n",
       "       'Chicken breast with sweet potato and green beans',\n",
       "       'Vegan pasta with vegetables and tomato sauce',\n",
       "       'Black bean burgers with sweet potato fries',\n",
       "       'Tofu stir-fry with brown rice noodles',\n",
       "       'Steak with sweet potato and asparagus',\n",
       "       'Vegetable stir-fry with tofu and brown rice',\n",
       "       'Chicken breast with brown rice and vegetables',\n",
       "       'Black bean burgers with salad',\n",
       "       'Lentil and vegetable curry with brown rice',\n",
       "       'Lentil pasta with marinara sauce',\n",
       "       'Turkey meatballs with steamed vegetables',\n",
       "       'Steak with sweet potato fries',\n",
       "       'Lentil soup with whole-wheat bread',\n",
       "       'Chickpea curry with brown rice',\n",
       "       'Lentil stew with whole-wheat bread',\n",
       "       'Chicken breast with roasted vegetables',\n",
       "       'Tofu stir-fry with brown rice', 'Beef stew with brown rice',\n",
       "       'Vegan chili with brown rice', 'Vegan pasta with marinara sauce',\n",
       "       'Fish with roasted vegetables',\n",
       "       'Black bean burgers on whole-wheat buns',\n",
       "       'Grilled salmon with roasted vegetables',\n",
       "       'Lentil stew with brown rice',\n",
       "       'Salmon with sweet potato and broccoli',\n",
       "       'Tuna with quinoa and roasted vegetables',\n",
       "       'Steak with baked potato and green beans',\n",
       "       'Vegetarian lasagna with salad',\n",
       "       'Salmon with roasted vegetables and quinoa',\n",
       "       'Steak with baked potato and broccoli',\n",
       "       'Lentil and vegetable stew', 'Beef stir-fry with brown rice',\n",
       "       'Beef stew with whole grain bread', 'Chickpea and vegetable pasta',\n",
       "       'Salmon with steamed vegetables',\n",
       "       'Steak with sweet potato and green beans',\n",
       "       'Salmon with roasted sweet potatoes',\n",
       "       'Chickpea and vegetable curry with brown rice',\n",
       "       'Steak with mashed potatoes and green beans',\n",
       "       'Lentil and vegetable soup with whole-wheat bread',\n",
       "       'Lentil soup with whole wheat bread',\n",
       "       'Quinoa salad with roasted vegetables',\n",
       "       'Lentil and vegetable stew with brown rice',\n",
       "       'Tuna salad sandwich on whole-wheat bread',\n",
       "       'Chicken breast with roasted vegetables and sweet potato',\n",
       "       'Grilled chicken with roasted vegetables',\n",
       "       'Quinoa bowl with roasted chickpeas and vegetables',\n",
       "       'Lentil pasta with tomato sauce', 'Turkey chili with sweet potato',\n",
       "       'Chicken breast with sweet potato and broccoli',\n",
       "       'Quinoa bowl with roasted vegetables and chickpeas',\n",
       "       'Black bean burger on whole-wheat bun with avocado',\n",
       "       'Tofu stir-fry with vegetables',\n",
       "       'Chickpea and vegetable pasta bake', 'Tofu and vegetable stir-fry',\n",
       "       'Lentil and vegetable curry with rice',\n",
       "       'Chickpea and vegetable stew', 'Black bean burgers with avocado',\n",
       "       'Grilled chicken breast with quinoa and steamed vegetables',\n",
       "       'Black bean burgers with roasted sweet potatoes and a green salad',\n",
       "       'Vegan pasta with marinara sauce and a side salad',\n",
       "       'Lentil soup with a side of whole-wheat bread',\n",
       "       'Vegetable frittata',\n",
       "       'Chickpea pasta with tomato sauce and spinach',\n",
       "       'Vegetable curry with brown rice', 'Fish with steamed broccoli',\n",
       "       'Salmon with roasted vegetables and brown rice',\n",
       "       'Lentil pasta with tomato sauce and vegetables',\n",
       "       'Steak with sweet potato fries and a side salad',\n",
       "       'Chickpea pasta with marinara sauce and vegetables',\n",
       "       'Salmon with roasted vegetables and sweet potato',\n",
       "       'Turkey meatballs with whole-wheat pasta',\n",
       "       'Lentil and vegetable stew with whole-wheat bread',\n",
       "       'Steak with roasted vegetables and brown rice',\n",
       "       'Chicken breast with steamed vegetables and brown rice',\n",
       "       'Grilled salmon with quinoa and roasted vegetables',\n",
       "       'Vegan black bean burgers on whole wheat buns',\n",
       "       'Grilled chicken with sweet potato and broccoli',\n",
       "       'Lentil stew with whole wheat bread',\n",
       "       'Baked chicken with roasted vegetables',\n",
       "       'Steak with sweet potatoes and broccoli',\n",
       "       'Tuna salad with whole-wheat bread',\n",
       "       'Lentil stew with whole-grain bread',\n",
       "       'Steak with roasted vegetables and sweet potato',\n",
       "       'Chickpea pasta with vegetable sauce',\n",
       "       'Chicken stir fry with brown rice and vegetables',\n",
       "       'Black bean soup with whole-grain bread',\n",
       "       'Lentil soup with whole-grain bread', 'Vegan lentil stew',\n",
       "       'Salmon with vegetables', 'Chickpea pasta with marinara sauce',\n",
       "       'Quinoa salad with grilled chicken',\n",
       "       'Tofu and vegetable stir-fry with brown rice',\n",
       "       'Grilled chicken salad with quinoa',\n",
       "       'Steak with baked potato and salad',\n",
       "       'Vegetable lasagna with salad',\n",
       "       'Chickpea pasta with tomato sauce and vegetables',\n",
       "       'Salmon with quinoa and steamed vegetables',\n",
       "       'Chicken breast with roasted vegetables and quinoa',\n",
       "       'Roast beef with mashed potatoes and peas',\n",
       "       'Black bean burgers on wholegrain buns',\n",
       "       'Chicken breast with vegetables',\n",
       "       'Beef and vegetable skewers with sweet potato fries',\n",
       "       'Vegan chili with whole grain bread',\n",
       "       'Vegan pasta with vegetables and cashew cream sauce',\n",
       "       'Quinoa salad with grilled vegetables',\n",
       "       'Vegan pizza with vegetables and cashew cheese',\n",
       "       'Fish with roasted vegetables and quinoa',\n",
       "       'Chicken and vegetable stir-fry',\n",
       "       'Lentil and vegetable stew with whole wheat bread',\n",
       "       'Tempeh stir-fry with brown rice',\n",
       "       'Black bean burger with sweet potato fries',\n",
       "       'Chicken breast with baked potato',\n",
       "       'Salmon with quinoa and steamed broccoli',\n",
       "       'Baked chicken with sweet potato and green beans',\n",
       "       'Steak with quinoa and steamed broccoli',\n",
       "       'Baked fish with steamed vegetables', 'Vegetarian chili',\n",
       "       'Vegan lasagna', 'Turkey chili with cornbread',\n",
       "       'Turkey meatballs with spaghetti squash',\n",
       "       'Salmon with asparagus and sweet potato',\n",
       "       'Bean and vegetable burrito',\n",
       "       'Bean burgers with sweet potato fries',\n",
       "       'Black bean burgers with brown rice and roasted vegetables',\n",
       "       'Vegetable stir-fry with quinoa',\n",
       "       'Turkey chili with whole-wheat bread',\n",
       "       'Lentil loaf with roasted vegetables',\n",
       "       'Vegetarian lasagna with a side salad',\n",
       "       'Vegan pasta with marinara sauce and vegetables',\n",
       "       'Chickpea pasta with tomato sauce', 'Bean burrito with brown rice',\n",
       "       'Lentil soup with whole grain bread',\n",
       "       'Lentil stew with whole grain bread',\n",
       "       'Lentil and vegetable soup with whole grain bread',\n",
       "       'Lentil stew with vegetables and brown rice',\n",
       "       'Bean and vegetable stir-fry with brown rice',\n",
       "       'Turkey chili with whole grain bread',\n",
       "       'Chicken Stir-Fry with Brown Rice',\n",
       "       'Lentil Soup with Whole Wheat Bread',\n",
       "       'Salmon with Roasted Sweet Potatoes',\n",
       "       'Black Bean Burgers on Whole Wheat Buns',\n",
       "       'Grilled Steak with Sweet Potato Fries',\n",
       "       'Salmon with roasted sweet potatoes and broccoli',\n",
       "       'Steak with sweet potato fries and mixed greens',\n",
       "       'Beef with sweet potato and green beans',\n",
       "       'Lentil pasta with vegan pesto sauce',\n",
       "       'Chicken breast with quinoa and vegetables',\n",
       "       'Vegan burgers with sweet potato fries', 'Steak with baked potato',\n",
       "       'Chicken breast with broccoli and sweet potato',\n",
       "       'Tofu and quinoa bowl', 'Vegetable curry',\n",
       "       'Beef and broccoli stir-fry', 'Baked salmon with veggies',\n",
       "       'Pasta with marinara sauce',\n",
       "       'Pasta with marinara sauce and veggies'], dtype=object)"
      ]
     },
     "execution_count": 119,
     "metadata": {},
     "output_type": "execute_result"
    }
   ],
   "source": [
    "df['Dinner Suggestion'].unique()"
   ]
  },
  {
   "cell_type": "code",
   "execution_count": 121,
   "id": "5e084dd8-e461-483c-8a07-33160a865c50",
   "metadata": {},
   "outputs": [
    {
     "data": {
      "text/plain": [
       "177"
      ]
     },
     "execution_count": 121,
     "metadata": {},
     "output_type": "execute_result"
    }
   ],
   "source": [
    "df['Dinner Suggestion'].nunique()"
   ]
  },
  {
   "cell_type": "markdown",
   "id": "150bbc6e-e91d-4e34-b7bb-0a62900f95ca",
   "metadata": {},
   "source": [
    "### Snack Suggestion"
   ]
  },
  {
   "cell_type": "code",
   "execution_count": 124,
   "id": "2e6ce898-6c2d-4345-b0a6-7dd04ebd97d7",
   "metadata": {},
   "outputs": [
    {
     "data": {
      "text/plain": [
       "array(['Greek yogurt with fruit', 'Apple with almond butter', 'Trail mix',\n",
       "       'Banana with peanut butter', 'Fruit and nut mix',\n",
       "       'Hummus and veggie wrap', 'Protein shake',\n",
       "       'Cottage cheese with fruit', 'Energy bar',\n",
       "       'Fruit and veggie sticks', 'Trail mix with nuts and seeds',\n",
       "       'Fruit salad with yogurt', 'Popcorn',\n",
       "       'Smoothie with protein powder', 'Fruit and nuts', 'Protein bar',\n",
       "       'Apple with peanut butter', 'Trail mix with nuts and dried fruit',\n",
       "       'Greek yogurt with fruit and granola', 'Banana with almond butter',\n",
       "       'Mixed nuts and seeds', 'Apple slices with peanut butter',\n",
       "       'Fruit smoothie', 'Apple slices with almond butter',\n",
       "       'Fruit and cheese', 'Fruit and yogurt', 'Fruit salad with nuts',\n",
       "       'Protein shake with banana', 'Energy bar with nuts and seeds',\n",
       "       'Smoothie with protein powder and fruit', 'Mixed nuts',\n",
       "       'Greek yogurt with nuts and seeds',\n",
       "       'Trail mix with almonds and dried fruit',\n",
       "       'Fruit salad with nuts and seeds', 'Protein shake with fruit',\n",
       "       'Trail mix with dried fruit and nuts',\n",
       "       'Vegetable sticks with hummus', 'Greek yogurt with fruit and nuts',\n",
       "       'Hummus with vegetables', 'Trail mix with nuts and dried fruits',\n",
       "       'Greek yogurt with berries', 'Low-fat Greek yogurt with berries',\n",
       "       'Raw vegetables and hummus', 'Celery sticks with peanut butter',\n",
       "       'Fruit salad', 'Trail mix with almonds and dried cranberries',\n",
       "       'Protein bar with nuts', 'Carrot sticks with hummus',\n",
       "       'Greek yogurt with berries and granola',\n",
       "       'String cheese with crackers',\n",
       "       'Protein shake with milk and banana',\n",
       "       'Fruit smoothie with almond milk', 'Greek yogurt with granola',\n",
       "       'Protein shake with almond butter',\n",
       "       'Peanut butter and banana sandwich',\n",
       "       'Popcorn with a sprinkle of cinnamon', 'Fruit and nut smoothie',\n",
       "       'Protein shake with fruit and spinach',\n",
       "       'Protein smoothie with almond milk and banana', 'Nuts and seeds',\n",
       "       'Mixed nuts and dried fruit', 'Fruit and vegetable smoothie',\n",
       "       'Whole-grain crackers with hummus',\n",
       "       'Hummus with carrots and cucumber',\n",
       "       'Fruit smoothie with plant-based milk', 'Fruit with yogurt',\n",
       "       'Almonds', 'Yogurt with fruit and granola',\n",
       "       'Fruit and vegetable salad', 'Fruit with nut butter', 'Banana',\n",
       "       'Rice cakes with peanut butter', 'Trail mix ',\n",
       "       'Popcorn with a touch of olive oil',\n",
       "       'Almond milk with banana and chia seeds',\n",
       "       'Hummus with wholegrain crackers', 'Yogurt with fruit',\n",
       "       'Yogurt parfait with granola', 'Fruit with nuts',\n",
       "       'Fruit with cottage cheese', 'Almonds with dried fruit',\n",
       "       'Protein shake with fruit and greens',\n",
       "       'Dark chocolate with almonds', 'Yogurt with granola',\n",
       "       'Protein smoothie', 'Protein smoothie with fruit',\n",
       "       'Fruit with almonds', 'Popcorn with a sprinkle of parmesan cheese',\n",
       "       'Protein shake with fruit ', 'Fruit and yogurt ',\n",
       "       'Protein shake with fruit and nuts',\n",
       "       'Protein shake with fruit and nuts ',\n",
       "       'Popcorn with nutritional yeast',\n",
       "       'Greek yogurt with protein powder',\n",
       "       'Protein smoothie with banana and spinach',\n",
       "       'Hummus and veggie wraps', 'Fruit and vegetables',\n",
       "       'Fruit salad with Greek yogurt', 'Fruit with almond butter',\n",
       "       'Fruit with nuts and seeds',\n",
       "       'Popcorn with a sprinkle of nutritional yeast',\n",
       "       'Apple with Peanut Butter', 'Mixed Nuts and Dried Fruits',\n",
       "       'Yogurt Parfait with Granola', 'Fruit Salad with Coconut Yogurt',\n",
       "       'Protein Shake with Banana', 'Greek yogurt with almonds and fruit',\n",
       "       'Hummus and veggie sticks', 'Trail mix with dried fruit',\n",
       "       'Hummus and vegetable sticks', 'Hummus and veggies',\n",
       "       'Greek yogurt with nuts'], dtype=object)"
      ]
     },
     "execution_count": 124,
     "metadata": {},
     "output_type": "execute_result"
    }
   ],
   "source": [
    "df['Snack Suggestion'].unique()"
   ]
  },
  {
   "cell_type": "code",
   "execution_count": 126,
   "id": "28275ea0-61d0-498e-885e-6ca2a9560464",
   "metadata": {},
   "outputs": [
    {
     "data": {
      "text/plain": [
       "112"
      ]
     },
     "execution_count": 126,
     "metadata": {},
     "output_type": "execute_result"
    }
   ],
   "source": [
    "df['Snack Suggestion'].nunique()"
   ]
  },
  {
   "cell_type": "markdown",
   "id": "76abad47-4523-4ef1-853e-edaedb68b521",
   "metadata": {},
   "source": [
    "### Disease"
   ]
  },
  {
   "cell_type": "code",
   "execution_count": 129,
   "id": "4a0f5f11-350f-43eb-8657-b357dcd2e221",
   "metadata": {},
   "outputs": [
    {
     "data": {
      "text/plain": [
       "array(['Weight Gain', 'Weight Gain, Hypertension, Heart Disease',\n",
       "       'Weight Gain, Hypertension, Heart Disease, Kidney Disease',\n",
       "       'Weight Gain, Kidney Disease',\n",
       "       'Hypertension, Heart Disease, Kidney Disease',\n",
       "       'Diabetes, Acne, Weight Gain, Hypertension, Heart Disease, Kidney Disease',\n",
       "       'Diabetes, Acne, Hypertension, Kidney Disease',\n",
       "       'Hypertension, Kidney Disease',\n",
       "       'Diabetes, Acne, Weight Loss, Hypertension, Heart Disease, Kidney Disease',\n",
       "       'Hypertension, Heart Disease', 'Kidney Disease',\n",
       "       'Diabetes, Acne, Weight Gain, Hypertension, Heart Disease',\n",
       "       'Diabetes, Acne, Hypertension, Heart Disease'], dtype=object)"
      ]
     },
     "execution_count": 129,
     "metadata": {},
     "output_type": "execute_result"
    }
   ],
   "source": [
    "df['Disease'].unique()"
   ]
  },
  {
   "cell_type": "code",
   "execution_count": 131,
   "id": "62c69ac1-c45b-44bb-8523-b6d9f1ddaa16",
   "metadata": {},
   "outputs": [
    {
     "data": {
      "text/plain": [
       "13"
      ]
     },
     "execution_count": 131,
     "metadata": {},
     "output_type": "execute_result"
    }
   ],
   "source": [
    "df['Disease'].nunique()"
   ]
  },
  {
   "cell_type": "code",
   "execution_count": 135,
   "id": "8f544677-5e84-431a-8fb4-1e4b7ac1f513",
   "metadata": {},
   "outputs": [
    {
     "data": {
      "text/html": [
       "<div>\n",
       "<style scoped>\n",
       "    .dataframe tbody tr th:only-of-type {\n",
       "        vertical-align: middle;\n",
       "    }\n",
       "\n",
       "    .dataframe tbody tr th {\n",
       "        vertical-align: top;\n",
       "    }\n",
       "\n",
       "    .dataframe thead th {\n",
       "        text-align: right;\n",
       "    }\n",
       "</style>\n",
       "<table border=\"1\" class=\"dataframe\">\n",
       "  <thead>\n",
       "    <tr style=\"text-align: right;\">\n",
       "      <th></th>\n",
       "      <th>Ages</th>\n",
       "      <th>Gender</th>\n",
       "      <th>Height</th>\n",
       "      <th>Weight</th>\n",
       "      <th>Activity Level</th>\n",
       "      <th>Dietary Preference</th>\n",
       "      <th>Daily Calorie Target</th>\n",
       "      <th>Protein</th>\n",
       "      <th>Sugar</th>\n",
       "      <th>Sodium</th>\n",
       "      <th>Calories</th>\n",
       "      <th>Carbohydrates</th>\n",
       "      <th>Fiber</th>\n",
       "      <th>Fat</th>\n",
       "      <th>Breakfast Suggestion</th>\n",
       "      <th>Lunch Suggestion</th>\n",
       "      <th>Dinner Suggestion</th>\n",
       "      <th>Snack Suggestion</th>\n",
       "      <th>Disease</th>\n",
       "    </tr>\n",
       "  </thead>\n",
       "  <tbody>\n",
       "    <tr>\n",
       "      <th>0</th>\n",
       "      <td>25</td>\n",
       "      <td>Male</td>\n",
       "      <td>180</td>\n",
       "      <td>80</td>\n",
       "      <td>Moderately Active</td>\n",
       "      <td>Omnivore</td>\n",
       "      <td>2000</td>\n",
       "      <td>120</td>\n",
       "      <td>125.0</td>\n",
       "      <td>24.0</td>\n",
       "      <td>2020</td>\n",
       "      <td>250</td>\n",
       "      <td>30.00</td>\n",
       "      <td>60</td>\n",
       "      <td>Oatmeal with berries and nuts</td>\n",
       "      <td>Grilled chicken salad with mixed greens</td>\n",
       "      <td>Salmon with roasted vegetables</td>\n",
       "      <td>Greek yogurt with fruit</td>\n",
       "      <td>Weight Gain</td>\n",
       "    </tr>\n",
       "    <tr>\n",
       "      <th>1</th>\n",
       "      <td>32</td>\n",
       "      <td>Female</td>\n",
       "      <td>165</td>\n",
       "      <td>65</td>\n",
       "      <td>Lightly Active</td>\n",
       "      <td>Vegetarian</td>\n",
       "      <td>1600</td>\n",
       "      <td>80</td>\n",
       "      <td>100.0</td>\n",
       "      <td>16.0</td>\n",
       "      <td>1480</td>\n",
       "      <td>200</td>\n",
       "      <td>24.00</td>\n",
       "      <td>40</td>\n",
       "      <td>Tofu scramble with veggies</td>\n",
       "      <td>Lentil soup with whole wheat bread</td>\n",
       "      <td>Vegetable stir-fry with brown rice</td>\n",
       "      <td>Apple with almond butter</td>\n",
       "      <td>Weight Gain, Hypertension, Heart Disease</td>\n",
       "    </tr>\n",
       "    <tr>\n",
       "      <th>2</th>\n",
       "      <td>48</td>\n",
       "      <td>Male</td>\n",
       "      <td>175</td>\n",
       "      <td>95</td>\n",
       "      <td>Sedentary</td>\n",
       "      <td>Vegan</td>\n",
       "      <td>2200</td>\n",
       "      <td>100</td>\n",
       "      <td>150.0</td>\n",
       "      <td>20.0</td>\n",
       "      <td>2185</td>\n",
       "      <td>300</td>\n",
       "      <td>36.00</td>\n",
       "      <td>65</td>\n",
       "      <td>Tofu and veggie breakfast burrito</td>\n",
       "      <td>Black bean burger on a whole wheat bun</td>\n",
       "      <td>Lentil and vegetable curry</td>\n",
       "      <td>Trail mix</td>\n",
       "      <td>Weight Gain</td>\n",
       "    </tr>\n",
       "    <tr>\n",
       "      <th>3</th>\n",
       "      <td>55</td>\n",
       "      <td>Female</td>\n",
       "      <td>160</td>\n",
       "      <td>70</td>\n",
       "      <td>Very Active</td>\n",
       "      <td>Omnivore</td>\n",
       "      <td>2500</td>\n",
       "      <td>140</td>\n",
       "      <td>175.0</td>\n",
       "      <td>28.0</td>\n",
       "      <td>2680</td>\n",
       "      <td>350</td>\n",
       "      <td>42.00</td>\n",
       "      <td>80</td>\n",
       "      <td>Greek yogurt with granola and fruit</td>\n",
       "      <td>Chicken and vegetable stir-fry</td>\n",
       "      <td>Turkey chili with brown rice</td>\n",
       "      <td>Banana with peanut butter</td>\n",
       "      <td>Weight Gain</td>\n",
       "    </tr>\n",
       "    <tr>\n",
       "      <th>4</th>\n",
       "      <td>62</td>\n",
       "      <td>Male</td>\n",
       "      <td>170</td>\n",
       "      <td>85</td>\n",
       "      <td>Sedentary</td>\n",
       "      <td>Vegetarian</td>\n",
       "      <td>2000</td>\n",
       "      <td>80</td>\n",
       "      <td>125.0</td>\n",
       "      <td>16.0</td>\n",
       "      <td>1815</td>\n",
       "      <td>250</td>\n",
       "      <td>30.00</td>\n",
       "      <td>55</td>\n",
       "      <td>Scrambled eggs with whole wheat toast and avocado</td>\n",
       "      <td>Quinoa salad with chickpeas and vegetables</td>\n",
       "      <td>Vegetarian chili with cornbread</td>\n",
       "      <td>Fruit and nut mix</td>\n",
       "      <td>Weight Gain</td>\n",
       "    </tr>\n",
       "    <tr>\n",
       "      <th>...</th>\n",
       "      <td>...</td>\n",
       "      <td>...</td>\n",
       "      <td>...</td>\n",
       "      <td>...</td>\n",
       "      <td>...</td>\n",
       "      <td>...</td>\n",
       "      <td>...</td>\n",
       "      <td>...</td>\n",
       "      <td>...</td>\n",
       "      <td>...</td>\n",
       "      <td>...</td>\n",
       "      <td>...</td>\n",
       "      <td>...</td>\n",
       "      <td>...</td>\n",
       "      <td>...</td>\n",
       "      <td>...</td>\n",
       "      <td>...</td>\n",
       "      <td>...</td>\n",
       "      <td>...</td>\n",
       "    </tr>\n",
       "    <tr>\n",
       "      <th>1693</th>\n",
       "      <td>53</td>\n",
       "      <td>Female</td>\n",
       "      <td>182</td>\n",
       "      <td>76</td>\n",
       "      <td>Sedentary</td>\n",
       "      <td>Vegan</td>\n",
       "      <td>1265</td>\n",
       "      <td>94</td>\n",
       "      <td>63.0</td>\n",
       "      <td>18.8</td>\n",
       "      <td>1258</td>\n",
       "      <td>126</td>\n",
       "      <td>15.12</td>\n",
       "      <td>42</td>\n",
       "      <td>Oatmeal with berries and nuts</td>\n",
       "      <td>Quinoa salad with chickpeas and vegetables</td>\n",
       "      <td>Vegetable stir-fry with brown rice</td>\n",
       "      <td>Apple with almond butter</td>\n",
       "      <td>Diabetes, Acne, Weight Gain, Hypertension, Hea...</td>\n",
       "    </tr>\n",
       "    <tr>\n",
       "      <th>1694</th>\n",
       "      <td>38</td>\n",
       "      <td>Male</td>\n",
       "      <td>150</td>\n",
       "      <td>76</td>\n",
       "      <td>Very Active</td>\n",
       "      <td>Vegan</td>\n",
       "      <td>2109</td>\n",
       "      <td>158</td>\n",
       "      <td>105.0</td>\n",
       "      <td>31.6</td>\n",
       "      <td>2102</td>\n",
       "      <td>210</td>\n",
       "      <td>25.20</td>\n",
       "      <td>70</td>\n",
       "      <td>Oatmeal with berries and nuts</td>\n",
       "      <td>Grilled chicken salad with mixed greens</td>\n",
       "      <td>Lentil and vegetable curry</td>\n",
       "      <td>Apple with almond butter</td>\n",
       "      <td>Weight Gain</td>\n",
       "    </tr>\n",
       "    <tr>\n",
       "      <th>1695</th>\n",
       "      <td>57</td>\n",
       "      <td>Male</td>\n",
       "      <td>165</td>\n",
       "      <td>73</td>\n",
       "      <td>Very Active</td>\n",
       "      <td>Vegan</td>\n",
       "      <td>2555</td>\n",
       "      <td>191</td>\n",
       "      <td>127.5</td>\n",
       "      <td>38.2</td>\n",
       "      <td>2549</td>\n",
       "      <td>255</td>\n",
       "      <td>30.60</td>\n",
       "      <td>85</td>\n",
       "      <td>Smoothie with protein powder</td>\n",
       "      <td>Chicken and vegetable stir-fry</td>\n",
       "      <td>Vegetable stir-fry with brown rice</td>\n",
       "      <td>Fruit and nut mix</td>\n",
       "      <td>Weight Gain</td>\n",
       "    </tr>\n",
       "    <tr>\n",
       "      <th>1696</th>\n",
       "      <td>40</td>\n",
       "      <td>Male</td>\n",
       "      <td>166</td>\n",
       "      <td>91</td>\n",
       "      <td>Extremely Active</td>\n",
       "      <td>Vegan</td>\n",
       "      <td>3329</td>\n",
       "      <td>249</td>\n",
       "      <td>166.0</td>\n",
       "      <td>49.8</td>\n",
       "      <td>3314</td>\n",
       "      <td>332</td>\n",
       "      <td>39.84</td>\n",
       "      <td>110</td>\n",
       "      <td>Scrambled eggs with whole wheat toast</td>\n",
       "      <td>Lentil soup with whole wheat bread</td>\n",
       "      <td>Vegetable stir-fry with brown rice</td>\n",
       "      <td>Banana with peanut butter</td>\n",
       "      <td>Weight Gain</td>\n",
       "    </tr>\n",
       "    <tr>\n",
       "      <th>1697</th>\n",
       "      <td>54</td>\n",
       "      <td>Female</td>\n",
       "      <td>198</td>\n",
       "      <td>75</td>\n",
       "      <td>Sedentary</td>\n",
       "      <td>Vegetarian</td>\n",
       "      <td>1867</td>\n",
       "      <td>140</td>\n",
       "      <td>93.0</td>\n",
       "      <td>28.0</td>\n",
       "      <td>1862</td>\n",
       "      <td>186</td>\n",
       "      <td>22.32</td>\n",
       "      <td>62</td>\n",
       "      <td>Scrambled eggs with whole wheat toast</td>\n",
       "      <td>Chicken and vegetable stir-fry</td>\n",
       "      <td>Pasta with marinara sauce and veggies</td>\n",
       "      <td>Banana with peanut butter</td>\n",
       "      <td>Weight Gain</td>\n",
       "    </tr>\n",
       "  </tbody>\n",
       "</table>\n",
       "<p>1698 rows × 19 columns</p>\n",
       "</div>"
      ],
      "text/plain": [
       "      Ages  Gender  Height  Weight     Activity Level Dietary Preference  \\\n",
       "0       25    Male     180      80  Moderately Active           Omnivore   \n",
       "1       32  Female     165      65     Lightly Active         Vegetarian   \n",
       "2       48    Male     175      95          Sedentary              Vegan   \n",
       "3       55  Female     160      70        Very Active           Omnivore   \n",
       "4       62    Male     170      85          Sedentary         Vegetarian   \n",
       "...    ...     ...     ...     ...                ...                ...   \n",
       "1693    53  Female     182      76          Sedentary              Vegan   \n",
       "1694    38    Male     150      76        Very Active              Vegan   \n",
       "1695    57    Male     165      73        Very Active              Vegan   \n",
       "1696    40    Male     166      91   Extremely Active              Vegan   \n",
       "1697    54  Female     198      75          Sedentary         Vegetarian   \n",
       "\n",
       "      Daily Calorie Target  Protein  Sugar  Sodium  Calories  Carbohydrates  \\\n",
       "0                     2000      120  125.0    24.0      2020            250   \n",
       "1                     1600       80  100.0    16.0      1480            200   \n",
       "2                     2200      100  150.0    20.0      2185            300   \n",
       "3                     2500      140  175.0    28.0      2680            350   \n",
       "4                     2000       80  125.0    16.0      1815            250   \n",
       "...                    ...      ...    ...     ...       ...            ...   \n",
       "1693                  1265       94   63.0    18.8      1258            126   \n",
       "1694                  2109      158  105.0    31.6      2102            210   \n",
       "1695                  2555      191  127.5    38.2      2549            255   \n",
       "1696                  3329      249  166.0    49.8      3314            332   \n",
       "1697                  1867      140   93.0    28.0      1862            186   \n",
       "\n",
       "      Fiber  Fat                               Breakfast Suggestion  \\\n",
       "0     30.00   60                      Oatmeal with berries and nuts   \n",
       "1     24.00   40                         Tofu scramble with veggies   \n",
       "2     36.00   65                  Tofu and veggie breakfast burrito   \n",
       "3     42.00   80                Greek yogurt with granola and fruit   \n",
       "4     30.00   55  Scrambled eggs with whole wheat toast and avocado   \n",
       "...     ...  ...                                                ...   \n",
       "1693  15.12   42                      Oatmeal with berries and nuts   \n",
       "1694  25.20   70                      Oatmeal with berries and nuts   \n",
       "1695  30.60   85                       Smoothie with protein powder   \n",
       "1696  39.84  110              Scrambled eggs with whole wheat toast   \n",
       "1697  22.32   62              Scrambled eggs with whole wheat toast   \n",
       "\n",
       "                                Lunch Suggestion  \\\n",
       "0        Grilled chicken salad with mixed greens   \n",
       "1             Lentil soup with whole wheat bread   \n",
       "2         Black bean burger on a whole wheat bun   \n",
       "3                 Chicken and vegetable stir-fry   \n",
       "4     Quinoa salad with chickpeas and vegetables   \n",
       "...                                          ...   \n",
       "1693  Quinoa salad with chickpeas and vegetables   \n",
       "1694     Grilled chicken salad with mixed greens   \n",
       "1695              Chicken and vegetable stir-fry   \n",
       "1696          Lentil soup with whole wheat bread   \n",
       "1697              Chicken and vegetable stir-fry   \n",
       "\n",
       "                          Dinner Suggestion           Snack Suggestion  \\\n",
       "0            Salmon with roasted vegetables    Greek yogurt with fruit   \n",
       "1        Vegetable stir-fry with brown rice   Apple with almond butter   \n",
       "2                Lentil and vegetable curry                  Trail mix   \n",
       "3              Turkey chili with brown rice  Banana with peanut butter   \n",
       "4           Vegetarian chili with cornbread          Fruit and nut mix   \n",
       "...                                     ...                        ...   \n",
       "1693     Vegetable stir-fry with brown rice   Apple with almond butter   \n",
       "1694             Lentil and vegetable curry   Apple with almond butter   \n",
       "1695     Vegetable stir-fry with brown rice          Fruit and nut mix   \n",
       "1696     Vegetable stir-fry with brown rice  Banana with peanut butter   \n",
       "1697  Pasta with marinara sauce and veggies  Banana with peanut butter   \n",
       "\n",
       "                                                Disease  \n",
       "0                                           Weight Gain  \n",
       "1              Weight Gain, Hypertension, Heart Disease  \n",
       "2                                           Weight Gain  \n",
       "3                                           Weight Gain  \n",
       "4                                           Weight Gain  \n",
       "...                                                 ...  \n",
       "1693  Diabetes, Acne, Weight Gain, Hypertension, Hea...  \n",
       "1694                                        Weight Gain  \n",
       "1695                                        Weight Gain  \n",
       "1696                                        Weight Gain  \n",
       "1697                                        Weight Gain  \n",
       "\n",
       "[1698 rows x 19 columns]"
      ]
     },
     "execution_count": 135,
     "metadata": {},
     "output_type": "execute_result"
    }
   ],
   "source": [
    "df"
   ]
  },
  {
   "cell_type": "markdown",
   "id": "65df1f9b-797e-4c97-b298-be5b1584d7aa",
   "metadata": {},
   "source": [
    "## Visualizations"
   ]
  },
  {
   "cell_type": "markdown",
   "id": "d4b233bb-06ba-4bab-a01e-cb7fc1d98e2a",
   "metadata": {},
   "source": [
    "### Distribution By Ages"
   ]
  },
  {
   "cell_type": "code",
   "execution_count": 183,
   "id": "72e621bf-16c8-4fd2-ac44-f372ec1efc64",
   "metadata": {},
   "outputs": [
    {
     "data": {
      "text/html": [
       "<div>\n",
       "<style scoped>\n",
       "    .dataframe tbody tr th:only-of-type {\n",
       "        vertical-align: middle;\n",
       "    }\n",
       "\n",
       "    .dataframe tbody tr th {\n",
       "        vertical-align: top;\n",
       "    }\n",
       "\n",
       "    .dataframe thead th {\n",
       "        text-align: right;\n",
       "    }\n",
       "</style>\n",
       "<table border=\"1\" class=\"dataframe\">\n",
       "  <thead>\n",
       "    <tr style=\"text-align: right;\">\n",
       "      <th></th>\n",
       "      <th>Ages</th>\n",
       "      <th>count</th>\n",
       "    </tr>\n",
       "  </thead>\n",
       "  <tbody>\n",
       "    <tr>\n",
       "      <th>10</th>\n",
       "      <td>18</td>\n",
       "      <td>14</td>\n",
       "    </tr>\n",
       "    <tr>\n",
       "      <th>34</th>\n",
       "      <td>19</td>\n",
       "      <td>25</td>\n",
       "    </tr>\n",
       "    <tr>\n",
       "      <th>9</th>\n",
       "      <td>20</td>\n",
       "      <td>14</td>\n",
       "    </tr>\n",
       "    <tr>\n",
       "      <th>55</th>\n",
       "      <td>21</td>\n",
       "      <td>51</td>\n",
       "    </tr>\n",
       "    <tr>\n",
       "      <th>54</th>\n",
       "      <td>22</td>\n",
       "      <td>50</td>\n",
       "    </tr>\n",
       "    <tr>\n",
       "      <th>...</th>\n",
       "      <td>...</td>\n",
       "      <td>...</td>\n",
       "    </tr>\n",
       "    <tr>\n",
       "      <th>6</th>\n",
       "      <td>75</td>\n",
       "      <td>9</td>\n",
       "    </tr>\n",
       "    <tr>\n",
       "      <th>2</th>\n",
       "      <td>76</td>\n",
       "      <td>4</td>\n",
       "    </tr>\n",
       "    <tr>\n",
       "      <th>5</th>\n",
       "      <td>77</td>\n",
       "      <td>8</td>\n",
       "    </tr>\n",
       "    <tr>\n",
       "      <th>3</th>\n",
       "      <td>78</td>\n",
       "      <td>5</td>\n",
       "    </tr>\n",
       "    <tr>\n",
       "      <th>0</th>\n",
       "      <td>79</td>\n",
       "      <td>3</td>\n",
       "    </tr>\n",
       "  </tbody>\n",
       "</table>\n",
       "<p>62 rows × 2 columns</p>\n",
       "</div>"
      ],
      "text/plain": [
       "    Ages  count\n",
       "10    18     14\n",
       "34    19     25\n",
       "9     20     14\n",
       "55    21     51\n",
       "54    22     50\n",
       "..   ...    ...\n",
       "6     75      9\n",
       "2     76      4\n",
       "5     77      8\n",
       "3     78      5\n",
       "0     79      3\n",
       "\n",
       "[62 rows x 2 columns]"
      ]
     },
     "execution_count": 183,
     "metadata": {},
     "output_type": "execute_result"
    }
   ],
   "source": [
    "df_age_count = df['Ages'].value_counts()\n",
    "df_age_count = df_age_count.sort_values()\n",
    "\n",
    "df_age_count = df_age_count.reset_index()\n",
    "df_age_count.sort_values(by='Ages')"
   ]
  },
  {
   "cell_type": "code",
   "execution_count": 185,
   "id": "16e5391c-f253-43e9-8b64-7cfd28c171af",
   "metadata": {},
   "outputs": [
    {
     "data": {
      "image/png": "[encoded data removed]",
      "text/plain": [
       "<Figure size 640x480 with 1 Axes>"
      ]
     },
     "metadata": {},
     "output_type": "display_data"
    }
   ],
   "source": [
    "sns.lineplot(data=df_age_count, x='Ages', y='count', marker='o', color='turquoise')\n",
    "plt.title('Humans By Age')\n",
    "plt.xlabel('Age')\n",
    "plt.ylabel('Amount (per Human)')\n",
    "plt.show()"
   ]
  },
  {
   "cell_type": "markdown",
   "id": "d1ae2538-d4c0-41bd-b073-a60ec924888e",
   "metadata": {},
   "source": [
    "### Distribution By Gender"
   ]
  },
  {
   "cell_type": "code",
   "execution_count": 187,
   "id": "d4e43436-f8d0-4ae5-8f18-62df7f0eb77e",
   "metadata": {},
   "outputs": [
    {
     "data": {
      "text/plain": [
       "Gender\n",
       "Female    862\n",
       "Male      836\n",
       "Name: count, dtype: int64"
      ]
     },
     "execution_count": 187,
     "metadata": {},
     "output_type": "execute_result"
    }
   ],
   "source": [
    "df_gender_count = df['Gender'].value_counts()\n",
    "df_gender_count\n"
   ]
  },
  {
   "cell_type": "markdown",
   "id": "781b6f5c-cb56-47cd-a087-d5cdec27cd6f",
   "metadata": {},
   "source": [
    "#### Pie Chart"
   ]
  },
  {
   "cell_type": "code",
   "execution_count": 216,
   "id": "4d160b82-9efb-41a0-b835-d931f4e8be06",
   "metadata": {},
   "outputs": [
    {
     "data": {
      "image/png": "[encoded data removed]",
      "text/plain": [
       "<Figure size 1200x800 with 1 Axes>"
      ]
     },
     "metadata": {},
     "output_type": "display_data"
    }
   ],
   "source": [
    "plt.figure(figsize=(12,8))\n",
    "plt.pie(df_gender_count, labels=df_gender_count.index, colors='crimson', autopct='%1.1f%%', explode=[0.03, 0], shadow=True)\n",
    "plt.title('Percent Gender')\n",
    "plt.show()"
   ]
  },
  {
   "cell_type": "markdown",
   "id": "33ab71af-f677-45e7-8df9-bb4a00466223",
   "metadata": {},
   "source": [
    "### Distribution By Height"
   ]
  },
  {
   "cell_type": "code",
   "execution_count": 219,
   "id": "67980f69-d917-49de-b19d-0de6fc918e67",
   "metadata": {},
   "outputs": [
    {
     "data": {
      "text/html": [
       "<div>\n",
       "<style scoped>\n",
       "    .dataframe tbody tr th:only-of-type {\n",
       "        vertical-align: middle;\n",
       "    }\n",
       "\n",
       "    .dataframe tbody tr th {\n",
       "        vertical-align: top;\n",
       "    }\n",
       "\n",
       "    .dataframe thead th {\n",
       "        text-align: right;\n",
       "    }\n",
       "</style>\n",
       "<table border=\"1\" class=\"dataframe\">\n",
       "  <thead>\n",
       "    <tr style=\"text-align: right;\">\n",
       "      <th></th>\n",
       "      <th>Height</th>\n",
       "      <th>count</th>\n",
       "    </tr>\n",
       "  </thead>\n",
       "  <tbody>\n",
       "    <tr>\n",
       "      <th>45</th>\n",
       "      <td>150</td>\n",
       "      <td>19</td>\n",
       "    </tr>\n",
       "    <tr>\n",
       "      <th>32</th>\n",
       "      <td>151</td>\n",
       "      <td>24</td>\n",
       "    </tr>\n",
       "    <tr>\n",
       "      <th>15</th>\n",
       "      <td>152</td>\n",
       "      <td>30</td>\n",
       "    </tr>\n",
       "    <tr>\n",
       "      <th>14</th>\n",
       "      <td>153</td>\n",
       "      <td>31</td>\n",
       "    </tr>\n",
       "    <tr>\n",
       "      <th>36</th>\n",
       "      <td>154</td>\n",
       "      <td>22</td>\n",
       "    </tr>\n",
       "  </tbody>\n",
       "</table>\n",
       "</div>"
      ],
      "text/plain": [
       "    Height  count\n",
       "45     150     19\n",
       "32     151     24\n",
       "15     152     30\n",
       "14     153     31\n",
       "36     154     22"
      ]
     },
     "execution_count": 219,
     "metadata": {},
     "output_type": "execute_result"
    }
   ],
   "source": [
    "df_height_count = df['Height'].value_counts()\n",
    "df_height_count = df_height_count.reset_index().sort_values(by='Height')\n",
    "df_height_count.head()"
   ]
  },
  {
   "cell_type": "markdown",
   "id": "5a601f19-b1ab-4132-8d8f-7ddd0e59b068",
   "metadata": {},
   "source": [
    "#### Barplot"
   ]
  },
  {
   "cell_type": "code",
   "execution_count": 222,
   "id": "62199be2-f621-48e9-bbd8-9684602447dc",
   "metadata": {},
   "outputs": [
    {
     "data": {
      "image/png": "[encoded data removed]",
      "text/plain": [
       "<Figure size 1200x800 with 1 Axes>"
      ]
     },
     "metadata": {},
     "output_type": "display_data"
    }
   ],
   "source": [
    "plt.figure(figsize=(12,8))\n",
    "sns.barplot(data=df_height_count, x='Height', y='count', color='turquoise')\n",
    "plt.xticks(rotation=90)\n",
    "plt.title('Height Per Person')\n",
    "plt.xlabel('Height (cm)')\n",
    "plt.ylabel('Amount (Person)')\n",
    "plt.show()"
   ]
  },
  {
   "cell_type": "markdown",
   "id": "199137fb-0a0b-42f9-8d28-e54c8f8c9d3f",
   "metadata": {},
   "source": [
    "#### Boxplot"
   ]
  },
  {
   "cell_type": "code",
   "execution_count": 231,
   "id": "e1a4e310-5708-4095-b744-62f018f0341a",
   "metadata": {},
   "outputs": [
    {
     "data": {
      "image/png": "[encoded data removed]",
      "text/plain": [
       "<Figure size 1000x600 with 1 Axes>"
      ]
     },
     "metadata": {},
     "output_type": "display_data"
    }
   ],
   "source": [
    "plt.figure(figsize=(10,6))\n",
    "sns.boxplot(data=df['Height'], color='turquoise')\n",
    "plt.title('Height Boxplot')\n",
    "plt.ylabel('Height (cm)')\n",
    "plt.show()"
   ]
  },
  {
   "cell_type": "markdown",
   "id": "b46d972c-fc71-4efc-9f44-1cb04068e5bb",
   "metadata": {},
   "source": [
    "### Distribution By Weight"
   ]
  },
  {
   "cell_type": "code",
   "execution_count": 234,
   "id": "1fb9f809-7be7-4f25-a418-650014b07b25",
   "metadata": {},
   "outputs": [
    {
     "data": {
      "text/html": [
       "<div>\n",
       "<style scoped>\n",
       "    .dataframe tbody tr th:only-of-type {\n",
       "        vertical-align: middle;\n",
       "    }\n",
       "\n",
       "    .dataframe tbody tr th {\n",
       "        vertical-align: top;\n",
       "    }\n",
       "\n",
       "    .dataframe thead th {\n",
       "        text-align: right;\n",
       "    }\n",
       "</style>\n",
       "<table border=\"1\" class=\"dataframe\">\n",
       "  <thead>\n",
       "    <tr style=\"text-align: right;\">\n",
       "      <th></th>\n",
       "      <th>Weight</th>\n",
       "      <th>count</th>\n",
       "    </tr>\n",
       "  </thead>\n",
       "  <tbody>\n",
       "    <tr>\n",
       "      <th>70</th>\n",
       "      <td>48</td>\n",
       "      <td>1</td>\n",
       "    </tr>\n",
       "    <tr>\n",
       "      <th>11</th>\n",
       "      <td>50</td>\n",
       "      <td>36</td>\n",
       "    </tr>\n",
       "    <tr>\n",
       "      <th>42</th>\n",
       "      <td>51</td>\n",
       "      <td>17</td>\n",
       "    </tr>\n",
       "    <tr>\n",
       "      <th>16</th>\n",
       "      <td>52</td>\n",
       "      <td>27</td>\n",
       "    </tr>\n",
       "    <tr>\n",
       "      <th>40</th>\n",
       "      <td>53</td>\n",
       "      <td>19</td>\n",
       "    </tr>\n",
       "  </tbody>\n",
       "</table>\n",
       "</div>"
      ],
      "text/plain": [
       "    Weight  count\n",
       "70      48      1\n",
       "11      50     36\n",
       "42      51     17\n",
       "16      52     27\n",
       "40      53     19"
      ]
     },
     "execution_count": 234,
     "metadata": {},
     "output_type": "execute_result"
    }
   ],
   "source": [
    "df_weight_count = df['Weight'].value_counts()\n",
    "df_weight_count = df_weight_count.reset_index().sort_values(by='Weight')\n",
    "df_weight_count.head()"
   ]
  },
  {
   "cell_type": "markdown",
   "id": "cae29900-a735-44ca-81ec-867c5a7813de",
   "metadata": {},
   "source": [
    "#### Barplot"
   ]
  },
  {
   "cell_type": "code",
   "execution_count": 239,
   "id": "5a37e93b-294c-433a-8dec-670c11465286",
   "metadata": {},
   "outputs": [
    {
     "data": {
      "text/plain": [
       "<Figure size 1200x800 with 0 Axes>"
      ]
     },
     "metadata": {},
     "output_type": "display_data"
    },
    {
     "data": {
      "image/png": "[encoded data removed]",
      "text/plain": [
       "<Figure size 1200x800 with 1 Axes>"
      ]
     },
     "metadata": {},
     "output_type": "display_data"
    }
   ],
   "source": [
    "plt.figure(figsize=(12,8))\n",
    "sns.barplot(data=df_weight_count, x='Weight', y='count', color='turquoise')\n",
    "plt.xticks(rotation=90)\n",
    "plt.title('Weight Per Person')\n",
    "plt.xlabel('Weight (kg)')\n",
    "plt.ylabel('Amount (Person)')\n",
    "plt.show()"
   ]
  },
  {
   "cell_type": "markdown",
   "id": "43131b99-ea0a-4407-a0c6-e9ad5e6db690",
   "metadata": {},
   "source": [
    "#### Boxplot"
   ]
  },
  {
   "cell_type": "code",
   "execution_count": 242,
   "id": "d6b22664-a5cd-4ebc-9b33-d67cf01036d8",
   "metadata": {},
   "outputs": [
    {
     "data": {
      "image/png": "[encoded data removed]",
      "text/plain": [
       "<Figure size 1000x600 with 1 Axes>"
      ]
     },
     "metadata": {},
     "output_type": "display_data"
    }
   ],
   "source": [
    "plt.figure(figsize=(10,6))\n",
    "sns.boxplot(data=df['Weight'], color='turquoise')\n",
    "plt.title('Weight Boxplot')\n",
    "plt.ylabel('Weight (kg)')\n",
    "plt.show()"
   ]
  },
  {
   "cell_type": "markdown",
   "id": "08fef19a-aae2-4f7e-8156-465e71c5822c",
   "metadata": {},
   "source": [
    "### Distribution By Activity Level"
   ]
  },
  {
   "cell_type": "code",
   "execution_count": 245,
   "id": "0c812077-7bf6-4de1-89ee-53b657787008",
   "metadata": {},
   "outputs": [
    {
     "data": {
      "text/plain": [
       "Activity Level\n",
       "Moderately Active    420\n",
       "Sedentary            403\n",
       "Lightly Active       396\n",
       "Very Active          341\n",
       "Extremely Active     138\n",
       "Name: count, dtype: int64"
      ]
     },
     "execution_count": 245,
     "metadata": {},
     "output_type": "execute_result"
    }
   ],
   "source": [
    "df_act_level = df['Activity Level'].value_counts()\n",
    "df_act_level.head()"
   ]
  },
  {
   "cell_type": "markdown",
   "id": "f05acb0a-bc46-47f6-8be4-e95220a08f93",
   "metadata": {},
   "source": [
    "#### Pie Chart"
   ]
  },
  {
   "cell_type": "code",
   "execution_count": 254,
   "id": "6098d213-925f-4024-9107-dadf7e434f8a",
   "metadata": {},
   "outputs": [
    {
     "data": {
      "image/png": "[encoded data removed]",
      "text/plain": [
       "<Figure size 1200x800 with 1 Axes>"
      ]
     },
     "metadata": {},
     "output_type": "display_data"
    }
   ],
   "source": [
    "plt.figure(figsize=(12,8))\n",
    "plt.pie(df_act_level, labels=df_act_level.index, autopct='%1.1f%%', explode=[0.02, 0.02, 0, 0, 0], shadow=True)\n",
    "plt.title('Distribution By Activity Level')\n",
    "plt.show()"
   ]
  },
  {
   "cell_type": "markdown",
   "id": "dfc99851-516f-4c5a-bef5-c4c18d7178df",
   "metadata": {},
   "source": [
    "### Distribution By Dietary Preference"
   ]
  },
  {
   "cell_type": "code",
   "execution_count": 258,
   "id": "4632e53a-6d52-4334-9af0-522ef4f31d52",
   "metadata": {},
   "outputs": [
    {
     "data": {
      "text/plain": [
       "Dietary Preference\n",
       "Omnivore       564\n",
       "Vegan          546\n",
       "Vegetarian     448\n",
       "Pescatarian    140\n",
       "Name: count, dtype: int64"
      ]
     },
     "execution_count": 258,
     "metadata": {},
     "output_type": "execute_result"
    }
   ],
   "source": [
    "df_diet_pref_count = df['Dietary Preference'].value_counts()\n",
    "df_diet_pref_count.head()"
   ]
  },
  {
   "cell_type": "markdown",
   "id": "688656f4-2c75-4200-8c8e-6b9b7a5a55e9",
   "metadata": {},
   "source": [
    "#### Pie Chart"
   ]
  },
  {
   "cell_type": "code",
   "execution_count": 263,
   "id": "f52e657f-6cfd-40de-8453-3611da9762ea",
   "metadata": {},
   "outputs": [
    {
     "data": {
      "image/png": "[encoded data removed]",
      "text/plain": [
       "<Figure size 1200x800 with 1 Axes>"
      ]
     },
     "metadata": {},
     "output_type": "display_data"
    }
   ],
   "source": [
    "plt.figure(figsize=(12,8))\n",
    "plt.pie(df_diet_pref_count, labels=df_diet_pref_count.index, autopct='%1.1f%%', shadow=True)\n",
    "plt.title('Distribution By Dietary Preference')\n",
    "plt.show()"
   ]
  },
  {
   "cell_type": "markdown",
   "id": "079c6621-8040-4d1b-bf3d-c84436a56bca",
   "metadata": {},
   "source": [
    "### Distribution By Daily Calories"
   ]
  },
  {
   "cell_type": "code",
   "execution_count": 266,
   "id": "38b9a360-198a-40f9-8c31-bb1224082c80",
   "metadata": {},
   "outputs": [
    {
     "data": {
      "text/plain": [
       "Daily Calorie Target\n",
       "1800    91\n",
       "2000    68\n",
       "2200    61\n",
       "1600    42\n",
       "2500    36\n",
       "Name: count, dtype: int64"
      ]
     },
     "execution_count": 266,
     "metadata": {},
     "output_type": "execute_result"
    }
   ],
   "source": [
    "df_daily_cal = df['Daily Calorie Target'].value_counts()\n",
    "df_daily_cal.head()"
   ]
  },
  {
   "cell_type": "markdown",
   "id": "0eca0d8d-805e-43af-95f5-44e4416f4afe",
   "metadata": {},
   "source": [
    "#### Boxplot"
   ]
  },
  {
   "cell_type": "code",
   "execution_count": 269,
   "id": "df1a7349-775b-4099-8e10-abea46f3f8ab",
   "metadata": {},
   "outputs": [
    {
     "data": {
      "image/png": "[encoded data removed]",
      "text/plain": [
       "<Figure size 1000x600 with 1 Axes>"
      ]
     },
     "metadata": {},
     "output_type": "display_data"
    }
   ],
   "source": [
    "plt.figure(figsize=(10,6))\n",
    "sns.boxplot(data=df['Daily Calorie Target'], color='turquoise')\n",
    "plt.title('Daily Calories Boxplot')\n",
    "plt.ylabel('Calories (kj)')\n",
    "plt.show()"
   ]
  },
  {
   "cell_type": "code",
   "execution_count": null,
   "id": "2a1925ad-ce57-40de-9eee-e31353fd1e9d",
   "metadata": {},
   "outputs": [],
   "source": []
  },
  {
   "cell_type": "code",
   "execution_count": null,
   "id": "4356bdb1-18ca-4ade-8fb8-26386efbf96d",
   "metadata": {},
   "outputs": [],
   "source": []
  },
  {
   "cell_type": "code",
   "execution_count": null,
   "id": "39691278-c3c7-4f17-9eb9-04d70d32a037",
   "metadata": {},
   "outputs": [],
   "source": []
  },
  {
   "cell_type": "code",
   "execution_count": null,
   "id": "8e0b30cf-f6f5-4400-a744-fcf74c866767",
   "metadata": {},
   "outputs": [],
   "source": []
  }
 ],
 "metadata": {
  "kernelspec": {
   "display_name": "Python 3 (ipykernel)",
   "language": "python",
   "name": "python3"
  },
  "language_info": {
   "codemirror_mode": {
    "name": "ipython",
    "version": 3
   },
   "file_extension": ".py",
   "mimetype": "text/x-python",
   "name": "python",
   "nbconvert_exporter": "python",
   "pygments_lexer": "ipython3",
   "version": "3.12.7"
  }
 },
 "nbformat": 4,
 "nbformat_minor": 5
}
