{
 "cells": [
  {
   "cell_type": "markdown",
   "id": "1d593253-9936-47ee-aaae-fc10f41bb825",
   "metadata": {},
   "source": [
    "# Import Libraries"
   ]
  },
  {
   "cell_type": "code",
   "execution_count": 3,
   "id": "57f4c144-e2bc-4eff-97ff-34e3dfed9f6d",
   "metadata": {},
   "outputs": [],
   "source": [
    "import pandas as pd\n",
    "import numpy as np\n",
    "import seaborn as sns\n",
    "import matplotlib.pyplot as plt\n",
    "import statsmodels.api as sm\n",
    "from sklearn.model_selection import train_test_split\n",
    "from sklearn.preprocessing import StandardScaler\n",
    "from sklearn.ensemble import RandomForestClassifier, GradientBoostingClassifier\n",
    "from sklearn.metrics import mean_squared_error, r2_score\n",
    "from sklearn.metrics import accuracy_score, classification_report\n",
    "from sklearn.linear_model import LogisticRegression\n",
    "from sklearn.linear_model import LinearRegression\n",
    "from sklearn.metrics import confusion_matrix\n",
    "from sklearn.neighbors import KNeighborsClassifier\n",
    "from sklearn.svm import SVC\n",
    "from sklearn.tree import DecisionTreeClassifier\n",
    "import warnings\n",
    "\n",
    "warnings.filterwarnings('ignore')\n",
    "%matplotlib inline"
   ]
  },
  {
   "cell_type": "markdown",
   "id": "4aae721d-7503-4e0a-9ddd-6d402df8f145",
   "metadata": {},
   "source": [
    "# Dataset"
   ]
  },
  {
   "cell_type": "code",
   "execution_count": 2,
   "id": "9cb7f5af-d398-4c3a-9c61-25ec68cb6a69",
   "metadata": {},
   "outputs": [
    {
     "data": {
      "text/html": [
       "<div>\n",
       "<style scoped>\n",
       "    .dataframe tbody tr th:only-of-type {\n",
       "        vertical-align: middle;\n",
       "    }\n",
       "\n",
       "    .dataframe tbody tr th {\n",
       "        vertical-align: top;\n",
       "    }\n",
       "\n",
       "    .dataframe thead th {\n",
       "        text-align: right;\n",
       "    }\n",
       "</style>\n",
       "<table border=\"1\" class=\"dataframe\">\n",
       "  <thead>\n",
       "    <tr style=\"text-align: right;\">\n",
       "      <th></th>\n",
       "      <th>product_id</th>\n",
       "      <th>category</th>\n",
       "      <th>brand</th>\n",
       "      <th>season</th>\n",
       "      <th>size</th>\n",
       "      <th>color</th>\n",
       "      <th>original_price</th>\n",
       "      <th>markdown_percentage</th>\n",
       "      <th>current_price</th>\n",
       "      <th>purchase_date</th>\n",
       "      <th>stock_quantity</th>\n",
       "      <th>customer_rating</th>\n",
       "      <th>is_returned</th>\n",
       "      <th>return_reason</th>\n",
       "    </tr>\n",
       "  </thead>\n",
       "  <tbody>\n",
       "    <tr>\n",
       "      <th>0</th>\n",
       "      <td>FB000001</td>\n",
       "      <td>Outerwear</td>\n",
       "      <td>Zara</td>\n",
       "      <td>Spring</td>\n",
       "      <td>XL</td>\n",
       "      <td>Red</td>\n",
       "      <td>196.01</td>\n",
       "      <td>0.0</td>\n",
       "      <td>196.01</td>\n",
       "      <td>2025-07-05</td>\n",
       "      <td>37</td>\n",
       "      <td>3.0</td>\n",
       "      <td>False</td>\n",
       "      <td>NaN</td>\n",
       "    </tr>\n",
       "    <tr>\n",
       "      <th>1</th>\n",
       "      <td>FB000002</td>\n",
       "      <td>Tops</td>\n",
       "      <td>Uniqlo</td>\n",
       "      <td>Winter</td>\n",
       "      <td>L</td>\n",
       "      <td>Pink</td>\n",
       "      <td>119.64</td>\n",
       "      <td>0.0</td>\n",
       "      <td>119.64</td>\n",
       "      <td>2025-08-06</td>\n",
       "      <td>2</td>\n",
       "      <td>2.5</td>\n",
       "      <td>False</td>\n",
       "      <td>NaN</td>\n",
       "    </tr>\n",
       "    <tr>\n",
       "      <th>2</th>\n",
       "      <td>FB000003</td>\n",
       "      <td>Accessories</td>\n",
       "      <td>Uniqlo</td>\n",
       "      <td>Winter</td>\n",
       "      <td>NaN</td>\n",
       "      <td>Black</td>\n",
       "      <td>33.80</td>\n",
       "      <td>0.0</td>\n",
       "      <td>33.80</td>\n",
       "      <td>2025-08-06</td>\n",
       "      <td>22</td>\n",
       "      <td>4.3</td>\n",
       "      <td>False</td>\n",
       "      <td>NaN</td>\n",
       "    </tr>\n",
       "    <tr>\n",
       "      <th>3</th>\n",
       "      <td>FB000004</td>\n",
       "      <td>Shoes</td>\n",
       "      <td>Uniqlo</td>\n",
       "      <td>Spring</td>\n",
       "      <td>XL</td>\n",
       "      <td>Black</td>\n",
       "      <td>75.36</td>\n",
       "      <td>0.0</td>\n",
       "      <td>75.36</td>\n",
       "      <td>2025-07-07</td>\n",
       "      <td>48</td>\n",
       "      <td>2.6</td>\n",
       "      <td>False</td>\n",
       "      <td>NaN</td>\n",
       "    </tr>\n",
       "    <tr>\n",
       "      <th>4</th>\n",
       "      <td>FB000005</td>\n",
       "      <td>Tops</td>\n",
       "      <td>Banana Republic</td>\n",
       "      <td>Winter</td>\n",
       "      <td>XL</td>\n",
       "      <td>Black</td>\n",
       "      <td>105.02</td>\n",
       "      <td>0.0</td>\n",
       "      <td>105.02</td>\n",
       "      <td>2025-08-06</td>\n",
       "      <td>10</td>\n",
       "      <td>NaN</td>\n",
       "      <td>False</td>\n",
       "      <td>NaN</td>\n",
       "    </tr>\n",
       "    <tr>\n",
       "      <th>...</th>\n",
       "      <td>...</td>\n",
       "      <td>...</td>\n",
       "      <td>...</td>\n",
       "      <td>...</td>\n",
       "      <td>...</td>\n",
       "      <td>...</td>\n",
       "      <td>...</td>\n",
       "      <td>...</td>\n",
       "      <td>...</td>\n",
       "      <td>...</td>\n",
       "      <td>...</td>\n",
       "      <td>...</td>\n",
       "      <td>...</td>\n",
       "      <td>...</td>\n",
       "    </tr>\n",
       "    <tr>\n",
       "      <th>2171</th>\n",
       "      <td>FB002172</td>\n",
       "      <td>Tops</td>\n",
       "      <td>Mango</td>\n",
       "      <td>Summer</td>\n",
       "      <td>XL</td>\n",
       "      <td>Black</td>\n",
       "      <td>31.41</td>\n",
       "      <td>0.0</td>\n",
       "      <td>31.41</td>\n",
       "      <td>2025-08-06</td>\n",
       "      <td>10</td>\n",
       "      <td>2.1</td>\n",
       "      <td>False</td>\n",
       "      <td>NaN</td>\n",
       "    </tr>\n",
       "    <tr>\n",
       "      <th>2172</th>\n",
       "      <td>FB002173</td>\n",
       "      <td>Dresses</td>\n",
       "      <td>Banana Republic</td>\n",
       "      <td>Winter</td>\n",
       "      <td>L</td>\n",
       "      <td>Brown</td>\n",
       "      <td>50.58</td>\n",
       "      <td>0.0</td>\n",
       "      <td>50.58</td>\n",
       "      <td>2025-08-06</td>\n",
       "      <td>1</td>\n",
       "      <td>3.1</td>\n",
       "      <td>True</td>\n",
       "      <td>Changed Mind</td>\n",
       "    </tr>\n",
       "    <tr>\n",
       "      <th>2173</th>\n",
       "      <td>FB002174</td>\n",
       "      <td>Accessories</td>\n",
       "      <td>Banana Republic</td>\n",
       "      <td>Winter</td>\n",
       "      <td>NaN</td>\n",
       "      <td>Beige</td>\n",
       "      <td>79.37</td>\n",
       "      <td>54.8</td>\n",
       "      <td>35.88</td>\n",
       "      <td>2025-08-06</td>\n",
       "      <td>40</td>\n",
       "      <td>2.6</td>\n",
       "      <td>False</td>\n",
       "      <td>NaN</td>\n",
       "    </tr>\n",
       "    <tr>\n",
       "      <th>2174</th>\n",
       "      <td>FB002175</td>\n",
       "      <td>Bottoms</td>\n",
       "      <td>Ann Taylor</td>\n",
       "      <td>Summer</td>\n",
       "      <td>XL</td>\n",
       "      <td>Pink</td>\n",
       "      <td>105.52</td>\n",
       "      <td>0.0</td>\n",
       "      <td>105.52</td>\n",
       "      <td>2025-08-06</td>\n",
       "      <td>20</td>\n",
       "      <td>4.9</td>\n",
       "      <td>True</td>\n",
       "      <td>Size Issue</td>\n",
       "    </tr>\n",
       "    <tr>\n",
       "      <th>2175</th>\n",
       "      <td>FB002176</td>\n",
       "      <td>Shoes</td>\n",
       "      <td>Ann Taylor</td>\n",
       "      <td>Summer</td>\n",
       "      <td>XXL</td>\n",
       "      <td>White</td>\n",
       "      <td>154.02</td>\n",
       "      <td>0.0</td>\n",
       "      <td>154.02</td>\n",
       "      <td>2025-08-06</td>\n",
       "      <td>23</td>\n",
       "      <td>1.3</td>\n",
       "      <td>False</td>\n",
       "      <td>NaN</td>\n",
       "    </tr>\n",
       "  </tbody>\n",
       "</table>\n",
       "<p>2176 rows × 14 columns</p>\n",
       "</div>"
      ],
      "text/plain": [
       "     product_id     category            brand  season size  color  \\\n",
       "0      FB000001    Outerwear             Zara  Spring   XL    Red   \n",
       "1      FB000002         Tops           Uniqlo  Winter    L   Pink   \n",
       "2      FB000003  Accessories           Uniqlo  Winter  NaN  Black   \n",
       "3      FB000004        Shoes           Uniqlo  Spring   XL  Black   \n",
       "4      FB000005         Tops  Banana Republic  Winter   XL  Black   \n",
       "...         ...          ...              ...     ...  ...    ...   \n",
       "2171   FB002172         Tops            Mango  Summer   XL  Black   \n",
       "2172   FB002173      Dresses  Banana Republic  Winter    L  Brown   \n",
       "2173   FB002174  Accessories  Banana Republic  Winter  NaN  Beige   \n",
       "2174   FB002175      Bottoms       Ann Taylor  Summer   XL   Pink   \n",
       "2175   FB002176        Shoes       Ann Taylor  Summer  XXL  White   \n",
       "\n",
       "      original_price  markdown_percentage  current_price purchase_date  \\\n",
       "0             196.01                  0.0         196.01    2025-07-05   \n",
       "1             119.64                  0.0         119.64    2025-08-06   \n",
       "2              33.80                  0.0          33.80    2025-08-06   \n",
       "3              75.36                  0.0          75.36    2025-07-07   \n",
       "4             105.02                  0.0         105.02    2025-08-06   \n",
       "...              ...                  ...            ...           ...   \n",
       "2171           31.41                  0.0          31.41    2025-08-06   \n",
       "2172           50.58                  0.0          50.58    2025-08-06   \n",
       "2173           79.37                 54.8          35.88    2025-08-06   \n",
       "2174          105.52                  0.0         105.52    2025-08-06   \n",
       "2175          154.02                  0.0         154.02    2025-08-06   \n",
       "\n",
       "      stock_quantity  customer_rating  is_returned return_reason  \n",
       "0                 37              3.0        False           NaN  \n",
       "1                  2              2.5        False           NaN  \n",
       "2                 22              4.3        False           NaN  \n",
       "3                 48              2.6        False           NaN  \n",
       "4                 10              NaN        False           NaN  \n",
       "...              ...              ...          ...           ...  \n",
       "2171              10              2.1        False           NaN  \n",
       "2172               1              3.1         True  Changed Mind  \n",
       "2173              40              2.6        False           NaN  \n",
       "2174              20              4.9         True    Size Issue  \n",
       "2175              23              1.3        False           NaN  \n",
       "\n",
       "[2176 rows x 14 columns]"
      ]
     },
     "execution_count": 2,
     "metadata": {},
     "output_type": "execute_result"
    }
   ],
   "source": [
    "df = pd.read_csv('fashion_boutique_dataset.csv')\n",
    "df"
   ]
  },
  {
   "cell_type": "code",
   "execution_count": 4,
   "id": "658008c9-0bc3-4a93-9dbc-a75fd171b99e",
   "metadata": {},
   "outputs": [
    {
     "data": {
      "text/plain": [
       "(2176, 14)"
      ]
     },
     "execution_count": 4,
     "metadata": {},
     "output_type": "execute_result"
    }
   ],
   "source": [
    "df.shape"
   ]
  },
  {
   "cell_type": "code",
   "execution_count": 5,
   "id": "b59c6fe7-731d-4fb8-9417-4eee3134bfb8",
   "metadata": {},
   "outputs": [
    {
     "name": "stdout",
     "output_type": "stream",
     "text": [
      "<class 'pandas.core.frame.DataFrame'>\n",
      "RangeIndex: 2176 entries, 0 to 2175\n",
      "Data columns (total 14 columns):\n",
      " #   Column               Non-Null Count  Dtype  \n",
      "---  ------               --------------  -----  \n",
      " 0   product_id           2176 non-null   object \n",
      " 1   category             2176 non-null   object \n",
      " 2   brand                2176 non-null   object \n",
      " 3   season               2176 non-null   object \n",
      " 4   size                 1685 non-null   object \n",
      " 5   color                2176 non-null   object \n",
      " 6   original_price       2176 non-null   float64\n",
      " 7   markdown_percentage  2176 non-null   float64\n",
      " 8   current_price        2176 non-null   float64\n",
      " 9   purchase_date        2176 non-null   object \n",
      " 10  stock_quantity       2176 non-null   int64  \n",
      " 11  customer_rating      1814 non-null   float64\n",
      " 12  is_returned          2176 non-null   bool   \n",
      " 13  return_reason        320 non-null    object \n",
      "dtypes: bool(1), float64(4), int64(1), object(8)\n",
      "memory usage: 223.3+ KB\n"
     ]
    }
   ],
   "source": [
    "df.info()"
   ]
  },
  {
   "cell_type": "code",
   "execution_count": 7,
   "id": "8c0dede2-1aac-4a0c-ab5f-337b884bad7f",
   "metadata": {},
   "outputs": [
    {
     "data": {
      "text/html": [
       "<div>\n",
       "<style scoped>\n",
       "    .dataframe tbody tr th:only-of-type {\n",
       "        vertical-align: middle;\n",
       "    }\n",
       "\n",
       "    .dataframe tbody tr th {\n",
       "        vertical-align: top;\n",
       "    }\n",
       "\n",
       "    .dataframe thead th {\n",
       "        text-align: right;\n",
       "    }\n",
       "</style>\n",
       "<table border=\"1\" class=\"dataframe\">\n",
       "  <thead>\n",
       "    <tr style=\"text-align: right;\">\n",
       "      <th></th>\n",
       "      <th>product_id</th>\n",
       "      <th>category</th>\n",
       "      <th>brand</th>\n",
       "      <th>season</th>\n",
       "      <th>size</th>\n",
       "      <th>color</th>\n",
       "      <th>original_price</th>\n",
       "      <th>markdown_percentage</th>\n",
       "      <th>current_price</th>\n",
       "      <th>purchase_date</th>\n",
       "      <th>stock_quantity</th>\n",
       "      <th>customer_rating</th>\n",
       "      <th>is_returned</th>\n",
       "      <th>return_reason</th>\n",
       "    </tr>\n",
       "  </thead>\n",
       "  <tbody>\n",
       "    <tr>\n",
       "      <th>count</th>\n",
       "      <td>2176</td>\n",
       "      <td>2176</td>\n",
       "      <td>2176</td>\n",
       "      <td>2176</td>\n",
       "      <td>1685</td>\n",
       "      <td>2176</td>\n",
       "      <td>2176.000000</td>\n",
       "      <td>2176.000000</td>\n",
       "      <td>2176.000000</td>\n",
       "      <td>2176</td>\n",
       "      <td>2176.000000</td>\n",
       "      <td>1814.000000</td>\n",
       "      <td>2176</td>\n",
       "      <td>320</td>\n",
       "    </tr>\n",
       "    <tr>\n",
       "      <th>unique</th>\n",
       "      <td>2176</td>\n",
       "      <td>6</td>\n",
       "      <td>8</td>\n",
       "      <td>4</td>\n",
       "      <td>6</td>\n",
       "      <td>11</td>\n",
       "      <td>NaN</td>\n",
       "      <td>NaN</td>\n",
       "      <td>NaN</td>\n",
       "      <td>273</td>\n",
       "      <td>NaN</td>\n",
       "      <td>NaN</td>\n",
       "      <td>2</td>\n",
       "      <td>6</td>\n",
       "    </tr>\n",
       "    <tr>\n",
       "      <th>top</th>\n",
       "      <td>FB000001</td>\n",
       "      <td>Accessories</td>\n",
       "      <td>Zara</td>\n",
       "      <td>Summer</td>\n",
       "      <td>XS</td>\n",
       "      <td>Green</td>\n",
       "      <td>NaN</td>\n",
       "      <td>NaN</td>\n",
       "      <td>NaN</td>\n",
       "      <td>2025-08-06</td>\n",
       "      <td>NaN</td>\n",
       "      <td>NaN</td>\n",
       "      <td>False</td>\n",
       "      <td>Changed Mind</td>\n",
       "    </tr>\n",
       "    <tr>\n",
       "      <th>freq</th>\n",
       "      <td>1</td>\n",
       "      <td>402</td>\n",
       "      <td>313</td>\n",
       "      <td>575</td>\n",
       "      <td>301</td>\n",
       "      <td>222</td>\n",
       "      <td>NaN</td>\n",
       "      <td>NaN</td>\n",
       "      <td>NaN</td>\n",
       "      <td>1641</td>\n",
       "      <td>NaN</td>\n",
       "      <td>NaN</td>\n",
       "      <td>1856</td>\n",
       "      <td>68</td>\n",
       "    </tr>\n",
       "    <tr>\n",
       "      <th>mean</th>\n",
       "      <td>NaN</td>\n",
       "      <td>NaN</td>\n",
       "      <td>NaN</td>\n",
       "      <td>NaN</td>\n",
       "      <td>NaN</td>\n",
       "      <td>NaN</td>\n",
       "      <td>97.200340</td>\n",
       "      <td>12.144715</td>\n",
       "      <td>85.499596</td>\n",
       "      <td>NaN</td>\n",
       "      <td>24.937960</td>\n",
       "      <td>2.986604</td>\n",
       "      <td>NaN</td>\n",
       "      <td>NaN</td>\n",
       "    </tr>\n",
       "    <tr>\n",
       "      <th>std</th>\n",
       "      <td>NaN</td>\n",
       "      <td>NaN</td>\n",
       "      <td>NaN</td>\n",
       "      <td>NaN</td>\n",
       "      <td>NaN</td>\n",
       "      <td>NaN</td>\n",
       "      <td>51.637345</td>\n",
       "      <td>18.417786</td>\n",
       "      <td>50.091354</td>\n",
       "      <td>NaN</td>\n",
       "      <td>14.451387</td>\n",
       "      <td>1.159722</td>\n",
       "      <td>NaN</td>\n",
       "      <td>NaN</td>\n",
       "    </tr>\n",
       "    <tr>\n",
       "      <th>min</th>\n",
       "      <td>NaN</td>\n",
       "      <td>NaN</td>\n",
       "      <td>NaN</td>\n",
       "      <td>NaN</td>\n",
       "      <td>NaN</td>\n",
       "      <td>NaN</td>\n",
       "      <td>15.140000</td>\n",
       "      <td>0.000000</td>\n",
       "      <td>7.290000</td>\n",
       "      <td>NaN</td>\n",
       "      <td>0.000000</td>\n",
       "      <td>1.000000</td>\n",
       "      <td>NaN</td>\n",
       "      <td>NaN</td>\n",
       "    </tr>\n",
       "    <tr>\n",
       "      <th>25%</th>\n",
       "      <td>NaN</td>\n",
       "      <td>NaN</td>\n",
       "      <td>NaN</td>\n",
       "      <td>NaN</td>\n",
       "      <td>NaN</td>\n",
       "      <td>NaN</td>\n",
       "      <td>57.872500</td>\n",
       "      <td>0.000000</td>\n",
       "      <td>46.845000</td>\n",
       "      <td>NaN</td>\n",
       "      <td>13.000000</td>\n",
       "      <td>2.000000</td>\n",
       "      <td>NaN</td>\n",
       "      <td>NaN</td>\n",
       "    </tr>\n",
       "    <tr>\n",
       "      <th>50%</th>\n",
       "      <td>NaN</td>\n",
       "      <td>NaN</td>\n",
       "      <td>NaN</td>\n",
       "      <td>NaN</td>\n",
       "      <td>NaN</td>\n",
       "      <td>NaN</td>\n",
       "      <td>88.600000</td>\n",
       "      <td>0.000000</td>\n",
       "      <td>74.885000</td>\n",
       "      <td>NaN</td>\n",
       "      <td>25.000000</td>\n",
       "      <td>3.000000</td>\n",
       "      <td>NaN</td>\n",
       "      <td>NaN</td>\n",
       "    </tr>\n",
       "    <tr>\n",
       "      <th>75%</th>\n",
       "      <td>NaN</td>\n",
       "      <td>NaN</td>\n",
       "      <td>NaN</td>\n",
       "      <td>NaN</td>\n",
       "      <td>NaN</td>\n",
       "      <td>NaN</td>\n",
       "      <td>127.630000</td>\n",
       "      <td>22.425000</td>\n",
       "      <td>112.865000</td>\n",
       "      <td>NaN</td>\n",
       "      <td>37.000000</td>\n",
       "      <td>4.000000</td>\n",
       "      <td>NaN</td>\n",
       "      <td>NaN</td>\n",
       "    </tr>\n",
       "    <tr>\n",
       "      <th>max</th>\n",
       "      <td>NaN</td>\n",
       "      <td>NaN</td>\n",
       "      <td>NaN</td>\n",
       "      <td>NaN</td>\n",
       "      <td>NaN</td>\n",
       "      <td>NaN</td>\n",
       "      <td>249.980000</td>\n",
       "      <td>59.900000</td>\n",
       "      <td>249.980000</td>\n",
       "      <td>NaN</td>\n",
       "      <td>50.000000</td>\n",
       "      <td>5.000000</td>\n",
       "      <td>NaN</td>\n",
       "      <td>NaN</td>\n",
       "    </tr>\n",
       "  </tbody>\n",
       "</table>\n",
       "</div>"
      ],
      "text/plain": [
       "       product_id     category brand  season  size  color  original_price  \\\n",
       "count        2176         2176  2176    2176  1685   2176     2176.000000   \n",
       "unique       2176            6     8       4     6     11             NaN   \n",
       "top      FB000001  Accessories  Zara  Summer    XS  Green             NaN   \n",
       "freq            1          402   313     575   301    222             NaN   \n",
       "mean          NaN          NaN   NaN     NaN   NaN    NaN       97.200340   \n",
       "std           NaN          NaN   NaN     NaN   NaN    NaN       51.637345   \n",
       "min           NaN          NaN   NaN     NaN   NaN    NaN       15.140000   \n",
       "25%           NaN          NaN   NaN     NaN   NaN    NaN       57.872500   \n",
       "50%           NaN          NaN   NaN     NaN   NaN    NaN       88.600000   \n",
       "75%           NaN          NaN   NaN     NaN   NaN    NaN      127.630000   \n",
       "max           NaN          NaN   NaN     NaN   NaN    NaN      249.980000   \n",
       "\n",
       "        markdown_percentage  current_price purchase_date  stock_quantity  \\\n",
       "count           2176.000000    2176.000000          2176     2176.000000   \n",
       "unique                  NaN            NaN           273             NaN   \n",
       "top                     NaN            NaN    2025-08-06             NaN   \n",
       "freq                    NaN            NaN          1641             NaN   \n",
       "mean              12.144715      85.499596           NaN       24.937960   \n",
       "std               18.417786      50.091354           NaN       14.451387   \n",
       "min                0.000000       7.290000           NaN        0.000000   \n",
       "25%                0.000000      46.845000           NaN       13.000000   \n",
       "50%                0.000000      74.885000           NaN       25.000000   \n",
       "75%               22.425000     112.865000           NaN       37.000000   \n",
       "max               59.900000     249.980000           NaN       50.000000   \n",
       "\n",
       "        customer_rating is_returned return_reason  \n",
       "count       1814.000000        2176           320  \n",
       "unique              NaN           2             6  \n",
       "top                 NaN       False  Changed Mind  \n",
       "freq                NaN        1856            68  \n",
       "mean           2.986604         NaN           NaN  \n",
       "std            1.159722         NaN           NaN  \n",
       "min            1.000000         NaN           NaN  \n",
       "25%            2.000000         NaN           NaN  \n",
       "50%            3.000000         NaN           NaN  \n",
       "75%            4.000000         NaN           NaN  \n",
       "max            5.000000         NaN           NaN  "
      ]
     },
     "execution_count": 7,
     "metadata": {},
     "output_type": "execute_result"
    }
   ],
   "source": [
    "df.describe(include='all')"
   ]
  },
  {
   "cell_type": "code",
   "execution_count": 8,
   "id": "c0251b20-f6fb-4fc1-b708-078e4ca9f068",
   "metadata": {},
   "outputs": [
    {
     "data": {
      "text/plain": [
       "product_id             2176\n",
       "category                  6\n",
       "brand                     8\n",
       "season                    4\n",
       "size                      6\n",
       "color                    11\n",
       "original_price         2061\n",
       "markdown_percentage     458\n",
       "current_price          2025\n",
       "purchase_date           273\n",
       "stock_quantity           51\n",
       "customer_rating          41\n",
       "is_returned               2\n",
       "return_reason             6\n",
       "dtype: int64"
      ]
     },
     "execution_count": 8,
     "metadata": {},
     "output_type": "execute_result"
    }
   ],
   "source": [
    "df.nunique()"
   ]
  },
  {
   "cell_type": "markdown",
   "id": "9ec817a5-04e5-429e-a41c-109e6d4601f9",
   "metadata": {},
   "source": [
    "## Exploratory Data Analysis"
   ]
  },
  {
   "cell_type": "code",
   "execution_count": 9,
   "id": "09f231aa-7ccf-4861-a580-088cddc4b231",
   "metadata": {},
   "outputs": [
    {
     "data": {
      "text/plain": [
       "product_id                0\n",
       "category                  0\n",
       "brand                     0\n",
       "season                    0\n",
       "size                    491\n",
       "color                     0\n",
       "original_price            0\n",
       "markdown_percentage       0\n",
       "current_price             0\n",
       "purchase_date             0\n",
       "stock_quantity            0\n",
       "customer_rating         362\n",
       "is_returned               0\n",
       "return_reason          1856\n",
       "dtype: int64"
      ]
     },
     "execution_count": 9,
     "metadata": {},
     "output_type": "execute_result"
    }
   ],
   "source": [
    "df.isna().sum()"
   ]
  },
  {
   "cell_type": "code",
   "execution_count": 10,
   "id": "8e292778-04e2-4854-899f-fdbe59078bb4",
   "metadata": {},
   "outputs": [
    {
     "data": {
      "text/plain": [
       "0"
      ]
     },
     "execution_count": 10,
     "metadata": {},
     "output_type": "execute_result"
    }
   ],
   "source": [
    "df.duplicated().sum()"
   ]
  },
  {
   "cell_type": "markdown",
   "id": "f02bde5e-ca67-4100-88de-2c895a57abbb",
   "metadata": {},
   "source": [
    "### Converting to Purchase Date to DateTime"
   ]
  },
  {
   "cell_type": "code",
   "execution_count": 12,
   "id": "5c24209e-51a0-43cf-a37d-cd407d6f2793",
   "metadata": {},
   "outputs": [
    {
     "data": {
      "text/plain": [
       "0      2025-07-05\n",
       "1      2025-08-06\n",
       "2      2025-08-06\n",
       "3      2025-07-07\n",
       "4      2025-08-06\n",
       "          ...    \n",
       "2171   2025-08-06\n",
       "2172   2025-08-06\n",
       "2173   2025-08-06\n",
       "2174   2025-08-06\n",
       "2175   2025-08-06\n",
       "Name: purchase_date, Length: 2176, dtype: datetime64[ns]"
      ]
     },
     "execution_count": 12,
     "metadata": {},
     "output_type": "execute_result"
    }
   ],
   "source": [
    "df['purchase_date'] = pd.to_datetime(df['purchase_date'], format='%Y-%m-%d')\n",
    "df['purchase_date']"
   ]
  },
  {
   "cell_type": "markdown",
   "id": "5729ad95-71dd-47fe-8a43-7b80ce3c2719",
   "metadata": {},
   "source": [
    "#### Add Month & Weekday"
   ]
  },
  {
   "cell_type": "markdown",
   "id": "1fe6be90-bd30-4e07-ae9f-f71d020639be",
   "metadata": {},
   "source": [
    "##### Month"
   ]
  },
  {
   "cell_type": "code",
   "execution_count": 13,
   "id": "972d6211-54c6-479f-ace9-93d397145cdf",
   "metadata": {},
   "outputs": [
    {
     "data": {
      "text/plain": [
       "0         July\n",
       "1       August\n",
       "2       August\n",
       "3         July\n",
       "4       August\n",
       "         ...  \n",
       "2171    August\n",
       "2172    August\n",
       "2173    August\n",
       "2174    August\n",
       "2175    August\n",
       "Name: Month, Length: 2176, dtype: object"
      ]
     },
     "execution_count": 13,
     "metadata": {},
     "output_type": "execute_result"
    }
   ],
   "source": [
    "df['Month'] = df['purchase_date'].dt.month_name()\n",
    "df['Month']"
   ]
  },
  {
   "cell_type": "markdown",
   "id": "b54d352f-c74f-49c2-b022-d9d19ca203c9",
   "metadata": {},
   "source": [
    "#### Weekday"
   ]
  },
  {
   "cell_type": "code",
   "execution_count": 14,
   "id": "a152ed62-af70-4e30-abab-ab1fa9495d07",
   "metadata": {},
   "outputs": [
    {
     "data": {
      "text/plain": [
       "0        Saturday\n",
       "1       Wednesday\n",
       "2       Wednesday\n",
       "3          Monday\n",
       "4       Wednesday\n",
       "          ...    \n",
       "2171    Wednesday\n",
       "2172    Wednesday\n",
       "2173    Wednesday\n",
       "2174    Wednesday\n",
       "2175    Wednesday\n",
       "Name: Weekday, Length: 2176, dtype: object"
      ]
     },
     "execution_count": 14,
     "metadata": {},
     "output_type": "execute_result"
    }
   ],
   "source": [
    "df['Weekday'] = df['purchase_date'].dt.day_name()\n",
    "df['Weekday']"
   ]
  },
  {
   "cell_type": "code",
   "execution_count": 15,
   "id": "8c4d47a0-6081-406b-b707-9cc90364f158",
   "metadata": {},
   "outputs": [
    {
     "data": {
      "text/html": [
       "<div>\n",
       "<style scoped>\n",
       "    .dataframe tbody tr th:only-of-type {\n",
       "        vertical-align: middle;\n",
       "    }\n",
       "\n",
       "    .dataframe tbody tr th {\n",
       "        vertical-align: top;\n",
       "    }\n",
       "\n",
       "    .dataframe thead th {\n",
       "        text-align: right;\n",
       "    }\n",
       "</style>\n",
       "<table border=\"1\" class=\"dataframe\">\n",
       "  <thead>\n",
       "    <tr style=\"text-align: right;\">\n",
       "      <th></th>\n",
       "      <th>product_id</th>\n",
       "      <th>category</th>\n",
       "      <th>brand</th>\n",
       "      <th>season</th>\n",
       "      <th>size</th>\n",
       "      <th>color</th>\n",
       "      <th>original_price</th>\n",
       "      <th>markdown_percentage</th>\n",
       "      <th>current_price</th>\n",
       "      <th>purchase_date</th>\n",
       "      <th>stock_quantity</th>\n",
       "      <th>customer_rating</th>\n",
       "      <th>is_returned</th>\n",
       "      <th>return_reason</th>\n",
       "      <th>Month</th>\n",
       "      <th>Weekday</th>\n",
       "    </tr>\n",
       "  </thead>\n",
       "  <tbody>\n",
       "    <tr>\n",
       "      <th>0</th>\n",
       "      <td>FB000001</td>\n",
       "      <td>Outerwear</td>\n",
       "      <td>Zara</td>\n",
       "      <td>Spring</td>\n",
       "      <td>XL</td>\n",
       "      <td>Red</td>\n",
       "      <td>196.01</td>\n",
       "      <td>0.0</td>\n",
       "      <td>196.01</td>\n",
       "      <td>2025-07-05</td>\n",
       "      <td>37</td>\n",
       "      <td>3.0</td>\n",
       "      <td>False</td>\n",
       "      <td>0</td>\n",
       "      <td>July</td>\n",
       "      <td>Saturday</td>\n",
       "    </tr>\n",
       "    <tr>\n",
       "      <th>1</th>\n",
       "      <td>FB000002</td>\n",
       "      <td>Tops</td>\n",
       "      <td>Uniqlo</td>\n",
       "      <td>Winter</td>\n",
       "      <td>L</td>\n",
       "      <td>Pink</td>\n",
       "      <td>119.64</td>\n",
       "      <td>0.0</td>\n",
       "      <td>119.64</td>\n",
       "      <td>2025-08-06</td>\n",
       "      <td>2</td>\n",
       "      <td>2.5</td>\n",
       "      <td>False</td>\n",
       "      <td>0</td>\n",
       "      <td>August</td>\n",
       "      <td>Wednesday</td>\n",
       "    </tr>\n",
       "    <tr>\n",
       "      <th>2</th>\n",
       "      <td>FB000003</td>\n",
       "      <td>Accessories</td>\n",
       "      <td>Uniqlo</td>\n",
       "      <td>Winter</td>\n",
       "      <td>0</td>\n",
       "      <td>Black</td>\n",
       "      <td>33.80</td>\n",
       "      <td>0.0</td>\n",
       "      <td>33.80</td>\n",
       "      <td>2025-08-06</td>\n",
       "      <td>22</td>\n",
       "      <td>4.3</td>\n",
       "      <td>False</td>\n",
       "      <td>0</td>\n",
       "      <td>August</td>\n",
       "      <td>Wednesday</td>\n",
       "    </tr>\n",
       "    <tr>\n",
       "      <th>3</th>\n",
       "      <td>FB000004</td>\n",
       "      <td>Shoes</td>\n",
       "      <td>Uniqlo</td>\n",
       "      <td>Spring</td>\n",
       "      <td>XL</td>\n",
       "      <td>Black</td>\n",
       "      <td>75.36</td>\n",
       "      <td>0.0</td>\n",
       "      <td>75.36</td>\n",
       "      <td>2025-07-07</td>\n",
       "      <td>48</td>\n",
       "      <td>2.6</td>\n",
       "      <td>False</td>\n",
       "      <td>0</td>\n",
       "      <td>July</td>\n",
       "      <td>Monday</td>\n",
       "    </tr>\n",
       "    <tr>\n",
       "      <th>4</th>\n",
       "      <td>FB000005</td>\n",
       "      <td>Tops</td>\n",
       "      <td>Banana Republic</td>\n",
       "      <td>Winter</td>\n",
       "      <td>XL</td>\n",
       "      <td>Black</td>\n",
       "      <td>105.02</td>\n",
       "      <td>0.0</td>\n",
       "      <td>105.02</td>\n",
       "      <td>2025-08-06</td>\n",
       "      <td>10</td>\n",
       "      <td>0.0</td>\n",
       "      <td>False</td>\n",
       "      <td>0</td>\n",
       "      <td>August</td>\n",
       "      <td>Wednesday</td>\n",
       "    </tr>\n",
       "    <tr>\n",
       "      <th>...</th>\n",
       "      <td>...</td>\n",
       "      <td>...</td>\n",
       "      <td>...</td>\n",
       "      <td>...</td>\n",
       "      <td>...</td>\n",
       "      <td>...</td>\n",
       "      <td>...</td>\n",
       "      <td>...</td>\n",
       "      <td>...</td>\n",
       "      <td>...</td>\n",
       "      <td>...</td>\n",
       "      <td>...</td>\n",
       "      <td>...</td>\n",
       "      <td>...</td>\n",
       "      <td>...</td>\n",
       "      <td>...</td>\n",
       "    </tr>\n",
       "    <tr>\n",
       "      <th>2171</th>\n",
       "      <td>FB002172</td>\n",
       "      <td>Tops</td>\n",
       "      <td>Mango</td>\n",
       "      <td>Summer</td>\n",
       "      <td>XL</td>\n",
       "      <td>Black</td>\n",
       "      <td>31.41</td>\n",
       "      <td>0.0</td>\n",
       "      <td>31.41</td>\n",
       "      <td>2025-08-06</td>\n",
       "      <td>10</td>\n",
       "      <td>2.1</td>\n",
       "      <td>False</td>\n",
       "      <td>0</td>\n",
       "      <td>August</td>\n",
       "      <td>Wednesday</td>\n",
       "    </tr>\n",
       "    <tr>\n",
       "      <th>2172</th>\n",
       "      <td>FB002173</td>\n",
       "      <td>Dresses</td>\n",
       "      <td>Banana Republic</td>\n",
       "      <td>Winter</td>\n",
       "      <td>L</td>\n",
       "      <td>Brown</td>\n",
       "      <td>50.58</td>\n",
       "      <td>0.0</td>\n",
       "      <td>50.58</td>\n",
       "      <td>2025-08-06</td>\n",
       "      <td>1</td>\n",
       "      <td>3.1</td>\n",
       "      <td>True</td>\n",
       "      <td>Changed Mind</td>\n",
       "      <td>August</td>\n",
       "      <td>Wednesday</td>\n",
       "    </tr>\n",
       "    <tr>\n",
       "      <th>2173</th>\n",
       "      <td>FB002174</td>\n",
       "      <td>Accessories</td>\n",
       "      <td>Banana Republic</td>\n",
       "      <td>Winter</td>\n",
       "      <td>0</td>\n",
       "      <td>Beige</td>\n",
       "      <td>79.37</td>\n",
       "      <td>54.8</td>\n",
       "      <td>35.88</td>\n",
       "      <td>2025-08-06</td>\n",
       "      <td>40</td>\n",
       "      <td>2.6</td>\n",
       "      <td>False</td>\n",
       "      <td>0</td>\n",
       "      <td>August</td>\n",
       "      <td>Wednesday</td>\n",
       "    </tr>\n",
       "    <tr>\n",
       "      <th>2174</th>\n",
       "      <td>FB002175</td>\n",
       "      <td>Bottoms</td>\n",
       "      <td>Ann Taylor</td>\n",
       "      <td>Summer</td>\n",
       "      <td>XL</td>\n",
       "      <td>Pink</td>\n",
       "      <td>105.52</td>\n",
       "      <td>0.0</td>\n",
       "      <td>105.52</td>\n",
       "      <td>2025-08-06</td>\n",
       "      <td>20</td>\n",
       "      <td>4.9</td>\n",
       "      <td>True</td>\n",
       "      <td>Size Issue</td>\n",
       "      <td>August</td>\n",
       "      <td>Wednesday</td>\n",
       "    </tr>\n",
       "    <tr>\n",
       "      <th>2175</th>\n",
       "      <td>FB002176</td>\n",
       "      <td>Shoes</td>\n",
       "      <td>Ann Taylor</td>\n",
       "      <td>Summer</td>\n",
       "      <td>XXL</td>\n",
       "      <td>White</td>\n",
       "      <td>154.02</td>\n",
       "      <td>0.0</td>\n",
       "      <td>154.02</td>\n",
       "      <td>2025-08-06</td>\n",
       "      <td>23</td>\n",
       "      <td>1.3</td>\n",
       "      <td>False</td>\n",
       "      <td>0</td>\n",
       "      <td>August</td>\n",
       "      <td>Wednesday</td>\n",
       "    </tr>\n",
       "  </tbody>\n",
       "</table>\n",
       "<p>2176 rows × 16 columns</p>\n",
       "</div>"
      ],
      "text/plain": [
       "     product_id     category            brand  season size  color  \\\n",
       "0      FB000001    Outerwear             Zara  Spring   XL    Red   \n",
       "1      FB000002         Tops           Uniqlo  Winter    L   Pink   \n",
       "2      FB000003  Accessories           Uniqlo  Winter    0  Black   \n",
       "3      FB000004        Shoes           Uniqlo  Spring   XL  Black   \n",
       "4      FB000005         Tops  Banana Republic  Winter   XL  Black   \n",
       "...         ...          ...              ...     ...  ...    ...   \n",
       "2171   FB002172         Tops            Mango  Summer   XL  Black   \n",
       "2172   FB002173      Dresses  Banana Republic  Winter    L  Brown   \n",
       "2173   FB002174  Accessories  Banana Republic  Winter    0  Beige   \n",
       "2174   FB002175      Bottoms       Ann Taylor  Summer   XL   Pink   \n",
       "2175   FB002176        Shoes       Ann Taylor  Summer  XXL  White   \n",
       "\n",
       "      original_price  markdown_percentage  current_price purchase_date  \\\n",
       "0             196.01                  0.0         196.01    2025-07-05   \n",
       "1             119.64                  0.0         119.64    2025-08-06   \n",
       "2              33.80                  0.0          33.80    2025-08-06   \n",
       "3              75.36                  0.0          75.36    2025-07-07   \n",
       "4             105.02                  0.0         105.02    2025-08-06   \n",
       "...              ...                  ...            ...           ...   \n",
       "2171           31.41                  0.0          31.41    2025-08-06   \n",
       "2172           50.58                  0.0          50.58    2025-08-06   \n",
       "2173           79.37                 54.8          35.88    2025-08-06   \n",
       "2174          105.52                  0.0         105.52    2025-08-06   \n",
       "2175          154.02                  0.0         154.02    2025-08-06   \n",
       "\n",
       "      stock_quantity  customer_rating  is_returned return_reason   Month  \\\n",
       "0                 37              3.0        False             0    July   \n",
       "1                  2              2.5        False             0  August   \n",
       "2                 22              4.3        False             0  August   \n",
       "3                 48              2.6        False             0    July   \n",
       "4                 10              0.0        False             0  August   \n",
       "...              ...              ...          ...           ...     ...   \n",
       "2171              10              2.1        False             0  August   \n",
       "2172               1              3.1         True  Changed Mind  August   \n",
       "2173              40              2.6        False             0  August   \n",
       "2174              20              4.9         True    Size Issue  August   \n",
       "2175              23              1.3        False             0  August   \n",
       "\n",
       "        Weekday  \n",
       "0      Saturday  \n",
       "1     Wednesday  \n",
       "2     Wednesday  \n",
       "3        Monday  \n",
       "4     Wednesday  \n",
       "...         ...  \n",
       "2171  Wednesday  \n",
       "2172  Wednesday  \n",
       "2173  Wednesday  \n",
       "2174  Wednesday  \n",
       "2175  Wednesday  \n",
       "\n",
       "[2176 rows x 16 columns]"
      ]
     },
     "execution_count": 15,
     "metadata": {},
     "output_type": "execute_result"
    }
   ],
   "source": [
    "df.fillna(0, inplace=True)\n",
    "df"
   ]
  },
  {
   "cell_type": "markdown",
   "id": "d75185d8-671f-4944-acbe-6561b3b6f6b4",
   "metadata": {},
   "source": [
    "## Visualization"
   ]
  },
  {
   "cell_type": "markdown",
   "id": "0d4239b7-c3fd-4ed0-ada6-5a964ec36132",
   "metadata": {},
   "source": [
    "### 1. Original Price By Weekday"
   ]
  },
  {
   "cell_type": "code",
   "execution_count": 16,
   "id": "7b3ec3f2-879f-4aff-9e99-699f41cfd9f0",
   "metadata": {},
   "outputs": [],
   "source": [
    "weekday_sales = df.groupby('Weekday')['original_price'].sum()"
   ]
  },
  {
   "cell_type": "code",
   "execution_count": 18,
   "id": "7d3fd11c-e96c-46ab-9f7b-f1941d162be2",
   "metadata": {},
   "outputs": [
    {
     "data": {
      "image/png": "[encoded data removed]",
      "text/plain": [
       "<Figure size 1200x600 with 1 Axes>"
      ]
     },
     "metadata": {},
     "output_type": "display_data"
    }
   ],
   "source": [
    "weekday_sales.plot(kind='bar', color='#D6A99D', figsize=(12, 6))\n",
    "plt.title('Original Price By Weekday')\n",
    "plt.xlabel('Day Of The Week')\n",
    "plt.ylabel('Total Original Price')\n",
    "plt.xticks(ticks=range(7), labels=['Mon', 'Tue', 'Wed', 'Thu', 'Fri', 'Sat', 'Sun'], rotation=45)\n",
    "plt.show()"
   ]
  },
  {
   "cell_type": "markdown",
   "id": "6568e0d3-a5c1-470b-a28a-f8e87234636f",
   "metadata": {},
   "source": [
    "### 2. Current Price By Weekday"
   ]
  },
  {
   "cell_type": "code",
   "execution_count": 19,
   "id": "18efc85e-ed41-4572-a7cf-4cff5203a00a",
   "metadata": {},
   "outputs": [],
   "source": [
    "weekday_price = df.groupby('Weekday')['current_price'].sum()"
   ]
  },
  {
   "cell_type": "code",
   "execution_count": 20,
   "id": "ccf5064d-7ed2-48f0-b652-c569e5d7eb1b",
   "metadata": {},
   "outputs": [
    {
     "data": {
      "image/png": "[encoded data removed]",
      "text/plain": [
       "<Figure size 1200x600 with 1 Axes>"
      ]
     },
     "metadata": {},
     "output_type": "display_data"
    }
   ],
   "source": [
    "weekday_price.plot(kind='bar', color='#FBF3D5', figsize=(12, 6))\n",
    "plt.title('Original Price By Weekday')\n",
    "plt.xlabel('Day Of The Week')\n",
    "plt.ylabel('Total Original Price')\n",
    "plt.xticks(ticks=range(7), labels=['Mon', 'Tue', 'Wed', 'Thu', 'Fri', 'Sat', 'Sun'], rotation=45)\n",
    "plt.show()"
   ]
  },
  {
   "cell_type": "markdown",
   "id": "bf11bc05-4e07-43c7-9a07-1722146873be",
   "metadata": {},
   "source": [
    "### 3. Original Price By Month"
   ]
  },
  {
   "cell_type": "code",
   "execution_count": 21,
   "id": "8311295e-79a4-4562-8a42-02dd5543db5a",
   "metadata": {},
   "outputs": [],
   "source": [
    "monthly_sales = df.groupby('Month')['original_price'].sum()"
   ]
  },
  {
   "cell_type": "code",
   "execution_count": 28,
   "id": "29c3ea9f-a1d2-48b0-867b-2e58e0446833",
   "metadata": {},
   "outputs": [
    {
     "data": {
      "image/png": "[encoded data removed]",
      "text/plain": [
       "<Figure size 1200x600 with 1 Axes>"
      ]
     },
     "metadata": {},
     "output_type": "display_data"
    }
   ],
   "source": [
    "monthly_sales.plot(kind='line', marker='o', color='#CADCAE', figsize=(12, 6))\n",
    "plt.title('Monthly Sales Trend')\n",
    "plt.xlabel('Months')\n",
    "plt.ylabel('Total Original Price')\n",
    "plt.xticks(rotation=45)\n",
    "plt.grid(True)\n",
    "plt.show()"
   ]
  },
  {
   "cell_type": "markdown",
   "id": "66177ded-8287-47c1-b0df-36598e7ceeaa",
   "metadata": {},
   "source": [
    "### 4. Top Selling Category"
   ]
  },
  {
   "cell_type": "code",
   "execution_count": 29,
   "id": "f083b498-4c90-48ca-887f-4299f105f2e3",
   "metadata": {},
   "outputs": [
    {
     "data": {
      "image/png": "[encoded data removed]",
      "text/plain": [
       "<Figure size 1200x600 with 1 Axes>"
      ]
     },
     "metadata": {},
     "output_type": "display_data"
    }
   ],
   "source": [
    "df['category'].value_counts().head(5).plot(kind='bar', color='#EDA35A', figsize=(12, 6))\n",
    "plt.title('Top Selling Category')\n",
    "plt.xlabel('Category')\n",
    "plt.ylabel('Number Of Sales')\n",
    "plt.xticks(rotation=45)\n",
    "plt.show()"
   ]
  },
  {
   "cell_type": "markdown",
   "id": "b9179046-b2b7-4614-bd2b-c502c09c0079",
   "metadata": {},
   "source": [
    "### 5. Top Selling Brand"
   ]
  },
  {
   "cell_type": "code",
   "execution_count": 32,
   "id": "f218d8b0-be19-427f-bfa1-2eea612ba278",
   "metadata": {},
   "outputs": [
    {
     "data": {
      "image/png": "[encoded data removed]",
      "text/plain": [
       "<Figure size 1200x600 with 1 Axes>"
      ]
     },
     "metadata": {},
     "output_type": "display_data"
    }
   ],
   "source": [
    "df['brand'].value_counts().head(5).plot(kind='bar', color='#F5BABB', figsize=(12, 6))\n",
    "plt.title('Top Selling Brands')\n",
    "plt.xlabel('Brands')\n",
    "plt.ylabel('Number Of Sales')\n",
    "plt.xticks(rotation=45)\n",
    "plt.show()"
   ]
  },
  {
   "cell_type": "markdown",
   "id": "ec56e8ff-de3b-474a-b7a6-f4d8135236d2",
   "metadata": {},
   "source": [
    "### 6. Total Revenue By Category"
   ]
  },
  {
   "cell_type": "code",
   "execution_count": 34,
   "id": "186f2f58-7f0c-46a0-a4ea-65992c4ddb13",
   "metadata": {},
   "outputs": [
    {
     "data": {
      "text/plain": [
       "category\n",
       "Outerwear    48672.81\n",
       "Shoes        41152.78\n",
       "Dresses      31028.35\n",
       "Bottoms      24079.39\n",
       "Tops         23719.91\n",
       "Name: current_price, dtype: float64"
      ]
     },
     "execution_count": 34,
     "metadata": {},
     "output_type": "execute_result"
    }
   ],
   "source": [
    "top_revenue_category = df.groupby('category')['current_price'].sum().sort_values(ascending=False).head(5)\n",
    "top_revenue_category"
   ]
  },
  {
   "cell_type": "code",
   "execution_count": 36,
   "id": "1635c1f5-116c-458e-ab24-58addda3dbf7",
   "metadata": {},
   "outputs": [
    {
     "data": {
      "image/png": "[encoded data removed]",
      "text/plain": [
       "<Figure size 1200x600 with 1 Axes>"
      ]
     },
     "metadata": {},
     "output_type": "display_data"
    }
   ],
   "source": [
    "plt.figure(figsize=(12, 6))\n",
    "sns.barplot(x=df['category'].head(5), y=df['current_price'], palette='light:#5A9')\n",
    "plt.title('Total Revenue By Category')\n",
    "plt.xlabel('Top Categories')\n",
    "plt.ylabel('Price')\n",
    "plt.xticks(rotation=45)\n",
    "plt.show()"
   ]
  },
  {
   "cell_type": "markdown",
   "id": "b889ea6f-f922-4154-9f68-89624fb27732",
   "metadata": {},
   "source": [
    "### 7. Total Revenue By Brand"
   ]
  },
  {
   "cell_type": "code",
   "execution_count": 37,
   "id": "36b3821c-a442-4c10-a44a-7cbe70441b36",
   "metadata": {},
   "outputs": [
    {
     "data": {
      "text/plain": [
       "brand\n",
       "Zara               26543.59\n",
       "Banana Republic    25556.00\n",
       "Mango              25100.04\n",
       "H&M                24283.71\n",
       "Uniqlo             23830.51\n",
       "Name: current_price, dtype: float64"
      ]
     },
     "execution_count": 37,
     "metadata": {},
     "output_type": "execute_result"
    }
   ],
   "source": [
    "top_revenue_brand = df.groupby('brand')['current_price'].sum().sort_values(ascending=False).head(5)\n",
    "top_revenue_brand"
   ]
  },
  {
   "cell_type": "code",
   "execution_count": 38,
   "id": "c2a6aaf7-fa0c-498a-b028-0877c8a6b911",
   "metadata": {},
   "outputs": [
    {
     "data": {
      "image/png": "[encoded data removed]",
      "text/plain": [
       "<Figure size 1200x600 with 1 Axes>"
      ]
     },
     "metadata": {},
     "output_type": "display_data"
    }
   ],
   "source": [
    "plt.figure(figsize=(12, 6))\n",
    "sns.barplot(x=df['brand'].head(5), y=df['current_price'], palette='light:#5A9')\n",
    "plt.title('Total Revenue By Brand')\n",
    "plt.xlabel('Top Brands')\n",
    "plt.ylabel('Price')\n",
    "plt.xticks(rotation=45)\n",
    "plt.show()"
   ]
  },
  {
   "cell_type": "markdown",
   "id": "bdbf9d24-24ad-4dc5-a50e-b09e463b469c",
   "metadata": {},
   "source": [
    "## Predictive Modeling"
   ]
  },
  {
   "cell_type": "code",
   "execution_count": 40,
   "id": "dc0528f3-8fac-45f3-bc04-3dc16706db53",
   "metadata": {},
   "outputs": [],
   "source": [
    "df = df.drop(['product_id'], axis=1)"
   ]
  },
  {
   "cell_type": "code",
   "execution_count": 42,
   "id": "ce523e3f-15e1-4a94-94ef-320e74768dae",
   "metadata": {},
   "outputs": [],
   "source": [
    "df = df.drop(['Month'], axis=1)"
   ]
  },
  {
   "cell_type": "code",
   "execution_count": 43,
   "id": "3bb30f41-bbf6-4273-8974-8a6a91c35089",
   "metadata": {},
   "outputs": [],
   "source": [
    "df = df.drop(['Weekday'], axis=1)"
   ]
  },
  {
   "cell_type": "code",
   "execution_count": 44,
   "id": "921f3135-0cbf-4f9a-a4dd-9801e61220bd",
   "metadata": {},
   "outputs": [
    {
     "name": "stdout",
     "output_type": "stream",
     "text": [
      "5\n",
      "7\n"
     ]
    }
   ],
   "source": [
    "num_cols = ['original_price', 'markdown_percentage', 'current_price', 'stock_quantity', 'customer_rating']\n",
    "cat_cols = ['category', 'brand', 'season', 'size', 'color', 'is_returned', 'return_reason']\n",
    "\n",
    "print(len(num_cols))\n",
    "print(len(cat_cols))"
   ]
  },
  {
   "cell_type": "markdown",
   "id": "51cbb4f2-3778-47e2-a6c8-7328f6a27940",
   "metadata": {},
   "source": [
    "### 1. Train Test Split"
   ]
  },
  {
   "cell_type": "code",
   "execution_count": 46,
   "id": "5dbb254d-713c-43a7-af36-0d746679040b",
   "metadata": {},
   "outputs": [],
   "source": [
    "features = ['original_price', 'markdown_percentage', 'current_price', 'stock_quantity', 'customer_rating']\n",
    "target = 'is_returned'\n",
    "\n",
    "X = df[features]\n",
    "y = df[target]"
   ]
  },
  {
   "cell_type": "code",
   "execution_count": 47,
   "id": "b8156956-f1f3-48c2-8813-1cb46f2c05a3",
   "metadata": {},
   "outputs": [
    {
     "name": "stdout",
     "output_type": "stream",
     "text": [
      "(1740, 5) (436, 5)\n"
     ]
    }
   ],
   "source": [
    "X_train, X_test, y_train, y_test = train_test_split(X, y, test_size=0.2, random_state=42)\n",
    "print(X_train.shape, X_test.shape)"
   ]
  },
  {
   "cell_type": "markdown",
   "id": "d552b089-9e52-4585-b867-38dcfa8bcb48",
   "metadata": {},
   "source": [
    "### 2. Models"
   ]
  },
  {
   "cell_type": "code",
   "execution_count": 48,
   "id": "16005ec5-6d26-43d0-9495-6291e636c09a",
   "metadata": {},
   "outputs": [],
   "source": [
    "models = {\n",
    "    'Logistic Regression': LogisticRegression(),\n",
    "    'Decison Tree': DecisionTreeClassifier(),\n",
    "    'Random Forest': RandomForestClassifier(),\n",
    "    'Gradient Boosting': GradientBoostingClassifier(),\n",
    "    'K-Nearest Neighbors': KNeighborsClassifier(),\n",
    "    'Support Vector Machine': SVC()\n",
    "}"
   ]
  },
  {
   "cell_type": "code",
   "execution_count": 49,
   "id": "574d6d90-b900-4cd5-a4fb-b18e960e692b",
   "metadata": {},
   "outputs": [
    {
     "name": "stdout",
     "output_type": "stream",
     "text": [
      "\n",
      " Logistic Regression Accuracy: 0.8876146788990825\n",
      "\n",
      " Decison Tree Accuracy: 0.7408256880733946\n",
      "\n",
      " Random Forest Accuracy: 0.8784403669724771\n",
      "\n",
      " Gradient Boosting Accuracy: 0.8830275229357798\n",
      "\n",
      " K-Nearest Neighbors Accuracy: 0.8509174311926605\n",
      "\n",
      " Support Vector Machine Accuracy: 0.8876146788990825\n"
     ]
    }
   ],
   "source": [
    "best_model = None\n",
    "best_accuracy = 0\n",
    "best_model_name = ''\n",
    "\n",
    "for name, model in models.items():\n",
    "    model.fit(X_train, y_train)\n",
    "    y_pred = model.predict(X_test)\n",
    "    accuracy = accuracy_score(y_test, y_pred)\n",
    "    print(f'\\n {name} Accuracy: {accuracy}')"
   ]
  },
  {
   "cell_type": "markdown",
   "id": "41367d7b-02a0-48c0-a448-2c6a83f0ef83",
   "metadata": {},
   "source": [
    "#### Best Model"
   ]
  },
  {
   "cell_type": "code",
   "execution_count": 50,
   "id": "d849b240-55b4-4884-a651-cfbe151c7a7c",
   "metadata": {},
   "outputs": [
    {
     "name": "stdout",
     "output_type": "stream",
     "text": [
      "\n",
      " Best Model: Support Vector Machine with Accuracy: 0.8876146788990825\n"
     ]
    }
   ],
   "source": [
    "if accuracy > best_accuracy:\n",
    "    best_accuracy = accuracy\n",
    "    best_model = model\n",
    "    best_model_name = name\n",
    "    print(f'\\n Best Model: {best_model_name} with Accuracy: {best_accuracy}')"
   ]
  },
  {
   "cell_type": "markdown",
   "id": "84c65a92-1901-4996-a341-5b21023e6c71",
   "metadata": {},
   "source": [
    "### 3. Classification Report"
   ]
  },
  {
   "cell_type": "code",
   "execution_count": 51,
   "id": "5f8a3470-a908-4d13-bf10-ea10129b1788",
   "metadata": {},
   "outputs": [
    {
     "name": "stdout",
     "output_type": "stream",
     "text": [
      "\n",
      " Classification Report: \n",
      "               precision    recall  f1-score   support\n",
      "\n",
      "       False       0.89      1.00      0.94       387\n",
      "        True       0.00      0.00      0.00        49\n",
      "\n",
      "    accuracy                           0.89       436\n",
      "   macro avg       0.44      0.50      0.47       436\n",
      "weighted avg       0.79      0.89      0.83       436\n",
      "\n"
     ]
    }
   ],
   "source": [
    "y_pred_best = best_model.predict(X_test)\n",
    "print(f'\\n Classification Report: \\n', classification_report(y_test, y_pred_best))"
   ]
  },
  {
   "cell_type": "markdown",
   "id": "b385885b-e359-4809-b1c7-f8deca6c3e78",
   "metadata": {},
   "source": [
    "### 4. Confusion Matrix"
   ]
  },
  {
   "cell_type": "code",
   "execution_count": 52,
   "id": "7eba0a0f-8a29-4e10-ad87-76dc55dfd227",
   "metadata": {},
   "outputs": [
    {
     "data": {
      "image/png": "[encoded data removed]",
      "text/plain": [
       "<Figure size 640x480 with 2 Axes>"
      ]
     },
     "metadata": {},
     "output_type": "display_data"
    }
   ],
   "source": [
    "conf_matrix = confusion_matrix(y_test, y_pred_best)\n",
    "sns.heatmap(conf_matrix, annot=True, fmt='d', cmap='crest')\n",
    "plt.title(f'Confusion Matrix - {best_model_name}')\n",
    "plt.xlabel('Predicted')\n",
    "plt.ylabel('Actual')\n",
    "plt.xticks(rotation=45)\n",
    "plt.show()"
   ]
  },
  {
   "cell_type": "code",
   "execution_count": null,
   "id": "34b511e7-6d78-4447-afc8-50e22ef1ccc3",
   "metadata": {},
   "outputs": [],
   "source": []
  },
  {
   "cell_type": "code",
   "execution_count": null,
   "id": "eff008c1-b6bf-439e-b80b-b920ee9e272b",
   "metadata": {},
   "outputs": [],
   "source": []
  }
 ],
 "metadata": {
  "kernelspec": {
   "display_name": "Python 3 (ipykernel)",
   "language": "python",
   "name": "python3"
  },
  "language_info": {
   "codemirror_mode": {
    "name": "ipython",
    "version": 3
   },
   "file_extension": ".py",
   "mimetype": "text/x-python",
   "name": "python",
   "nbconvert_exporter": "python",
   "pygments_lexer": "ipython3",
   "version": "3.12.7"
  }
 },
 "nbformat": 4,
 "nbformat_minor": 5
}
