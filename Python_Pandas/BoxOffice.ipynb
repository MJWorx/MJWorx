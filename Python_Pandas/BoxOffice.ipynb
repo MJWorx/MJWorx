{
 "cells": [
  {
   "cell_type": "markdown",
   "id": "bd12a6ce-8d60-474a-9d08-20dfe404d184",
   "metadata": {},
   "source": [
    "# Import Libraries"
   ]
  },
  {
   "cell_type": "code",
   "execution_count": 3,
   "id": "f7901f84-dd48-4f50-a13e-16c911e8f441",
   "metadata": {},
   "outputs": [],
   "source": [
    "import pandas as pd\n",
    "import numpy as np\n",
    "import seaborn as sns\n",
    "import matplotlib.pyplot as plt\n",
    "import plotly.express as px\n",
    "import plotly.graph_objects as go\n",
    "import plotly.offline as pyo\n",
    "import plotly.io as pio\n",
    "from plotly.offline import iplot\n",
    "\n",
    "import warnings\n",
    "warnings.filterwarnings('ignore')"
   ]
  },
  {
   "cell_type": "markdown",
   "id": "710c5d05-848d-4114-88f5-c38a52d691a6",
   "metadata": {},
   "source": [
    "## Dataset"
   ]
  },
  {
   "cell_type": "code",
   "execution_count": 5,
   "id": "3581924b-2e39-4561-9ae9-d49af8398ca1",
   "metadata": {},
   "outputs": [
    {
     "data": {
      "text/html": [
       "<div>\n",
       "<style scoped>\n",
       "    .dataframe tbody tr th:only-of-type {\n",
       "        vertical-align: middle;\n",
       "    }\n",
       "\n",
       "    .dataframe tbody tr th {\n",
       "        vertical-align: top;\n",
       "    }\n",
       "\n",
       "    .dataframe thead th {\n",
       "        text-align: right;\n",
       "    }\n",
       "</style>\n",
       "<table border=\"1\" class=\"dataframe\">\n",
       "  <thead>\n",
       "    <tr style=\"text-align: right;\">\n",
       "      <th></th>\n",
       "      <th>Year</th>\n",
       "      <th>Title</th>\n",
       "      <th>Gross</th>\n",
       "    </tr>\n",
       "  </thead>\n",
       "  <tbody>\n",
       "    <tr>\n",
       "      <th>0</th>\n",
       "      <td>1984</td>\n",
       "      <td>Beverly Hills Cop</td>\n",
       "      <td>$234,760,478</td>\n",
       "    </tr>\n",
       "    <tr>\n",
       "      <th>1</th>\n",
       "      <td>1984</td>\n",
       "      <td>Ghostbusters</td>\n",
       "      <td>$229,376,332</td>\n",
       "    </tr>\n",
       "    <tr>\n",
       "      <th>2</th>\n",
       "      <td>1984</td>\n",
       "      <td>Indiana Jones and the Temple of Doom</td>\n",
       "      <td>$179,876,727</td>\n",
       "    </tr>\n",
       "    <tr>\n",
       "      <th>3</th>\n",
       "      <td>1984</td>\n",
       "      <td>Gremlins</td>\n",
       "      <td>$148,171,538</td>\n",
       "    </tr>\n",
       "    <tr>\n",
       "      <th>4</th>\n",
       "      <td>1984</td>\n",
       "      <td>The Karate Kid</td>\n",
       "      <td>$90,817,155</td>\n",
       "    </tr>\n",
       "    <tr>\n",
       "      <th>...</th>\n",
       "      <td>...</td>\n",
       "      <td>...</td>\n",
       "      <td>...</td>\n",
       "    </tr>\n",
       "    <tr>\n",
       "      <th>8140</th>\n",
       "      <td>2024</td>\n",
       "      <td>Irklais per Atlanta</td>\n",
       "      <td>$1,402,306</td>\n",
       "    </tr>\n",
       "    <tr>\n",
       "      <th>8141</th>\n",
       "      <td>2024</td>\n",
       "      <td>Bramayugam</td>\n",
       "      <td>$1,388,375</td>\n",
       "    </tr>\n",
       "    <tr>\n",
       "      <th>8142</th>\n",
       "      <td>2024</td>\n",
       "      <td>White Courage</td>\n",
       "      <td>$1,373,237</td>\n",
       "    </tr>\n",
       "    <tr>\n",
       "      <th>8143</th>\n",
       "      <td>2024</td>\n",
       "      <td>National Theatre Live: The Motive and the Cue</td>\n",
       "      <td>$1,338,772</td>\n",
       "    </tr>\n",
       "    <tr>\n",
       "      <th>8144</th>\n",
       "      <td>2024</td>\n",
       "      <td>Escape from Germany</td>\n",
       "      <td>$1,321,364</td>\n",
       "    </tr>\n",
       "  </tbody>\n",
       "</table>\n",
       "<p>8145 rows × 3 columns</p>\n",
       "</div>"
      ],
      "text/plain": [
       "      Year                                          Title         Gross\n",
       "0     1984                              Beverly Hills Cop  $234,760,478\n",
       "1     1984                                   Ghostbusters  $229,376,332\n",
       "2     1984           Indiana Jones and the Temple of Doom  $179,876,727\n",
       "3     1984                                       Gremlins  $148,171,538\n",
       "4     1984                                 The Karate Kid   $90,817,155\n",
       "...    ...                                            ...           ...\n",
       "8140  2024                            Irklais per Atlanta    $1,402,306\n",
       "8141  2024                                     Bramayugam    $1,388,375\n",
       "8142  2024                                  White Courage    $1,373,237\n",
       "8143  2024  National Theatre Live: The Motive and the Cue    $1,338,772\n",
       "8144  2024                            Escape from Germany    $1,321,364\n",
       "\n",
       "[8145 rows x 3 columns]"
      ]
     },
     "execution_count": 5,
     "metadata": {},
     "output_type": "execute_result"
    }
   ],
   "source": [
    "df = pd.read_csv('boxoffice_data_2024.csv')\n",
    "df"
   ]
  },
  {
   "cell_type": "markdown",
   "id": "2f8d711f-303b-4af5-be81-4511568dc913",
   "metadata": {},
   "source": [
    "### Analyzing the data"
   ]
  },
  {
   "cell_type": "code",
   "execution_count": 7,
   "id": "a584bb66-afbd-42d8-8c6b-8b4633008615",
   "metadata": {},
   "outputs": [
    {
     "data": {
      "text/plain": [
       "(8145, 3)"
      ]
     },
     "execution_count": 7,
     "metadata": {},
     "output_type": "execute_result"
    }
   ],
   "source": [
    "df.shape"
   ]
  },
  {
   "cell_type": "code",
   "execution_count": 8,
   "id": "7590ffd4-98f3-4d6b-99fa-47db120b7297",
   "metadata": {},
   "outputs": [
    {
     "name": "stdout",
     "output_type": "stream",
     "text": [
      "<class 'pandas.core.frame.DataFrame'>\n",
      "RangeIndex: 8145 entries, 0 to 8144\n",
      "Data columns (total 3 columns):\n",
      " #   Column  Non-Null Count  Dtype \n",
      "---  ------  --------------  ----- \n",
      " 0   Year    8145 non-null   int64 \n",
      " 1   Title   8145 non-null   object\n",
      " 2   Gross   8145 non-null   object\n",
      "dtypes: int64(1), object(2)\n",
      "memory usage: 191.0+ KB\n"
     ]
    }
   ],
   "source": [
    "df.info()"
   ]
  },
  {
   "cell_type": "code",
   "execution_count": 9,
   "id": "21b04792-f452-49c6-8dc1-b489a1fc41d8",
   "metadata": {},
   "outputs": [
    {
     "data": {
      "text/plain": [
       "Index(['Year', 'Title', 'Gross'], dtype='object')"
      ]
     },
     "execution_count": 9,
     "metadata": {},
     "output_type": "execute_result"
    }
   ],
   "source": [
    "df.columns"
   ]
  },
  {
   "cell_type": "code",
   "execution_count": 10,
   "id": "6ce8728a-d1d7-465f-8f9e-c22f658ca0a4",
   "metadata": {},
   "outputs": [
    {
     "data": {
      "text/html": [
       "<div>\n",
       "<style scoped>\n",
       "    .dataframe tbody tr th:only-of-type {\n",
       "        vertical-align: middle;\n",
       "    }\n",
       "\n",
       "    .dataframe tbody tr th {\n",
       "        vertical-align: top;\n",
       "    }\n",
       "\n",
       "    .dataframe thead th {\n",
       "        text-align: right;\n",
       "    }\n",
       "</style>\n",
       "<table border=\"1\" class=\"dataframe\">\n",
       "  <thead>\n",
       "    <tr style=\"text-align: right;\">\n",
       "      <th></th>\n",
       "      <th>Year</th>\n",
       "    </tr>\n",
       "  </thead>\n",
       "  <tbody>\n",
       "    <tr>\n",
       "      <th>count</th>\n",
       "      <td>8145.000000</td>\n",
       "    </tr>\n",
       "    <tr>\n",
       "      <th>mean</th>\n",
       "      <td>2004.132597</td>\n",
       "    </tr>\n",
       "    <tr>\n",
       "      <th>std</th>\n",
       "      <td>11.761781</td>\n",
       "    </tr>\n",
       "    <tr>\n",
       "      <th>min</th>\n",
       "      <td>1984.000000</td>\n",
       "    </tr>\n",
       "    <tr>\n",
       "      <th>25%</th>\n",
       "      <td>1994.000000</td>\n",
       "    </tr>\n",
       "    <tr>\n",
       "      <th>50%</th>\n",
       "      <td>2004.000000</td>\n",
       "    </tr>\n",
       "    <tr>\n",
       "      <th>75%</th>\n",
       "      <td>2014.000000</td>\n",
       "    </tr>\n",
       "    <tr>\n",
       "      <th>max</th>\n",
       "      <td>2024.000000</td>\n",
       "    </tr>\n",
       "  </tbody>\n",
       "</table>\n",
       "</div>"
      ],
      "text/plain": [
       "              Year\n",
       "count  8145.000000\n",
       "mean   2004.132597\n",
       "std      11.761781\n",
       "min    1984.000000\n",
       "25%    1994.000000\n",
       "50%    2004.000000\n",
       "75%    2014.000000\n",
       "max    2024.000000"
      ]
     },
     "execution_count": 10,
     "metadata": {},
     "output_type": "execute_result"
    }
   ],
   "source": [
    "df.describe()"
   ]
  },
  {
   "cell_type": "code",
   "execution_count": 16,
   "id": "5d728ff0-9b1e-4d63-a6bf-398da0db140d",
   "metadata": {},
   "outputs": [
    {
     "data": {
      "text/plain": [
       "<Axes: >"
      ]
     },
     "execution_count": 16,
     "metadata": {},
     "output_type": "execute_result"
    },
    {
     "data": {
      "image/png": "[encoded data removed]",
      "text/plain": [
       "<Figure size 640x480 with 1 Axes>"
      ]
     },
     "metadata": {},
     "output_type": "display_data"
    }
   ],
   "source": [
    "df.describe().T.plot(kind='bar')"
   ]
  },
  {
   "cell_type": "code",
   "execution_count": 19,
   "id": "1366ef67-4957-48ad-b550-b48b226b9f20",
   "metadata": {},
   "outputs": [
    {
     "data": {
      "text/plain": [
       "Year     0\n",
       "Title    0\n",
       "Gross    0\n",
       "dtype: int64"
      ]
     },
     "execution_count": 19,
     "metadata": {},
     "output_type": "execute_result"
    }
   ],
   "source": [
    "df.isna().sum()"
   ]
  },
  {
   "cell_type": "code",
   "execution_count": 21,
   "id": "0c089c7f-4b08-4ee2-aa7b-7867e9880811",
   "metadata": {},
   "outputs": [
    {
     "data": {
      "text/plain": [
       "0"
      ]
     },
     "execution_count": 21,
     "metadata": {},
     "output_type": "execute_result"
    }
   ],
   "source": [
    "df.duplicated().sum()"
   ]
  },
  {
   "cell_type": "code",
   "execution_count": 23,
   "id": "4b4a761e-6878-48e7-a76e-dc5b6601a084",
   "metadata": {},
   "outputs": [
    {
     "data": {
      "text/plain": [
       "Year       41\n",
       "Title    7980\n",
       "Gross    8143\n",
       "dtype: int64"
      ]
     },
     "execution_count": 23,
     "metadata": {},
     "output_type": "execute_result"
    }
   ],
   "source": [
    "df.nunique()"
   ]
  },
  {
   "cell_type": "markdown",
   "id": "db04631b-03e4-4b64-9a31-5984b665e778",
   "metadata": {},
   "source": [
    "### Cleaning the data"
   ]
  },
  {
   "cell_type": "code",
   "execution_count": 26,
   "id": "bdf2bc49-b86b-4aa9-8535-41a2950b3d0f",
   "metadata": {},
   "outputs": [
    {
     "data": {
      "text/html": [
       "<div>\n",
       "<style scoped>\n",
       "    .dataframe tbody tr th:only-of-type {\n",
       "        vertical-align: middle;\n",
       "    }\n",
       "\n",
       "    .dataframe tbody tr th {\n",
       "        vertical-align: top;\n",
       "    }\n",
       "\n",
       "    .dataframe thead th {\n",
       "        text-align: right;\n",
       "    }\n",
       "</style>\n",
       "<table border=\"1\" class=\"dataframe\">\n",
       "  <thead>\n",
       "    <tr style=\"text-align: right;\">\n",
       "      <th></th>\n",
       "      <th>Year</th>\n",
       "      <th>Title</th>\n",
       "      <th>Gross</th>\n",
       "    </tr>\n",
       "  </thead>\n",
       "  <tbody>\n",
       "    <tr>\n",
       "      <th>0</th>\n",
       "      <td>1984</td>\n",
       "      <td>Beverly Hills Cop</td>\n",
       "      <td>$234,760,478</td>\n",
       "    </tr>\n",
       "    <tr>\n",
       "      <th>1</th>\n",
       "      <td>1984</td>\n",
       "      <td>Ghostbusters</td>\n",
       "      <td>$229,376,332</td>\n",
       "    </tr>\n",
       "    <tr>\n",
       "      <th>2</th>\n",
       "      <td>1984</td>\n",
       "      <td>Indiana Jones and the Temple of Doom</td>\n",
       "      <td>$179,876,727</td>\n",
       "    </tr>\n",
       "    <tr>\n",
       "      <th>3</th>\n",
       "      <td>1984</td>\n",
       "      <td>Gremlins</td>\n",
       "      <td>$148,171,538</td>\n",
       "    </tr>\n",
       "    <tr>\n",
       "      <th>4</th>\n",
       "      <td>1984</td>\n",
       "      <td>The Karate Kid</td>\n",
       "      <td>$90,817,155</td>\n",
       "    </tr>\n",
       "    <tr>\n",
       "      <th>...</th>\n",
       "      <td>...</td>\n",
       "      <td>...</td>\n",
       "      <td>...</td>\n",
       "    </tr>\n",
       "    <tr>\n",
       "      <th>8140</th>\n",
       "      <td>2024</td>\n",
       "      <td>Irklais per Atlanta</td>\n",
       "      <td>$1,402,306</td>\n",
       "    </tr>\n",
       "    <tr>\n",
       "      <th>8141</th>\n",
       "      <td>2024</td>\n",
       "      <td>Bramayugam</td>\n",
       "      <td>$1,388,375</td>\n",
       "    </tr>\n",
       "    <tr>\n",
       "      <th>8142</th>\n",
       "      <td>2024</td>\n",
       "      <td>White Courage</td>\n",
       "      <td>$1,373,237</td>\n",
       "    </tr>\n",
       "    <tr>\n",
       "      <th>8143</th>\n",
       "      <td>2024</td>\n",
       "      <td>National Theatre Live: The Motive and the Cue</td>\n",
       "      <td>$1,338,772</td>\n",
       "    </tr>\n",
       "    <tr>\n",
       "      <th>8144</th>\n",
       "      <td>2024</td>\n",
       "      <td>Escape from Germany</td>\n",
       "      <td>$1,321,364</td>\n",
       "    </tr>\n",
       "  </tbody>\n",
       "</table>\n",
       "<p>8145 rows × 3 columns</p>\n",
       "</div>"
      ],
      "text/plain": [
       "      Year                                          Title         Gross\n",
       "0     1984                              Beverly Hills Cop  $234,760,478\n",
       "1     1984                                   Ghostbusters  $229,376,332\n",
       "2     1984           Indiana Jones and the Temple of Doom  $179,876,727\n",
       "3     1984                                       Gremlins  $148,171,538\n",
       "4     1984                                 The Karate Kid   $90,817,155\n",
       "...    ...                                            ...           ...\n",
       "8140  2024                            Irklais per Atlanta    $1,402,306\n",
       "8141  2024                                     Bramayugam    $1,388,375\n",
       "8142  2024                                  White Courage    $1,373,237\n",
       "8143  2024  National Theatre Live: The Motive and the Cue    $1,338,772\n",
       "8144  2024                            Escape from Germany    $1,321,364\n",
       "\n",
       "[8145 rows x 3 columns]"
      ]
     },
     "execution_count": 26,
     "metadata": {},
     "output_type": "execute_result"
    }
   ],
   "source": [
    "df"
   ]
  },
  {
   "cell_type": "code",
   "execution_count": 28,
   "id": "4175a57f-b1d0-4505-9a3b-2cd7baf93c57",
   "metadata": {},
   "outputs": [],
   "source": [
    "df[['Year']] = df[['Year']].astype('str')"
   ]
  },
  {
   "cell_type": "code",
   "execution_count": 30,
   "id": "f7b0b377-63be-4539-b333-2057d9a1bcf3",
   "metadata": {},
   "outputs": [
    {
     "data": {
      "text/html": [
       "<div>\n",
       "<style scoped>\n",
       "    .dataframe tbody tr th:only-of-type {\n",
       "        vertical-align: middle;\n",
       "    }\n",
       "\n",
       "    .dataframe tbody tr th {\n",
       "        vertical-align: top;\n",
       "    }\n",
       "\n",
       "    .dataframe thead th {\n",
       "        text-align: right;\n",
       "    }\n",
       "</style>\n",
       "<table border=\"1\" class=\"dataframe\">\n",
       "  <thead>\n",
       "    <tr style=\"text-align: right;\">\n",
       "      <th></th>\n",
       "      <th>Year</th>\n",
       "      <th>Title</th>\n",
       "      <th>Gross</th>\n",
       "    </tr>\n",
       "  </thead>\n",
       "  <tbody>\n",
       "    <tr>\n",
       "      <th>0</th>\n",
       "      <td>1984</td>\n",
       "      <td>Beverly Hills Cop</td>\n",
       "      <td>$234,760,478</td>\n",
       "    </tr>\n",
       "    <tr>\n",
       "      <th>1</th>\n",
       "      <td>1984</td>\n",
       "      <td>Ghostbusters</td>\n",
       "      <td>$229,376,332</td>\n",
       "    </tr>\n",
       "    <tr>\n",
       "      <th>2</th>\n",
       "      <td>1984</td>\n",
       "      <td>Indiana Jones and the Temple of Doom</td>\n",
       "      <td>$179,876,727</td>\n",
       "    </tr>\n",
       "    <tr>\n",
       "      <th>3</th>\n",
       "      <td>1984</td>\n",
       "      <td>Gremlins</td>\n",
       "      <td>$148,171,538</td>\n",
       "    </tr>\n",
       "    <tr>\n",
       "      <th>4</th>\n",
       "      <td>1984</td>\n",
       "      <td>The Karate Kid</td>\n",
       "      <td>$90,817,155</td>\n",
       "    </tr>\n",
       "    <tr>\n",
       "      <th>...</th>\n",
       "      <td>...</td>\n",
       "      <td>...</td>\n",
       "      <td>...</td>\n",
       "    </tr>\n",
       "    <tr>\n",
       "      <th>8140</th>\n",
       "      <td>2024</td>\n",
       "      <td>Irklais per Atlanta</td>\n",
       "      <td>$1,402,306</td>\n",
       "    </tr>\n",
       "    <tr>\n",
       "      <th>8141</th>\n",
       "      <td>2024</td>\n",
       "      <td>Bramayugam</td>\n",
       "      <td>$1,388,375</td>\n",
       "    </tr>\n",
       "    <tr>\n",
       "      <th>8142</th>\n",
       "      <td>2024</td>\n",
       "      <td>White Courage</td>\n",
       "      <td>$1,373,237</td>\n",
       "    </tr>\n",
       "    <tr>\n",
       "      <th>8143</th>\n",
       "      <td>2024</td>\n",
       "      <td>National Theatre Live: The Motive and the Cue</td>\n",
       "      <td>$1,338,772</td>\n",
       "    </tr>\n",
       "    <tr>\n",
       "      <th>8144</th>\n",
       "      <td>2024</td>\n",
       "      <td>Escape from Germany</td>\n",
       "      <td>$1,321,364</td>\n",
       "    </tr>\n",
       "  </tbody>\n",
       "</table>\n",
       "<p>8145 rows × 3 columns</p>\n",
       "</div>"
      ],
      "text/plain": [
       "      Year                                          Title         Gross\n",
       "0     1984                              Beverly Hills Cop  $234,760,478\n",
       "1     1984                                   Ghostbusters  $229,376,332\n",
       "2     1984           Indiana Jones and the Temple of Doom  $179,876,727\n",
       "3     1984                                       Gremlins  $148,171,538\n",
       "4     1984                                 The Karate Kid   $90,817,155\n",
       "...    ...                                            ...           ...\n",
       "8140  2024                            Irklais per Atlanta    $1,402,306\n",
       "8141  2024                                     Bramayugam    $1,388,375\n",
       "8142  2024                                  White Courage    $1,373,237\n",
       "8143  2024  National Theatre Live: The Motive and the Cue    $1,338,772\n",
       "8144  2024                            Escape from Germany    $1,321,364\n",
       "\n",
       "[8145 rows x 3 columns]"
      ]
     },
     "execution_count": 30,
     "metadata": {},
     "output_type": "execute_result"
    }
   ],
   "source": [
    "df"
   ]
  },
  {
   "cell_type": "code",
   "execution_count": 32,
   "id": "c8868f0e-d688-4b5a-a847-534055a0baab",
   "metadata": {},
   "outputs": [
    {
     "data": {
      "text/html": [
       "<div>\n",
       "<style scoped>\n",
       "    .dataframe tbody tr th:only-of-type {\n",
       "        vertical-align: middle;\n",
       "    }\n",
       "\n",
       "    .dataframe tbody tr th {\n",
       "        vertical-align: top;\n",
       "    }\n",
       "\n",
       "    .dataframe thead th {\n",
       "        text-align: right;\n",
       "    }\n",
       "</style>\n",
       "<table border=\"1\" class=\"dataframe\">\n",
       "  <thead>\n",
       "    <tr style=\"text-align: right;\">\n",
       "      <th></th>\n",
       "      <th>Year</th>\n",
       "      <th>Title</th>\n",
       "      <th>Gross</th>\n",
       "    </tr>\n",
       "  </thead>\n",
       "  <tbody>\n",
       "    <tr>\n",
       "      <th>0</th>\n",
       "      <td>1984</td>\n",
       "      <td>Beverly Hills Cop</td>\n",
       "      <td>$234760478</td>\n",
       "    </tr>\n",
       "    <tr>\n",
       "      <th>1</th>\n",
       "      <td>1984</td>\n",
       "      <td>Ghostbusters</td>\n",
       "      <td>$229376332</td>\n",
       "    </tr>\n",
       "    <tr>\n",
       "      <th>2</th>\n",
       "      <td>1984</td>\n",
       "      <td>Indiana Jones and the Temple of Doom</td>\n",
       "      <td>$179876727</td>\n",
       "    </tr>\n",
       "    <tr>\n",
       "      <th>3</th>\n",
       "      <td>1984</td>\n",
       "      <td>Gremlins</td>\n",
       "      <td>$148171538</td>\n",
       "    </tr>\n",
       "    <tr>\n",
       "      <th>4</th>\n",
       "      <td>1984</td>\n",
       "      <td>The Karate Kid</td>\n",
       "      <td>$90817155</td>\n",
       "    </tr>\n",
       "    <tr>\n",
       "      <th>...</th>\n",
       "      <td>...</td>\n",
       "      <td>...</td>\n",
       "      <td>...</td>\n",
       "    </tr>\n",
       "    <tr>\n",
       "      <th>8140</th>\n",
       "      <td>2024</td>\n",
       "      <td>Irklais per Atlanta</td>\n",
       "      <td>$1402306</td>\n",
       "    </tr>\n",
       "    <tr>\n",
       "      <th>8141</th>\n",
       "      <td>2024</td>\n",
       "      <td>Bramayugam</td>\n",
       "      <td>$1388375</td>\n",
       "    </tr>\n",
       "    <tr>\n",
       "      <th>8142</th>\n",
       "      <td>2024</td>\n",
       "      <td>White Courage</td>\n",
       "      <td>$1373237</td>\n",
       "    </tr>\n",
       "    <tr>\n",
       "      <th>8143</th>\n",
       "      <td>2024</td>\n",
       "      <td>National Theatre Live: The Motive and the Cue</td>\n",
       "      <td>$1338772</td>\n",
       "    </tr>\n",
       "    <tr>\n",
       "      <th>8144</th>\n",
       "      <td>2024</td>\n",
       "      <td>Escape from Germany</td>\n",
       "      <td>$1321364</td>\n",
       "    </tr>\n",
       "  </tbody>\n",
       "</table>\n",
       "<p>8145 rows × 3 columns</p>\n",
       "</div>"
      ],
      "text/plain": [
       "      Year                                          Title       Gross\n",
       "0     1984                              Beverly Hills Cop  $234760478\n",
       "1     1984                                   Ghostbusters  $229376332\n",
       "2     1984           Indiana Jones and the Temple of Doom  $179876727\n",
       "3     1984                                       Gremlins  $148171538\n",
       "4     1984                                 The Karate Kid   $90817155\n",
       "...    ...                                            ...         ...\n",
       "8140  2024                            Irklais per Atlanta    $1402306\n",
       "8141  2024                                     Bramayugam    $1388375\n",
       "8142  2024                                  White Courage    $1373237\n",
       "8143  2024  National Theatre Live: The Motive and the Cue    $1338772\n",
       "8144  2024                            Escape from Germany    $1321364\n",
       "\n",
       "[8145 rows x 3 columns]"
      ]
     },
     "execution_count": 32,
     "metadata": {},
     "output_type": "execute_result"
    }
   ],
   "source": [
    "df['Gross'] = df['Gross'].str.replace(',', '')\n",
    "df"
   ]
  },
  {
   "cell_type": "code",
   "execution_count": 34,
   "id": "46951fa9-fa95-4f15-8633-e0a828da1a77",
   "metadata": {},
   "outputs": [
    {
     "data": {
      "text/html": [
       "<div>\n",
       "<style scoped>\n",
       "    .dataframe tbody tr th:only-of-type {\n",
       "        vertical-align: middle;\n",
       "    }\n",
       "\n",
       "    .dataframe tbody tr th {\n",
       "        vertical-align: top;\n",
       "    }\n",
       "\n",
       "    .dataframe thead th {\n",
       "        text-align: right;\n",
       "    }\n",
       "</style>\n",
       "<table border=\"1\" class=\"dataframe\">\n",
       "  <thead>\n",
       "    <tr style=\"text-align: right;\">\n",
       "      <th></th>\n",
       "      <th>Year</th>\n",
       "      <th>Title</th>\n",
       "      <th>Gross</th>\n",
       "    </tr>\n",
       "  </thead>\n",
       "  <tbody>\n",
       "    <tr>\n",
       "      <th>0</th>\n",
       "      <td>1984</td>\n",
       "      <td>Beverly Hills Cop</td>\n",
       "      <td>234760478</td>\n",
       "    </tr>\n",
       "    <tr>\n",
       "      <th>1</th>\n",
       "      <td>1984</td>\n",
       "      <td>Ghostbusters</td>\n",
       "      <td>229376332</td>\n",
       "    </tr>\n",
       "    <tr>\n",
       "      <th>2</th>\n",
       "      <td>1984</td>\n",
       "      <td>Indiana Jones and the Temple of Doom</td>\n",
       "      <td>179876727</td>\n",
       "    </tr>\n",
       "    <tr>\n",
       "      <th>3</th>\n",
       "      <td>1984</td>\n",
       "      <td>Gremlins</td>\n",
       "      <td>148171538</td>\n",
       "    </tr>\n",
       "    <tr>\n",
       "      <th>4</th>\n",
       "      <td>1984</td>\n",
       "      <td>The Karate Kid</td>\n",
       "      <td>90817155</td>\n",
       "    </tr>\n",
       "    <tr>\n",
       "      <th>...</th>\n",
       "      <td>...</td>\n",
       "      <td>...</td>\n",
       "      <td>...</td>\n",
       "    </tr>\n",
       "    <tr>\n",
       "      <th>8140</th>\n",
       "      <td>2024</td>\n",
       "      <td>Irklais per Atlanta</td>\n",
       "      <td>1402306</td>\n",
       "    </tr>\n",
       "    <tr>\n",
       "      <th>8141</th>\n",
       "      <td>2024</td>\n",
       "      <td>Bramayugam</td>\n",
       "      <td>1388375</td>\n",
       "    </tr>\n",
       "    <tr>\n",
       "      <th>8142</th>\n",
       "      <td>2024</td>\n",
       "      <td>White Courage</td>\n",
       "      <td>1373237</td>\n",
       "    </tr>\n",
       "    <tr>\n",
       "      <th>8143</th>\n",
       "      <td>2024</td>\n",
       "      <td>National Theatre Live: The Motive and the Cue</td>\n",
       "      <td>1338772</td>\n",
       "    </tr>\n",
       "    <tr>\n",
       "      <th>8144</th>\n",
       "      <td>2024</td>\n",
       "      <td>Escape from Germany</td>\n",
       "      <td>1321364</td>\n",
       "    </tr>\n",
       "  </tbody>\n",
       "</table>\n",
       "<p>8145 rows × 3 columns</p>\n",
       "</div>"
      ],
      "text/plain": [
       "      Year                                          Title      Gross\n",
       "0     1984                              Beverly Hills Cop  234760478\n",
       "1     1984                                   Ghostbusters  229376332\n",
       "2     1984           Indiana Jones and the Temple of Doom  179876727\n",
       "3     1984                                       Gremlins  148171538\n",
       "4     1984                                 The Karate Kid   90817155\n",
       "...    ...                                            ...        ...\n",
       "8140  2024                            Irklais per Atlanta    1402306\n",
       "8141  2024                                     Bramayugam    1388375\n",
       "8142  2024                                  White Courage    1373237\n",
       "8143  2024  National Theatre Live: The Motive and the Cue    1338772\n",
       "8144  2024                            Escape from Germany    1321364\n",
       "\n",
       "[8145 rows x 3 columns]"
      ]
     },
     "execution_count": 34,
     "metadata": {},
     "output_type": "execute_result"
    }
   ],
   "source": [
    "df['Gross'] = df['Gross'].str.replace('$', '')\n",
    "df"
   ]
  },
  {
   "cell_type": "code",
   "execution_count": 36,
   "id": "0dd67951-60e4-4576-8fde-280c2bdd750d",
   "metadata": {},
   "outputs": [],
   "source": [
    "df['Gross'] = df['Gross'].astype('int64')"
   ]
  },
  {
   "cell_type": "code",
   "execution_count": 38,
   "id": "38fd73fa-8083-4a2f-a143-794fb4631193",
   "metadata": {},
   "outputs": [
    {
     "data": {
      "text/plain": [
       "dtype('int64')"
      ]
     },
     "execution_count": 38,
     "metadata": {},
     "output_type": "execute_result"
    }
   ],
   "source": [
    "df['Gross'].dtypes"
   ]
  },
  {
   "cell_type": "code",
   "execution_count": 40,
   "id": "0a931d08-82dd-4ad8-ad23-b22879293711",
   "metadata": {},
   "outputs": [
    {
     "name": "stdout",
     "output_type": "stream",
     "text": [
      "<class 'pandas.core.frame.DataFrame'>\n",
      "RangeIndex: 8145 entries, 0 to 8144\n",
      "Data columns (total 3 columns):\n",
      " #   Column  Non-Null Count  Dtype \n",
      "---  ------  --------------  ----- \n",
      " 0   Year    8145 non-null   object\n",
      " 1   Title   8145 non-null   object\n",
      " 2   Gross   8145 non-null   int64 \n",
      "dtypes: int64(1), object(2)\n",
      "memory usage: 191.0+ KB\n"
     ]
    }
   ],
   "source": [
    "df.info()"
   ]
  },
  {
   "cell_type": "markdown",
   "id": "2d909190-9b00-4ab8-887f-0881c8aa91cb",
   "metadata": {},
   "source": [
    "## Visualization"
   ]
  },
  {
   "cell_type": "markdown",
   "id": "290b2fe8-c5d4-4108-b70b-157274ed1eb7",
   "metadata": {},
   "source": [
    "### Total Gross by Year"
   ]
  },
  {
   "cell_type": "code",
   "execution_count": 58,
   "id": "e3ee1700-d082-45fe-acd1-5311b75c3fa1",
   "metadata": {},
   "outputs": [
    {
     "data": {
      "image/png": "[encoded data removed]",
      "text/plain": [
       "<Figure size 1200x600 with 1 Axes>"
      ]
     },
     "metadata": {},
     "output_type": "display_data"
    }
   ],
   "source": [
    "plt.figure(figsize=(12, 6))\n",
    "df_year = df.groupby(['Year'])[['Gross']].sum()\n",
    "sns.lineplot(x='Year', y='Gross', data=df_year, palette='blue')\n",
    "plt.title('Total Gross by Year')\n",
    "plt.xticks(rotation=90)\n",
    "plt.xlabel('Year')\n",
    "plt.ylabel('$')\n",
    "plt.grid()\n",
    "plt.show()"
   ]
  },
  {
   "cell_type": "markdown",
   "id": "47bc5e26-17dc-4f26-9367-b097f6568c32",
   "metadata": {},
   "source": [
    "### Average Gross by Year"
   ]
  },
  {
   "cell_type": "code",
   "execution_count": 56,
   "id": "b8bdd0cd-001e-474c-b423-afbab6fd2f6e",
   "metadata": {},
   "outputs": [
    {
     "data": {
      "image/png": "[encoded data removed]",
      "text/plain": [
       "<Figure size 1000x400 with 1 Axes>"
      ]
     },
     "metadata": {},
     "output_type": "display_data"
    }
   ],
   "source": [
    "plt.figure(figsize=(10, 4))\n",
    "sns.lineplot(x='Year', y='Gross', data=df, palette='blue')\n",
    "plt.title('Average Gross By Year')\n",
    "plt.xticks(rotation=90)\n",
    "plt.xlabel('Year')\n",
    "plt.ylabel('$')\n",
    "plt.grid()\n",
    "plt.show()"
   ]
  },
  {
   "cell_type": "markdown",
   "id": "14660991-b3d5-432c-b791-035d7618151e",
   "metadata": {},
   "source": [
    "### Boxplot - Gross By Year"
   ]
  },
  {
   "cell_type": "code",
   "execution_count": 60,
   "id": "8876b9b0-ed63-4921-9765-e98a9e3e9f46",
   "metadata": {},
   "outputs": [
    {
     "data": {
      "image/png": "[encoded data removed]",
      "text/plain": [
       "<Figure size 1000x400 with 1 Axes>"
      ]
     },
     "metadata": {},
     "output_type": "display_data"
    }
   ],
   "source": [
    "plt.figure(figsize=(10, 4))\n",
    "sns.boxplot(x='Year', y='Gross', data=df, palette='terrain')\n",
    "plt.title('Gross By Year')\n",
    "plt.xticks(rotation=90)\n",
    "plt.xlabel('Year')\n",
    "plt.ylabel('$')\n",
    "plt.show()"
   ]
  },
  {
   "cell_type": "markdown",
   "id": "f9d922e0-7df6-42c8-a755-1747a97bab6d",
   "metadata": {},
   "source": [
    "### Top Year Title By Gross"
   ]
  },
  {
   "cell_type": "code",
   "execution_count": 65,
   "id": "300dae1d-0dc6-47a5-b78c-cb2034d115be",
   "metadata": {},
   "outputs": [
    {
     "data": {
      "text/html": [
       "<div>\n",
       "<style scoped>\n",
       "    .dataframe tbody tr th:only-of-type {\n",
       "        vertical-align: middle;\n",
       "    }\n",
       "\n",
       "    .dataframe tbody tr th {\n",
       "        vertical-align: top;\n",
       "    }\n",
       "\n",
       "    .dataframe thead th {\n",
       "        text-align: right;\n",
       "    }\n",
       "</style>\n",
       "<table border=\"1\" class=\"dataframe\">\n",
       "  <thead>\n",
       "    <tr style=\"text-align: right;\">\n",
       "      <th></th>\n",
       "      <th>Year</th>\n",
       "      <th>Title</th>\n",
       "      <th>Gross</th>\n",
       "      <th>Year_Title</th>\n",
       "    </tr>\n",
       "  </thead>\n",
       "  <tbody>\n",
       "    <tr>\n",
       "      <th>0</th>\n",
       "      <td>1984</td>\n",
       "      <td>Beverly Hills Cop</td>\n",
       "      <td>234760478</td>\n",
       "      <td>1984 - Beverly Hills Cop</td>\n",
       "    </tr>\n",
       "    <tr>\n",
       "      <th>165</th>\n",
       "      <td>1985</td>\n",
       "      <td>Out of Africa</td>\n",
       "      <td>225526205</td>\n",
       "      <td>1985 - Out of Africa</td>\n",
       "    </tr>\n",
       "    <tr>\n",
       "      <th>345</th>\n",
       "      <td>1986</td>\n",
       "      <td>Top Gun</td>\n",
       "      <td>176913085</td>\n",
       "      <td>1986 - Top Gun</td>\n",
       "    </tr>\n",
       "    <tr>\n",
       "      <th>545</th>\n",
       "      <td>1987</td>\n",
       "      <td>Three Men and a Baby</td>\n",
       "      <td>167780960</td>\n",
       "      <td>1987 - Three Men and a Baby</td>\n",
       "    </tr>\n",
       "    <tr>\n",
       "      <th>745</th>\n",
       "      <td>1988</td>\n",
       "      <td>Who Framed Roger Rabbit</td>\n",
       "      <td>238092487</td>\n",
       "      <td>1988 - Who Framed Roger Rabbit</td>\n",
       "    </tr>\n",
       "    <tr>\n",
       "      <th>945</th>\n",
       "      <td>1989</td>\n",
       "      <td>Batman</td>\n",
       "      <td>401188924</td>\n",
       "      <td>1989 - Batman</td>\n",
       "    </tr>\n",
       "    <tr>\n",
       "      <th>1145</th>\n",
       "      <td>1990</td>\n",
       "      <td>Home Alone</td>\n",
       "      <td>289012363</td>\n",
       "      <td>1990 - Home Alone</td>\n",
       "    </tr>\n",
       "    <tr>\n",
       "      <th>1345</th>\n",
       "      <td>1991</td>\n",
       "      <td>Beauty and the Beast</td>\n",
       "      <td>248802521</td>\n",
       "      <td>1991 - Beauty and the Beast</td>\n",
       "    </tr>\n",
       "    <tr>\n",
       "      <th>1545</th>\n",
       "      <td>1992</td>\n",
       "      <td>Aladdin</td>\n",
       "      <td>346476295</td>\n",
       "      <td>1992 - Aladdin</td>\n",
       "    </tr>\n",
       "    <tr>\n",
       "      <th>1745</th>\n",
       "      <td>1993</td>\n",
       "      <td>Jurassic Park</td>\n",
       "      <td>978167947</td>\n",
       "      <td>1993 - Jurassic Park</td>\n",
       "    </tr>\n",
       "    <tr>\n",
       "      <th>1945</th>\n",
       "      <td>1994</td>\n",
       "      <td>The Lion King</td>\n",
       "      <td>763455561</td>\n",
       "      <td>1994 - The Lion King</td>\n",
       "    </tr>\n",
       "    <tr>\n",
       "      <th>2145</th>\n",
       "      <td>1995</td>\n",
       "      <td>Toy Story</td>\n",
       "      <td>244652254</td>\n",
       "      <td>1995 - Toy Story</td>\n",
       "    </tr>\n",
       "    <tr>\n",
       "      <th>2345</th>\n",
       "      <td>1996</td>\n",
       "      <td>Independence Day</td>\n",
       "      <td>306172558</td>\n",
       "      <td>1996 - Independence Day</td>\n",
       "    </tr>\n",
       "    <tr>\n",
       "      <th>2545</th>\n",
       "      <td>1997</td>\n",
       "      <td>Titanic</td>\n",
       "      <td>1843373318</td>\n",
       "      <td>1997 - Titanic</td>\n",
       "    </tr>\n",
       "    <tr>\n",
       "      <th>2745</th>\n",
       "      <td>1998</td>\n",
       "      <td>Armageddon</td>\n",
       "      <td>553709788</td>\n",
       "      <td>1998 - Armageddon</td>\n",
       "    </tr>\n",
       "    <tr>\n",
       "      <th>2945</th>\n",
       "      <td>1999</td>\n",
       "      <td>Star Wars: Episode I - The Phantom Menace</td>\n",
       "      <td>924305084</td>\n",
       "      <td>1999 - Star Wars: Episode I - The Phantom Menace</td>\n",
       "    </tr>\n",
       "    <tr>\n",
       "      <th>3145</th>\n",
       "      <td>2000</td>\n",
       "      <td>Mission: Impossible II</td>\n",
       "      <td>546388108</td>\n",
       "      <td>2000 - Mission: Impossible II</td>\n",
       "    </tr>\n",
       "    <tr>\n",
       "      <th>3345</th>\n",
       "      <td>2001</td>\n",
       "      <td>Harry Potter and the Sorcerer's Stone</td>\n",
       "      <td>974755371</td>\n",
       "      <td>2001 - Harry Potter and the Sorcerer's Stone</td>\n",
       "    </tr>\n",
       "    <tr>\n",
       "      <th>3545</th>\n",
       "      <td>2002</td>\n",
       "      <td>The Lord of the Rings: The Two Towers</td>\n",
       "      <td>936703641</td>\n",
       "      <td>2002 - The Lord of the Rings: The Two Towers</td>\n",
       "    </tr>\n",
       "    <tr>\n",
       "      <th>3745</th>\n",
       "      <td>2003</td>\n",
       "      <td>The Lord of the Rings: The Return of the King</td>\n",
       "      <td>1140697968</td>\n",
       "      <td>2003 - The Lord of the Rings: The Return of th...</td>\n",
       "    </tr>\n",
       "    <tr>\n",
       "      <th>3945</th>\n",
       "      <td>2004</td>\n",
       "      <td>Shrek 2</td>\n",
       "      <td>928965305</td>\n",
       "      <td>2004 - Shrek 2</td>\n",
       "    </tr>\n",
       "    <tr>\n",
       "      <th>4145</th>\n",
       "      <td>2005</td>\n",
       "      <td>Harry Potter and the Goblet of Fire</td>\n",
       "      <td>895921036</td>\n",
       "      <td>2005 - Harry Potter and the Goblet of Fire</td>\n",
       "    </tr>\n",
       "    <tr>\n",
       "      <th>4345</th>\n",
       "      <td>2006</td>\n",
       "      <td>Pirates of the Caribbean: Dead Man's Chest</td>\n",
       "      <td>1066179725</td>\n",
       "      <td>2006 - Pirates of the Caribbean: Dead Man's Chest</td>\n",
       "    </tr>\n",
       "    <tr>\n",
       "      <th>4545</th>\n",
       "      <td>2007</td>\n",
       "      <td>Pirates of the Caribbean: At World's End</td>\n",
       "      <td>960996492</td>\n",
       "      <td>2007 - Pirates of the Caribbean: At World's End</td>\n",
       "    </tr>\n",
       "    <tr>\n",
       "      <th>4745</th>\n",
       "      <td>2008</td>\n",
       "      <td>The Dark Knight</td>\n",
       "      <td>1003845358</td>\n",
       "      <td>2008 - The Dark Knight</td>\n",
       "    </tr>\n",
       "    <tr>\n",
       "      <th>4945</th>\n",
       "      <td>2009</td>\n",
       "      <td>Avatar</td>\n",
       "      <td>2743577587</td>\n",
       "      <td>2009 - Avatar</td>\n",
       "    </tr>\n",
       "    <tr>\n",
       "      <th>5145</th>\n",
       "      <td>2010</td>\n",
       "      <td>Toy Story 3</td>\n",
       "      <td>1066969703</td>\n",
       "      <td>2010 - Toy Story 3</td>\n",
       "    </tr>\n",
       "    <tr>\n",
       "      <th>5345</th>\n",
       "      <td>2011</td>\n",
       "      <td>Harry Potter and the Deathly Hallows: Part 2</td>\n",
       "      <td>1341511219</td>\n",
       "      <td>2011 - Harry Potter and the Deathly Hallows: P...</td>\n",
       "    </tr>\n",
       "    <tr>\n",
       "      <th>5545</th>\n",
       "      <td>2012</td>\n",
       "      <td>The Avengers</td>\n",
       "      <td>1518812988</td>\n",
       "      <td>2012 - The Avengers</td>\n",
       "    </tr>\n",
       "    <tr>\n",
       "      <th>5745</th>\n",
       "      <td>2013</td>\n",
       "      <td>Frozen</td>\n",
       "      <td>1280802282</td>\n",
       "      <td>2013 - Frozen</td>\n",
       "    </tr>\n",
       "    <tr>\n",
       "      <th>5945</th>\n",
       "      <td>2014</td>\n",
       "      <td>Transformers: Age of Extinction</td>\n",
       "      <td>1104054072</td>\n",
       "      <td>2014 - Transformers: Age of Extinction</td>\n",
       "    </tr>\n",
       "    <tr>\n",
       "      <th>6145</th>\n",
       "      <td>2015</td>\n",
       "      <td>Star Wars: Episode VII - The Force Awakens</td>\n",
       "      <td>2068223624</td>\n",
       "      <td>2015 - Star Wars: Episode VII - The Force Awakens</td>\n",
       "    </tr>\n",
       "    <tr>\n",
       "      <th>6345</th>\n",
       "      <td>2016</td>\n",
       "      <td>Captain America: Civil War</td>\n",
       "      <td>1153296293</td>\n",
       "      <td>2016 - Captain America: Civil War</td>\n",
       "    </tr>\n",
       "    <tr>\n",
       "      <th>6545</th>\n",
       "      <td>2017</td>\n",
       "      <td>Star Wars: Episode VIII - The Last Jedi</td>\n",
       "      <td>1332539889</td>\n",
       "      <td>2017 - Star Wars: Episode VIII - The Last Jedi</td>\n",
       "    </tr>\n",
       "    <tr>\n",
       "      <th>6745</th>\n",
       "      <td>2018</td>\n",
       "      <td>Avengers: Infinity War</td>\n",
       "      <td>2048359754</td>\n",
       "      <td>2018 - Avengers: Infinity War</td>\n",
       "    </tr>\n",
       "    <tr>\n",
       "      <th>6945</th>\n",
       "      <td>2019</td>\n",
       "      <td>Avengers: Endgame</td>\n",
       "      <td>2799439100</td>\n",
       "      <td>2019 - Avengers: Endgame</td>\n",
       "    </tr>\n",
       "    <tr>\n",
       "      <th>7145</th>\n",
       "      <td>2020</td>\n",
       "      <td>The Eight Hundred</td>\n",
       "      <td>461421559</td>\n",
       "      <td>2020 - The Eight Hundred</td>\n",
       "    </tr>\n",
       "    <tr>\n",
       "      <th>7345</th>\n",
       "      <td>2021</td>\n",
       "      <td>Spider-Man: No Way Home</td>\n",
       "      <td>1912233593</td>\n",
       "      <td>2021 - Spider-Man: No Way Home</td>\n",
       "    </tr>\n",
       "    <tr>\n",
       "      <th>7545</th>\n",
       "      <td>2022</td>\n",
       "      <td>Avatar: The Way of Water</td>\n",
       "      <td>2320250281</td>\n",
       "      <td>2022 - Avatar: The Way of Water</td>\n",
       "    </tr>\n",
       "    <tr>\n",
       "      <th>7745</th>\n",
       "      <td>2023</td>\n",
       "      <td>Barbie</td>\n",
       "      <td>1445638421</td>\n",
       "      <td>2023 - Barbie</td>\n",
       "    </tr>\n",
       "    <tr>\n",
       "      <th>7945</th>\n",
       "      <td>2024</td>\n",
       "      <td>Dune: Part Two</td>\n",
       "      <td>705258731</td>\n",
       "      <td>2024 - Dune: Part Two</td>\n",
       "    </tr>\n",
       "  </tbody>\n",
       "</table>\n",
       "</div>"
      ],
      "text/plain": [
       "      Year                                          Title       Gross  \\\n",
       "0     1984                              Beverly Hills Cop   234760478   \n",
       "165   1985                                  Out of Africa   225526205   \n",
       "345   1986                                        Top Gun   176913085   \n",
       "545   1987                           Three Men and a Baby   167780960   \n",
       "745   1988                        Who Framed Roger Rabbit   238092487   \n",
       "945   1989                                         Batman   401188924   \n",
       "1145  1990                                     Home Alone   289012363   \n",
       "1345  1991                           Beauty and the Beast   248802521   \n",
       "1545  1992                                        Aladdin   346476295   \n",
       "1745  1993                                  Jurassic Park   978167947   \n",
       "1945  1994                                  The Lion King   763455561   \n",
       "2145  1995                                      Toy Story   244652254   \n",
       "2345  1996                               Independence Day   306172558   \n",
       "2545  1997                                        Titanic  1843373318   \n",
       "2745  1998                                     Armageddon   553709788   \n",
       "2945  1999      Star Wars: Episode I - The Phantom Menace   924305084   \n",
       "3145  2000                         Mission: Impossible II   546388108   \n",
       "3345  2001          Harry Potter and the Sorcerer's Stone   974755371   \n",
       "3545  2002          The Lord of the Rings: The Two Towers   936703641   \n",
       "3745  2003  The Lord of the Rings: The Return of the King  1140697968   \n",
       "3945  2004                                        Shrek 2   928965305   \n",
       "4145  2005            Harry Potter and the Goblet of Fire   895921036   \n",
       "4345  2006     Pirates of the Caribbean: Dead Man's Chest  1066179725   \n",
       "4545  2007       Pirates of the Caribbean: At World's End   960996492   \n",
       "4745  2008                                The Dark Knight  1003845358   \n",
       "4945  2009                                         Avatar  2743577587   \n",
       "5145  2010                                    Toy Story 3  1066969703   \n",
       "5345  2011   Harry Potter and the Deathly Hallows: Part 2  1341511219   \n",
       "5545  2012                                   The Avengers  1518812988   \n",
       "5745  2013                                         Frozen  1280802282   \n",
       "5945  2014                Transformers: Age of Extinction  1104054072   \n",
       "6145  2015     Star Wars: Episode VII - The Force Awakens  2068223624   \n",
       "6345  2016                     Captain America: Civil War  1153296293   \n",
       "6545  2017        Star Wars: Episode VIII - The Last Jedi  1332539889   \n",
       "6745  2018                         Avengers: Infinity War  2048359754   \n",
       "6945  2019                              Avengers: Endgame  2799439100   \n",
       "7145  2020                              The Eight Hundred   461421559   \n",
       "7345  2021                        Spider-Man: No Way Home  1912233593   \n",
       "7545  2022                       Avatar: The Way of Water  2320250281   \n",
       "7745  2023                                         Barbie  1445638421   \n",
       "7945  2024                                 Dune: Part Two   705258731   \n",
       "\n",
       "                                             Year_Title  \n",
       "0                              1984 - Beverly Hills Cop  \n",
       "165                                1985 - Out of Africa  \n",
       "345                                      1986 - Top Gun  \n",
       "545                         1987 - Three Men and a Baby  \n",
       "745                      1988 - Who Framed Roger Rabbit  \n",
       "945                                       1989 - Batman  \n",
       "1145                                  1990 - Home Alone  \n",
       "1345                        1991 - Beauty and the Beast  \n",
       "1545                                     1992 - Aladdin  \n",
       "1745                               1993 - Jurassic Park  \n",
       "1945                               1994 - The Lion King  \n",
       "2145                                   1995 - Toy Story  \n",
       "2345                            1996 - Independence Day  \n",
       "2545                                     1997 - Titanic  \n",
       "2745                                  1998 - Armageddon  \n",
       "2945   1999 - Star Wars: Episode I - The Phantom Menace  \n",
       "3145                      2000 - Mission: Impossible II  \n",
       "3345       2001 - Harry Potter and the Sorcerer's Stone  \n",
       "3545       2002 - The Lord of the Rings: The Two Towers  \n",
       "3745  2003 - The Lord of the Rings: The Return of th...  \n",
       "3945                                     2004 - Shrek 2  \n",
       "4145         2005 - Harry Potter and the Goblet of Fire  \n",
       "4345  2006 - Pirates of the Caribbean: Dead Man's Chest  \n",
       "4545    2007 - Pirates of the Caribbean: At World's End  \n",
       "4745                             2008 - The Dark Knight  \n",
       "4945                                      2009 - Avatar  \n",
       "5145                                 2010 - Toy Story 3  \n",
       "5345  2011 - Harry Potter and the Deathly Hallows: P...  \n",
       "5545                                2012 - The Avengers  \n",
       "5745                                      2013 - Frozen  \n",
       "5945             2014 - Transformers: Age of Extinction  \n",
       "6145  2015 - Star Wars: Episode VII - The Force Awakens  \n",
       "6345                  2016 - Captain America: Civil War  \n",
       "6545     2017 - Star Wars: Episode VIII - The Last Jedi  \n",
       "6745                      2018 - Avengers: Infinity War  \n",
       "6945                           2019 - Avengers: Endgame  \n",
       "7145                           2020 - The Eight Hundred  \n",
       "7345                     2021 - Spider-Man: No Way Home  \n",
       "7545                    2022 - Avatar: The Way of Water  \n",
       "7745                                      2023 - Barbie  \n",
       "7945                              2024 - Dune: Part Two  "
      ]
     },
     "execution_count": 65,
     "metadata": {},
     "output_type": "execute_result"
    }
   ],
   "source": [
    "df_top_year = df.drop_duplicates(subset=['Year'])\n",
    "df_top_year['Year_Title'] = df_top_year['Year'] + ' - ' + df_top_year['Title']\n",
    "df_top_year"
   ]
  },
  {
   "cell_type": "code",
   "execution_count": 83,
   "id": "cab7d4eb-ca57-49d4-91f1-683529018966",
   "metadata": {},
   "outputs": [
    {
     "data": {
      "image/png": "[encoded data removed]",
      "text/plain": [
       "<Figure size 1800x1000 with 1 Axes>"
      ]
     },
     "metadata": {},
     "output_type": "display_data"
    }
   ],
   "source": [
    "plt.figure(figsize=(18, 10))\n",
    "sns.barplot(x='Year_Title', y='Gross', data=df_top_year, palette='terrain')\n",
    "plt.title('Top Year Title By Gross')\n",
    "plt.xticks(rotation=90, fontsize=10)\n",
    "plt.yticks(rotation=90, fontsize=10)\n",
    "plt.xlabel('Year Title')\n",
    "plt.ylabel('$')\n",
    "plt.grid()\n",
    "plt.show()"
   ]
  },
  {
   "cell_type": "markdown",
   "id": "5d57e56c-18a9-4b83-91b4-eda03e86d7fd",
   "metadata": {},
   "source": [
    "### Highest Year By Gross"
   ]
  },
  {
   "cell_type": "code",
   "execution_count": 86,
   "id": "48ecc40e-fd3b-47c7-ba77-7967fcaac744",
   "metadata": {},
   "outputs": [],
   "source": [
    "colors = ['#F25ED0', '#B3B6B7', '#34495E', '#A3D2A3', '#E6B3B3', '#A3C1AD', '#D9E1C3', '#C7E1A6', '#C70039']"
   ]
  },
  {
   "cell_type": "code",
   "execution_count": 105,
   "id": "d13ef644-be27-4f63-a493-2b8af47b91f7",
   "metadata": {},
   "outputs": [
    {
     "data": {
      "text/html": [
       "<div>\n",
       "<style scoped>\n",
       "    .dataframe tbody tr th:only-of-type {\n",
       "        vertical-align: middle;\n",
       "    }\n",
       "\n",
       "    .dataframe tbody tr th {\n",
       "        vertical-align: top;\n",
       "    }\n",
       "\n",
       "    .dataframe thead th {\n",
       "        text-align: right;\n",
       "    }\n",
       "</style>\n",
       "<table border=\"1\" class=\"dataframe\">\n",
       "  <thead>\n",
       "    <tr style=\"text-align: right;\">\n",
       "      <th></th>\n",
       "      <th>Gross</th>\n",
       "    </tr>\n",
       "    <tr>\n",
       "      <th>Year</th>\n",
       "      <th></th>\n",
       "    </tr>\n",
       "  </thead>\n",
       "  <tbody>\n",
       "    <tr>\n",
       "      <th>2019</th>\n",
       "      <td>35428696113</td>\n",
       "    </tr>\n",
       "    <tr>\n",
       "      <th>2017</th>\n",
       "      <td>34202321606</td>\n",
       "    </tr>\n",
       "    <tr>\n",
       "      <th>2018</th>\n",
       "      <td>34136015106</td>\n",
       "    </tr>\n",
       "    <tr>\n",
       "      <th>2015</th>\n",
       "      <td>32741170056</td>\n",
       "    </tr>\n",
       "    <tr>\n",
       "      <th>2016</th>\n",
       "      <td>32374797441</td>\n",
       "    </tr>\n",
       "    <tr>\n",
       "      <th>2014</th>\n",
       "      <td>30010529897</td>\n",
       "    </tr>\n",
       "    <tr>\n",
       "      <th>2012</th>\n",
       "      <td>29507395869</td>\n",
       "    </tr>\n",
       "    <tr>\n",
       "      <th>2013</th>\n",
       "      <td>29077739535</td>\n",
       "    </tr>\n",
       "    <tr>\n",
       "      <th>2011</th>\n",
       "      <td>26925366220</td>\n",
       "    </tr>\n",
       "    <tr>\n",
       "      <th>2009</th>\n",
       "      <td>25693569534</td>\n",
       "    </tr>\n",
       "    <tr>\n",
       "      <th>2010</th>\n",
       "      <td>25582042358</td>\n",
       "    </tr>\n",
       "    <tr>\n",
       "      <th>2008</th>\n",
       "      <td>23253651146</td>\n",
       "    </tr>\n",
       "    <tr>\n",
       "      <th>2007</th>\n",
       "      <td>22312947586</td>\n",
       "    </tr>\n",
       "    <tr>\n",
       "      <th>2023</th>\n",
       "      <td>21593975099</td>\n",
       "    </tr>\n",
       "    <tr>\n",
       "      <th>2022</th>\n",
       "      <td>20904408545</td>\n",
       "    </tr>\n",
       "  </tbody>\n",
       "</table>\n",
       "</div>"
      ],
      "text/plain": [
       "            Gross\n",
       "Year             \n",
       "2019  35428696113\n",
       "2017  34202321606\n",
       "2018  34136015106\n",
       "2015  32741170056\n",
       "2016  32374797441\n",
       "2014  30010529897\n",
       "2012  29507395869\n",
       "2013  29077739535\n",
       "2011  26925366220\n",
       "2009  25693569534\n",
       "2010  25582042358\n",
       "2008  23253651146\n",
       "2007  22312947586\n",
       "2023  21593975099\n",
       "2022  20904408545"
      ]
     },
     "execution_count": 105,
     "metadata": {},
     "output_type": "execute_result"
    }
   ],
   "source": [
    "df_year = df.groupby(['Year'])[['Gross']].sum()\n",
    "df_year = df_year.sort_values(by='Gross', ascending=False)\n",
    "df_year.head(15)"
   ]
  },
  {
   "cell_type": "code",
   "execution_count": 107,
   "id": "6e164853-9804-4ad9-8174-d1b3d8dc594e",
   "metadata": {},
   "outputs": [
    {
     "data": {
      "application/vnd.plotly.v1+json": {
       "config": {
        "linkText": "Export to plot.ly",
        "plotlyServerURL": "https://plot.ly",
        "showLink": false
       },
       "data": [
        {
         "alignmentgroup": "True",
         "hovertemplate": "Year=%{x}<br> =%{y}<extra></extra>",
         "legendgroup": "2019",
         "marker": {
          "color": "#F25ED0",
          "pattern": {
           "shape": ""
          }
         },
         "name": "2019",
         "offsetgroup": "2019",
         "orientation": "v",
         "showlegend": true,
         "textposition": "auto",
         "texttemplate": "%{y}",
         "type": "bar",
         "x": [
          "2019"
         ],
         "xaxis": "x",
         "y": [
          35428696113
         ],
         "yaxis": "y"
        },
        {
         "alignmentgroup": "True",
         "hovertemplate": "Year=%{x}<br> =%{y}<extra></extra>",
         "legendgroup": "2017",
         "marker": {
          "color": "#B3B6B7",
          "pattern": {
           "shape": ""
          }
         },
         "name": "2017",
         "offsetgroup": "2017",
         "orientation": "v",
         "showlegend": true,
         "textposition": "auto",
         "texttemplate": "%{y}",
         "type": "bar",
         "x": [
          "2017"
         ],
         "xaxis": "x",
         "y": [
          34202321606
         ],
         "yaxis": "y"
        },
        {
         "alignmentgroup": "True",
         "hovertemplate": "Year=%{x}<br> =%{y}<extra></extra>",
         "legendgroup": "2018",
         "marker": {
          "color": "#34495E",
          "pattern": {
           "shape": ""
          }
         },
         "name": "2018",
         "offsetgroup": "2018",
         "orientation": "v",
         "showlegend": true,
         "textposition": "auto",
         "texttemplate": "%{y}",
         "type": "bar",
         "x": [
          "2018"
         ],
         "xaxis": "x",
         "y": [
          34136015106
         ],
         "yaxis": "y"
        },
        {
         "alignmentgroup": "True",
         "hovertemplate": "Year=%{x}<br> =%{y}<extra></extra>",
         "legendgroup": "2015",
         "marker": {
          "color": "#A3D2A3",
          "pattern": {
           "shape": ""
          }
         },
         "name": "2015",
         "offsetgroup": "2015",
         "orientation": "v",
         "showlegend": true,
         "textposition": "auto",
         "texttemplate": "%{y}",
         "type": "bar",
         "x": [
          "2015"
         ],
         "xaxis": "x",
         "y": [
          32741170056
         ],
         "yaxis": "y"
        },
        {
         "alignmentgroup": "True",
         "hovertemplate": "Year=%{x}<br> =%{y}<extra></extra>",
         "legendgroup": "2016",
         "marker": {
          "color": "#E6B3B3",
          "pattern": {
           "shape": ""
          }
         },
         "name": "2016",
         "offsetgroup": "2016",
         "orientation": "v",
         "showlegend": true,
         "textposition": "auto",
         "texttemplate": "%{y}",
         "type": "bar",
         "x": [
          "2016"
         ],
         "xaxis": "x",
         "y": [
          32374797441
         ],
         "yaxis": "y"
        },
        {
         "alignmentgroup": "True",
         "hovertemplate": "Year=%{x}<br> =%{y}<extra></extra>",
         "legendgroup": "2014",
         "marker": {
          "color": "#A3C1AD",
          "pattern": {
           "shape": ""
          }
         },
         "name": "2014",
         "offsetgroup": "2014",
         "orientation": "v",
         "showlegend": true,
         "textposition": "auto",
         "texttemplate": "%{y}",
         "type": "bar",
         "x": [
          "2014"
         ],
         "xaxis": "x",
         "y": [
          30010529897
         ],
         "yaxis": "y"
        },
        {
         "alignmentgroup": "True",
         "hovertemplate": "Year=%{x}<br> =%{y}<extra></extra>",
         "legendgroup": "2012",
         "marker": {
          "color": "#D9E1C3",
          "pattern": {
           "shape": ""
          }
         },
         "name": "2012",
         "offsetgroup": "2012",
         "orientation": "v",
         "showlegend": true,
         "textposition": "auto",
         "texttemplate": "%{y}",
         "type": "bar",
         "x": [
          "2012"
         ],
         "xaxis": "x",
         "y": [
          29507395869
         ],
         "yaxis": "y"
        },
        {
         "alignmentgroup": "True",
         "hovertemplate": "Year=%{x}<br> =%{y}<extra></extra>",
         "legendgroup": "2013",
         "marker": {
          "color": "#C7E1A6",
          "pattern": {
           "shape": ""
          }
         },
         "name": "2013",
         "offsetgroup": "2013",
         "orientation": "v",
         "showlegend": true,
         "textposition": "auto",
         "texttemplate": "%{y}",
         "type": "bar",
         "x": [
          "2013"
         ],
         "xaxis": "x",
         "y": [
          29077739535
         ],
         "yaxis": "y"
        },
        {
         "alignmentgroup": "True",
         "hovertemplate": "Year=%{x}<br> =%{y}<extra></extra>",
         "legendgroup": "2011",
         "marker": {
          "color": "#C70039",
          "pattern": {
           "shape": ""
          }
         },
         "name": "2011",
         "offsetgroup": "2011",
         "orientation": "v",
         "showlegend": true,
         "textposition": "auto",
         "texttemplate": "%{y}",
         "type": "bar",
         "x": [
          "2011"
         ],
         "xaxis": "x",
         "y": [
          26925366220
         ],
         "yaxis": "y"
        },
        {
         "alignmentgroup": "True",
         "hovertemplate": "Year=%{x}<br> =%{y}<extra></extra>",
         "legendgroup": "2009",
         "marker": {
          "color": "#F25ED0",
          "pattern": {
           "shape": ""
          }
         },
         "name": "2009",
         "offsetgroup": "2009",
         "orientation": "v",
         "showlegend": true,
         "textposition": "auto",
         "texttemplate": "%{y}",
         "type": "bar",
         "x": [
          "2009"
         ],
         "xaxis": "x",
         "y": [
          25693569534
         ],
         "yaxis": "y"
        },
        {
         "alignmentgroup": "True",
         "hovertemplate": "Year=%{x}<br> =%{y}<extra></extra>",
         "legendgroup": "2010",
         "marker": {
          "color": "#B3B6B7",
          "pattern": {
           "shape": ""
          }
         },
         "name": "2010",
         "offsetgroup": "2010",
         "orientation": "v",
         "showlegend": true,
         "textposition": "auto",
         "texttemplate": "%{y}",
         "type": "bar",
         "x": [
          "2010"
         ],
         "xaxis": "x",
         "y": [
          25582042358
         ],
         "yaxis": "y"
        },
        {
         "alignmentgroup": "True",
         "hovertemplate": "Year=%{x}<br> =%{y}<extra></extra>",
         "legendgroup": "2008",
         "marker": {
          "color": "#34495E",
          "pattern": {
           "shape": ""
          }
         },
         "name": "2008",
         "offsetgroup": "2008",
         "orientation": "v",
         "showlegend": true,
         "textposition": "auto",
         "texttemplate": "%{y}",
         "type": "bar",
         "x": [
          "2008"
         ],
         "xaxis": "x",
         "y": [
          23253651146
         ],
         "yaxis": "y"
        },
        {
         "alignmentgroup": "True",
         "hovertemplate": "Year=%{x}<br> =%{y}<extra></extra>",
         "legendgroup": "2007",
         "marker": {
          "color": "#A3D2A3",
          "pattern": {
           "shape": ""
          }
         },
         "name": "2007",
         "offsetgroup": "2007",
         "orientation": "v",
         "showlegend": true,
         "textposition": "auto",
         "texttemplate": "%{y}",
         "type": "bar",
         "x": [
          "2007"
         ],
         "xaxis": "x",
         "y": [
          22312947586
         ],
         "yaxis": "y"
        },
        {
         "alignmentgroup": "True",
         "hovertemplate": "Year=%{x}<br> =%{y}<extra></extra>",
         "legendgroup": "2023",
         "marker": {
          "color": "#E6B3B3",
          "pattern": {
           "shape": ""
          }
         },
         "name": "2023",
         "offsetgroup": "2023",
         "orientation": "v",
         "showlegend": true,
         "textposition": "auto",
         "texttemplate": "%{y}",
         "type": "bar",
         "x": [
          "2023"
         ],
         "xaxis": "x",
         "y": [
          21593975099
         ],
         "yaxis": "y"
        },
        {
         "alignmentgroup": "True",
         "hovertemplate": "Year=%{x}<br> =%{y}<extra></extra>",
         "legendgroup": "2022",
         "marker": {
          "color": "#A3C1AD",
          "pattern": {
           "shape": ""
          }
         },
         "name": "2022",
         "offsetgroup": "2022",
         "orientation": "v",
         "showlegend": true,
         "textposition": "auto",
         "texttemplate": "%{y}",
         "type": "bar",
         "x": [
          "2022"
         ],
         "xaxis": "x",
         "y": [
          20904408545
         ],
         "yaxis": "y"
        },
        {
         "alignmentgroup": "True",
         "hovertemplate": "Year=%{x}<br> =%{y}<extra></extra>",
         "legendgroup": "2006",
         "marker": {
          "color": "#D9E1C3",
          "pattern": {
           "shape": ""
          }
         },
         "name": "2006",
         "offsetgroup": "2006",
         "orientation": "v",
         "showlegend": true,
         "textposition": "auto",
         "texttemplate": "%{y}",
         "type": "bar",
         "x": [
          "2006"
         ],
         "xaxis": "x",
         "y": [
          19919327896
         ],
         "yaxis": "y"
        },
        {
         "alignmentgroup": "True",
         "hovertemplate": "Year=%{x}<br> =%{y}<extra></extra>",
         "legendgroup": "2004",
         "marker": {
          "color": "#C7E1A6",
          "pattern": {
           "shape": ""
          }
         },
         "name": "2004",
         "offsetgroup": "2004",
         "orientation": "v",
         "showlegend": true,
         "textposition": "auto",
         "texttemplate": "%{y}",
         "type": "bar",
         "x": [
          "2004"
         ],
         "xaxis": "x",
         "y": [
          19470839816
         ],
         "yaxis": "y"
        },
        {
         "alignmentgroup": "True",
         "hovertemplate": "Year=%{x}<br> =%{y}<extra></extra>",
         "legendgroup": "2005",
         "marker": {
          "color": "#C70039",
          "pattern": {
           "shape": ""
          }
         },
         "name": "2005",
         "offsetgroup": "2005",
         "orientation": "v",
         "showlegend": true,
         "textposition": "auto",
         "texttemplate": "%{y}",
         "type": "bar",
         "x": [
          "2005"
         ],
         "xaxis": "x",
         "y": [
          18916200258
         ],
         "yaxis": "y"
        },
        {
         "alignmentgroup": "True",
         "hovertemplate": "Year=%{x}<br> =%{y}<extra></extra>",
         "legendgroup": "2003",
         "marker": {
          "color": "#F25ED0",
          "pattern": {
           "shape": ""
          }
         },
         "name": "2003",
         "offsetgroup": "2003",
         "orientation": "v",
         "showlegend": true,
         "textposition": "auto",
         "texttemplate": "%{y}",
         "type": "bar",
         "x": [
          "2003"
         ],
         "xaxis": "x",
         "y": [
          18765284629
         ],
         "yaxis": "y"
        },
        {
         "alignmentgroup": "True",
         "hovertemplate": "Year=%{x}<br> =%{y}<extra></extra>",
         "legendgroup": "2021",
         "marker": {
          "color": "#B3B6B7",
          "pattern": {
           "shape": ""
          }
         },
         "name": "2021",
         "offsetgroup": "2021",
         "orientation": "v",
         "showlegend": true,
         "textposition": "auto",
         "texttemplate": "%{y}",
         "type": "bar",
         "x": [
          "2021"
         ],
         "xaxis": "x",
         "y": [
          18250143692
         ],
         "yaxis": "y"
        },
        {
         "alignmentgroup": "True",
         "hovertemplate": "Year=%{x}<br> =%{y}<extra></extra>",
         "legendgroup": "2002",
         "marker": {
          "color": "#34495E",
          "pattern": {
           "shape": ""
          }
         },
         "name": "2002",
         "offsetgroup": "2002",
         "orientation": "v",
         "showlegend": true,
         "textposition": "auto",
         "texttemplate": "%{y}",
         "type": "bar",
         "x": [
          "2002"
         ],
         "xaxis": "x",
         "y": [
          17785601452
         ],
         "yaxis": "y"
        },
        {
         "alignmentgroup": "True",
         "hovertemplate": "Year=%{x}<br> =%{y}<extra></extra>",
         "legendgroup": "2001",
         "marker": {
          "color": "#A3D2A3",
          "pattern": {
           "shape": ""
          }
         },
         "name": "2001",
         "offsetgroup": "2001",
         "orientation": "v",
         "showlegend": true,
         "textposition": "auto",
         "texttemplate": "%{y}",
         "type": "bar",
         "x": [
          "2001"
         ],
         "xaxis": "x",
         "y": [
          16134416061
         ],
         "yaxis": "y"
        },
        {
         "alignmentgroup": "True",
         "hovertemplate": "Year=%{x}<br> =%{y}<extra></extra>",
         "legendgroup": "2000",
         "marker": {
          "color": "#E6B3B3",
          "pattern": {
           "shape": ""
          }
         },
         "name": "2000",
         "offsetgroup": "2000",
         "orientation": "v",
         "showlegend": true,
         "textposition": "auto",
         "texttemplate": "%{y}",
         "type": "bar",
         "x": [
          "2000"
         ],
         "xaxis": "x",
         "y": [
          13936536887
         ],
         "yaxis": "y"
        },
        {
         "alignmentgroup": "True",
         "hovertemplate": "Year=%{x}<br> =%{y}<extra></extra>",
         "legendgroup": "1999",
         "marker": {
          "color": "#A3C1AD",
          "pattern": {
           "shape": ""
          }
         },
         "name": "1999",
         "offsetgroup": "1999",
         "orientation": "v",
         "showlegend": true,
         "textposition": "auto",
         "texttemplate": "%{y}",
         "type": "bar",
         "x": [
          "1999"
         ],
         "xaxis": "x",
         "y": [
          12910802514
         ],
         "yaxis": "y"
        },
        {
         "alignmentgroup": "True",
         "hovertemplate": "Year=%{x}<br> =%{y}<extra></extra>",
         "legendgroup": "1998",
         "marker": {
          "color": "#D9E1C3",
          "pattern": {
           "shape": ""
          }
         },
         "name": "1998",
         "offsetgroup": "1998",
         "orientation": "v",
         "showlegend": true,
         "textposition": "auto",
         "texttemplate": "%{y}",
         "type": "bar",
         "x": [
          "1998"
         ],
         "xaxis": "x",
         "y": [
          11292957951
         ],
         "yaxis": "y"
        },
        {
         "alignmentgroup": "True",
         "hovertemplate": "Year=%{x}<br> =%{y}<extra></extra>",
         "legendgroup": "1997",
         "marker": {
          "color": "#C7E1A6",
          "pattern": {
           "shape": ""
          }
         },
         "name": "1997",
         "offsetgroup": "1997",
         "orientation": "v",
         "showlegend": true,
         "textposition": "auto",
         "texttemplate": "%{y}",
         "type": "bar",
         "x": [
          "1997"
         ],
         "xaxis": "x",
         "y": [
          8390823023
         ],
         "yaxis": "y"
        },
        {
         "alignmentgroup": "True",
         "hovertemplate": "Year=%{x}<br> =%{y}<extra></extra>",
         "legendgroup": "2020",
         "marker": {
          "color": "#C70039",
          "pattern": {
           "shape": ""
          }
         },
         "name": "2020",
         "offsetgroup": "2020",
         "orientation": "v",
         "showlegend": true,
         "textposition": "auto",
         "texttemplate": "%{y}",
         "type": "bar",
         "x": [
          "2020"
         ],
         "xaxis": "x",
         "y": [
          7957081357
         ],
         "yaxis": "y"
        },
        {
         "alignmentgroup": "True",
         "hovertemplate": "Year=%{x}<br> =%{y}<extra></extra>",
         "legendgroup": "1996",
         "marker": {
          "color": "#F25ED0",
          "pattern": {
           "shape": ""
          }
         },
         "name": "1996",
         "offsetgroup": "1996",
         "orientation": "v",
         "showlegend": true,
         "textposition": "auto",
         "texttemplate": "%{y}",
         "type": "bar",
         "x": [
          "1996"
         ],
         "xaxis": "x",
         "y": [
          5694135103
         ],
         "yaxis": "y"
        },
        {
         "alignmentgroup": "True",
         "hovertemplate": "Year=%{x}<br> =%{y}<extra></extra>",
         "legendgroup": "1994",
         "marker": {
          "color": "#B3B6B7",
          "pattern": {
           "shape": ""
          }
         },
         "name": "1994",
         "offsetgroup": "1994",
         "orientation": "v",
         "showlegend": true,
         "textposition": "auto",
         "texttemplate": "%{y}",
         "type": "bar",
         "x": [
          "1994"
         ],
         "xaxis": "x",
         "y": [
          5602948129
         ],
         "yaxis": "y"
        },
        {
         "alignmentgroup": "True",
         "hovertemplate": "Year=%{x}<br> =%{y}<extra></extra>",
         "legendgroup": "1993",
         "marker": {
          "color": "#34495E",
          "pattern": {
           "shape": ""
          }
         },
         "name": "1993",
         "offsetgroup": "1993",
         "orientation": "v",
         "showlegend": true,
         "textposition": "auto",
         "texttemplate": "%{y}",
         "type": "bar",
         "x": [
          "1993"
         ],
         "xaxis": "x",
         "y": [
          5544345937
         ],
         "yaxis": "y"
        },
        {
         "alignmentgroup": "True",
         "hovertemplate": "Year=%{x}<br> =%{y}<extra></extra>",
         "legendgroup": "1995",
         "marker": {
          "color": "#A3D2A3",
          "pattern": {
           "shape": ""
          }
         },
         "name": "1995",
         "offsetgroup": "1995",
         "orientation": "v",
         "showlegend": true,
         "textposition": "auto",
         "texttemplate": "%{y}",
         "type": "bar",
         "x": [
          "1995"
         ],
         "xaxis": "x",
         "y": [
          5543744552
         ],
         "yaxis": "y"
        },
        {
         "alignmentgroup": "True",
         "hovertemplate": "Year=%{x}<br> =%{y}<extra></extra>",
         "legendgroup": "1992",
         "marker": {
          "color": "#E6B3B3",
          "pattern": {
           "shape": ""
          }
         },
         "name": "1992",
         "offsetgroup": "1992",
         "orientation": "v",
         "showlegend": true,
         "textposition": "auto",
         "texttemplate": "%{y}",
         "type": "bar",
         "x": [
          "1992"
         ],
         "xaxis": "x",
         "y": [
          4884669184
         ],
         "yaxis": "y"
        },
        {
         "alignmentgroup": "True",
         "hovertemplate": "Year=%{x}<br> =%{y}<extra></extra>",
         "legendgroup": "1990",
         "marker": {
          "color": "#A3C1AD",
          "pattern": {
           "shape": ""
          }
         },
         "name": "1990",
         "offsetgroup": "1990",
         "orientation": "v",
         "showlegend": true,
         "textposition": "auto",
         "texttemplate": "%{y}",
         "type": "bar",
         "x": [
          "1990"
         ],
         "xaxis": "x",
         "y": [
          4530789302
         ],
         "yaxis": "y"
        },
        {
         "alignmentgroup": "True",
         "hovertemplate": "Year=%{x}<br> =%{y}<extra></extra>",
         "legendgroup": "1991",
         "marker": {
          "color": "#D9E1C3",
          "pattern": {
           "shape": ""
          }
         },
         "name": "1991",
         "offsetgroup": "1991",
         "orientation": "v",
         "showlegend": true,
         "textposition": "auto",
         "texttemplate": "%{y}",
         "type": "bar",
         "x": [
          "1991"
         ],
         "xaxis": "x",
         "y": [
          4413984882
         ],
         "yaxis": "y"
        },
        {
         "alignmentgroup": "True",
         "hovertemplate": "Year=%{x}<br> =%{y}<extra></extra>",
         "legendgroup": "1989",
         "marker": {
          "color": "#C7E1A6",
          "pattern": {
           "shape": ""
          }
         },
         "name": "1989",
         "offsetgroup": "1989",
         "orientation": "v",
         "showlegend": true,
         "textposition": "auto",
         "texttemplate": "%{y}",
         "type": "bar",
         "x": [
          "1989"
         ],
         "xaxis": "x",
         "y": [
          4382112788
         ],
         "yaxis": "y"
        },
        {
         "alignmentgroup": "True",
         "hovertemplate": "Year=%{x}<br> =%{y}<extra></extra>",
         "legendgroup": "2024",
         "marker": {
          "color": "#C70039",
          "pattern": {
           "shape": ""
          }
         },
         "name": "2024",
         "offsetgroup": "2024",
         "orientation": "v",
         "showlegend": true,
         "textposition": "auto",
         "texttemplate": "%{y}",
         "type": "bar",
         "x": [
          "2024"
         ],
         "xaxis": "x",
         "y": [
          4205611085
         ],
         "yaxis": "y"
        },
        {
         "alignmentgroup": "True",
         "hovertemplate": "Year=%{x}<br> =%{y}<extra></extra>",
         "legendgroup": "1988",
         "marker": {
          "color": "#F25ED0",
          "pattern": {
           "shape": ""
          }
         },
         "name": "1988",
         "offsetgroup": "1988",
         "orientation": "v",
         "showlegend": true,
         "textposition": "auto",
         "texttemplate": "%{y}",
         "type": "bar",
         "x": [
          "1988"
         ],
         "xaxis": "x",
         "y": [
          3641024553
         ],
         "yaxis": "y"
        },
        {
         "alignmentgroup": "True",
         "hovertemplate": "Year=%{x}<br> =%{y}<extra></extra>",
         "legendgroup": "1987",
         "marker": {
          "color": "#B3B6B7",
          "pattern": {
           "shape": ""
          }
         },
         "name": "1987",
         "offsetgroup": "1987",
         "orientation": "v",
         "showlegend": true,
         "textposition": "auto",
         "texttemplate": "%{y}",
         "type": "bar",
         "x": [
          "1987"
         ],
         "xaxis": "x",
         "y": [
          3573892025
         ],
         "yaxis": "y"
        },
        {
         "alignmentgroup": "True",
         "hovertemplate": "Year=%{x}<br> =%{y}<extra></extra>",
         "legendgroup": "1984",
         "marker": {
          "color": "#34495E",
          "pattern": {
           "shape": ""
          }
         },
         "name": "1984",
         "offsetgroup": "1984",
         "orientation": "v",
         "showlegend": true,
         "textposition": "auto",
         "texttemplate": "%{y}",
         "type": "bar",
         "x": [
          "1984"
         ],
         "xaxis": "x",
         "y": [
          3348437253
         ],
         "yaxis": "y"
        },
        {
         "alignmentgroup": "True",
         "hovertemplate": "Year=%{x}<br> =%{y}<extra></extra>",
         "legendgroup": "1985",
         "marker": {
          "color": "#A3D2A3",
          "pattern": {
           "shape": ""
          }
         },
         "name": "1985",
         "offsetgroup": "1985",
         "orientation": "v",
         "showlegend": true,
         "textposition": "auto",
         "texttemplate": "%{y}",
         "type": "bar",
         "x": [
          "1985"
         ],
         "xaxis": "x",
         "y": [
          3207654754
         ],
         "yaxis": "y"
        },
        {
         "alignmentgroup": "True",
         "hovertemplate": "Year=%{x}<br> =%{y}<extra></extra>",
         "legendgroup": "1986",
         "marker": {
          "color": "#E6B3B3",
          "pattern": {
           "shape": ""
          }
         },
         "name": "1986",
         "offsetgroup": "1986",
         "orientation": "v",
         "showlegend": true,
         "textposition": "auto",
         "texttemplate": "%{y}",
         "type": "bar",
         "x": [
          "1986"
         ],
         "xaxis": "x",
         "y": [
          3202850115
         ],
         "yaxis": "y"
        }
       ],
       "layout": {
        "autosize": true,
        "barmode": "relative",
        "legend": {
         "title": {
          "text": "Year"
         },
         "tracegroupgap": 0
        },
        "template": {
         "data": {
          "bar": [
           {
            "error_x": {
             "color": "#2a3f5f"
            },
            "error_y": {
             "color": "#2a3f5f"
            },
            "marker": {
             "line": {
              "color": "#E5ECF6",
              "width": 0.5
             },
             "pattern": {
              "fillmode": "overlay",
              "size": 10,
              "solidity": 0.2
             }
            },
            "type": "bar"
           }
          ],
          "barpolar": [
           {
            "marker": {
             "line": {
              "color": "#E5ECF6",
              "width": 0.5
             },
             "pattern": {
              "fillmode": "overlay",
              "size": 10,
              "solidity": 0.2
             }
            },
            "type": "barpolar"
           }
          ],
          "carpet": [
           {
            "aaxis": {
             "endlinecolor": "#2a3f5f",
             "gridcolor": "white",
             "linecolor": "white",
             "minorgridcolor": "white",
             "startlinecolor": "#2a3f5f"
            },
            "baxis": {
             "endlinecolor": "#2a3f5f",
             "gridcolor": "white",
             "linecolor": "white",
             "minorgridcolor": "white",
             "startlinecolor": "#2a3f5f"
            },
            "type": "carpet"
           }
          ],
          "choropleth": [
           {
            "colorbar": {
             "outlinewidth": 0,
             "ticks": ""
            },
            "type": "choropleth"
           }
          ],
          "contour": [
           {
            "colorbar": {
             "outlinewidth": 0,
             "ticks": ""
            },
            "colorscale": [
             [
              0,
              "#0d0887"
             ],
             [
              0.1111111111111111,
              "#46039f"
             ],
             [
              0.2222222222222222,
              "#7201a8"
             ],
             [
              0.3333333333333333,
              "#9c179e"
             ],
             [
              0.4444444444444444,
              "#bd3786"
             ],
             [
              0.5555555555555556,
              "#d8576b"
             ],
             [
              0.6666666666666666,
              "#ed7953"
             ],
             [
              0.7777777777777778,
              "#fb9f3a"
             ],
             [
              0.8888888888888888,
              "#fdca26"
             ],
             [
              1,
              "#f0f921"
             ]
            ],
            "type": "contour"
           }
          ],
          "contourcarpet": [
           {
            "colorbar": {
             "outlinewidth": 0,
             "ticks": ""
            },
            "type": "contourcarpet"
           }
          ],
          "heatmap": [
           {
            "colorbar": {
             "outlinewidth": 0,
             "ticks": ""
            },
            "colorscale": [
             [
              0,
              "#0d0887"
             ],
             [
              0.1111111111111111,
              "#46039f"
             ],
             [
              0.2222222222222222,
              "#7201a8"
             ],
             [
              0.3333333333333333,
              "#9c179e"
             ],
             [
              0.4444444444444444,
              "#bd3786"
             ],
             [
              0.5555555555555556,
              "#d8576b"
             ],
             [
              0.6666666666666666,
              "#ed7953"
             ],
             [
              0.7777777777777778,
              "#fb9f3a"
             ],
             [
              0.8888888888888888,
              "#fdca26"
             ],
             [
              1,
              "#f0f921"
             ]
            ],
            "type": "heatmap"
           }
          ],
          "heatmapgl": [
           {
            "colorbar": {
             "outlinewidth": 0,
             "ticks": ""
            },
            "colorscale": [
             [
              0,
              "#0d0887"
             ],
             [
              0.1111111111111111,
              "#46039f"
             ],
             [
              0.2222222222222222,
              "#7201a8"
             ],
             [
              0.3333333333333333,
              "#9c179e"
             ],
             [
              0.4444444444444444,
              "#bd3786"
             ],
             [
              0.5555555555555556,
              "#d8576b"
             ],
             [
              0.6666666666666666,
              "#ed7953"
             ],
             [
              0.7777777777777778,
              "#fb9f3a"
             ],
             [
              0.8888888888888888,
              "#fdca26"
             ],
             [
              1,
              "#f0f921"
             ]
            ],
            "type": "heatmapgl"
           }
          ],
          "histogram": [
           {
            "marker": {
             "pattern": {
              "fillmode": "overlay",
              "size": 10,
              "solidity": 0.2
             }
            },
            "type": "histogram"
           }
          ],
          "histogram2d": [
           {
            "colorbar": {
             "outlinewidth": 0,
             "ticks": ""
            },
            "colorscale": [
             [
              0,
              "#0d0887"
             ],
             [
              0.1111111111111111,
              "#46039f"
             ],
             [
              0.2222222222222222,
              "#7201a8"
             ],
             [
              0.3333333333333333,
              "#9c179e"
             ],
             [
              0.4444444444444444,
              "#bd3786"
             ],
             [
              0.5555555555555556,
              "#d8576b"
             ],
             [
              0.6666666666666666,
              "#ed7953"
             ],
             [
              0.7777777777777778,
              "#fb9f3a"
             ],
             [
              0.8888888888888888,
              "#fdca26"
             ],
             [
              1,
              "#f0f921"
             ]
            ],
            "type": "histogram2d"
           }
          ],
          "histogram2dcontour": [
           {
            "colorbar": {
             "outlinewidth": 0,
             "ticks": ""
            },
            "colorscale": [
             [
              0,
              "#0d0887"
             ],
             [
              0.1111111111111111,
              "#46039f"
             ],
             [
              0.2222222222222222,
              "#7201a8"
             ],
             [
              0.3333333333333333,
              "#9c179e"
             ],
             [
              0.4444444444444444,
              "#bd3786"
             ],
             [
              0.5555555555555556,
              "#d8576b"
             ],
             [
              0.6666666666666666,
              "#ed7953"
             ],
             [
              0.7777777777777778,
              "#fb9f3a"
             ],
             [
              0.8888888888888888,
              "#fdca26"
             ],
             [
              1,
              "#f0f921"
             ]
            ],
            "type": "histogram2dcontour"
           }
          ],
          "mesh3d": [
           {
            "colorbar": {
             "outlinewidth": 0,
             "ticks": ""
            },
            "type": "mesh3d"
           }
          ],
          "parcoords": [
           {
            "line": {
             "colorbar": {
              "outlinewidth": 0,
              "ticks": ""
             }
            },
            "type": "parcoords"
           }
          ],
          "pie": [
           {
            "automargin": true,
            "type": "pie"
           }
          ],
          "scatter": [
           {
            "fillpattern": {
             "fillmode": "overlay",
             "size": 10,
             "solidity": 0.2
            },
            "type": "scatter"
           }
          ],
          "scatter3d": [
           {
            "line": {
             "colorbar": {
              "outlinewidth": 0,
              "ticks": ""
             }
            },
            "marker": {
             "colorbar": {
              "outlinewidth": 0,
              "ticks": ""
             }
            },
            "type": "scatter3d"
           }
          ],
          "scattercarpet": [
           {
            "marker": {
             "colorbar": {
              "outlinewidth": 0,
              "ticks": ""
             }
            },
            "type": "scattercarpet"
           }
          ],
          "scattergeo": [
           {
            "marker": {
             "colorbar": {
              "outlinewidth": 0,
              "ticks": ""
             }
            },
            "type": "scattergeo"
           }
          ],
          "scattergl": [
           {
            "marker": {
             "colorbar": {
              "outlinewidth": 0,
              "ticks": ""
             }
            },
            "type": "scattergl"
           }
          ],
          "scattermapbox": [
           {
            "marker": {
             "colorbar": {
              "outlinewidth": 0,
              "ticks": ""
             }
            },
            "type": "scattermapbox"
           }
          ],
          "scatterpolar": [
           {
            "marker": {
             "colorbar": {
              "outlinewidth": 0,
              "ticks": ""
             }
            },
            "type": "scatterpolar"
           }
          ],
          "scatterpolargl": [
           {
            "marker": {
             "colorbar": {
              "outlinewidth": 0,
              "ticks": ""
             }
            },
            "type": "scatterpolargl"
           }
          ],
          "scatterternary": [
           {
            "marker": {
             "colorbar": {
              "outlinewidth": 0,
              "ticks": ""
             }
            },
            "type": "scatterternary"
           }
          ],
          "surface": [
           {
            "colorbar": {
             "outlinewidth": 0,
             "ticks": ""
            },
            "colorscale": [
             [
              0,
              "#0d0887"
             ],
             [
              0.1111111111111111,
              "#46039f"
             ],
             [
              0.2222222222222222,
              "#7201a8"
             ],
             [
              0.3333333333333333,
              "#9c179e"
             ],
             [
              0.4444444444444444,
              "#bd3786"
             ],
             [
              0.5555555555555556,
              "#d8576b"
             ],
             [
              0.6666666666666666,
              "#ed7953"
             ],
             [
              0.7777777777777778,
              "#fb9f3a"
             ],
             [
              0.8888888888888888,
              "#fdca26"
             ],
             [
              1,
              "#f0f921"
             ]
            ],
            "type": "surface"
           }
          ],
          "table": [
           {
            "cells": {
             "fill": {
              "color": "#EBF0F8"
             },
             "line": {
              "color": "white"
             }
            },
            "header": {
             "fill": {
              "color": "#C8D4E3"
             },
             "line": {
              "color": "white"
             }
            },
            "type": "table"
           }
          ]
         },
         "layout": {
          "annotationdefaults": {
           "arrowcolor": "#2a3f5f",
           "arrowhead": 0,
           "arrowwidth": 1
          },
          "autotypenumbers": "strict",
          "coloraxis": {
           "colorbar": {
            "outlinewidth": 0,
            "ticks": ""
           }
          },
          "colorscale": {
           "diverging": [
            [
             0,
             "#8e0152"
            ],
            [
             0.1,
             "#c51b7d"
            ],
            [
             0.2,
             "#de77ae"
            ],
            [
             0.3,
             "#f1b6da"
            ],
            [
             0.4,
             "#fde0ef"
            ],
            [
             0.5,
             "#f7f7f7"
            ],
            [
             0.6,
             "#e6f5d0"
            ],
            [
             0.7,
             "#b8e186"
            ],
            [
             0.8,
             "#7fbc41"
            ],
            [
             0.9,
             "#4d9221"
            ],
            [
             1,
             "#276419"
            ]
           ],
           "sequential": [
            [
             0,
             "#0d0887"
            ],
            [
             0.1111111111111111,
             "#46039f"
            ],
            [
             0.2222222222222222,
             "#7201a8"
            ],
            [
             0.3333333333333333,
             "#9c179e"
            ],
            [
             0.4444444444444444,
             "#bd3786"
            ],
            [
             0.5555555555555556,
             "#d8576b"
            ],
            [
             0.6666666666666666,
             "#ed7953"
            ],
            [
             0.7777777777777778,
             "#fb9f3a"
            ],
            [
             0.8888888888888888,
             "#fdca26"
            ],
            [
             1,
             "#f0f921"
            ]
           ],
           "sequentialminus": [
            [
             0,
             "#0d0887"
            ],
            [
             0.1111111111111111,
             "#46039f"
            ],
            [
             0.2222222222222222,
             "#7201a8"
            ],
            [
             0.3333333333333333,
             "#9c179e"
            ],
            [
             0.4444444444444444,
             "#bd3786"
            ],
            [
             0.5555555555555556,
             "#d8576b"
            ],
            [
             0.6666666666666666,
             "#ed7953"
            ],
            [
             0.7777777777777778,
             "#fb9f3a"
            ],
            [
             0.8888888888888888,
             "#fdca26"
            ],
            [
             1,
             "#f0f921"
            ]
           ]
          },
          "colorway": [
           "#636efa",
           "#EF553B",
           "#00cc96",
           "#ab63fa",
           "#FFA15A",
           "#19d3f3",
           "#FF6692",
           "#B6E880",
           "#FF97FF",
           "#FECB52"
          ],
          "font": {
           "color": "#2a3f5f"
          },
          "geo": {
           "bgcolor": "white",
           "lakecolor": "white",
           "landcolor": "#E5ECF6",
           "showlakes": true,
           "showland": true,
           "subunitcolor": "white"
          },
          "hoverlabel": {
           "align": "left"
          },
          "hovermode": "closest",
          "mapbox": {
           "style": "light"
          },
          "paper_bgcolor": "white",
          "plot_bgcolor": "#E5ECF6",
          "polar": {
           "angularaxis": {
            "gridcolor": "white",
            "linecolor": "white",
            "ticks": ""
           },
           "bgcolor": "#E5ECF6",
           "radialaxis": {
            "gridcolor": "white",
            "linecolor": "white",
            "ticks": ""
           }
          },
          "scene": {
           "xaxis": {
            "backgroundcolor": "#E5ECF6",
            "gridcolor": "white",
            "gridwidth": 2,
            "linecolor": "white",
            "showbackground": true,
            "ticks": "",
            "zerolinecolor": "white"
           },
           "yaxis": {
            "backgroundcolor": "#E5ECF6",
            "gridcolor": "white",
            "gridwidth": 2,
            "linecolor": "white",
            "showbackground": true,
            "ticks": "",
            "zerolinecolor": "white"
           },
           "zaxis": {
            "backgroundcolor": "#E5ECF6",
            "gridcolor": "white",
            "gridwidth": 2,
            "linecolor": "white",
            "showbackground": true,
            "ticks": "",
            "zerolinecolor": "white"
           }
          },
          "shapedefaults": {
           "line": {
            "color": "#2a3f5f"
           }
          },
          "ternary": {
           "aaxis": {
            "gridcolor": "white",
            "linecolor": "white",
            "ticks": ""
           },
           "baxis": {
            "gridcolor": "white",
            "linecolor": "white",
            "ticks": ""
           },
           "bgcolor": "#E5ECF6",
           "caxis": {
            "gridcolor": "white",
            "linecolor": "white",
            "ticks": ""
           }
          },
          "title": {
           "x": 0.05
          },
          "xaxis": {
           "automargin": true,
           "gridcolor": "white",
           "linecolor": "white",
           "ticks": "",
           "title": {
            "standoff": 15
           },
           "zerolinecolor": "white",
           "zerolinewidth": 2
          },
          "yaxis": {
           "automargin": true,
           "gridcolor": "white",
           "linecolor": "white",
           "ticks": "",
           "title": {
            "standoff": 15
           },
           "zerolinecolor": "white",
           "zerolinewidth": 2
          }
         }
        },
        "title": {
         "text": "Highest Year By Gross"
        },
        "xaxis": {
         "anchor": "y",
         "autorange": true,
         "categoryarray": [
          "2019",
          "2017",
          "2018",
          "2015",
          "2016",
          "2014",
          "2012",
          "2013",
          "2011",
          "2009",
          "2010",
          "2008",
          "2007",
          "2023",
          "2022",
          "2006",
          "2004",
          "2005",
          "2003",
          "2021",
          "2002",
          "2001",
          "2000",
          "1999",
          "1998",
          "1997",
          "2020",
          "1996",
          "1994",
          "1993",
          "1995",
          "1992",
          "1990",
          "1991",
          "1989",
          "2024",
          "1988",
          "1987",
          "1984",
          "1985",
          "1986"
         ],
         "categoryorder": "array",
         "domain": [
          0,
          1
         ],
         "range": [
          -0.5,
          40.5
         ],
         "title": {
          "text": "Year"
         },
         "type": "category"
        },
        "yaxis": {
         "anchor": "x",
         "autorange": true,
         "domain": [
          0,
          1
         ],
         "range": [
          0,
          37293364329.47369
         ],
         "title": {
          "text": " "
         },
         "type": "linear"
        }
       }
      },
      "image/png": "[encoded data removed]",
      "text/html": [
       "<div>                            <div id=\"c23fe262-8421-4981-b74e-4cc911395241\" class=\"plotly-graph-div\" style=\"height:525px; width:100%;\"></div>            <script type=\"text/javascript\">                require([\"plotly\"], function(Plotly) {                    window.PLOTLYENV=window.PLOTLYENV || {};                                    if (document.getElementById(\"c23fe262-8421-4981-b74e-4cc911395241\")) {                    Plotly.newPlot(                        \"c23fe262-8421-4981-b74e-4cc911395241\",                        [{\"alignmentgroup\":\"True\",\"hovertemplate\":\"Year=%{x}\\u003cbr\\u003e =%{y}\\u003cextra\\u003e\\u003c\\u002fextra\\u003e\",\"legendgroup\":\"2019\",\"marker\":{\"color\":\"#F25ED0\",\"pattern\":{\"shape\":\"\"}},\"name\":\"2019\",\"offsetgroup\":\"2019\",\"orientation\":\"v\",\"showlegend\":true,\"textposition\":\"auto\",\"texttemplate\":\"%{y}\",\"x\":[\"2019\"],\"xaxis\":\"x\",\"y\":[35428696113],\"yaxis\":\"y\",\"type\":\"bar\"},{\"alignmentgroup\":\"True\",\"hovertemplate\":\"Year=%{x}\\u003cbr\\u003e =%{y}\\u003cextra\\u003e\\u003c\\u002fextra\\u003e\",\"legendgroup\":\"2017\",\"marker\":{\"color\":\"#B3B6B7\",\"pattern\":{\"shape\":\"\"}},\"name\":\"2017\",\"offsetgroup\":\"2017\",\"orientation\":\"v\",\"showlegend\":true,\"textposition\":\"auto\",\"texttemplate\":\"%{y}\",\"x\":[\"2017\"],\"xaxis\":\"x\",\"y\":[34202321606],\"yaxis\":\"y\",\"type\":\"bar\"},{\"alignmentgroup\":\"True\",\"hovertemplate\":\"Year=%{x}\\u003cbr\\u003e =%{y}\\u003cextra\\u003e\\u003c\\u002fextra\\u003e\",\"legendgroup\":\"2018\",\"marker\":{\"color\":\"#34495E\",\"pattern\":{\"shape\":\"\"}},\"name\":\"2018\",\"offsetgroup\":\"2018\",\"orientation\":\"v\",\"showlegend\":true,\"textposition\":\"auto\",\"texttemplate\":\"%{y}\",\"x\":[\"2018\"],\"xaxis\":\"x\",\"y\":[34136015106],\"yaxis\":\"y\",\"type\":\"bar\"},{\"alignmentgroup\":\"True\",\"hovertemplate\":\"Year=%{x}\\u003cbr\\u003e =%{y}\\u003cextra\\u003e\\u003c\\u002fextra\\u003e\",\"legendgroup\":\"2015\",\"marker\":{\"color\":\"#A3D2A3\",\"pattern\":{\"shape\":\"\"}},\"name\":\"2015\",\"offsetgroup\":\"2015\",\"orientation\":\"v\",\"showlegend\":true,\"textposition\":\"auto\",\"texttemplate\":\"%{y}\",\"x\":[\"2015\"],\"xaxis\":\"x\",\"y\":[32741170056],\"yaxis\":\"y\",\"type\":\"bar\"},{\"alignmentgroup\":\"True\",\"hovertemplate\":\"Year=%{x}\\u003cbr\\u003e =%{y}\\u003cextra\\u003e\\u003c\\u002fextra\\u003e\",\"legendgroup\":\"2016\",\"marker\":{\"color\":\"#E6B3B3\",\"pattern\":{\"shape\":\"\"}},\"name\":\"2016\",\"offsetgroup\":\"2016\",\"orientation\":\"v\",\"showlegend\":true,\"textposition\":\"auto\",\"texttemplate\":\"%{y}\",\"x\":[\"2016\"],\"xaxis\":\"x\",\"y\":[32374797441],\"yaxis\":\"y\",\"type\":\"bar\"},{\"alignmentgroup\":\"True\",\"hovertemplate\":\"Year=%{x}\\u003cbr\\u003e =%{y}\\u003cextra\\u003e\\u003c\\u002fextra\\u003e\",\"legendgroup\":\"2014\",\"marker\":{\"color\":\"#A3C1AD\",\"pattern\":{\"shape\":\"\"}},\"name\":\"2014\",\"offsetgroup\":\"2014\",\"orientation\":\"v\",\"showlegend\":true,\"textposition\":\"auto\",\"texttemplate\":\"%{y}\",\"x\":[\"2014\"],\"xaxis\":\"x\",\"y\":[30010529897],\"yaxis\":\"y\",\"type\":\"bar\"},{\"alignmentgroup\":\"True\",\"hovertemplate\":\"Year=%{x}\\u003cbr\\u003e =%{y}\\u003cextra\\u003e\\u003c\\u002fextra\\u003e\",\"legendgroup\":\"2012\",\"marker\":{\"color\":\"#D9E1C3\",\"pattern\":{\"shape\":\"\"}},\"name\":\"2012\",\"offsetgroup\":\"2012\",\"orientation\":\"v\",\"showlegend\":true,\"textposition\":\"auto\",\"texttemplate\":\"%{y}\",\"x\":[\"2012\"],\"xaxis\":\"x\",\"y\":[29507395869],\"yaxis\":\"y\",\"type\":\"bar\"},{\"alignmentgroup\":\"True\",\"hovertemplate\":\"Year=%{x}\\u003cbr\\u003e =%{y}\\u003cextra\\u003e\\u003c\\u002fextra\\u003e\",\"legendgroup\":\"2013\",\"marker\":{\"color\":\"#C7E1A6\",\"pattern\":{\"shape\":\"\"}},\"name\":\"2013\",\"offsetgroup\":\"2013\",\"orientation\":\"v\",\"showlegend\":true,\"textposition\":\"auto\",\"texttemplate\":\"%{y}\",\"x\":[\"2013\"],\"xaxis\":\"x\",\"y\":[29077739535],\"yaxis\":\"y\",\"type\":\"bar\"},{\"alignmentgroup\":\"True\",\"hovertemplate\":\"Year=%{x}\\u003cbr\\u003e =%{y}\\u003cextra\\u003e\\u003c\\u002fextra\\u003e\",\"legendgroup\":\"2011\",\"marker\":{\"color\":\"#C70039\",\"pattern\":{\"shape\":\"\"}},\"name\":\"2011\",\"offsetgroup\":\"2011\",\"orientation\":\"v\",\"showlegend\":true,\"textposition\":\"auto\",\"texttemplate\":\"%{y}\",\"x\":[\"2011\"],\"xaxis\":\"x\",\"y\":[26925366220],\"yaxis\":\"y\",\"type\":\"bar\"},{\"alignmentgroup\":\"True\",\"hovertemplate\":\"Year=%{x}\\u003cbr\\u003e =%{y}\\u003cextra\\u003e\\u003c\\u002fextra\\u003e\",\"legendgroup\":\"2009\",\"marker\":{\"color\":\"#F25ED0\",\"pattern\":{\"shape\":\"\"}},\"name\":\"2009\",\"offsetgroup\":\"2009\",\"orientation\":\"v\",\"showlegend\":true,\"textposition\":\"auto\",\"texttemplate\":\"%{y}\",\"x\":[\"2009\"],\"xaxis\":\"x\",\"y\":[25693569534],\"yaxis\":\"y\",\"type\":\"bar\"},{\"alignmentgroup\":\"True\",\"hovertemplate\":\"Year=%{x}\\u003cbr\\u003e =%{y}\\u003cextra\\u003e\\u003c\\u002fextra\\u003e\",\"legendgroup\":\"2010\",\"marker\":{\"color\":\"#B3B6B7\",\"pattern\":{\"shape\":\"\"}},\"name\":\"2010\",\"offsetgroup\":\"2010\",\"orientation\":\"v\",\"showlegend\":true,\"textposition\":\"auto\",\"texttemplate\":\"%{y}\",\"x\":[\"2010\"],\"xaxis\":\"x\",\"y\":[25582042358],\"yaxis\":\"y\",\"type\":\"bar\"},{\"alignmentgroup\":\"True\",\"hovertemplate\":\"Year=%{x}\\u003cbr\\u003e =%{y}\\u003cextra\\u003e\\u003c\\u002fextra\\u003e\",\"legendgroup\":\"2008\",\"marker\":{\"color\":\"#34495E\",\"pattern\":{\"shape\":\"\"}},\"name\":\"2008\",\"offsetgroup\":\"2008\",\"orientation\":\"v\",\"showlegend\":true,\"textposition\":\"auto\",\"texttemplate\":\"%{y}\",\"x\":[\"2008\"],\"xaxis\":\"x\",\"y\":[23253651146],\"yaxis\":\"y\",\"type\":\"bar\"},{\"alignmentgroup\":\"True\",\"hovertemplate\":\"Year=%{x}\\u003cbr\\u003e =%{y}\\u003cextra\\u003e\\u003c\\u002fextra\\u003e\",\"legendgroup\":\"2007\",\"marker\":{\"color\":\"#A3D2A3\",\"pattern\":{\"shape\":\"\"}},\"name\":\"2007\",\"offsetgroup\":\"2007\",\"orientation\":\"v\",\"showlegend\":true,\"textposition\":\"auto\",\"texttemplate\":\"%{y}\",\"x\":[\"2007\"],\"xaxis\":\"x\",\"y\":[22312947586],\"yaxis\":\"y\",\"type\":\"bar\"},{\"alignmentgroup\":\"True\",\"hovertemplate\":\"Year=%{x}\\u003cbr\\u003e =%{y}\\u003cextra\\u003e\\u003c\\u002fextra\\u003e\",\"legendgroup\":\"2023\",\"marker\":{\"color\":\"#E6B3B3\",\"pattern\":{\"shape\":\"\"}},\"name\":\"2023\",\"offsetgroup\":\"2023\",\"orientation\":\"v\",\"showlegend\":true,\"textposition\":\"auto\",\"texttemplate\":\"%{y}\",\"x\":[\"2023\"],\"xaxis\":\"x\",\"y\":[21593975099],\"yaxis\":\"y\",\"type\":\"bar\"},{\"alignmentgroup\":\"True\",\"hovertemplate\":\"Year=%{x}\\u003cbr\\u003e =%{y}\\u003cextra\\u003e\\u003c\\u002fextra\\u003e\",\"legendgroup\":\"2022\",\"marker\":{\"color\":\"#A3C1AD\",\"pattern\":{\"shape\":\"\"}},\"name\":\"2022\",\"offsetgroup\":\"2022\",\"orientation\":\"v\",\"showlegend\":true,\"textposition\":\"auto\",\"texttemplate\":\"%{y}\",\"x\":[\"2022\"],\"xaxis\":\"x\",\"y\":[20904408545],\"yaxis\":\"y\",\"type\":\"bar\"},{\"alignmentgroup\":\"True\",\"hovertemplate\":\"Year=%{x}\\u003cbr\\u003e =%{y}\\u003cextra\\u003e\\u003c\\u002fextra\\u003e\",\"legendgroup\":\"2006\",\"marker\":{\"color\":\"#D9E1C3\",\"pattern\":{\"shape\":\"\"}},\"name\":\"2006\",\"offsetgroup\":\"2006\",\"orientation\":\"v\",\"showlegend\":true,\"textposition\":\"auto\",\"texttemplate\":\"%{y}\",\"x\":[\"2006\"],\"xaxis\":\"x\",\"y\":[19919327896],\"yaxis\":\"y\",\"type\":\"bar\"},{\"alignmentgroup\":\"True\",\"hovertemplate\":\"Year=%{x}\\u003cbr\\u003e =%{y}\\u003cextra\\u003e\\u003c\\u002fextra\\u003e\",\"legendgroup\":\"2004\",\"marker\":{\"color\":\"#C7E1A6\",\"pattern\":{\"shape\":\"\"}},\"name\":\"2004\",\"offsetgroup\":\"2004\",\"orientation\":\"v\",\"showlegend\":true,\"textposition\":\"auto\",\"texttemplate\":\"%{y}\",\"x\":[\"2004\"],\"xaxis\":\"x\",\"y\":[19470839816],\"yaxis\":\"y\",\"type\":\"bar\"},{\"alignmentgroup\":\"True\",\"hovertemplate\":\"Year=%{x}\\u003cbr\\u003e =%{y}\\u003cextra\\u003e\\u003c\\u002fextra\\u003e\",\"legendgroup\":\"2005\",\"marker\":{\"color\":\"#C70039\",\"pattern\":{\"shape\":\"\"}},\"name\":\"2005\",\"offsetgroup\":\"2005\",\"orientation\":\"v\",\"showlegend\":true,\"textposition\":\"auto\",\"texttemplate\":\"%{y}\",\"x\":[\"2005\"],\"xaxis\":\"x\",\"y\":[18916200258],\"yaxis\":\"y\",\"type\":\"bar\"},{\"alignmentgroup\":\"True\",\"hovertemplate\":\"Year=%{x}\\u003cbr\\u003e =%{y}\\u003cextra\\u003e\\u003c\\u002fextra\\u003e\",\"legendgroup\":\"2003\",\"marker\":{\"color\":\"#F25ED0\",\"pattern\":{\"shape\":\"\"}},\"name\":\"2003\",\"offsetgroup\":\"2003\",\"orientation\":\"v\",\"showlegend\":true,\"textposition\":\"auto\",\"texttemplate\":\"%{y}\",\"x\":[\"2003\"],\"xaxis\":\"x\",\"y\":[18765284629],\"yaxis\":\"y\",\"type\":\"bar\"},{\"alignmentgroup\":\"True\",\"hovertemplate\":\"Year=%{x}\\u003cbr\\u003e =%{y}\\u003cextra\\u003e\\u003c\\u002fextra\\u003e\",\"legendgroup\":\"2021\",\"marker\":{\"color\":\"#B3B6B7\",\"pattern\":{\"shape\":\"\"}},\"name\":\"2021\",\"offsetgroup\":\"2021\",\"orientation\":\"v\",\"showlegend\":true,\"textposition\":\"auto\",\"texttemplate\":\"%{y}\",\"x\":[\"2021\"],\"xaxis\":\"x\",\"y\":[18250143692],\"yaxis\":\"y\",\"type\":\"bar\"},{\"alignmentgroup\":\"True\",\"hovertemplate\":\"Year=%{x}\\u003cbr\\u003e =%{y}\\u003cextra\\u003e\\u003c\\u002fextra\\u003e\",\"legendgroup\":\"2002\",\"marker\":{\"color\":\"#34495E\",\"pattern\":{\"shape\":\"\"}},\"name\":\"2002\",\"offsetgroup\":\"2002\",\"orientation\":\"v\",\"showlegend\":true,\"textposition\":\"auto\",\"texttemplate\":\"%{y}\",\"x\":[\"2002\"],\"xaxis\":\"x\",\"y\":[17785601452],\"yaxis\":\"y\",\"type\":\"bar\"},{\"alignmentgroup\":\"True\",\"hovertemplate\":\"Year=%{x}\\u003cbr\\u003e =%{y}\\u003cextra\\u003e\\u003c\\u002fextra\\u003e\",\"legendgroup\":\"2001\",\"marker\":{\"color\":\"#A3D2A3\",\"pattern\":{\"shape\":\"\"}},\"name\":\"2001\",\"offsetgroup\":\"2001\",\"orientation\":\"v\",\"showlegend\":true,\"textposition\":\"auto\",\"texttemplate\":\"%{y}\",\"x\":[\"2001\"],\"xaxis\":\"x\",\"y\":[16134416061],\"yaxis\":\"y\",\"type\":\"bar\"},{\"alignmentgroup\":\"True\",\"hovertemplate\":\"Year=%{x}\\u003cbr\\u003e =%{y}\\u003cextra\\u003e\\u003c\\u002fextra\\u003e\",\"legendgroup\":\"2000\",\"marker\":{\"color\":\"#E6B3B3\",\"pattern\":{\"shape\":\"\"}},\"name\":\"2000\",\"offsetgroup\":\"2000\",\"orientation\":\"v\",\"showlegend\":true,\"textposition\":\"auto\",\"texttemplate\":\"%{y}\",\"x\":[\"2000\"],\"xaxis\":\"x\",\"y\":[13936536887],\"yaxis\":\"y\",\"type\":\"bar\"},{\"alignmentgroup\":\"True\",\"hovertemplate\":\"Year=%{x}\\u003cbr\\u003e =%{y}\\u003cextra\\u003e\\u003c\\u002fextra\\u003e\",\"legendgroup\":\"1999\",\"marker\":{\"color\":\"#A3C1AD\",\"pattern\":{\"shape\":\"\"}},\"name\":\"1999\",\"offsetgroup\":\"1999\",\"orientation\":\"v\",\"showlegend\":true,\"textposition\":\"auto\",\"texttemplate\":\"%{y}\",\"x\":[\"1999\"],\"xaxis\":\"x\",\"y\":[12910802514],\"yaxis\":\"y\",\"type\":\"bar\"},{\"alignmentgroup\":\"True\",\"hovertemplate\":\"Year=%{x}\\u003cbr\\u003e =%{y}\\u003cextra\\u003e\\u003c\\u002fextra\\u003e\",\"legendgroup\":\"1998\",\"marker\":{\"color\":\"#D9E1C3\",\"pattern\":{\"shape\":\"\"}},\"name\":\"1998\",\"offsetgroup\":\"1998\",\"orientation\":\"v\",\"showlegend\":true,\"textposition\":\"auto\",\"texttemplate\":\"%{y}\",\"x\":[\"1998\"],\"xaxis\":\"x\",\"y\":[11292957951],\"yaxis\":\"y\",\"type\":\"bar\"},{\"alignmentgroup\":\"True\",\"hovertemplate\":\"Year=%{x}\\u003cbr\\u003e =%{y}\\u003cextra\\u003e\\u003c\\u002fextra\\u003e\",\"legendgroup\":\"1997\",\"marker\":{\"color\":\"#C7E1A6\",\"pattern\":{\"shape\":\"\"}},\"name\":\"1997\",\"offsetgroup\":\"1997\",\"orientation\":\"v\",\"showlegend\":true,\"textposition\":\"auto\",\"texttemplate\":\"%{y}\",\"x\":[\"1997\"],\"xaxis\":\"x\",\"y\":[8390823023],\"yaxis\":\"y\",\"type\":\"bar\"},{\"alignmentgroup\":\"True\",\"hovertemplate\":\"Year=%{x}\\u003cbr\\u003e =%{y}\\u003cextra\\u003e\\u003c\\u002fextra\\u003e\",\"legendgroup\":\"2020\",\"marker\":{\"color\":\"#C70039\",\"pattern\":{\"shape\":\"\"}},\"name\":\"2020\",\"offsetgroup\":\"2020\",\"orientation\":\"v\",\"showlegend\":true,\"textposition\":\"auto\",\"texttemplate\":\"%{y}\",\"x\":[\"2020\"],\"xaxis\":\"x\",\"y\":[7957081357],\"yaxis\":\"y\",\"type\":\"bar\"},{\"alignmentgroup\":\"True\",\"hovertemplate\":\"Year=%{x}\\u003cbr\\u003e =%{y}\\u003cextra\\u003e\\u003c\\u002fextra\\u003e\",\"legendgroup\":\"1996\",\"marker\":{\"color\":\"#F25ED0\",\"pattern\":{\"shape\":\"\"}},\"name\":\"1996\",\"offsetgroup\":\"1996\",\"orientation\":\"v\",\"showlegend\":true,\"textposition\":\"auto\",\"texttemplate\":\"%{y}\",\"x\":[\"1996\"],\"xaxis\":\"x\",\"y\":[5694135103],\"yaxis\":\"y\",\"type\":\"bar\"},{\"alignmentgroup\":\"True\",\"hovertemplate\":\"Year=%{x}\\u003cbr\\u003e =%{y}\\u003cextra\\u003e\\u003c\\u002fextra\\u003e\",\"legendgroup\":\"1994\",\"marker\":{\"color\":\"#B3B6B7\",\"pattern\":{\"shape\":\"\"}},\"name\":\"1994\",\"offsetgroup\":\"1994\",\"orientation\":\"v\",\"showlegend\":true,\"textposition\":\"auto\",\"texttemplate\":\"%{y}\",\"x\":[\"1994\"],\"xaxis\":\"x\",\"y\":[5602948129],\"yaxis\":\"y\",\"type\":\"bar\"},{\"alignmentgroup\":\"True\",\"hovertemplate\":\"Year=%{x}\\u003cbr\\u003e =%{y}\\u003cextra\\u003e\\u003c\\u002fextra\\u003e\",\"legendgroup\":\"1993\",\"marker\":{\"color\":\"#34495E\",\"pattern\":{\"shape\":\"\"}},\"name\":\"1993\",\"offsetgroup\":\"1993\",\"orientation\":\"v\",\"showlegend\":true,\"textposition\":\"auto\",\"texttemplate\":\"%{y}\",\"x\":[\"1993\"],\"xaxis\":\"x\",\"y\":[5544345937],\"yaxis\":\"y\",\"type\":\"bar\"},{\"alignmentgroup\":\"True\",\"hovertemplate\":\"Year=%{x}\\u003cbr\\u003e =%{y}\\u003cextra\\u003e\\u003c\\u002fextra\\u003e\",\"legendgroup\":\"1995\",\"marker\":{\"color\":\"#A3D2A3\",\"pattern\":{\"shape\":\"\"}},\"name\":\"1995\",\"offsetgroup\":\"1995\",\"orientation\":\"v\",\"showlegend\":true,\"textposition\":\"auto\",\"texttemplate\":\"%{y}\",\"x\":[\"1995\"],\"xaxis\":\"x\",\"y\":[5543744552],\"yaxis\":\"y\",\"type\":\"bar\"},{\"alignmentgroup\":\"True\",\"hovertemplate\":\"Year=%{x}\\u003cbr\\u003e =%{y}\\u003cextra\\u003e\\u003c\\u002fextra\\u003e\",\"legendgroup\":\"1992\",\"marker\":{\"color\":\"#E6B3B3\",\"pattern\":{\"shape\":\"\"}},\"name\":\"1992\",\"offsetgroup\":\"1992\",\"orientation\":\"v\",\"showlegend\":true,\"textposition\":\"auto\",\"texttemplate\":\"%{y}\",\"x\":[\"1992\"],\"xaxis\":\"x\",\"y\":[4884669184],\"yaxis\":\"y\",\"type\":\"bar\"},{\"alignmentgroup\":\"True\",\"hovertemplate\":\"Year=%{x}\\u003cbr\\u003e =%{y}\\u003cextra\\u003e\\u003c\\u002fextra\\u003e\",\"legendgroup\":\"1990\",\"marker\":{\"color\":\"#A3C1AD\",\"pattern\":{\"shape\":\"\"}},\"name\":\"1990\",\"offsetgroup\":\"1990\",\"orientation\":\"v\",\"showlegend\":true,\"textposition\":\"auto\",\"texttemplate\":\"%{y}\",\"x\":[\"1990\"],\"xaxis\":\"x\",\"y\":[4530789302],\"yaxis\":\"y\",\"type\":\"bar\"},{\"alignmentgroup\":\"True\",\"hovertemplate\":\"Year=%{x}\\u003cbr\\u003e =%{y}\\u003cextra\\u003e\\u003c\\u002fextra\\u003e\",\"legendgroup\":\"1991\",\"marker\":{\"color\":\"#D9E1C3\",\"pattern\":{\"shape\":\"\"}},\"name\":\"1991\",\"offsetgroup\":\"1991\",\"orientation\":\"v\",\"showlegend\":true,\"textposition\":\"auto\",\"texttemplate\":\"%{y}\",\"x\":[\"1991\"],\"xaxis\":\"x\",\"y\":[4413984882],\"yaxis\":\"y\",\"type\":\"bar\"},{\"alignmentgroup\":\"True\",\"hovertemplate\":\"Year=%{x}\\u003cbr\\u003e =%{y}\\u003cextra\\u003e\\u003c\\u002fextra\\u003e\",\"legendgroup\":\"1989\",\"marker\":{\"color\":\"#C7E1A6\",\"pattern\":{\"shape\":\"\"}},\"name\":\"1989\",\"offsetgroup\":\"1989\",\"orientation\":\"v\",\"showlegend\":true,\"textposition\":\"auto\",\"texttemplate\":\"%{y}\",\"x\":[\"1989\"],\"xaxis\":\"x\",\"y\":[4382112788],\"yaxis\":\"y\",\"type\":\"bar\"},{\"alignmentgroup\":\"True\",\"hovertemplate\":\"Year=%{x}\\u003cbr\\u003e =%{y}\\u003cextra\\u003e\\u003c\\u002fextra\\u003e\",\"legendgroup\":\"2024\",\"marker\":{\"color\":\"#C70039\",\"pattern\":{\"shape\":\"\"}},\"name\":\"2024\",\"offsetgroup\":\"2024\",\"orientation\":\"v\",\"showlegend\":true,\"textposition\":\"auto\",\"texttemplate\":\"%{y}\",\"x\":[\"2024\"],\"xaxis\":\"x\",\"y\":[4205611085],\"yaxis\":\"y\",\"type\":\"bar\"},{\"alignmentgroup\":\"True\",\"hovertemplate\":\"Year=%{x}\\u003cbr\\u003e =%{y}\\u003cextra\\u003e\\u003c\\u002fextra\\u003e\",\"legendgroup\":\"1988\",\"marker\":{\"color\":\"#F25ED0\",\"pattern\":{\"shape\":\"\"}},\"name\":\"1988\",\"offsetgroup\":\"1988\",\"orientation\":\"v\",\"showlegend\":true,\"textposition\":\"auto\",\"texttemplate\":\"%{y}\",\"x\":[\"1988\"],\"xaxis\":\"x\",\"y\":[3641024553],\"yaxis\":\"y\",\"type\":\"bar\"},{\"alignmentgroup\":\"True\",\"hovertemplate\":\"Year=%{x}\\u003cbr\\u003e =%{y}\\u003cextra\\u003e\\u003c\\u002fextra\\u003e\",\"legendgroup\":\"1987\",\"marker\":{\"color\":\"#B3B6B7\",\"pattern\":{\"shape\":\"\"}},\"name\":\"1987\",\"offsetgroup\":\"1987\",\"orientation\":\"v\",\"showlegend\":true,\"textposition\":\"auto\",\"texttemplate\":\"%{y}\",\"x\":[\"1987\"],\"xaxis\":\"x\",\"y\":[3573892025],\"yaxis\":\"y\",\"type\":\"bar\"},{\"alignmentgroup\":\"True\",\"hovertemplate\":\"Year=%{x}\\u003cbr\\u003e =%{y}\\u003cextra\\u003e\\u003c\\u002fextra\\u003e\",\"legendgroup\":\"1984\",\"marker\":{\"color\":\"#34495E\",\"pattern\":{\"shape\":\"\"}},\"name\":\"1984\",\"offsetgroup\":\"1984\",\"orientation\":\"v\",\"showlegend\":true,\"textposition\":\"auto\",\"texttemplate\":\"%{y}\",\"x\":[\"1984\"],\"xaxis\":\"x\",\"y\":[3348437253],\"yaxis\":\"y\",\"type\":\"bar\"},{\"alignmentgroup\":\"True\",\"hovertemplate\":\"Year=%{x}\\u003cbr\\u003e =%{y}\\u003cextra\\u003e\\u003c\\u002fextra\\u003e\",\"legendgroup\":\"1985\",\"marker\":{\"color\":\"#A3D2A3\",\"pattern\":{\"shape\":\"\"}},\"name\":\"1985\",\"offsetgroup\":\"1985\",\"orientation\":\"v\",\"showlegend\":true,\"textposition\":\"auto\",\"texttemplate\":\"%{y}\",\"x\":[\"1985\"],\"xaxis\":\"x\",\"y\":[3207654754],\"yaxis\":\"y\",\"type\":\"bar\"},{\"alignmentgroup\":\"True\",\"hovertemplate\":\"Year=%{x}\\u003cbr\\u003e =%{y}\\u003cextra\\u003e\\u003c\\u002fextra\\u003e\",\"legendgroup\":\"1986\",\"marker\":{\"color\":\"#E6B3B3\",\"pattern\":{\"shape\":\"\"}},\"name\":\"1986\",\"offsetgroup\":\"1986\",\"orientation\":\"v\",\"showlegend\":true,\"textposition\":\"auto\",\"texttemplate\":\"%{y}\",\"x\":[\"1986\"],\"xaxis\":\"x\",\"y\":[3202850115],\"yaxis\":\"y\",\"type\":\"bar\"}],                        {\"barmode\":\"relative\",\"legend\":{\"title\":{\"text\":\"Year\"},\"tracegroupgap\":0},\"template\":{\"data\":{\"barpolar\":[{\"marker\":{\"line\":{\"color\":\"#E5ECF6\",\"width\":0.5},\"pattern\":{\"fillmode\":\"overlay\",\"size\":10,\"solidity\":0.2}},\"type\":\"barpolar\"}],\"bar\":[{\"error_x\":{\"color\":\"#2a3f5f\"},\"error_y\":{\"color\":\"#2a3f5f\"},\"marker\":{\"line\":{\"color\":\"#E5ECF6\",\"width\":0.5},\"pattern\":{\"fillmode\":\"overlay\",\"size\":10,\"solidity\":0.2}},\"type\":\"bar\"}],\"carpet\":[{\"aaxis\":{\"endlinecolor\":\"#2a3f5f\",\"gridcolor\":\"white\",\"linecolor\":\"white\",\"minorgridcolor\":\"white\",\"startlinecolor\":\"#2a3f5f\"},\"baxis\":{\"endlinecolor\":\"#2a3f5f\",\"gridcolor\":\"white\",\"linecolor\":\"white\",\"minorgridcolor\":\"white\",\"startlinecolor\":\"#2a3f5f\"},\"type\":\"carpet\"}],\"choropleth\":[{\"colorbar\":{\"outlinewidth\":0,\"ticks\":\"\"},\"type\":\"choropleth\"}],\"contourcarpet\":[{\"colorbar\":{\"outlinewidth\":0,\"ticks\":\"\"},\"type\":\"contourcarpet\"}],\"contour\":[{\"colorbar\":{\"outlinewidth\":0,\"ticks\":\"\"},\"colorscale\":[[0.0,\"#0d0887\"],[0.1111111111111111,\"#46039f\"],[0.2222222222222222,\"#7201a8\"],[0.3333333333333333,\"#9c179e\"],[0.4444444444444444,\"#bd3786\"],[0.5555555555555556,\"#d8576b\"],[0.6666666666666666,\"#ed7953\"],[0.7777777777777778,\"#fb9f3a\"],[0.8888888888888888,\"#fdca26\"],[1.0,\"#f0f921\"]],\"type\":\"contour\"}],\"heatmapgl\":[{\"colorbar\":{\"outlinewidth\":0,\"ticks\":\"\"},\"colorscale\":[[0.0,\"#0d0887\"],[0.1111111111111111,\"#46039f\"],[0.2222222222222222,\"#7201a8\"],[0.3333333333333333,\"#9c179e\"],[0.4444444444444444,\"#bd3786\"],[0.5555555555555556,\"#d8576b\"],[0.6666666666666666,\"#ed7953\"],[0.7777777777777778,\"#fb9f3a\"],[0.8888888888888888,\"#fdca26\"],[1.0,\"#f0f921\"]],\"type\":\"heatmapgl\"}],\"heatmap\":[{\"colorbar\":{\"outlinewidth\":0,\"ticks\":\"\"},\"colorscale\":[[0.0,\"#0d0887\"],[0.1111111111111111,\"#46039f\"],[0.2222222222222222,\"#7201a8\"],[0.3333333333333333,\"#9c179e\"],[0.4444444444444444,\"#bd3786\"],[0.5555555555555556,\"#d8576b\"],[0.6666666666666666,\"#ed7953\"],[0.7777777777777778,\"#fb9f3a\"],[0.8888888888888888,\"#fdca26\"],[1.0,\"#f0f921\"]],\"type\":\"heatmap\"}],\"histogram2dcontour\":[{\"colorbar\":{\"outlinewidth\":0,\"ticks\":\"\"},\"colorscale\":[[0.0,\"#0d0887\"],[0.1111111111111111,\"#46039f\"],[0.2222222222222222,\"#7201a8\"],[0.3333333333333333,\"#9c179e\"],[0.4444444444444444,\"#bd3786\"],[0.5555555555555556,\"#d8576b\"],[0.6666666666666666,\"#ed7953\"],[0.7777777777777778,\"#fb9f3a\"],[0.8888888888888888,\"#fdca26\"],[1.0,\"#f0f921\"]],\"type\":\"histogram2dcontour\"}],\"histogram2d\":[{\"colorbar\":{\"outlinewidth\":0,\"ticks\":\"\"},\"colorscale\":[[0.0,\"#0d0887\"],[0.1111111111111111,\"#46039f\"],[0.2222222222222222,\"#7201a8\"],[0.3333333333333333,\"#9c179e\"],[0.4444444444444444,\"#bd3786\"],[0.5555555555555556,\"#d8576b\"],[0.6666666666666666,\"#ed7953\"],[0.7777777777777778,\"#fb9f3a\"],[0.8888888888888888,\"#fdca26\"],[1.0,\"#f0f921\"]],\"type\":\"histogram2d\"}],\"histogram\":[{\"marker\":{\"pattern\":{\"fillmode\":\"overlay\",\"size\":10,\"solidity\":0.2}},\"type\":\"histogram\"}],\"mesh3d\":[{\"colorbar\":{\"outlinewidth\":0,\"ticks\":\"\"},\"type\":\"mesh3d\"}],\"parcoords\":[{\"line\":{\"colorbar\":{\"outlinewidth\":0,\"ticks\":\"\"}},\"type\":\"parcoords\"}],\"pie\":[{\"automargin\":true,\"type\":\"pie\"}],\"scatter3d\":[{\"line\":{\"colorbar\":{\"outlinewidth\":0,\"ticks\":\"\"}},\"marker\":{\"colorbar\":{\"outlinewidth\":0,\"ticks\":\"\"}},\"type\":\"scatter3d\"}],\"scattercarpet\":[{\"marker\":{\"colorbar\":{\"outlinewidth\":0,\"ticks\":\"\"}},\"type\":\"scattercarpet\"}],\"scattergeo\":[{\"marker\":{\"colorbar\":{\"outlinewidth\":0,\"ticks\":\"\"}},\"type\":\"scattergeo\"}],\"scattergl\":[{\"marker\":{\"colorbar\":{\"outlinewidth\":0,\"ticks\":\"\"}},\"type\":\"scattergl\"}],\"scattermapbox\":[{\"marker\":{\"colorbar\":{\"outlinewidth\":0,\"ticks\":\"\"}},\"type\":\"scattermapbox\"}],\"scatterpolargl\":[{\"marker\":{\"colorbar\":{\"outlinewidth\":0,\"ticks\":\"\"}},\"type\":\"scatterpolargl\"}],\"scatterpolar\":[{\"marker\":{\"colorbar\":{\"outlinewidth\":0,\"ticks\":\"\"}},\"type\":\"scatterpolar\"}],\"scatter\":[{\"fillpattern\":{\"fillmode\":\"overlay\",\"size\":10,\"solidity\":0.2},\"type\":\"scatter\"}],\"scatterternary\":[{\"marker\":{\"colorbar\":{\"outlinewidth\":0,\"ticks\":\"\"}},\"type\":\"scatterternary\"}],\"surface\":[{\"colorbar\":{\"outlinewidth\":0,\"ticks\":\"\"},\"colorscale\":[[0.0,\"#0d0887\"],[0.1111111111111111,\"#46039f\"],[0.2222222222222222,\"#7201a8\"],[0.3333333333333333,\"#9c179e\"],[0.4444444444444444,\"#bd3786\"],[0.5555555555555556,\"#d8576b\"],[0.6666666666666666,\"#ed7953\"],[0.7777777777777778,\"#fb9f3a\"],[0.8888888888888888,\"#fdca26\"],[1.0,\"#f0f921\"]],\"type\":\"surface\"}],\"table\":[{\"cells\":{\"fill\":{\"color\":\"#EBF0F8\"},\"line\":{\"color\":\"white\"}},\"header\":{\"fill\":{\"color\":\"#C8D4E3\"},\"line\":{\"color\":\"white\"}},\"type\":\"table\"}]},\"layout\":{\"annotationdefaults\":{\"arrowcolor\":\"#2a3f5f\",\"arrowhead\":0,\"arrowwidth\":1},\"autotypenumbers\":\"strict\",\"coloraxis\":{\"colorbar\":{\"outlinewidth\":0,\"ticks\":\"\"}},\"colorscale\":{\"diverging\":[[0,\"#8e0152\"],[0.1,\"#c51b7d\"],[0.2,\"#de77ae\"],[0.3,\"#f1b6da\"],[0.4,\"#fde0ef\"],[0.5,\"#f7f7f7\"],[0.6,\"#e6f5d0\"],[0.7,\"#b8e186\"],[0.8,\"#7fbc41\"],[0.9,\"#4d9221\"],[1,\"#276419\"]],\"sequential\":[[0.0,\"#0d0887\"],[0.1111111111111111,\"#46039f\"],[0.2222222222222222,\"#7201a8\"],[0.3333333333333333,\"#9c179e\"],[0.4444444444444444,\"#bd3786\"],[0.5555555555555556,\"#d8576b\"],[0.6666666666666666,\"#ed7953\"],[0.7777777777777778,\"#fb9f3a\"],[0.8888888888888888,\"#fdca26\"],[1.0,\"#f0f921\"]],\"sequentialminus\":[[0.0,\"#0d0887\"],[0.1111111111111111,\"#46039f\"],[0.2222222222222222,\"#7201a8\"],[0.3333333333333333,\"#9c179e\"],[0.4444444444444444,\"#bd3786\"],[0.5555555555555556,\"#d8576b\"],[0.6666666666666666,\"#ed7953\"],[0.7777777777777778,\"#fb9f3a\"],[0.8888888888888888,\"#fdca26\"],[1.0,\"#f0f921\"]]},\"colorway\":[\"#636efa\",\"#EF553B\",\"#00cc96\",\"#ab63fa\",\"#FFA15A\",\"#19d3f3\",\"#FF6692\",\"#B6E880\",\"#FF97FF\",\"#FECB52\"],\"font\":{\"color\":\"#2a3f5f\"},\"geo\":{\"bgcolor\":\"white\",\"lakecolor\":\"white\",\"landcolor\":\"#E5ECF6\",\"showlakes\":true,\"showland\":true,\"subunitcolor\":\"white\"},\"hoverlabel\":{\"align\":\"left\"},\"hovermode\":\"closest\",\"mapbox\":{\"style\":\"light\"},\"paper_bgcolor\":\"white\",\"plot_bgcolor\":\"#E5ECF6\",\"polar\":{\"angularaxis\":{\"gridcolor\":\"white\",\"linecolor\":\"white\",\"ticks\":\"\"},\"bgcolor\":\"#E5ECF6\",\"radialaxis\":{\"gridcolor\":\"white\",\"linecolor\":\"white\",\"ticks\":\"\"}},\"scene\":{\"xaxis\":{\"backgroundcolor\":\"#E5ECF6\",\"gridcolor\":\"white\",\"gridwidth\":2,\"linecolor\":\"white\",\"showbackground\":true,\"ticks\":\"\",\"zerolinecolor\":\"white\"},\"yaxis\":{\"backgroundcolor\":\"#E5ECF6\",\"gridcolor\":\"white\",\"gridwidth\":2,\"linecolor\":\"white\",\"showbackground\":true,\"ticks\":\"\",\"zerolinecolor\":\"white\"},\"zaxis\":{\"backgroundcolor\":\"#E5ECF6\",\"gridcolor\":\"white\",\"gridwidth\":2,\"linecolor\":\"white\",\"showbackground\":true,\"ticks\":\"\",\"zerolinecolor\":\"white\"}},\"shapedefaults\":{\"line\":{\"color\":\"#2a3f5f\"}},\"ternary\":{\"aaxis\":{\"gridcolor\":\"white\",\"linecolor\":\"white\",\"ticks\":\"\"},\"baxis\":{\"gridcolor\":\"white\",\"linecolor\":\"white\",\"ticks\":\"\"},\"bgcolor\":\"#E5ECF6\",\"caxis\":{\"gridcolor\":\"white\",\"linecolor\":\"white\",\"ticks\":\"\"}},\"title\":{\"x\":0.05},\"xaxis\":{\"automargin\":true,\"gridcolor\":\"white\",\"linecolor\":\"white\",\"ticks\":\"\",\"title\":{\"standoff\":15},\"zerolinecolor\":\"white\",\"zerolinewidth\":2},\"yaxis\":{\"automargin\":true,\"gridcolor\":\"white\",\"linecolor\":\"white\",\"ticks\":\"\",\"title\":{\"standoff\":15},\"zerolinecolor\":\"white\",\"zerolinewidth\":2}}},\"title\":{\"text\":\"Highest Year By Gross\"},\"xaxis\":{\"anchor\":\"y\",\"categoryarray\":[\"2019\",\"2017\",\"2018\",\"2015\",\"2016\",\"2014\",\"2012\",\"2013\",\"2011\",\"2009\",\"2010\",\"2008\",\"2007\",\"2023\",\"2022\",\"2006\",\"2004\",\"2005\",\"2003\",\"2021\",\"2002\",\"2001\",\"2000\",\"1999\",\"1998\",\"1997\",\"2020\",\"1996\",\"1994\",\"1993\",\"1995\",\"1992\",\"1990\",\"1991\",\"1989\",\"2024\",\"1988\",\"1987\",\"1984\",\"1985\",\"1986\"],\"categoryorder\":\"array\",\"domain\":[0.0,1.0],\"title\":{\"text\":\"Year\"}},\"yaxis\":{\"anchor\":\"x\",\"domain\":[0.0,1.0],\"title\":{\"text\":\" \"}}},                        {\"responsive\": true}                    ).then(function(){\n",
       "                            \n",
       "var gd = document.getElementById('c23fe262-8421-4981-b74e-4cc911395241');\n",
       "var x = new MutationObserver(function (mutations, observer) {{\n",
       "        var display = window.getComputedStyle(gd).display;\n",
       "        if (!display || display === 'none') {{\n",
       "            console.log([gd, 'removed!']);\n",
       "            Plotly.purge(gd);\n",
       "            observer.disconnect();\n",
       "        }}\n",
       "}});\n",
       "\n",
       "// Listen for the removal of the full notebook cells\n",
       "var notebookContainer = gd.closest('#notebook-container');\n",
       "if (notebookContainer) {{\n",
       "    x.observe(notebookContainer, {childList: true});\n",
       "}}\n",
       "\n",
       "// Listen for the clearing of the current output cell\n",
       "var outputEl = gd.closest('.output');\n",
       "if (outputEl) {{\n",
       "    x.observe(outputEl, {childList: true});\n",
       "}}\n",
       "\n",
       "                        })                };                });            </script>        </div>"
      ]
     },
     "metadata": {},
     "output_type": "display_data"
    }
   ],
   "source": [
    "iplot(px.bar(df_year, text_auto=True, color=df_year.index, color_discrete_sequence=colors, labels=dict(index='count names', value=' '), title='Highest Year By Gross'))"
   ]
  },
  {
   "cell_type": "markdown",
   "id": "4f26c9fb-4d8e-4e71-8b56-5dab52508c8c",
   "metadata": {},
   "source": [
    "### Highest Titles By Gross"
   ]
  },
  {
   "cell_type": "code",
   "execution_count": 109,
   "id": "58368e3d-ac5c-4429-b2d9-0c3bb23ada4e",
   "metadata": {},
   "outputs": [
    {
     "data": {
      "text/html": [
       "<div>\n",
       "<style scoped>\n",
       "    .dataframe tbody tr th:only-of-type {\n",
       "        vertical-align: middle;\n",
       "    }\n",
       "\n",
       "    .dataframe tbody tr th {\n",
       "        vertical-align: top;\n",
       "    }\n",
       "\n",
       "    .dataframe thead th {\n",
       "        text-align: right;\n",
       "    }\n",
       "</style>\n",
       "<table border=\"1\" class=\"dataframe\">\n",
       "  <thead>\n",
       "    <tr style=\"text-align: right;\">\n",
       "      <th></th>\n",
       "      <th>Gross</th>\n",
       "    </tr>\n",
       "    <tr>\n",
       "      <th>Title</th>\n",
       "      <th></th>\n",
       "    </tr>\n",
       "  </thead>\n",
       "  <tbody>\n",
       "    <tr>\n",
       "      <th>Avengers: Endgame</th>\n",
       "      <td>2799439100</td>\n",
       "    </tr>\n",
       "    <tr>\n",
       "      <th>Avatar</th>\n",
       "      <td>2743577587</td>\n",
       "    </tr>\n",
       "    <tr>\n",
       "      <th>The Lion King</th>\n",
       "      <td>2420398955</td>\n",
       "    </tr>\n",
       "    <tr>\n",
       "      <th>Avatar: The Way of Water</th>\n",
       "      <td>2320250281</td>\n",
       "    </tr>\n",
       "    <tr>\n",
       "      <th>Star Wars: Episode VII - The Force Awakens</th>\n",
       "      <td>2068223624</td>\n",
       "    </tr>\n",
       "    <tr>\n",
       "      <th>Avengers: Infinity War</th>\n",
       "      <td>2048359754</td>\n",
       "    </tr>\n",
       "    <tr>\n",
       "      <th>Spider-Man: No Way Home</th>\n",
       "      <td>1912233593</td>\n",
       "    </tr>\n",
       "    <tr>\n",
       "      <th>Titanic</th>\n",
       "      <td>1843373318</td>\n",
       "    </tr>\n",
       "    <tr>\n",
       "      <th>Jurassic World</th>\n",
       "      <td>1670400637</td>\n",
       "    </tr>\n",
       "    <tr>\n",
       "      <th>Beauty and the Beast</th>\n",
       "      <td>1559754271</td>\n",
       "    </tr>\n",
       "    <tr>\n",
       "      <th>The Avengers</th>\n",
       "      <td>1542197927</td>\n",
       "    </tr>\n",
       "    <tr>\n",
       "      <th>Furious 7</th>\n",
       "      <td>1515047671</td>\n",
       "    </tr>\n",
       "    <tr>\n",
       "      <th>Top Gun: Maverick</th>\n",
       "      <td>1495696292</td>\n",
       "    </tr>\n",
       "    <tr>\n",
       "      <th>Frozen II</th>\n",
       "      <td>1450026933</td>\n",
       "    </tr>\n",
       "    <tr>\n",
       "      <th>Barbie</th>\n",
       "      <td>1445638421</td>\n",
       "    </tr>\n",
       "  </tbody>\n",
       "</table>\n",
       "</div>"
      ],
      "text/plain": [
       "                                                 Gross\n",
       "Title                                                 \n",
       "Avengers: Endgame                           2799439100\n",
       "Avatar                                      2743577587\n",
       "The Lion King                               2420398955\n",
       "Avatar: The Way of Water                    2320250281\n",
       "Star Wars: Episode VII - The Force Awakens  2068223624\n",
       "Avengers: Infinity War                      2048359754\n",
       "Spider-Man: No Way Home                     1912233593\n",
       "Titanic                                     1843373318\n",
       "Jurassic World                              1670400637\n",
       "Beauty and the Beast                        1559754271\n",
       "The Avengers                                1542197927\n",
       "Furious 7                                   1515047671\n",
       "Top Gun: Maverick                           1495696292\n",
       "Frozen II                                   1450026933\n",
       "Barbie                                      1445638421"
      ]
     },
     "execution_count": 109,
     "metadata": {},
     "output_type": "execute_result"
    }
   ],
   "source": [
    "df_title = df.groupby(['Title'])[['Gross']].sum()\n",
    "df_title = df_title.sort_values(by='Gross', ascending=False)\n",
    "df_title.head(15)"
   ]
  },
  {
   "cell_type": "code",
   "execution_count": null,
   "id": "6520519f-5b63-4324-bb56-0bb07bce08d2",
   "metadata": {},
   "outputs": [],
   "source": [
    "iplot(px.bar(df_title, text_auto=True, color=df_title.index, color_discrete_sequence=colors, labels=dict(index='count names', value=' '), title='Highest Title By Gross'))"
   ]
  },
  {
   "cell_type": "code",
   "execution_count": null,
   "id": "d315cb4a-eecb-4b8d-890f-8e6bf89dffbd",
   "metadata": {},
   "outputs": [],
   "source": []
  },
  {
   "cell_type": "code",
   "execution_count": null,
   "id": "4393fff7-2673-4866-9e9f-30d32f00b41c",
   "metadata": {},
   "outputs": [],
   "source": []
  },
  {
   "cell_type": "code",
   "execution_count": null,
   "id": "2f842976-520c-436c-a93e-e7cf82a3d49c",
   "metadata": {},
   "outputs": [],
   "source": []
  }
 ],
 "metadata": {
  "kernelspec": {
   "display_name": "Python 3 (ipykernel)",
   "language": "python",
   "name": "python3"
  },
  "language_info": {
   "codemirror_mode": {
    "name": "ipython",
    "version": 3
   },
   "file_extension": ".py",
   "mimetype": "text/x-python",
   "name": "python",
   "nbconvert_exporter": "python",
   "pygments_lexer": "ipython3",
   "version": "3.12.7"
  }
 },
 "nbformat": 4,
 "nbformat_minor": 5
}
